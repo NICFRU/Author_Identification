{
 "cells": [
  {
   "cell_type": "code",
   "execution_count": 18,
   "metadata": {},
   "outputs": [],
   "source": [
    "import pandas as pd\n",
    "import numpy as np\n",
    "import matplotlib.pyplot as plt\n",
    "import nltk\n",
    "from nltk.tokenize import word_tokenize, sent_tokenize\n",
    "from nltk.stem.porter import PorterStemmer\n",
    "from nltk.stem import WordNetLemmatizer\n",
    "from nltk.corpus import stopwords, wordnet\n",
    "from ast import literal_eval\n",
    "import sklearn as sk\n",
    "import seaborn as sb\n",
    "import re, string\n",
    "from tqdm import tqdm\n",
    "from sklearn.model_selection import train_test_split\n",
    "\n",
    "import warnings\n",
    "warnings.filterwarnings(\"ignore\")\n",
    "\n",
    "import torch\n",
    "#import torchvision"
   ]
  },
  {
   "cell_type": "code",
   "execution_count": 19,
   "metadata": {},
   "outputs": [],
   "source": [
    "# def preprocess_in_one(text):\n",
    "#     text = text.lower()\n",
    "#     text = text.strip()\n",
    "#     text = re.compile('<.*?>').sub('', text) \n",
    "#     text = re.compile('[%s]' % re.escape(string.punctuation)).sub(' ', text)  \n",
    "#     text = re.sub('\\s+', ' ', text)  \n",
    "#     text = re.sub(r'\\[[0-9]*\\]',' ',text) \n",
    "#     text=re.sub(r'[^\\w\\s]', '', str(text).lower().strip())\n",
    "#     text = re.sub(r'\\d',' ',text) \n",
    "#     text = re.sub(r'\\s+',' ',text) \n",
    "#     return text\n",
    "\n",
    "# def remove_stopwords(text):\n",
    "#     new_text = [word for word in text.split() if word not in stopwords.words(\"english\")]\n",
    "#     return ' '.join(new_text)\n",
    "\n",
    "# def lemmatize_text(text):\n",
    "#     lemmatizer = WordNetLemmatizer()\n",
    "\n",
    "#     # Hilfsfunktion um PosTags zu mappen\n",
    "#     def get_wordnet_pos(tag):\n",
    "#         if tag.startswith('J'):\n",
    "#             return wordnet.ADJ\n",
    "#         elif tag.startswith('V'):\n",
    "#             return wordnet.VERB\n",
    "#         elif tag.startswith('N'):\n",
    "#             return wordnet.NOUN\n",
    "#         elif tag.startswith('R'):\n",
    "#             return wordnet.ADV\n",
    "#         else:\n",
    "#             return wordnet.NOUN\n",
    "    \n",
    "#     pos_tags = nltk.pos_tag(word_tokenize(text))\n",
    "#     new_text = [lemmatizer.lemmatize(tag[0], get_wordnet_pos(tag[1])) for index, tag in enumerate(pos_tags)]\n",
    "#     return \" \".join(new_text)\n",
    "    \n",
    "# def combined_processing(text):\n",
    "#     return lemmatize_text(remove_stopwords(preprocess_in_one(text)))"
   ]
  },
  {
   "cell_type": "code",
   "execution_count": 20,
   "metadata": {},
   "outputs": [],
   "source": [
    "data = pd.read_csv(\"data/preprocessed_data.csv\")"
   ]
  },
  {
   "cell_type": "code",
   "execution_count": 21,
   "metadata": {},
   "outputs": [
    {
     "data": {
      "text/html": [
       "<div>\n",
       "<style scoped>\n",
       "    .dataframe tbody tr th:only-of-type {\n",
       "        vertical-align: middle;\n",
       "    }\n",
       "\n",
       "    .dataframe tbody tr th {\n",
       "        vertical-align: top;\n",
       "    }\n",
       "\n",
       "    .dataframe thead th {\n",
       "        text-align: right;\n",
       "    }\n",
       "</style>\n",
       "<table border=\"1\" class=\"dataframe\">\n",
       "  <thead>\n",
       "    <tr style=\"text-align: right;\">\n",
       "      <th></th>\n",
       "      <th>Unnamed: 0</th>\n",
       "      <th>text</th>\n",
       "      <th>gender</th>\n",
       "      <th>age</th>\n",
       "      <th>topic</th>\n",
       "      <th>sign</th>\n",
       "      <th>preprocessed_text</th>\n",
       "    </tr>\n",
       "  </thead>\n",
       "  <tbody>\n",
       "    <tr>\n",
       "      <th>0</th>\n",
       "      <td>0</td>\n",
       "      <td>This blog is being posted due to the fact that...</td>\n",
       "      <td>1</td>\n",
       "      <td>14</td>\n",
       "      <td>Student</td>\n",
       "      <td>Sagittarius</td>\n",
       "      <td>blog post due fact little development happen r...</td>\n",
       "    </tr>\n",
       "    <tr>\n",
       "      <th>1</th>\n",
       "      <td>1</td>\n",
       "      <td>So I have a big fucking interview tomorrow for...</td>\n",
       "      <td>1</td>\n",
       "      <td>15</td>\n",
       "      <td>Student</td>\n",
       "      <td>Pisces</td>\n",
       "      <td>big fucking interview tomorrow new school also...</td>\n",
       "    </tr>\n",
       "    <tr>\n",
       "      <th>2</th>\n",
       "      <td>2</td>\n",
       "      <td>I was reminded just now of the time Ashley and...</td>\n",
       "      <td>2</td>\n",
       "      <td>17</td>\n",
       "      <td>Student</td>\n",
       "      <td>Gemini</td>\n",
       "      <td>reminded time ashley drove kemah windows take ...</td>\n",
       "    </tr>\n",
       "    <tr>\n",
       "      <th>3</th>\n",
       "      <td>3</td>\n",
       "      <td>I was checking up on my cousin Dylan and Fanni...</td>\n",
       "      <td>2</td>\n",
       "      <td>23</td>\n",
       "      <td>Student</td>\n",
       "      <td>Taurus</td>\n",
       "      <td>check cousin dylan fannie wed site get married...</td>\n",
       "    </tr>\n",
       "    <tr>\n",
       "      <th>4</th>\n",
       "      <td>4</td>\n",
       "      <td>for the NME interview click urlLink part 1 and...</td>\n",
       "      <td>2</td>\n",
       "      <td>23</td>\n",
       "      <td>Student</td>\n",
       "      <td>Aquarius</td>\n",
       "      <td>nme interview click urllink part urllink part</td>\n",
       "    </tr>\n",
       "    <tr>\n",
       "      <th>5</th>\n",
       "      <td>5</td>\n",
       "      <td>Like a certain friend of mine who shant be nam...</td>\n",
       "      <td>2</td>\n",
       "      <td>14</td>\n",
       "      <td>Student</td>\n",
       "      <td>Scorpio</td>\n",
       "      <td>like certain friend mine shant name spit bfs m...</td>\n",
       "    </tr>\n",
       "    <tr>\n",
       "      <th>6</th>\n",
       "      <td>6</td>\n",
       "      <td>Chloe was almost lost today. SADNESS. My mom c...</td>\n",
       "      <td>2</td>\n",
       "      <td>16</td>\n",
       "      <td>Student</td>\n",
       "      <td>Libra</td>\n",
       "      <td>chloe almost lose today sadness mom come grand...</td>\n",
       "    </tr>\n",
       "    <tr>\n",
       "      <th>7</th>\n",
       "      <td>7</td>\n",
       "      <td>I am now officially old enough to get a permit...</td>\n",
       "      <td>1</td>\n",
       "      <td>15</td>\n",
       "      <td>Student</td>\n",
       "      <td>Capricorn</td>\n",
       "      <td>officially old enough get permit even though a...</td>\n",
       "    </tr>\n",
       "    <tr>\n",
       "      <th>8</th>\n",
       "      <td>8</td>\n",
       "      <td>capture the flag: sounds good me and kassovic ...</td>\n",
       "      <td>2</td>\n",
       "      <td>17</td>\n",
       "      <td>Student</td>\n",
       "      <td>Libra</td>\n",
       "      <td>capture flag sound good kassovic need back go ...</td>\n",
       "    </tr>\n",
       "    <tr>\n",
       "      <th>9</th>\n",
       "      <td>9</td>\n",
       "      <td>Yes School is out for summer The sun is shinin...</td>\n",
       "      <td>2</td>\n",
       "      <td>17</td>\n",
       "      <td>Student</td>\n",
       "      <td>Leo</td>\n",
       "      <td>yes school summer sun shin life great happy we...</td>\n",
       "    </tr>\n",
       "    <tr>\n",
       "      <th>10</th>\n",
       "      <td>10</td>\n",
       "      <td>hey does anyone wanna see a movie these next f...</td>\n",
       "      <td>1</td>\n",
       "      <td>15</td>\n",
       "      <td>Student</td>\n",
       "      <td>Gemini</td>\n",
       "      <td>hey anyone wan na see movie next five day orla...</td>\n",
       "    </tr>\n",
       "    <tr>\n",
       "      <th>11</th>\n",
       "      <td>11</td>\n",
       "      <td>Went to Mid Valley Mega Mall today. Finally I ...</td>\n",
       "      <td>1</td>\n",
       "      <td>17</td>\n",
       "      <td>Student</td>\n",
       "      <td>Pisces</td>\n",
       "      <td>go mid valley mega mall today finally watch va...</td>\n",
       "    </tr>\n",
       "    <tr>\n",
       "      <th>12</th>\n",
       "      <td>12</td>\n",
       "      <td>Hey gurl... I'm not the best of persons to rea...</td>\n",
       "      <td>2</td>\n",
       "      <td>17</td>\n",
       "      <td>Student</td>\n",
       "      <td>Capricorn</td>\n",
       "      <td>hey gurl best person really say anything give ...</td>\n",
       "    </tr>\n",
       "    <tr>\n",
       "      <th>13</th>\n",
       "      <td>13</td>\n",
       "      <td>I hate being told what I can't do. It makes me...</td>\n",
       "      <td>2</td>\n",
       "      <td>15</td>\n",
       "      <td>Student</td>\n",
       "      <td>Virgo</td>\n",
       "      <td>hate tell make angry</td>\n",
       "    </tr>\n",
       "    <tr>\n",
       "      <th>14</th>\n",
       "      <td>14</td>\n",
       "      <td>For a good while now I've been in league with ...</td>\n",
       "      <td>2</td>\n",
       "      <td>16</td>\n",
       "      <td>Student</td>\n",
       "      <td>Cancer</td>\n",
       "      <td>good league black black rhode island want take...</td>\n",
       "    </tr>\n",
       "    <tr>\n",
       "      <th>15</th>\n",
       "      <td>15</td>\n",
       "      <td>'For Love' I thought that I could do this I th...</td>\n",
       "      <td>2</td>\n",
       "      <td>23</td>\n",
       "      <td>Student</td>\n",
       "      <td>Aries</td>\n",
       "      <td>love thought could think could make see found ...</td>\n",
       "    </tr>\n",
       "    <tr>\n",
       "      <th>16</th>\n",
       "      <td>16</td>\n",
       "      <td>Yep it was definetly OConnor. I asked him if h...</td>\n",
       "      <td>1</td>\n",
       "      <td>15</td>\n",
       "      <td>Student</td>\n",
       "      <td>Leo</td>\n",
       "      <td>yep definetly oconnor ask give shit bad stuff ...</td>\n",
       "    </tr>\n",
       "    <tr>\n",
       "      <th>17</th>\n",
       "      <td>17</td>\n",
       "      <td>Laura Im sorry. I meant to apologize around 2 ...</td>\n",
       "      <td>2</td>\n",
       "      <td>17</td>\n",
       "      <td>Student</td>\n",
       "      <td>Libra</td>\n",
       "      <td>laura im sorry mean apologize around day ago w...</td>\n",
       "    </tr>\n",
       "    <tr>\n",
       "      <th>18</th>\n",
       "      <td>18</td>\n",
       "      <td>Since this is a crappy blog I added it to the ...</td>\n",
       "      <td>2</td>\n",
       "      <td>33</td>\n",
       "      <td>Student</td>\n",
       "      <td>Aries</td>\n",
       "      <td>since crappy blog add crappy blog webring</td>\n",
       "    </tr>\n",
       "    <tr>\n",
       "      <th>19</th>\n",
       "      <td>19</td>\n",
       "      <td>BOOP BOOP BE DOOP That's all I have to say.</td>\n",
       "      <td>2</td>\n",
       "      <td>17</td>\n",
       "      <td>Student</td>\n",
       "      <td>Pisces</td>\n",
       "      <td>boop boop doop say</td>\n",
       "    </tr>\n",
       "  </tbody>\n",
       "</table>\n",
       "</div>"
      ],
      "text/plain": [
       "    Unnamed: 0                                               text  gender  \\\n",
       "0            0  This blog is being posted due to the fact that...       1   \n",
       "1            1  So I have a big fucking interview tomorrow for...       1   \n",
       "2            2  I was reminded just now of the time Ashley and...       2   \n",
       "3            3  I was checking up on my cousin Dylan and Fanni...       2   \n",
       "4            4  for the NME interview click urlLink part 1 and...       2   \n",
       "5            5  Like a certain friend of mine who shant be nam...       2   \n",
       "6            6  Chloe was almost lost today. SADNESS. My mom c...       2   \n",
       "7            7  I am now officially old enough to get a permit...       1   \n",
       "8            8  capture the flag: sounds good me and kassovic ...       2   \n",
       "9            9  Yes School is out for summer The sun is shinin...       2   \n",
       "10          10  hey does anyone wanna see a movie these next f...       1   \n",
       "11          11  Went to Mid Valley Mega Mall today. Finally I ...       1   \n",
       "12          12  Hey gurl... I'm not the best of persons to rea...       2   \n",
       "13          13  I hate being told what I can't do. It makes me...       2   \n",
       "14          14  For a good while now I've been in league with ...       2   \n",
       "15          15  'For Love' I thought that I could do this I th...       2   \n",
       "16          16  Yep it was definetly OConnor. I asked him if h...       1   \n",
       "17          17  Laura Im sorry. I meant to apologize around 2 ...       2   \n",
       "18          18  Since this is a crappy blog I added it to the ...       2   \n",
       "19          19        BOOP BOOP BE DOOP That's all I have to say.       2   \n",
       "\n",
       "    age    topic         sign  \\\n",
       "0    14  Student  Sagittarius   \n",
       "1    15  Student       Pisces   \n",
       "2    17  Student       Gemini   \n",
       "3    23  Student       Taurus   \n",
       "4    23  Student     Aquarius   \n",
       "5    14  Student      Scorpio   \n",
       "6    16  Student        Libra   \n",
       "7    15  Student    Capricorn   \n",
       "8    17  Student        Libra   \n",
       "9    17  Student          Leo   \n",
       "10   15  Student       Gemini   \n",
       "11   17  Student       Pisces   \n",
       "12   17  Student    Capricorn   \n",
       "13   15  Student        Virgo   \n",
       "14   16  Student       Cancer   \n",
       "15   23  Student        Aries   \n",
       "16   15  Student          Leo   \n",
       "17   17  Student        Libra   \n",
       "18   33  Student        Aries   \n",
       "19   17  Student       Pisces   \n",
       "\n",
       "                                    preprocessed_text  \n",
       "0   blog post due fact little development happen r...  \n",
       "1   big fucking interview tomorrow new school also...  \n",
       "2   reminded time ashley drove kemah windows take ...  \n",
       "3   check cousin dylan fannie wed site get married...  \n",
       "4       nme interview click urllink part urllink part  \n",
       "5   like certain friend mine shant name spit bfs m...  \n",
       "6   chloe almost lose today sadness mom come grand...  \n",
       "7   officially old enough get permit even though a...  \n",
       "8   capture flag sound good kassovic need back go ...  \n",
       "9   yes school summer sun shin life great happy we...  \n",
       "10  hey anyone wan na see movie next five day orla...  \n",
       "11  go mid valley mega mall today finally watch va...  \n",
       "12  hey gurl best person really say anything give ...  \n",
       "13                               hate tell make angry  \n",
       "14  good league black black rhode island want take...  \n",
       "15  love thought could think could make see found ...  \n",
       "16  yep definetly oconnor ask give shit bad stuff ...  \n",
       "17  laura im sorry mean apologize around day ago w...  \n",
       "18          since crappy blog add crappy blog webring  \n",
       "19                                 boop boop doop say  "
      ]
     },
     "execution_count": 21,
     "metadata": {},
     "output_type": "execute_result"
    }
   ],
   "source": [
    "#data[\"preprocessed_text\"] = data[\"text\"].apply(lambda text: combined_processing(text))\n",
    "data.head(20)"
   ]
  },
  {
   "attachments": {},
   "cell_type": "markdown",
   "metadata": {},
   "source": [
    "## Gender"
   ]
  },
  {
   "attachments": {},
   "cell_type": "markdown",
   "metadata": {},
   "source": [
    "### Data Splitting"
   ]
  },
  {
   "cell_type": "code",
   "execution_count": 22,
   "metadata": {},
   "outputs": [],
   "source": [
    "target = \"gender\"\n",
    "test_size = 0.2\n",
    "\n",
    "X_train, X_test, y_train, y_test = train_test_split(data[\"preprocessed_text\"], data[target], test_size=test_size,shuffle=True)"
   ]
  },
  {
   "attachments": {},
   "cell_type": "markdown",
   "metadata": {},
   "source": [
    "### Vectorization"
   ]
  },
  {
   "cell_type": "code",
   "execution_count": 23,
   "metadata": {},
   "outputs": [],
   "source": [
    "from sklearn.feature_extraction.text import TfidfVectorizer\n",
    "from sklearn.feature_extraction.text import CountVectorizer"
   ]
  },
  {
   "cell_type": "code",
   "execution_count": 82,
   "metadata": {},
   "outputs": [],
   "source": [
    "vectorizer = TfidfVectorizer(use_idf=True)\n",
    "X_train_vectors = vectorizer.fit_transform(X_train.astype('U'))\n",
    "X_test_vectors = vectorizer.transform(X_test.astype('U'))"
   ]
  },
  {
   "attachments": {},
   "cell_type": "markdown",
   "metadata": {},
   "source": [
    "### Machine Learning"
   ]
  },
  {
   "cell_type": "code",
   "execution_count": 25,
   "metadata": {},
   "outputs": [],
   "source": [
    "from sklearn.linear_model import LogisticRegression\n",
    "from sklearn.svm import SVC\n",
    "from sklearn.naive_bayes import MultinomialNB\n",
    "from sklearn.ensemble import RandomForestClassifier\n",
    "from sklearn.metrics import classification_report, f1_score, accuracy_score, confusion_matrix\n",
    "from sklearn.metrics import roc_curve, auc, roc_auc_score"
   ]
  },
  {
   "cell_type": "code",
   "execution_count": 26,
   "metadata": {},
   "outputs": [],
   "source": [
    "lr = LogisticRegression()\n",
    "nb = MultinomialNB()\n",
    "rf = RandomForestClassifier(max_depth=15, n_estimators=150)\n",
    "svm = SVC()"
   ]
  },
  {
   "cell_type": "code",
   "execution_count": 53,
   "metadata": {},
   "outputs": [],
   "source": [
    "from sklearn.ensemble import StackingClassifier\n",
    "from sklearn.model_selection import GridSearchCV\n",
    "from sklearn.svm import LinearSVC\n",
    "\n",
    "solvers = [\"lbfgs\", \"saga\", \"newton-cg\", \"liblinear\"]\n",
    "c_values = [0.01, 0.1, 1]\n",
    "\n",
    "estimators = [(\"rf\", RandomForestClassifier(n_estimators=15, random_state=42)), (\"svr\", LinearSVC(random_state=42))]\n",
    "clf = StackingClassifier(estimators=estimators, final_estimator=LogisticRegression())\n",
    "\n",
    "grid = GridSearchCV(\n",
    "    estimator=clf,\n",
    "    param_grid={\n",
    "        'rf__n_estimators': [10, 50, 100],\n",
    "        'final_estimator__solver': solvers,\n",
    "        'final_estimator__C': c_values,\n",
    "    },\n",
    "    cv=3,\n",
    "    n_jobs=1,\n",
    "    verbose=4,\n",
    "    scoring='neg_root_mean_squared_error',\n",
    "    refit=True\n",
    ")"
   ]
  },
  {
   "cell_type": "code",
   "execution_count": 33,
   "metadata": {},
   "outputs": [
    {
     "name": "stdout",
     "output_type": "stream",
     "text": [
      "Fitting 3 folds for each of 36 candidates, totalling 108 fits\n",
      "[CV 1/3] END final_estimator__C=0.01, final_estimator__solver=lbfgs, rf__n_estimators=10;, score=-0.576 total time=  26.2s\n",
      "[CV 2/3] END final_estimator__C=0.01, final_estimator__solver=lbfgs, rf__n_estimators=10;, score=-0.582 total time=  25.8s\n",
      "[CV 3/3] END final_estimator__C=0.01, final_estimator__solver=lbfgs, rf__n_estimators=10;, score=-0.575 total time=  26.1s\n",
      "[CV 1/3] END final_estimator__C=0.01, final_estimator__solver=lbfgs, rf__n_estimators=50;, score=-0.579 total time= 2.2min\n",
      "[CV 2/3] END final_estimator__C=0.01, final_estimator__solver=lbfgs, rf__n_estimators=50;, score=-0.584 total time= 2.1min\n",
      "[CV 3/3] END final_estimator__C=0.01, final_estimator__solver=lbfgs, rf__n_estimators=50;, score=-0.572 total time= 2.2min\n",
      "[CV 1/3] END final_estimator__C=0.01, final_estimator__solver=lbfgs, rf__n_estimators=100;, score=-0.578 total time= 4.3min\n",
      "[CV 2/3] END final_estimator__C=0.01, final_estimator__solver=lbfgs, rf__n_estimators=100;, score=-0.583 total time= 4.3min\n",
      "[CV 3/3] END final_estimator__C=0.01, final_estimator__solver=lbfgs, rf__n_estimators=100;, score=-0.571 total time= 4.4min\n",
      "[CV 1/3] END final_estimator__C=0.01, final_estimator__solver=saga, rf__n_estimators=10;, score=-0.576 total time=  26.3s\n",
      "[CV 2/3] END final_estimator__C=0.01, final_estimator__solver=saga, rf__n_estimators=10;, score=-0.582 total time=  26.0s\n",
      "[CV 3/3] END final_estimator__C=0.01, final_estimator__solver=saga, rf__n_estimators=10;, score=-0.575 total time=  26.3s\n",
      "[CV 1/3] END final_estimator__C=0.01, final_estimator__solver=saga, rf__n_estimators=50;, score=-0.579 total time= 2.2min\n",
      "[CV 2/3] END final_estimator__C=0.01, final_estimator__solver=saga, rf__n_estimators=50;, score=-0.584 total time= 2.1min\n",
      "[CV 3/3] END final_estimator__C=0.01, final_estimator__solver=saga, rf__n_estimators=50;, score=-0.572 total time= 2.2min\n",
      "[CV 1/3] END final_estimator__C=0.01, final_estimator__solver=saga, rf__n_estimators=100;, score=-0.578 total time= 4.3min\n",
      "[CV 2/3] END final_estimator__C=0.01, final_estimator__solver=saga, rf__n_estimators=100;, score=-0.583 total time= 4.2min\n",
      "[CV 3/3] END final_estimator__C=0.01, final_estimator__solver=saga, rf__n_estimators=100;, score=-0.571 total time= 4.4min\n",
      "[CV 1/3] END final_estimator__C=0.01, final_estimator__solver=newton-cg, rf__n_estimators=10;, score=-0.576 total time=  26.1s\n",
      "[CV 2/3] END final_estimator__C=0.01, final_estimator__solver=newton-cg, rf__n_estimators=10;, score=-0.582 total time=  25.7s\n",
      "[CV 3/3] END final_estimator__C=0.01, final_estimator__solver=newton-cg, rf__n_estimators=10;, score=-0.575 total time=  26.1s\n",
      "[CV 1/3] END final_estimator__C=0.01, final_estimator__solver=newton-cg, rf__n_estimators=50;, score=-0.579 total time= 2.2min\n",
      "[CV 2/3] END final_estimator__C=0.01, final_estimator__solver=newton-cg, rf__n_estimators=50;, score=-0.584 total time= 2.1min\n",
      "[CV 3/3] END final_estimator__C=0.01, final_estimator__solver=newton-cg, rf__n_estimators=50;, score=-0.572 total time= 2.2min\n",
      "[CV 1/3] END final_estimator__C=0.01, final_estimator__solver=newton-cg, rf__n_estimators=100;, score=-0.578 total time= 4.3min\n",
      "[CV 2/3] END final_estimator__C=0.01, final_estimator__solver=newton-cg, rf__n_estimators=100;, score=-0.583 total time= 4.3min\n",
      "[CV 3/3] END final_estimator__C=0.01, final_estimator__solver=newton-cg, rf__n_estimators=100;, score=-0.571 total time= 4.4min\n",
      "[CV 1/3] END final_estimator__C=0.01, final_estimator__solver=liblinear, rf__n_estimators=10;, score=-0.577 total time=  26.2s\n",
      "[CV 2/3] END final_estimator__C=0.01, final_estimator__solver=liblinear, rf__n_estimators=10;, score=-0.583 total time=  25.9s\n",
      "[CV 3/3] END final_estimator__C=0.01, final_estimator__solver=liblinear, rf__n_estimators=10;, score=-0.575 total time=  26.1s\n",
      "[CV 1/3] END final_estimator__C=0.01, final_estimator__solver=liblinear, rf__n_estimators=50;, score=-0.579 total time= 2.1min\n",
      "[CV 2/3] END final_estimator__C=0.01, final_estimator__solver=liblinear, rf__n_estimators=50;, score=-0.583 total time= 2.1min\n",
      "[CV 3/3] END final_estimator__C=0.01, final_estimator__solver=liblinear, rf__n_estimators=50;, score=-0.572 total time= 2.2min\n",
      "[CV 1/3] END final_estimator__C=0.01, final_estimator__solver=liblinear, rf__n_estimators=100;, score=-0.578 total time= 4.2min\n",
      "[CV 2/3] END final_estimator__C=0.01, final_estimator__solver=liblinear, rf__n_estimators=100;, score=-0.583 total time= 4.2min\n",
      "[CV 3/3] END final_estimator__C=0.01, final_estimator__solver=liblinear, rf__n_estimators=100;, score=-0.571 total time= 4.4min\n",
      "[CV 1/3] END final_estimator__C=0.1, final_estimator__solver=lbfgs, rf__n_estimators=10;, score=-0.576 total time=  26.1s\n",
      "[CV 2/3] END final_estimator__C=0.1, final_estimator__solver=lbfgs, rf__n_estimators=10;, score=-0.584 total time=  26.2s\n",
      "[CV 3/3] END final_estimator__C=0.1, final_estimator__solver=lbfgs, rf__n_estimators=10;, score=-0.575 total time=  26.2s\n",
      "[CV 1/3] END final_estimator__C=0.1, final_estimator__solver=lbfgs, rf__n_estimators=50;, score=-0.573 total time= 2.2min\n",
      "[CV 2/3] END final_estimator__C=0.1, final_estimator__solver=lbfgs, rf__n_estimators=50;, score=-0.586 total time= 2.1min\n",
      "[CV 3/3] END final_estimator__C=0.1, final_estimator__solver=lbfgs, rf__n_estimators=50;, score=-0.569 total time= 2.2min\n",
      "[CV 1/3] END final_estimator__C=0.1, final_estimator__solver=lbfgs, rf__n_estimators=100;, score=-0.574 total time= 4.2min\n",
      "[CV 2/3] END final_estimator__C=0.1, final_estimator__solver=lbfgs, rf__n_estimators=100;, score=-0.582 total time= 4.2min\n",
      "[CV 3/3] END final_estimator__C=0.1, final_estimator__solver=lbfgs, rf__n_estimators=100;, score=-0.568 total time= 4.3min\n",
      "[CV 1/3] END final_estimator__C=0.1, final_estimator__solver=saga, rf__n_estimators=10;, score=-0.576 total time=  25.9s\n",
      "[CV 2/3] END final_estimator__C=0.1, final_estimator__solver=saga, rf__n_estimators=10;, score=-0.584 total time=  25.6s\n",
      "[CV 3/3] END final_estimator__C=0.1, final_estimator__solver=saga, rf__n_estimators=10;, score=-0.575 total time=  26.1s\n",
      "[CV 1/3] END final_estimator__C=0.1, final_estimator__solver=saga, rf__n_estimators=50;, score=-0.573 total time= 2.1min\n",
      "[CV 2/3] END final_estimator__C=0.1, final_estimator__solver=saga, rf__n_estimators=50;, score=-0.586 total time= 2.1min\n",
      "[CV 3/3] END final_estimator__C=0.1, final_estimator__solver=saga, rf__n_estimators=50;, score=-0.569 total time= 2.1min\n",
      "[CV 1/3] END final_estimator__C=0.1, final_estimator__solver=saga, rf__n_estimators=100;, score=-0.574 total time= 4.2min\n",
      "[CV 2/3] END final_estimator__C=0.1, final_estimator__solver=saga, rf__n_estimators=100;, score=-0.582 total time= 4.2min\n",
      "[CV 3/3] END final_estimator__C=0.1, final_estimator__solver=saga, rf__n_estimators=100;, score=-0.568 total time= 4.3min\n",
      "[CV 1/3] END final_estimator__C=0.1, final_estimator__solver=newton-cg, rf__n_estimators=10;, score=-0.576 total time=  25.3s\n",
      "[CV 2/3] END final_estimator__C=0.1, final_estimator__solver=newton-cg, rf__n_estimators=10;, score=-0.584 total time=  25.1s\n",
      "[CV 3/3] END final_estimator__C=0.1, final_estimator__solver=newton-cg, rf__n_estimators=10;, score=-0.575 total time=  25.4s\n",
      "[CV 1/3] END final_estimator__C=0.1, final_estimator__solver=newton-cg, rf__n_estimators=50;, score=-0.573 total time= 2.1min\n",
      "[CV 2/3] END final_estimator__C=0.1, final_estimator__solver=newton-cg, rf__n_estimators=50;, score=-0.586 total time= 2.1min\n",
      "[CV 3/3] END final_estimator__C=0.1, final_estimator__solver=newton-cg, rf__n_estimators=50;, score=-0.569 total time= 2.1min\n",
      "[CV 1/3] END final_estimator__C=0.1, final_estimator__solver=newton-cg, rf__n_estimators=100;, score=-0.574 total time= 4.1min\n",
      "[CV 2/3] END final_estimator__C=0.1, final_estimator__solver=newton-cg, rf__n_estimators=100;, score=-0.582 total time= 4.1min\n",
      "[CV 3/3] END final_estimator__C=0.1, final_estimator__solver=newton-cg, rf__n_estimators=100;, score=-0.568 total time= 4.2min\n",
      "[CV 1/3] END final_estimator__C=0.1, final_estimator__solver=liblinear, rf__n_estimators=10;, score=-0.577 total time=  25.4s\n",
      "[CV 2/3] END final_estimator__C=0.1, final_estimator__solver=liblinear, rf__n_estimators=10;, score=-0.582 total time=  25.1s\n",
      "[CV 3/3] END final_estimator__C=0.1, final_estimator__solver=liblinear, rf__n_estimators=10;, score=-0.575 total time=  25.3s\n",
      "[CV 1/3] END final_estimator__C=0.1, final_estimator__solver=liblinear, rf__n_estimators=50;, score=-0.573 total time= 2.1min\n",
      "[CV 2/3] END final_estimator__C=0.1, final_estimator__solver=liblinear, rf__n_estimators=50;, score=-0.586 total time= 2.1min\n",
      "[CV 3/3] END final_estimator__C=0.1, final_estimator__solver=liblinear, rf__n_estimators=50;, score=-0.570 total time= 2.1min\n",
      "[CV 1/3] END final_estimator__C=0.1, final_estimator__solver=liblinear, rf__n_estimators=100;, score=-0.574 total time= 4.2min\n",
      "[CV 2/3] END final_estimator__C=0.1, final_estimator__solver=liblinear, rf__n_estimators=100;, score=-0.582 total time= 4.1min\n",
      "[CV 3/3] END final_estimator__C=0.1, final_estimator__solver=liblinear, rf__n_estimators=100;, score=-0.568 total time= 4.3min\n",
      "[CV 1/3] END final_estimator__C=1, final_estimator__solver=lbfgs, rf__n_estimators=10;, score=-0.575 total time=  25.3s\n",
      "[CV 2/3] END final_estimator__C=1, final_estimator__solver=lbfgs, rf__n_estimators=10;, score=-0.583 total time=  25.0s\n",
      "[CV 3/3] END final_estimator__C=1, final_estimator__solver=lbfgs, rf__n_estimators=10;, score=-0.575 total time=  25.4s\n",
      "[CV 1/3] END final_estimator__C=1, final_estimator__solver=lbfgs, rf__n_estimators=50;, score=-0.573 total time= 2.1min\n",
      "[CV 2/3] END final_estimator__C=1, final_estimator__solver=lbfgs, rf__n_estimators=50;, score=-0.586 total time= 2.1min\n",
      "[CV 3/3] END final_estimator__C=1, final_estimator__solver=lbfgs, rf__n_estimators=50;, score=-0.570 total time= 2.1min\n",
      "[CV 1/3] END final_estimator__C=1, final_estimator__solver=lbfgs, rf__n_estimators=100;, score=-0.572 total time= 4.1min\n",
      "[CV 2/3] END final_estimator__C=1, final_estimator__solver=lbfgs, rf__n_estimators=100;, score=-0.583 total time= 4.1min\n",
      "[CV 3/3] END final_estimator__C=1, final_estimator__solver=lbfgs, rf__n_estimators=100;, score=-0.568 total time= 4.2min\n",
      "[CV 1/3] END final_estimator__C=1, final_estimator__solver=saga, rf__n_estimators=10;, score=-0.575 total time=  25.4s\n",
      "[CV 2/3] END final_estimator__C=1, final_estimator__solver=saga, rf__n_estimators=10;, score=-0.583 total time=  25.0s\n",
      "[CV 3/3] END final_estimator__C=1, final_estimator__solver=saga, rf__n_estimators=10;, score=-0.575 total time=  25.4s\n",
      "[CV 1/3] END final_estimator__C=1, final_estimator__solver=saga, rf__n_estimators=50;, score=-0.573 total time= 2.1min\n",
      "[CV 2/3] END final_estimator__C=1, final_estimator__solver=saga, rf__n_estimators=50;, score=-0.586 total time= 2.1min\n",
      "[CV 3/3] END final_estimator__C=1, final_estimator__solver=saga, rf__n_estimators=50;, score=-0.570 total time= 2.1min\n",
      "[CV 1/3] END final_estimator__C=1, final_estimator__solver=saga, rf__n_estimators=100;, score=-0.572 total time= 4.1min\n",
      "[CV 2/3] END final_estimator__C=1, final_estimator__solver=saga, rf__n_estimators=100;, score=-0.583 total time= 4.1min\n",
      "[CV 3/3] END final_estimator__C=1, final_estimator__solver=saga, rf__n_estimators=100;, score=-0.568 total time= 4.2min\n",
      "[CV 1/3] END final_estimator__C=1, final_estimator__solver=newton-cg, rf__n_estimators=10;, score=-0.575 total time=  25.3s\n",
      "[CV 2/3] END final_estimator__C=1, final_estimator__solver=newton-cg, rf__n_estimators=10;, score=-0.583 total time=  25.0s\n",
      "[CV 3/3] END final_estimator__C=1, final_estimator__solver=newton-cg, rf__n_estimators=10;, score=-0.575 total time=  25.5s\n",
      "[CV 1/3] END final_estimator__C=1, final_estimator__solver=newton-cg, rf__n_estimators=50;, score=-0.573 total time= 2.1min\n",
      "[CV 2/3] END final_estimator__C=1, final_estimator__solver=newton-cg, rf__n_estimators=50;, score=-0.586 total time= 2.1min\n",
      "[CV 3/3] END final_estimator__C=1, final_estimator__solver=newton-cg, rf__n_estimators=50;, score=-0.570 total time= 2.1min\n",
      "[CV 1/3] END final_estimator__C=1, final_estimator__solver=newton-cg, rf__n_estimators=100;, score=-0.572 total time= 4.1min\n",
      "[CV 2/3] END final_estimator__C=1, final_estimator__solver=newton-cg, rf__n_estimators=100;, score=-0.583 total time= 4.1min\n",
      "[CV 3/3] END final_estimator__C=1, final_estimator__solver=newton-cg, rf__n_estimators=100;, score=-0.568 total time= 4.2min\n",
      "[CV 1/3] END final_estimator__C=1, final_estimator__solver=liblinear, rf__n_estimators=10;, score=-0.575 total time=  25.3s\n",
      "[CV 2/3] END final_estimator__C=1, final_estimator__solver=liblinear, rf__n_estimators=10;, score=-0.583 total time=  24.9s\n",
      "[CV 3/3] END final_estimator__C=1, final_estimator__solver=liblinear, rf__n_estimators=10;, score=-0.575 total time=  25.4s\n",
      "[CV 1/3] END final_estimator__C=1, final_estimator__solver=liblinear, rf__n_estimators=50;, score=-0.573 total time= 2.1min\n",
      "[CV 2/3] END final_estimator__C=1, final_estimator__solver=liblinear, rf__n_estimators=50;, score=-0.587 total time= 2.1min\n",
      "[CV 3/3] END final_estimator__C=1, final_estimator__solver=liblinear, rf__n_estimators=50;, score=-0.570 total time= 2.1min\n",
      "[CV 1/3] END final_estimator__C=1, final_estimator__solver=liblinear, rf__n_estimators=100;, score=-0.572 total time= 4.1min\n",
      "[CV 2/3] END final_estimator__C=1, final_estimator__solver=liblinear, rf__n_estimators=100;, score=-0.583 total time= 4.1min\n",
      "[CV 3/3] END final_estimator__C=1, final_estimator__solver=liblinear, rf__n_estimators=100;, score=-0.568 total time= 4.2min\n"
     ]
    },
    {
     "data": {
      "text/html": [
       "<style>#sk-container-id-2 {color: black;background-color: white;}#sk-container-id-2 pre{padding: 0;}#sk-container-id-2 div.sk-toggleable {background-color: white;}#sk-container-id-2 label.sk-toggleable__label {cursor: pointer;display: block;width: 100%;margin-bottom: 0;padding: 0.3em;box-sizing: border-box;text-align: center;}#sk-container-id-2 label.sk-toggleable__label-arrow:before {content: \"▸\";float: left;margin-right: 0.25em;color: #696969;}#sk-container-id-2 label.sk-toggleable__label-arrow:hover:before {color: black;}#sk-container-id-2 div.sk-estimator:hover label.sk-toggleable__label-arrow:before {color: black;}#sk-container-id-2 div.sk-toggleable__content {max-height: 0;max-width: 0;overflow: hidden;text-align: left;background-color: #f0f8ff;}#sk-container-id-2 div.sk-toggleable__content pre {margin: 0.2em;color: black;border-radius: 0.25em;background-color: #f0f8ff;}#sk-container-id-2 input.sk-toggleable__control:checked~div.sk-toggleable__content {max-height: 200px;max-width: 100%;overflow: auto;}#sk-container-id-2 input.sk-toggleable__control:checked~label.sk-toggleable__label-arrow:before {content: \"▾\";}#sk-container-id-2 div.sk-estimator input.sk-toggleable__control:checked~label.sk-toggleable__label {background-color: #d4ebff;}#sk-container-id-2 div.sk-label input.sk-toggleable__control:checked~label.sk-toggleable__label {background-color: #d4ebff;}#sk-container-id-2 input.sk-hidden--visually {border: 0;clip: rect(1px 1px 1px 1px);clip: rect(1px, 1px, 1px, 1px);height: 1px;margin: -1px;overflow: hidden;padding: 0;position: absolute;width: 1px;}#sk-container-id-2 div.sk-estimator {font-family: monospace;background-color: #f0f8ff;border: 1px dotted black;border-radius: 0.25em;box-sizing: border-box;margin-bottom: 0.5em;}#sk-container-id-2 div.sk-estimator:hover {background-color: #d4ebff;}#sk-container-id-2 div.sk-parallel-item::after {content: \"\";width: 100%;border-bottom: 1px solid gray;flex-grow: 1;}#sk-container-id-2 div.sk-label:hover label.sk-toggleable__label {background-color: #d4ebff;}#sk-container-id-2 div.sk-serial::before {content: \"\";position: absolute;border-left: 1px solid gray;box-sizing: border-box;top: 0;bottom: 0;left: 50%;z-index: 0;}#sk-container-id-2 div.sk-serial {display: flex;flex-direction: column;align-items: center;background-color: white;padding-right: 0.2em;padding-left: 0.2em;position: relative;}#sk-container-id-2 div.sk-item {position: relative;z-index: 1;}#sk-container-id-2 div.sk-parallel {display: flex;align-items: stretch;justify-content: center;background-color: white;position: relative;}#sk-container-id-2 div.sk-item::before, #sk-container-id-2 div.sk-parallel-item::before {content: \"\";position: absolute;border-left: 1px solid gray;box-sizing: border-box;top: 0;bottom: 0;left: 50%;z-index: -1;}#sk-container-id-2 div.sk-parallel-item {display: flex;flex-direction: column;z-index: 1;position: relative;background-color: white;}#sk-container-id-2 div.sk-parallel-item:first-child::after {align-self: flex-end;width: 50%;}#sk-container-id-2 div.sk-parallel-item:last-child::after {align-self: flex-start;width: 50%;}#sk-container-id-2 div.sk-parallel-item:only-child::after {width: 0;}#sk-container-id-2 div.sk-dashed-wrapped {border: 1px dashed gray;margin: 0 0.4em 0.5em 0.4em;box-sizing: border-box;padding-bottom: 0.4em;background-color: white;}#sk-container-id-2 div.sk-label label {font-family: monospace;font-weight: bold;display: inline-block;line-height: 1.2em;}#sk-container-id-2 div.sk-label-container {text-align: center;}#sk-container-id-2 div.sk-container {/* jupyter's `normalize.less` sets `[hidden] { display: none; }` but bootstrap.min.css set `[hidden] { display: none !important; }` so we also need the `!important` here to be able to override the default hidden behavior on the sphinx rendered scikit-learn.org. See: https://github.com/scikit-learn/scikit-learn/issues/21755 */display: inline-block !important;position: relative;}#sk-container-id-2 div.sk-text-repr-fallback {display: none;}</style><div id=\"sk-container-id-2\" class=\"sk-top-container\"><div class=\"sk-text-repr-fallback\"><pre>GridSearchCV(cv=3,\n",
       "             estimator=StackingClassifier(estimators=[(&#x27;rf&#x27;,\n",
       "                                                       RandomForestClassifier(n_estimators=15,\n",
       "                                                                              random_state=42)),\n",
       "                                                      (&#x27;svr&#x27;,\n",
       "                                                       LinearSVC(random_state=42))],\n",
       "                                          final_estimator=LogisticRegression()),\n",
       "             n_jobs=1,\n",
       "             param_grid={&#x27;final_estimator__C&#x27;: [0.01, 0.1, 1],\n",
       "                         &#x27;final_estimator__solver&#x27;: [&#x27;lbfgs&#x27;, &#x27;saga&#x27;,\n",
       "                                                     &#x27;newton-cg&#x27;, &#x27;liblinear&#x27;],\n",
       "                         &#x27;rf__n_estimators&#x27;: [10, 50, 100]},\n",
       "             scoring=&#x27;neg_root_mean_squared_error&#x27;, verbose=4)</pre><b>In a Jupyter environment, please rerun this cell to show the HTML representation or trust the notebook. <br />On GitHub, the HTML representation is unable to render, please try loading this page with nbviewer.org.</b></div><div class=\"sk-container\" hidden><div class=\"sk-item sk-dashed-wrapped\"><div class=\"sk-label-container\"><div class=\"sk-label sk-toggleable\"><input class=\"sk-toggleable__control sk-hidden--visually\" id=\"sk-estimator-id-5\" type=\"checkbox\" ><label for=\"sk-estimator-id-5\" class=\"sk-toggleable__label sk-toggleable__label-arrow\">GridSearchCV</label><div class=\"sk-toggleable__content\"><pre>GridSearchCV(cv=3,\n",
       "             estimator=StackingClassifier(estimators=[(&#x27;rf&#x27;,\n",
       "                                                       RandomForestClassifier(n_estimators=15,\n",
       "                                                                              random_state=42)),\n",
       "                                                      (&#x27;svr&#x27;,\n",
       "                                                       LinearSVC(random_state=42))],\n",
       "                                          final_estimator=LogisticRegression()),\n",
       "             n_jobs=1,\n",
       "             param_grid={&#x27;final_estimator__C&#x27;: [0.01, 0.1, 1],\n",
       "                         &#x27;final_estimator__solver&#x27;: [&#x27;lbfgs&#x27;, &#x27;saga&#x27;,\n",
       "                                                     &#x27;newton-cg&#x27;, &#x27;liblinear&#x27;],\n",
       "                         &#x27;rf__n_estimators&#x27;: [10, 50, 100]},\n",
       "             scoring=&#x27;neg_root_mean_squared_error&#x27;, verbose=4)</pre></div></div></div><div class=\"sk-parallel\"><div class=\"sk-parallel-item\"><div class=\"sk-item\"><div class=\"sk-label-container\"><div class=\"sk-label sk-toggleable\"><input class=\"sk-toggleable__control sk-hidden--visually\" id=\"sk-estimator-id-6\" type=\"checkbox\" ><label for=\"sk-estimator-id-6\" class=\"sk-toggleable__label sk-toggleable__label-arrow\">estimator: StackingClassifier</label><div class=\"sk-toggleable__content\"><pre>StackingClassifier(estimators=[(&#x27;rf&#x27;,\n",
       "                                RandomForestClassifier(n_estimators=15,\n",
       "                                                       random_state=42)),\n",
       "                               (&#x27;svr&#x27;, LinearSVC(random_state=42))],\n",
       "                   final_estimator=LogisticRegression())</pre></div></div></div><div class=\"sk-serial\"><div class=\"sk-item\"><div class=\"sk-serial\"><div class=\"sk-item\"><div class=\"sk-parallel\"><div class=\"sk-parallel-item\"><div class=\"sk-item\"><div class=\"sk-label-container\"><div class=\"sk-label sk-toggleable\"><label>rf</label></div></div><div class=\"sk-serial\"><div class=\"sk-item\"><div class=\"sk-estimator sk-toggleable\"><input class=\"sk-toggleable__control sk-hidden--visually\" id=\"sk-estimator-id-7\" type=\"checkbox\" ><label for=\"sk-estimator-id-7\" class=\"sk-toggleable__label sk-toggleable__label-arrow\">RandomForestClassifier</label><div class=\"sk-toggleable__content\"><pre>RandomForestClassifier(n_estimators=15, random_state=42)</pre></div></div></div></div></div></div><div class=\"sk-parallel-item\"><div class=\"sk-item\"><div class=\"sk-label-container\"><div class=\"sk-label sk-toggleable\"><label>svr</label></div></div><div class=\"sk-serial\"><div class=\"sk-item\"><div class=\"sk-estimator sk-toggleable\"><input class=\"sk-toggleable__control sk-hidden--visually\" id=\"sk-estimator-id-8\" type=\"checkbox\" ><label for=\"sk-estimator-id-8\" class=\"sk-toggleable__label sk-toggleable__label-arrow\">LinearSVC</label><div class=\"sk-toggleable__content\"><pre>LinearSVC(random_state=42)</pre></div></div></div></div></div></div></div></div><div class=\"sk-item\"><div class=\"sk-parallel\"><div class=\"sk-parallel-item\"><div class=\"sk-item\"><div class=\"sk-label-container\"><div class=\"sk-label sk-toggleable\"><label>final_estimator</label></div></div><div class=\"sk-serial\"><div class=\"sk-item\"><div class=\"sk-estimator sk-toggleable\"><input class=\"sk-toggleable__control sk-hidden--visually\" id=\"sk-estimator-id-9\" type=\"checkbox\" ><label for=\"sk-estimator-id-9\" class=\"sk-toggleable__label sk-toggleable__label-arrow\">LogisticRegression</label><div class=\"sk-toggleable__content\"><pre>LogisticRegression()</pre></div></div></div></div></div></div></div></div></div></div></div></div></div></div></div></div></div>"
      ],
      "text/plain": [
       "GridSearchCV(cv=3,\n",
       "             estimator=StackingClassifier(estimators=[('rf',\n",
       "                                                       RandomForestClassifier(n_estimators=15,\n",
       "                                                                              random_state=42)),\n",
       "                                                      ('svr',\n",
       "                                                       LinearSVC(random_state=42))],\n",
       "                                          final_estimator=LogisticRegression()),\n",
       "             n_jobs=1,\n",
       "             param_grid={'final_estimator__C': [0.01, 0.1, 1],\n",
       "                         'final_estimator__solver': ['lbfgs', 'saga',\n",
       "                                                     'newton-cg', 'liblinear'],\n",
       "                         'rf__n_estimators': [10, 50, 100]},\n",
       "             scoring='neg_root_mean_squared_error', verbose=4)"
      ]
     },
     "execution_count": 33,
     "metadata": {},
     "output_type": "execute_result"
    }
   ],
   "source": [
    "grid.fit(X_train_vectors, y_train)"
   ]
  },
  {
   "cell_type": "code",
   "execution_count": 34,
   "metadata": {},
   "outputs": [
    {
     "name": "stdout",
     "output_type": "stream",
     "text": [
      "----------------Grid Classifier----------------\n",
      "              precision    recall  f1-score   support\n",
      "\n",
      "           1       0.70      0.76      0.73      2231\n",
      "           2       0.64      0.56      0.60      1669\n",
      "\n",
      "    accuracy                           0.68      3900\n",
      "   macro avg       0.67      0.66      0.66      3900\n",
      "weighted avg       0.67      0.68      0.67      3900\n",
      "\n"
     ]
    }
   ],
   "source": [
    "y_pred_stack = grid.predict(X_test_vectors)\n",
    "\n",
    "print(\"----------------Grid Classifier----------------\")\n",
    "print(classification_report(y_test, y_pred_stack))"
   ]
  },
  {
   "cell_type": "code",
   "execution_count": 54,
   "metadata": {},
   "outputs": [
    {
     "data": {
      "text/html": [
       "<style>#sk-container-id-3 {color: black;background-color: white;}#sk-container-id-3 pre{padding: 0;}#sk-container-id-3 div.sk-toggleable {background-color: white;}#sk-container-id-3 label.sk-toggleable__label {cursor: pointer;display: block;width: 100%;margin-bottom: 0;padding: 0.3em;box-sizing: border-box;text-align: center;}#sk-container-id-3 label.sk-toggleable__label-arrow:before {content: \"▸\";float: left;margin-right: 0.25em;color: #696969;}#sk-container-id-3 label.sk-toggleable__label-arrow:hover:before {color: black;}#sk-container-id-3 div.sk-estimator:hover label.sk-toggleable__label-arrow:before {color: black;}#sk-container-id-3 div.sk-toggleable__content {max-height: 0;max-width: 0;overflow: hidden;text-align: left;background-color: #f0f8ff;}#sk-container-id-3 div.sk-toggleable__content pre {margin: 0.2em;color: black;border-radius: 0.25em;background-color: #f0f8ff;}#sk-container-id-3 input.sk-toggleable__control:checked~div.sk-toggleable__content {max-height: 200px;max-width: 100%;overflow: auto;}#sk-container-id-3 input.sk-toggleable__control:checked~label.sk-toggleable__label-arrow:before {content: \"▾\";}#sk-container-id-3 div.sk-estimator input.sk-toggleable__control:checked~label.sk-toggleable__label {background-color: #d4ebff;}#sk-container-id-3 div.sk-label input.sk-toggleable__control:checked~label.sk-toggleable__label {background-color: #d4ebff;}#sk-container-id-3 input.sk-hidden--visually {border: 0;clip: rect(1px 1px 1px 1px);clip: rect(1px, 1px, 1px, 1px);height: 1px;margin: -1px;overflow: hidden;padding: 0;position: absolute;width: 1px;}#sk-container-id-3 div.sk-estimator {font-family: monospace;background-color: #f0f8ff;border: 1px dotted black;border-radius: 0.25em;box-sizing: border-box;margin-bottom: 0.5em;}#sk-container-id-3 div.sk-estimator:hover {background-color: #d4ebff;}#sk-container-id-3 div.sk-parallel-item::after {content: \"\";width: 100%;border-bottom: 1px solid gray;flex-grow: 1;}#sk-container-id-3 div.sk-label:hover label.sk-toggleable__label {background-color: #d4ebff;}#sk-container-id-3 div.sk-serial::before {content: \"\";position: absolute;border-left: 1px solid gray;box-sizing: border-box;top: 0;bottom: 0;left: 50%;z-index: 0;}#sk-container-id-3 div.sk-serial {display: flex;flex-direction: column;align-items: center;background-color: white;padding-right: 0.2em;padding-left: 0.2em;position: relative;}#sk-container-id-3 div.sk-item {position: relative;z-index: 1;}#sk-container-id-3 div.sk-parallel {display: flex;align-items: stretch;justify-content: center;background-color: white;position: relative;}#sk-container-id-3 div.sk-item::before, #sk-container-id-3 div.sk-parallel-item::before {content: \"\";position: absolute;border-left: 1px solid gray;box-sizing: border-box;top: 0;bottom: 0;left: 50%;z-index: -1;}#sk-container-id-3 div.sk-parallel-item {display: flex;flex-direction: column;z-index: 1;position: relative;background-color: white;}#sk-container-id-3 div.sk-parallel-item:first-child::after {align-self: flex-end;width: 50%;}#sk-container-id-3 div.sk-parallel-item:last-child::after {align-self: flex-start;width: 50%;}#sk-container-id-3 div.sk-parallel-item:only-child::after {width: 0;}#sk-container-id-3 div.sk-dashed-wrapped {border: 1px dashed gray;margin: 0 0.4em 0.5em 0.4em;box-sizing: border-box;padding-bottom: 0.4em;background-color: white;}#sk-container-id-3 div.sk-label label {font-family: monospace;font-weight: bold;display: inline-block;line-height: 1.2em;}#sk-container-id-3 div.sk-label-container {text-align: center;}#sk-container-id-3 div.sk-container {/* jupyter's `normalize.less` sets `[hidden] { display: none; }` but bootstrap.min.css set `[hidden] { display: none !important; }` so we also need the `!important` here to be able to override the default hidden behavior on the sphinx rendered scikit-learn.org. See: https://github.com/scikit-learn/scikit-learn/issues/21755 */display: inline-block !important;position: relative;}#sk-container-id-3 div.sk-text-repr-fallback {display: none;}</style><div id=\"sk-container-id-3\" class=\"sk-top-container\"><div class=\"sk-text-repr-fallback\"><pre>StackingClassifier(estimators=[(&#x27;rf&#x27;,\n",
       "                                RandomForestClassifier(n_estimators=15,\n",
       "                                                       random_state=42)),\n",
       "                               (&#x27;svr&#x27;, LinearSVC(random_state=42))],\n",
       "                   final_estimator=LogisticRegression())</pre><b>In a Jupyter environment, please rerun this cell to show the HTML representation or trust the notebook. <br />On GitHub, the HTML representation is unable to render, please try loading this page with nbviewer.org.</b></div><div class=\"sk-container\" hidden><div class=\"sk-item sk-dashed-wrapped\"><div class=\"sk-label-container\"><div class=\"sk-label sk-toggleable\"><input class=\"sk-toggleable__control sk-hidden--visually\" id=\"sk-estimator-id-9\" type=\"checkbox\" ><label for=\"sk-estimator-id-9\" class=\"sk-toggleable__label sk-toggleable__label-arrow\">StackingClassifier</label><div class=\"sk-toggleable__content\"><pre>StackingClassifier(estimators=[(&#x27;rf&#x27;,\n",
       "                                RandomForestClassifier(n_estimators=15,\n",
       "                                                       random_state=42)),\n",
       "                               (&#x27;svr&#x27;, LinearSVC(random_state=42))],\n",
       "                   final_estimator=LogisticRegression())</pre></div></div></div><div class=\"sk-serial\"><div class=\"sk-item\"><div class=\"sk-parallel\"><div class=\"sk-parallel-item\"><div class=\"sk-item\"><div class=\"sk-label-container\"><div class=\"sk-label sk-toggleable\"><label>rf</label></div></div><div class=\"sk-serial\"><div class=\"sk-item\"><div class=\"sk-estimator sk-toggleable\"><input class=\"sk-toggleable__control sk-hidden--visually\" id=\"sk-estimator-id-10\" type=\"checkbox\" ><label for=\"sk-estimator-id-10\" class=\"sk-toggleable__label sk-toggleable__label-arrow\">RandomForestClassifier</label><div class=\"sk-toggleable__content\"><pre>RandomForestClassifier(n_estimators=15, random_state=42)</pre></div></div></div></div></div></div><div class=\"sk-parallel-item\"><div class=\"sk-item\"><div class=\"sk-label-container\"><div class=\"sk-label sk-toggleable\"><label>svr</label></div></div><div class=\"sk-serial\"><div class=\"sk-item\"><div class=\"sk-estimator sk-toggleable\"><input class=\"sk-toggleable__control sk-hidden--visually\" id=\"sk-estimator-id-11\" type=\"checkbox\" ><label for=\"sk-estimator-id-11\" class=\"sk-toggleable__label sk-toggleable__label-arrow\">LinearSVC</label><div class=\"sk-toggleable__content\"><pre>LinearSVC(random_state=42)</pre></div></div></div></div></div></div></div></div><div class=\"sk-item\"><div class=\"sk-parallel\"><div class=\"sk-parallel-item\"><div class=\"sk-item\"><div class=\"sk-label-container\"><div class=\"sk-label sk-toggleable\"><label>final_estimator</label></div></div><div class=\"sk-serial\"><div class=\"sk-item\"><div class=\"sk-estimator sk-toggleable\"><input class=\"sk-toggleable__control sk-hidden--visually\" id=\"sk-estimator-id-12\" type=\"checkbox\" ><label for=\"sk-estimator-id-12\" class=\"sk-toggleable__label sk-toggleable__label-arrow\">LogisticRegression</label><div class=\"sk-toggleable__content\"><pre>LogisticRegression()</pre></div></div></div></div></div></div></div></div></div></div></div></div>"
      ],
      "text/plain": [
       "StackingClassifier(estimators=[('rf',\n",
       "                                RandomForestClassifier(n_estimators=15,\n",
       "                                                       random_state=42)),\n",
       "                               ('svr', LinearSVC(random_state=42))],\n",
       "                   final_estimator=LogisticRegression())"
      ]
     },
     "execution_count": 54,
     "metadata": {},
     "output_type": "execute_result"
    }
   ],
   "source": [
    "clf.fit(X_train_vectors, y_train)"
   ]
  },
  {
   "cell_type": "code",
   "execution_count": 55,
   "metadata": {},
   "outputs": [
    {
     "name": "stdout",
     "output_type": "stream",
     "text": [
      "----------------Stacking Classifier----------------\n",
      "              precision    recall  f1-score   support\n",
      "\n",
      "           1       0.70      0.78      0.74      2234\n",
      "           2       0.65      0.56      0.61      1666\n",
      "\n",
      "    accuracy                           0.69      3900\n",
      "   macro avg       0.68      0.67      0.67      3900\n",
      "weighted avg       0.68      0.69      0.68      3900\n",
      "\n"
     ]
    }
   ],
   "source": [
    "y_pred_stack = clf.predict(X_test_vectors)\n",
    "\n",
    "print(\"----------------Stacking Classifier----------------\")\n",
    "print(classification_report(y_test, y_pred_stack))"
   ]
  },
  {
   "cell_type": "code",
   "execution_count": 84,
   "metadata": {},
   "outputs": [
    {
     "name": "stdout",
     "output_type": "stream",
     "text": [
      "LR Fitted\n",
      "NB Fitted\n",
      "RF Fitted\n"
     ]
    }
   ],
   "source": [
    "lr.fit(X_train_vectors, y_train)\n",
    "print(\"LR Fitted\")\n",
    "\n",
    "nb.fit(X_train_vectors, y_train)\n",
    "print(\"NB Fitted\")\n",
    "\n",
    "rf.fit(X_train_vectors, y_train)\n",
    "print(\"RF Fitted\")\n",
    "\n",
    "# svm.fit(X_train_vectors, y_train)\n",
    "# print(\"SVM Fitted\")"
   ]
  },
  {
   "cell_type": "code",
   "execution_count": 85,
   "metadata": {},
   "outputs": [
    {
     "name": "stdout",
     "output_type": "stream",
     "text": [
      "----------------Logistic Regression----------------\n",
      "              precision    recall  f1-score   support\n",
      "\n",
      "           1       0.70      0.80      0.75      2221\n",
      "           2       0.67      0.55      0.61      1679\n",
      "\n",
      "    accuracy                           0.69      3900\n",
      "   macro avg       0.69      0.67      0.68      3900\n",
      "weighted avg       0.69      0.69      0.69      3900\n",
      "\n",
      "----------------Naive Bayes----------------\n",
      "              precision    recall  f1-score   support\n",
      "\n",
      "           1       0.66      0.90      0.77      2221\n",
      "           2       0.75      0.40      0.52      1679\n",
      "\n",
      "    accuracy                           0.68      3900\n",
      "   macro avg       0.71      0.65      0.64      3900\n",
      "weighted avg       0.70      0.68      0.66      3900\n",
      "\n",
      "----------------Random Forest----------------\n",
      "              precision    recall  f1-score   support\n",
      "\n",
      "           1       0.60      0.96      0.74      2221\n",
      "           2       0.73      0.14      0.24      1679\n",
      "\n",
      "    accuracy                           0.61      3900\n",
      "   macro avg       0.67      0.55      0.49      3900\n",
      "weighted avg       0.66      0.61      0.52      3900\n",
      "\n"
     ]
    }
   ],
   "source": [
    "y_pred_lr = lr.predict(X_test_vectors)\n",
    "y_pred_nb = nb.predict(X_test_vectors)\n",
    "y_pred_rf = rf.predict(X_test_vectors)\n",
    "\n",
    "print(\"----------------Logistic Regression----------------\")\n",
    "print(classification_report(y_test, y_pred_lr))\n",
    "\n",
    "print(\"----------------Naive Bayes----------------\")\n",
    "print(classification_report(y_test, y_pred_nb))\n",
    "\n",
    "print(\"----------------Random Forest----------------\")\n",
    "print(classification_report(y_test, y_pred_rf))"
   ]
  },
  {
   "cell_type": "code",
   "execution_count": 86,
   "metadata": {},
   "outputs": [
    {
     "data": {
      "text/plain": [
       "array([[1767,  454],\n",
       "       [ 749,  930]], dtype=int64)"
      ]
     },
     "execution_count": 86,
     "metadata": {},
     "output_type": "execute_result"
    }
   ],
   "source": [
    "confusion_matrix(y_test, y_pred_lr)"
   ]
  },
  {
   "cell_type": "code",
   "execution_count": 87,
   "metadata": {},
   "outputs": [
    {
     "data": {
      "text/plain": [
       "array([[2004,  217],\n",
       "       [1014,  665]], dtype=int64)"
      ]
     },
     "execution_count": 87,
     "metadata": {},
     "output_type": "execute_result"
    }
   ],
   "source": [
    "confusion_matrix(y_test, y_pred_nb)"
   ]
  },
  {
   "cell_type": "code",
   "execution_count": 88,
   "metadata": {},
   "outputs": [
    {
     "data": {
      "text/plain": [
       "array([[2134,   87],\n",
       "       [1439,  240]], dtype=int64)"
      ]
     },
     "execution_count": 88,
     "metadata": {},
     "output_type": "execute_result"
    }
   ],
   "source": [
    "confusion_matrix(y_test, y_pred_rf)"
   ]
  },
  {
   "attachments": {},
   "cell_type": "markdown",
   "metadata": {},
   "source": [
    "### Hyperparameter-Tuning"
   ]
  },
  {
   "cell_type": "code",
   "execution_count": 89,
   "metadata": {},
   "outputs": [],
   "source": [
    "solvers = [\"lbfgs\", \"sag\", \"saga\", \"newton-cg\", \"liblinear\"]\n",
    "penalties = [\"l1\", \"l2\", \"elasticnet\", \"none\"]\n",
    "c_values = [0.001, 0.01, 0.1, 1, 10, 100]"
   ]
  },
  {
   "cell_type": "code",
   "execution_count": 90,
   "metadata": {},
   "outputs": [
    {
     "name": "stderr",
     "output_type": "stream",
     "text": [
      "  0%|          | 0/5 [00:00<?, ?it/s]"
     ]
    },
    {
     "name": "stdout",
     "output_type": "stream",
     "text": [
      "-----ValueError------\n",
      "-----ValueError------\n",
      "-----ValueError------\n",
      "-----ValueError------\n",
      "-----ValueError------\n",
      "-----ValueError------\n",
      "-----ValueError------\n",
      "-----ValueError------\n",
      "-----ValueError------\n",
      "-----ValueError------\n",
      "-----ValueError------\n",
      "-----ValueError------\n"
     ]
    },
    {
     "name": "stderr",
     "output_type": "stream",
     "text": [
      " 20%|██        | 1/5 [00:06<00:24,  6.08s/it]"
     ]
    },
    {
     "name": "stdout",
     "output_type": "stream",
     "text": [
      "-----ValueError------\n",
      "-----ValueError------\n",
      "-----ValueError------\n",
      "-----ValueError------\n",
      "-----ValueError------\n",
      "-----ValueError------\n",
      "-----ValueError------\n",
      "-----ValueError------\n",
      "-----ValueError------\n",
      "-----ValueError------\n",
      "-----ValueError------\n",
      "-----ValueError------\n"
     ]
    },
    {
     "name": "stderr",
     "output_type": "stream",
     "text": [
      " 40%|████      | 2/5 [00:13<00:20,  6.86s/it]"
     ]
    },
    {
     "name": "stdout",
     "output_type": "stream",
     "text": [
      "-----ValueError------\n",
      "-----ValueError------\n",
      "-----ValueError------\n",
      "-----ValueError------\n",
      "-----ValueError------\n",
      "-----ValueError------\n"
     ]
    },
    {
     "name": "stderr",
     "output_type": "stream",
     "text": [
      " 60%|██████    | 3/5 [02:39<02:20, 70.38s/it]"
     ]
    },
    {
     "name": "stdout",
     "output_type": "stream",
     "text": [
      "-----ValueError------\n",
      "-----ValueError------\n",
      "-----ValueError------\n",
      "-----ValueError------\n",
      "-----ValueError------\n",
      "-----ValueError------\n",
      "-----ValueError------\n",
      "-----ValueError------\n",
      "-----ValueError------\n",
      "-----ValueError------\n",
      "-----ValueError------\n",
      "-----ValueError------\n"
     ]
    },
    {
     "name": "stderr",
     "output_type": "stream",
     "text": [
      "100%|██████████| 5/5 [02:55<00:00, 35.06s/it]"
     ]
    },
    {
     "name": "stdout",
     "output_type": "stream",
     "text": [
      "-----ValueError------\n",
      "-----ValueError------\n",
      "-----ValueError------\n",
      "-----ValueError------\n",
      "-----ValueError------\n",
      "-----ValueError------\n",
      "-----ValueError------\n",
      "-----ValueError------\n",
      "-----ValueError------\n",
      "-----ValueError------\n",
      "-----ValueError------\n",
      "-----ValueError------\n"
     ]
    },
    {
     "name": "stderr",
     "output_type": "stream",
     "text": [
      "\n"
     ]
    }
   ],
   "source": [
    "c_list = []\n",
    "solver_list = []\n",
    "penalty_list = []\n",
    "acc_list = []\n",
    "\n",
    "for solver in tqdm(solvers):\n",
    "    for penalty in penalties:\n",
    "        for c in c_values:\n",
    "            try:\n",
    "                lr = LogisticRegression(solver=solver, penalty=penalty, C=c)\n",
    "                lr.fit(X_train_vectors, y_train)\n",
    "                preds = lr.predict(X_test_vectors)\n",
    "\n",
    "                solver_list.append(solver)\n",
    "                penalty_list.append(penalty)\n",
    "                c_list.append(c)\n",
    "                acc_list.append(accuracy_score(y_test, preds))\n",
    "            except(ValueError):\n",
    "                print(\"-----ValueError------\")\n",
    "            \n",
    "data_log = pd.DataFrame({\"Solver\": solver_list, \"Penalty\": penalty_list, \"C\": c_list, \"Accuracy\": acc_list})"
   ]
  },
  {
   "cell_type": "code",
   "execution_count": 91,
   "metadata": {},
   "outputs": [
    {
     "data": {
      "text/html": [
       "<div>\n",
       "<style scoped>\n",
       "    .dataframe tbody tr th:only-of-type {\n",
       "        vertical-align: middle;\n",
       "    }\n",
       "\n",
       "    .dataframe tbody tr th {\n",
       "        vertical-align: top;\n",
       "    }\n",
       "\n",
       "    .dataframe thead th {\n",
       "        text-align: right;\n",
       "    }\n",
       "</style>\n",
       "<table border=\"1\" class=\"dataframe\">\n",
       "  <thead>\n",
       "    <tr style=\"text-align: right;\">\n",
       "      <th></th>\n",
       "      <th>Solver</th>\n",
       "      <th>Penalty</th>\n",
       "      <th>C</th>\n",
       "      <th>Accuracy</th>\n",
       "    </tr>\n",
       "  </thead>\n",
       "  <tbody>\n",
       "    <tr>\n",
       "      <th>33</th>\n",
       "      <td>saga</td>\n",
       "      <td>l2</td>\n",
       "      <td>1.000</td>\n",
       "      <td>0.691538</td>\n",
       "    </tr>\n",
       "    <tr>\n",
       "      <th>15</th>\n",
       "      <td>sag</td>\n",
       "      <td>l2</td>\n",
       "      <td>1.000</td>\n",
       "      <td>0.691538</td>\n",
       "    </tr>\n",
       "    <tr>\n",
       "      <th>3</th>\n",
       "      <td>lbfgs</td>\n",
       "      <td>l2</td>\n",
       "      <td>1.000</td>\n",
       "      <td>0.691538</td>\n",
       "    </tr>\n",
       "    <tr>\n",
       "      <th>63</th>\n",
       "      <td>liblinear</td>\n",
       "      <td>l2</td>\n",
       "      <td>1.000</td>\n",
       "      <td>0.691538</td>\n",
       "    </tr>\n",
       "    <tr>\n",
       "      <th>45</th>\n",
       "      <td>newton-cg</td>\n",
       "      <td>l2</td>\n",
       "      <td>1.000</td>\n",
       "      <td>0.691538</td>\n",
       "    </tr>\n",
       "    <tr>\n",
       "      <th>...</th>\n",
       "      <td>...</td>\n",
       "      <td>...</td>\n",
       "      <td>...</td>\n",
       "      <td>...</td>\n",
       "    </tr>\n",
       "    <tr>\n",
       "      <th>12</th>\n",
       "      <td>sag</td>\n",
       "      <td>l2</td>\n",
       "      <td>0.001</td>\n",
       "      <td>0.569487</td>\n",
       "    </tr>\n",
       "    <tr>\n",
       "      <th>30</th>\n",
       "      <td>saga</td>\n",
       "      <td>l2</td>\n",
       "      <td>0.001</td>\n",
       "      <td>0.569487</td>\n",
       "    </tr>\n",
       "    <tr>\n",
       "      <th>25</th>\n",
       "      <td>saga</td>\n",
       "      <td>l1</td>\n",
       "      <td>0.010</td>\n",
       "      <td>0.569487</td>\n",
       "    </tr>\n",
       "    <tr>\n",
       "      <th>24</th>\n",
       "      <td>saga</td>\n",
       "      <td>l1</td>\n",
       "      <td>0.001</td>\n",
       "      <td>0.569487</td>\n",
       "    </tr>\n",
       "    <tr>\n",
       "      <th>0</th>\n",
       "      <td>lbfgs</td>\n",
       "      <td>l2</td>\n",
       "      <td>0.001</td>\n",
       "      <td>0.569487</td>\n",
       "    </tr>\n",
       "  </tbody>\n",
       "</table>\n",
       "<p>66 rows × 4 columns</p>\n",
       "</div>"
      ],
      "text/plain": [
       "       Solver Penalty      C  Accuracy\n",
       "33       saga      l2  1.000  0.691538\n",
       "15        sag      l2  1.000  0.691538\n",
       "3       lbfgs      l2  1.000  0.691538\n",
       "63  liblinear      l2  1.000  0.691538\n",
       "45  newton-cg      l2  1.000  0.691538\n",
       "..        ...     ...    ...       ...\n",
       "12        sag      l2  0.001  0.569487\n",
       "30       saga      l2  0.001  0.569487\n",
       "25       saga      l1  0.010  0.569487\n",
       "24       saga      l1  0.001  0.569487\n",
       "0       lbfgs      l2  0.001  0.569487\n",
       "\n",
       "[66 rows x 4 columns]"
      ]
     },
     "execution_count": 91,
     "metadata": {},
     "output_type": "execute_result"
    }
   ],
   "source": [
    "data_log.sort_values(by=\"Accuracy\", ascending=False)"
   ]
  },
  {
   "cell_type": "code",
   "execution_count": 92,
   "metadata": {},
   "outputs": [],
   "source": [
    "data.to_csv(\"results/results_gender.csv\")"
   ]
  },
  {
   "cell_type": "code",
   "execution_count": 52,
   "metadata": {},
   "outputs": [
    {
     "name": "stdout",
     "output_type": "stream",
     "text": [
      "----------------Logistic Regression----------------\n",
      "              precision    recall  f1-score   support\n",
      "\n",
      "           1       0.69      0.79      0.74      2234\n",
      "           2       0.65      0.53      0.58      1666\n",
      "\n",
      "    accuracy                           0.68      3900\n",
      "   macro avg       0.67      0.66      0.66      3900\n",
      "weighted avg       0.68      0.68      0.67      3900\n",
      "\n"
     ]
    }
   ],
   "source": [
    "lr = LogisticRegression(solver=\"saga\", penalty=\"l2\", C=1)\n",
    "lr.fit(X_train_vectors, y_train)\n",
    "y_pred_lr = lr.predict(X_test_vectors)\n",
    "\n",
    "print(\"----------------Logistic Regression----------------\")\n",
    "print(classification_report(y_test, y_pred_lr))"
   ]
  },
  {
   "cell_type": "code",
   "execution_count": 73,
   "metadata": {},
   "outputs": [
    {
     "data": {
      "text/plain": [
       "['vectorizer/fitted_vectorizer.sav']"
      ]
     },
     "execution_count": 73,
     "metadata": {},
     "output_type": "execute_result"
    }
   ],
   "source": [
    "import pickle\n",
    "import joblib\n",
    "\n",
    "filename_1 = 'models_joblib/gender/log_reg_hypertuned.sav'\n",
    "filename_2 = 'models_joblib/gender/log_reg_stacked_clf.sav'\n",
    "#pickle.dump(lr, open(filename_1, 'wb'), protocol=pickle.HIGHEST_PROTOCOL)\n",
    "#pickle.dump(clf, open(filename_2, 'wb'), protocol=pickle.HIGHEST_PROTOCOL)\n",
    "#joblib.dump(lr, filename_1)\n",
    "#joblib.dump(clf, filename_2)\n",
    "joblib.dump(vectorizer, \"vectorizer/fitted_vectorizer.sav\")"
   ]
  },
  {
   "attachments": {},
   "cell_type": "markdown",
   "metadata": {},
   "source": [
    "## Sternzeichen"
   ]
  },
  {
   "cell_type": "code",
   "execution_count": 86,
   "metadata": {},
   "outputs": [],
   "source": [
    "target = \"sign\"\n",
    "test_size = 0.2\n",
    "\n",
    "X_train, X_test, y_train, y_test = train_test_split(data[\"preprocessed_text\"], data[target], test_size=test_size,shuffle=True)"
   ]
  },
  {
   "cell_type": "code",
   "execution_count": 87,
   "metadata": {},
   "outputs": [],
   "source": [
    "vectorizer = TfidfVectorizer(use_idf=True)\n",
    "X_train_vectors = vectorizer.fit_transform(X_train.astype('U'))\n",
    "X_test_vectors = vectorizer.transform(X_test.astype('U'))"
   ]
  },
  {
   "cell_type": "code",
   "execution_count": 88,
   "metadata": {},
   "outputs": [],
   "source": [
    "lr = LogisticRegression()\n",
    "nb = MultinomialNB()\n",
    "rf = RandomForestClassifier(max_depth=15, n_estimators=150)\n",
    "svm = SVC()"
   ]
  },
  {
   "cell_type": "code",
   "execution_count": 89,
   "metadata": {},
   "outputs": [
    {
     "name": "stdout",
     "output_type": "stream",
     "text": [
      "LR Fitted\n",
      "NB Fitted\n",
      "RF Fitted\n"
     ]
    }
   ],
   "source": [
    "lr.fit(X_train_vectors, y_train)\n",
    "print(\"LR Fitted\")\n",
    "\n",
    "nb.fit(X_train_vectors, y_train)\n",
    "print(\"NB Fitted\")\n",
    "\n",
    "rf.fit(X_train_vectors, y_train)\n",
    "print(\"RF Fitted\")"
   ]
  },
  {
   "cell_type": "code",
   "execution_count": 90,
   "metadata": {},
   "outputs": [
    {
     "name": "stdout",
     "output_type": "stream",
     "text": [
      "----------------Logistic Regression----------------\n",
      "              precision    recall  f1-score   support\n",
      "\n",
      "    Aquarius       0.20      0.13      0.16       271\n",
      "       Aries       0.23      0.33      0.27       341\n",
      "      Cancer       0.18      0.24      0.21       395\n",
      "   Capricorn       0.21      0.08      0.12       254\n",
      "      Gemini       0.19      0.12      0.15       315\n",
      "         Leo       0.17      0.14      0.15       303\n",
      "       Libra       0.23      0.25      0.24       304\n",
      "      Pisces       0.21      0.26      0.24       331\n",
      " Sagittarius       0.25      0.15      0.18       303\n",
      "     Scorpio       0.20      0.26      0.23       368\n",
      "      Taurus       0.20      0.17      0.19       376\n",
      "       Virgo       0.19      0.25      0.22       339\n",
      "\n",
      "    accuracy                           0.20      3900\n",
      "   macro avg       0.20      0.20      0.19      3900\n",
      "weighted avg       0.20      0.20      0.20      3900\n",
      "\n",
      "----------------Naive Bayes----------------\n",
      "              precision    recall  f1-score   support\n",
      "\n",
      "    Aquarius       0.56      0.03      0.06       271\n",
      "       Aries       0.17      0.40      0.24       341\n",
      "      Cancer       0.16      0.50      0.24       395\n",
      "   Capricorn       1.00      0.01      0.02       254\n",
      "      Gemini       0.53      0.03      0.05       315\n",
      "         Leo       0.36      0.03      0.05       303\n",
      "       Libra       0.42      0.14      0.22       304\n",
      "      Pisces       0.22      0.28      0.25       331\n",
      " Sagittarius       0.64      0.06      0.11       303\n",
      "     Scorpio       0.20      0.28      0.23       368\n",
      "      Taurus       0.47      0.07      0.12       376\n",
      "       Virgo       0.18      0.33      0.23       339\n",
      "\n",
      "    accuracy                           0.19      3900\n",
      "   macro avg       0.41      0.18      0.15      3900\n",
      "weighted avg       0.39      0.19      0.16      3900\n",
      "\n",
      "----------------Random Forest----------------\n",
      "              precision    recall  f1-score   support\n",
      "\n",
      "    Aquarius       0.75      0.02      0.04       271\n",
      "       Aries       0.23      0.28      0.25       341\n",
      "      Cancer       0.11      0.70      0.19       395\n",
      "   Capricorn       0.50      0.00      0.01       254\n",
      "      Gemini       0.78      0.02      0.04       315\n",
      "         Leo       0.62      0.05      0.10       303\n",
      "       Libra       0.40      0.12      0.18       304\n",
      "      Pisces       0.28      0.25      0.26       331\n",
      " Sagittarius       0.34      0.08      0.12       303\n",
      "     Scorpio       0.19      0.14      0.16       368\n",
      "      Taurus       0.62      0.06      0.10       376\n",
      "       Virgo       0.31      0.13      0.19       339\n",
      "\n",
      "    accuracy                           0.17      3900\n",
      "   macro avg       0.43      0.15      0.14      3900\n",
      "weighted avg       0.41      0.17      0.14      3900\n",
      "\n"
     ]
    }
   ],
   "source": [
    "y_pred_lr = lr.predict(X_test_vectors)\n",
    "y_pred_nb = nb.predict(X_test_vectors)\n",
    "y_pred_rf = rf.predict(X_test_vectors)\n",
    "\n",
    "print(\"----------------Logistic Regression----------------\")\n",
    "print(classification_report(y_test, y_pred_lr))\n",
    "\n",
    "print(\"----------------Naive Bayes----------------\")\n",
    "print(classification_report(y_test, y_pred_nb))\n",
    "\n",
    "print(\"----------------Random Forest----------------\")\n",
    "print(classification_report(y_test, y_pred_rf))"
   ]
  },
  {
   "attachments": {},
   "cell_type": "markdown",
   "metadata": {},
   "source": [
    "### Hyperparameter Tuning"
   ]
  },
  {
   "cell_type": "code",
   "execution_count": 26,
   "metadata": {},
   "outputs": [],
   "source": [
    "solvers = [\"lbfgs\", \"sag\", \"saga\", \"newton-cg\", \"liblinear\"]\n",
    "penalties = [\"l1\", \"l2\", \"elasticnet\", \"none\"]\n",
    "c_values = [0.001, 0.01, 0.1, 1, 10, 100]"
   ]
  },
  {
   "cell_type": "code",
   "execution_count": 75,
   "metadata": {},
   "outputs": [
    {
     "name": "stderr",
     "output_type": "stream",
     "text": [
      "  0%|          | 0/5 [00:00<?, ?it/s]"
     ]
    },
    {
     "name": "stdout",
     "output_type": "stream",
     "text": [
      "-----ValueError------\n",
      "-----ValueError------\n",
      "-----ValueError------\n",
      "-----ValueError------\n",
      "-----ValueError------\n",
      "-----ValueError------\n",
      "-----ValueError------\n",
      "-----ValueError------\n",
      "-----ValueError------\n",
      "-----ValueError------\n",
      "-----ValueError------\n",
      "-----ValueError------\n"
     ]
    },
    {
     "name": "stderr",
     "output_type": "stream",
     "text": [
      " 20%|██        | 1/5 [01:13<04:53, 73.40s/it]"
     ]
    },
    {
     "name": "stdout",
     "output_type": "stream",
     "text": [
      "-----ValueError------\n",
      "-----ValueError------\n",
      "-----ValueError------\n",
      "-----ValueError------\n",
      "-----ValueError------\n",
      "-----ValueError------\n",
      "-----ValueError------\n",
      "-----ValueError------\n",
      "-----ValueError------\n",
      "-----ValueError------\n",
      "-----ValueError------\n",
      "-----ValueError------\n"
     ]
    },
    {
     "name": "stderr",
     "output_type": "stream",
     "text": [
      " 40%|████      | 2/5 [01:47<02:31, 50.40s/it]"
     ]
    },
    {
     "name": "stdout",
     "output_type": "stream",
     "text": [
      "-----ValueError------\n",
      "-----ValueError------\n",
      "-----ValueError------\n",
      "-----ValueError------\n",
      "-----ValueError------\n",
      "-----ValueError------\n"
     ]
    },
    {
     "name": "stderr",
     "output_type": "stream",
     "text": [
      " 60%|██████    | 3/5 [12:54<11:03, 331.95s/it]"
     ]
    },
    {
     "name": "stdout",
     "output_type": "stream",
     "text": [
      "-----ValueError------\n",
      "-----ValueError------\n",
      "-----ValueError------\n",
      "-----ValueError------\n",
      "-----ValueError------\n",
      "-----ValueError------\n",
      "-----ValueError------\n",
      "-----ValueError------\n",
      "-----ValueError------\n",
      "-----ValueError------\n",
      "-----ValueError------\n",
      "-----ValueError------\n"
     ]
    },
    {
     "name": "stderr",
     "output_type": "stream",
     "text": [
      "100%|██████████| 5/5 [25:23<00:00, 304.79s/it]"
     ]
    },
    {
     "name": "stdout",
     "output_type": "stream",
     "text": [
      "-----ValueError------\n",
      "-----ValueError------\n",
      "-----ValueError------\n",
      "-----ValueError------\n",
      "-----ValueError------\n",
      "-----ValueError------\n",
      "-----ValueError------\n",
      "-----ValueError------\n",
      "-----ValueError------\n",
      "-----ValueError------\n",
      "-----ValueError------\n",
      "-----ValueError------\n"
     ]
    },
    {
     "name": "stderr",
     "output_type": "stream",
     "text": [
      "\n"
     ]
    }
   ],
   "source": [
    "c_list = []\n",
    "solver_list = []\n",
    "penalty_list = []\n",
    "acc_list = []\n",
    "\n",
    "for solver in tqdm(solvers):\n",
    "    for penalty in penalties:\n",
    "        for c in c_values:\n",
    "            try:\n",
    "                lr = LogisticRegression(solver=solver, penalty=penalty, C=c)\n",
    "                lr.fit(X_train_vectors, y_train)\n",
    "                preds = lr.predict(X_test_vectors)\n",
    "\n",
    "                solver_list.append(solver)\n",
    "                penalty_list.append(penalty)\n",
    "                c_list.append(c)\n",
    "                acc_list.append(accuracy_score(y_test, preds))\n",
    "            except(ValueError):\n",
    "                print(\"-----ValueError------\")\n",
    "            \n",
    "data_log = pd.DataFrame({\"Solver\": solver_list, \"Penalty\": penalty_list, \"C\": c_list, \"Accuracy\": acc_list})"
   ]
  },
  {
   "cell_type": "code",
   "execution_count": 76,
   "metadata": {},
   "outputs": [
    {
     "data": {
      "text/html": [
       "<div>\n",
       "<style scoped>\n",
       "    .dataframe tbody tr th:only-of-type {\n",
       "        vertical-align: middle;\n",
       "    }\n",
       "\n",
       "    .dataframe tbody tr th {\n",
       "        vertical-align: top;\n",
       "    }\n",
       "\n",
       "    .dataframe thead th {\n",
       "        text-align: right;\n",
       "    }\n",
       "</style>\n",
       "<table border=\"1\" class=\"dataframe\">\n",
       "  <thead>\n",
       "    <tr style=\"text-align: right;\">\n",
       "      <th></th>\n",
       "      <th>Solver</th>\n",
       "      <th>Penalty</th>\n",
       "      <th>C</th>\n",
       "      <th>Accuracy</th>\n",
       "    </tr>\n",
       "  </thead>\n",
       "  <tbody>\n",
       "    <tr>\n",
       "      <th>28</th>\n",
       "      <td>saga</td>\n",
       "      <td>l1</td>\n",
       "      <td>10.000</td>\n",
       "      <td>0.209487</td>\n",
       "    </tr>\n",
       "    <tr>\n",
       "      <th>64</th>\n",
       "      <td>liblinear</td>\n",
       "      <td>l2</td>\n",
       "      <td>10.000</td>\n",
       "      <td>0.209231</td>\n",
       "    </tr>\n",
       "    <tr>\n",
       "      <th>65</th>\n",
       "      <td>liblinear</td>\n",
       "      <td>l2</td>\n",
       "      <td>100.000</td>\n",
       "      <td>0.207692</td>\n",
       "    </tr>\n",
       "    <tr>\n",
       "      <th>4</th>\n",
       "      <td>lbfgs</td>\n",
       "      <td>l2</td>\n",
       "      <td>10.000</td>\n",
       "      <td>0.207436</td>\n",
       "    </tr>\n",
       "    <tr>\n",
       "      <th>58</th>\n",
       "      <td>liblinear</td>\n",
       "      <td>l1</td>\n",
       "      <td>10.000</td>\n",
       "      <td>0.206154</td>\n",
       "    </tr>\n",
       "    <tr>\n",
       "      <th>...</th>\n",
       "      <td>...</td>\n",
       "      <td>...</td>\n",
       "      <td>...</td>\n",
       "      <td>...</td>\n",
       "    </tr>\n",
       "    <tr>\n",
       "      <th>42</th>\n",
       "      <td>newton-cg</td>\n",
       "      <td>l2</td>\n",
       "      <td>0.001</td>\n",
       "      <td>0.092821</td>\n",
       "    </tr>\n",
       "    <tr>\n",
       "      <th>24</th>\n",
       "      <td>saga</td>\n",
       "      <td>l1</td>\n",
       "      <td>0.001</td>\n",
       "      <td>0.092821</td>\n",
       "    </tr>\n",
       "    <tr>\n",
       "      <th>25</th>\n",
       "      <td>saga</td>\n",
       "      <td>l1</td>\n",
       "      <td>0.010</td>\n",
       "      <td>0.092821</td>\n",
       "    </tr>\n",
       "    <tr>\n",
       "      <th>30</th>\n",
       "      <td>saga</td>\n",
       "      <td>l2</td>\n",
       "      <td>0.001</td>\n",
       "      <td>0.092821</td>\n",
       "    </tr>\n",
       "    <tr>\n",
       "      <th>0</th>\n",
       "      <td>lbfgs</td>\n",
       "      <td>l2</td>\n",
       "      <td>0.001</td>\n",
       "      <td>0.092821</td>\n",
       "    </tr>\n",
       "  </tbody>\n",
       "</table>\n",
       "<p>66 rows × 4 columns</p>\n",
       "</div>"
      ],
      "text/plain": [
       "       Solver Penalty        C  Accuracy\n",
       "28       saga      l1   10.000  0.209487\n",
       "64  liblinear      l2   10.000  0.209231\n",
       "65  liblinear      l2  100.000  0.207692\n",
       "4       lbfgs      l2   10.000  0.207436\n",
       "58  liblinear      l1   10.000  0.206154\n",
       "..        ...     ...      ...       ...\n",
       "42  newton-cg      l2    0.001  0.092821\n",
       "24       saga      l1    0.001  0.092821\n",
       "25       saga      l1    0.010  0.092821\n",
       "30       saga      l2    0.001  0.092821\n",
       "0       lbfgs      l2    0.001  0.092821\n",
       "\n",
       "[66 rows x 4 columns]"
      ]
     },
     "execution_count": 76,
     "metadata": {},
     "output_type": "execute_result"
    }
   ],
   "source": [
    "data_log.sort_values(by=\"Accuracy\", ascending=False)"
   ]
  },
  {
   "cell_type": "code",
   "execution_count": 27,
   "metadata": {},
   "outputs": [
    {
     "data": {
      "text/html": [
       "<style>#sk-container-id-2 {color: black;background-color: white;}#sk-container-id-2 pre{padding: 0;}#sk-container-id-2 div.sk-toggleable {background-color: white;}#sk-container-id-2 label.sk-toggleable__label {cursor: pointer;display: block;width: 100%;margin-bottom: 0;padding: 0.3em;box-sizing: border-box;text-align: center;}#sk-container-id-2 label.sk-toggleable__label-arrow:before {content: \"▸\";float: left;margin-right: 0.25em;color: #696969;}#sk-container-id-2 label.sk-toggleable__label-arrow:hover:before {color: black;}#sk-container-id-2 div.sk-estimator:hover label.sk-toggleable__label-arrow:before {color: black;}#sk-container-id-2 div.sk-toggleable__content {max-height: 0;max-width: 0;overflow: hidden;text-align: left;background-color: #f0f8ff;}#sk-container-id-2 div.sk-toggleable__content pre {margin: 0.2em;color: black;border-radius: 0.25em;background-color: #f0f8ff;}#sk-container-id-2 input.sk-toggleable__control:checked~div.sk-toggleable__content {max-height: 200px;max-width: 100%;overflow: auto;}#sk-container-id-2 input.sk-toggleable__control:checked~label.sk-toggleable__label-arrow:before {content: \"▾\";}#sk-container-id-2 div.sk-estimator input.sk-toggleable__control:checked~label.sk-toggleable__label {background-color: #d4ebff;}#sk-container-id-2 div.sk-label input.sk-toggleable__control:checked~label.sk-toggleable__label {background-color: #d4ebff;}#sk-container-id-2 input.sk-hidden--visually {border: 0;clip: rect(1px 1px 1px 1px);clip: rect(1px, 1px, 1px, 1px);height: 1px;margin: -1px;overflow: hidden;padding: 0;position: absolute;width: 1px;}#sk-container-id-2 div.sk-estimator {font-family: monospace;background-color: #f0f8ff;border: 1px dotted black;border-radius: 0.25em;box-sizing: border-box;margin-bottom: 0.5em;}#sk-container-id-2 div.sk-estimator:hover {background-color: #d4ebff;}#sk-container-id-2 div.sk-parallel-item::after {content: \"\";width: 100%;border-bottom: 1px solid gray;flex-grow: 1;}#sk-container-id-2 div.sk-label:hover label.sk-toggleable__label {background-color: #d4ebff;}#sk-container-id-2 div.sk-serial::before {content: \"\";position: absolute;border-left: 1px solid gray;box-sizing: border-box;top: 0;bottom: 0;left: 50%;z-index: 0;}#sk-container-id-2 div.sk-serial {display: flex;flex-direction: column;align-items: center;background-color: white;padding-right: 0.2em;padding-left: 0.2em;position: relative;}#sk-container-id-2 div.sk-item {position: relative;z-index: 1;}#sk-container-id-2 div.sk-parallel {display: flex;align-items: stretch;justify-content: center;background-color: white;position: relative;}#sk-container-id-2 div.sk-item::before, #sk-container-id-2 div.sk-parallel-item::before {content: \"\";position: absolute;border-left: 1px solid gray;box-sizing: border-box;top: 0;bottom: 0;left: 50%;z-index: -1;}#sk-container-id-2 div.sk-parallel-item {display: flex;flex-direction: column;z-index: 1;position: relative;background-color: white;}#sk-container-id-2 div.sk-parallel-item:first-child::after {align-self: flex-end;width: 50%;}#sk-container-id-2 div.sk-parallel-item:last-child::after {align-self: flex-start;width: 50%;}#sk-container-id-2 div.sk-parallel-item:only-child::after {width: 0;}#sk-container-id-2 div.sk-dashed-wrapped {border: 1px dashed gray;margin: 0 0.4em 0.5em 0.4em;box-sizing: border-box;padding-bottom: 0.4em;background-color: white;}#sk-container-id-2 div.sk-label label {font-family: monospace;font-weight: bold;display: inline-block;line-height: 1.2em;}#sk-container-id-2 div.sk-label-container {text-align: center;}#sk-container-id-2 div.sk-container {/* jupyter's `normalize.less` sets `[hidden] { display: none; }` but bootstrap.min.css set `[hidden] { display: none !important; }` so we also need the `!important` here to be able to override the default hidden behavior on the sphinx rendered scikit-learn.org. See: https://github.com/scikit-learn/scikit-learn/issues/21755 */display: inline-block !important;position: relative;}#sk-container-id-2 div.sk-text-repr-fallback {display: none;}</style><div id=\"sk-container-id-2\" class=\"sk-top-container\"><div class=\"sk-text-repr-fallback\"><pre>LogisticRegression(C=10.0, penalty=&#x27;l1&#x27;, solver=&#x27;saga&#x27;)</pre><b>In a Jupyter environment, please rerun this cell to show the HTML representation or trust the notebook. <br />On GitHub, the HTML representation is unable to render, please try loading this page with nbviewer.org.</b></div><div class=\"sk-container\" hidden><div class=\"sk-item\"><div class=\"sk-estimator sk-toggleable\"><input class=\"sk-toggleable__control sk-hidden--visually\" id=\"sk-estimator-id-5\" type=\"checkbox\" checked><label for=\"sk-estimator-id-5\" class=\"sk-toggleable__label sk-toggleable__label-arrow\">LogisticRegression</label><div class=\"sk-toggleable__content\"><pre>LogisticRegression(C=10.0, penalty=&#x27;l1&#x27;, solver=&#x27;saga&#x27;)</pre></div></div></div></div></div>"
      ],
      "text/plain": [
       "LogisticRegression(C=10.0, penalty='l1', solver='saga')"
      ]
     },
     "execution_count": 27,
     "metadata": {},
     "output_type": "execute_result"
    }
   ],
   "source": [
    "lr = LogisticRegression(solver=\"saga\", penalty=\"l1\", C=10.000)\n",
    "lr.fit(X_train_vectors, y_train)"
   ]
  },
  {
   "cell_type": "code",
   "execution_count": 28,
   "metadata": {},
   "outputs": [
    {
     "name": "stdout",
     "output_type": "stream",
     "text": [
      "----------------Logistic Regression----------------\n",
      "              precision    recall  f1-score   support\n",
      "\n",
      "    Aquarius       0.22      0.13      0.16       285\n",
      "       Aries       0.19      0.28      0.22       320\n",
      "      Cancer       0.17      0.30      0.22       376\n",
      "   Capricorn       0.29      0.09      0.14       269\n",
      "      Gemini       0.19      0.11      0.14       328\n",
      "         Leo       0.16      0.13      0.14       306\n",
      "       Libra       0.23      0.24      0.23       324\n",
      "      Pisces       0.25      0.23      0.24       353\n",
      " Sagittarius       0.32      0.18      0.23       310\n",
      "     Scorpio       0.20      0.26      0.23       354\n",
      "      Taurus       0.19      0.18      0.19       337\n",
      "       Virgo       0.20      0.27      0.23       338\n",
      "\n",
      "    accuracy                           0.20      3900\n",
      "   macro avg       0.22      0.20      0.20      3900\n",
      "weighted avg       0.21      0.20      0.20      3900\n",
      "\n"
     ]
    }
   ],
   "source": [
    "print(\"----------------Logistic Regression----------------\")\n",
    "print(classification_report(y_test, y_pred_lr))"
   ]
  },
  {
   "cell_type": "code",
   "execution_count": 92,
   "metadata": {},
   "outputs": [],
   "source": [
    "estimators = [(\"rf\", RandomForestClassifier(n_estimators=15, random_state=42)), (\"svr\", LinearSVC(random_state=42))]\n",
    "clf = StackingClassifier(estimators=estimators, final_estimator=LogisticRegression())"
   ]
  },
  {
   "cell_type": "code",
   "execution_count": 93,
   "metadata": {},
   "outputs": [
    {
     "data": {
      "text/html": [
       "<style>#sk-container-id-4 {color: black;background-color: white;}#sk-container-id-4 pre{padding: 0;}#sk-container-id-4 div.sk-toggleable {background-color: white;}#sk-container-id-4 label.sk-toggleable__label {cursor: pointer;display: block;width: 100%;margin-bottom: 0;padding: 0.3em;box-sizing: border-box;text-align: center;}#sk-container-id-4 label.sk-toggleable__label-arrow:before {content: \"▸\";float: left;margin-right: 0.25em;color: #696969;}#sk-container-id-4 label.sk-toggleable__label-arrow:hover:before {color: black;}#sk-container-id-4 div.sk-estimator:hover label.sk-toggleable__label-arrow:before {color: black;}#sk-container-id-4 div.sk-toggleable__content {max-height: 0;max-width: 0;overflow: hidden;text-align: left;background-color: #f0f8ff;}#sk-container-id-4 div.sk-toggleable__content pre {margin: 0.2em;color: black;border-radius: 0.25em;background-color: #f0f8ff;}#sk-container-id-4 input.sk-toggleable__control:checked~div.sk-toggleable__content {max-height: 200px;max-width: 100%;overflow: auto;}#sk-container-id-4 input.sk-toggleable__control:checked~label.sk-toggleable__label-arrow:before {content: \"▾\";}#sk-container-id-4 div.sk-estimator input.sk-toggleable__control:checked~label.sk-toggleable__label {background-color: #d4ebff;}#sk-container-id-4 div.sk-label input.sk-toggleable__control:checked~label.sk-toggleable__label {background-color: #d4ebff;}#sk-container-id-4 input.sk-hidden--visually {border: 0;clip: rect(1px 1px 1px 1px);clip: rect(1px, 1px, 1px, 1px);height: 1px;margin: -1px;overflow: hidden;padding: 0;position: absolute;width: 1px;}#sk-container-id-4 div.sk-estimator {font-family: monospace;background-color: #f0f8ff;border: 1px dotted black;border-radius: 0.25em;box-sizing: border-box;margin-bottom: 0.5em;}#sk-container-id-4 div.sk-estimator:hover {background-color: #d4ebff;}#sk-container-id-4 div.sk-parallel-item::after {content: \"\";width: 100%;border-bottom: 1px solid gray;flex-grow: 1;}#sk-container-id-4 div.sk-label:hover label.sk-toggleable__label {background-color: #d4ebff;}#sk-container-id-4 div.sk-serial::before {content: \"\";position: absolute;border-left: 1px solid gray;box-sizing: border-box;top: 0;bottom: 0;left: 50%;z-index: 0;}#sk-container-id-4 div.sk-serial {display: flex;flex-direction: column;align-items: center;background-color: white;padding-right: 0.2em;padding-left: 0.2em;position: relative;}#sk-container-id-4 div.sk-item {position: relative;z-index: 1;}#sk-container-id-4 div.sk-parallel {display: flex;align-items: stretch;justify-content: center;background-color: white;position: relative;}#sk-container-id-4 div.sk-item::before, #sk-container-id-4 div.sk-parallel-item::before {content: \"\";position: absolute;border-left: 1px solid gray;box-sizing: border-box;top: 0;bottom: 0;left: 50%;z-index: -1;}#sk-container-id-4 div.sk-parallel-item {display: flex;flex-direction: column;z-index: 1;position: relative;background-color: white;}#sk-container-id-4 div.sk-parallel-item:first-child::after {align-self: flex-end;width: 50%;}#sk-container-id-4 div.sk-parallel-item:last-child::after {align-self: flex-start;width: 50%;}#sk-container-id-4 div.sk-parallel-item:only-child::after {width: 0;}#sk-container-id-4 div.sk-dashed-wrapped {border: 1px dashed gray;margin: 0 0.4em 0.5em 0.4em;box-sizing: border-box;padding-bottom: 0.4em;background-color: white;}#sk-container-id-4 div.sk-label label {font-family: monospace;font-weight: bold;display: inline-block;line-height: 1.2em;}#sk-container-id-4 div.sk-label-container {text-align: center;}#sk-container-id-4 div.sk-container {/* jupyter's `normalize.less` sets `[hidden] { display: none; }` but bootstrap.min.css set `[hidden] { display: none !important; }` so we also need the `!important` here to be able to override the default hidden behavior on the sphinx rendered scikit-learn.org. See: https://github.com/scikit-learn/scikit-learn/issues/21755 */display: inline-block !important;position: relative;}#sk-container-id-4 div.sk-text-repr-fallback {display: none;}</style><div id=\"sk-container-id-4\" class=\"sk-top-container\"><div class=\"sk-text-repr-fallback\"><pre>StackingClassifier(estimators=[(&#x27;rf&#x27;,\n",
       "                                RandomForestClassifier(n_estimators=15,\n",
       "                                                       random_state=42)),\n",
       "                               (&#x27;svr&#x27;, LinearSVC(random_state=42))],\n",
       "                   final_estimator=LogisticRegression())</pre><b>In a Jupyter environment, please rerun this cell to show the HTML representation or trust the notebook. <br />On GitHub, the HTML representation is unable to render, please try loading this page with nbviewer.org.</b></div><div class=\"sk-container\" hidden><div class=\"sk-item sk-dashed-wrapped\"><div class=\"sk-label-container\"><div class=\"sk-label sk-toggleable\"><input class=\"sk-toggleable__control sk-hidden--visually\" id=\"sk-estimator-id-13\" type=\"checkbox\" ><label for=\"sk-estimator-id-13\" class=\"sk-toggleable__label sk-toggleable__label-arrow\">StackingClassifier</label><div class=\"sk-toggleable__content\"><pre>StackingClassifier(estimators=[(&#x27;rf&#x27;,\n",
       "                                RandomForestClassifier(n_estimators=15,\n",
       "                                                       random_state=42)),\n",
       "                               (&#x27;svr&#x27;, LinearSVC(random_state=42))],\n",
       "                   final_estimator=LogisticRegression())</pre></div></div></div><div class=\"sk-serial\"><div class=\"sk-item\"><div class=\"sk-parallel\"><div class=\"sk-parallel-item\"><div class=\"sk-item\"><div class=\"sk-label-container\"><div class=\"sk-label sk-toggleable\"><label>rf</label></div></div><div class=\"sk-serial\"><div class=\"sk-item\"><div class=\"sk-estimator sk-toggleable\"><input class=\"sk-toggleable__control sk-hidden--visually\" id=\"sk-estimator-id-14\" type=\"checkbox\" ><label for=\"sk-estimator-id-14\" class=\"sk-toggleable__label sk-toggleable__label-arrow\">RandomForestClassifier</label><div class=\"sk-toggleable__content\"><pre>RandomForestClassifier(n_estimators=15, random_state=42)</pre></div></div></div></div></div></div><div class=\"sk-parallel-item\"><div class=\"sk-item\"><div class=\"sk-label-container\"><div class=\"sk-label sk-toggleable\"><label>svr</label></div></div><div class=\"sk-serial\"><div class=\"sk-item\"><div class=\"sk-estimator sk-toggleable\"><input class=\"sk-toggleable__control sk-hidden--visually\" id=\"sk-estimator-id-15\" type=\"checkbox\" ><label for=\"sk-estimator-id-15\" class=\"sk-toggleable__label sk-toggleable__label-arrow\">LinearSVC</label><div class=\"sk-toggleable__content\"><pre>LinearSVC(random_state=42)</pre></div></div></div></div></div></div></div></div><div class=\"sk-item\"><div class=\"sk-parallel\"><div class=\"sk-parallel-item\"><div class=\"sk-item\"><div class=\"sk-label-container\"><div class=\"sk-label sk-toggleable\"><label>final_estimator</label></div></div><div class=\"sk-serial\"><div class=\"sk-item\"><div class=\"sk-estimator sk-toggleable\"><input class=\"sk-toggleable__control sk-hidden--visually\" id=\"sk-estimator-id-16\" type=\"checkbox\" ><label for=\"sk-estimator-id-16\" class=\"sk-toggleable__label sk-toggleable__label-arrow\">LogisticRegression</label><div class=\"sk-toggleable__content\"><pre>LogisticRegression()</pre></div></div></div></div></div></div></div></div></div></div></div></div>"
      ],
      "text/plain": [
       "StackingClassifier(estimators=[('rf',\n",
       "                                RandomForestClassifier(n_estimators=15,\n",
       "                                                       random_state=42)),\n",
       "                               ('svr', LinearSVC(random_state=42))],\n",
       "                   final_estimator=LogisticRegression())"
      ]
     },
     "execution_count": 93,
     "metadata": {},
     "output_type": "execute_result"
    }
   ],
   "source": [
    "clf.fit(X_train_vectors, y_train)"
   ]
  },
  {
   "cell_type": "code",
   "execution_count": 94,
   "metadata": {},
   "outputs": [
    {
     "name": "stdout",
     "output_type": "stream",
     "text": [
      "----------------Stacking Classifier----------------\n",
      "              precision    recall  f1-score   support\n",
      "\n",
      "    Aquarius       0.20      0.14      0.17       271\n",
      "       Aries       0.22      0.30      0.26       341\n",
      "      Cancer       0.22      0.21      0.21       395\n",
      "   Capricorn       0.22      0.14      0.17       254\n",
      "      Gemini       0.22      0.19      0.20       315\n",
      "         Leo       0.21      0.13      0.16       303\n",
      "       Libra       0.21      0.26      0.24       304\n",
      "      Pisces       0.21      0.27      0.23       331\n",
      " Sagittarius       0.23      0.20      0.22       303\n",
      "     Scorpio       0.21      0.25      0.23       368\n",
      "      Taurus       0.23      0.19      0.21       376\n",
      "       Virgo       0.23      0.27      0.25       339\n",
      "\n",
      "    accuracy                           0.22      3900\n",
      "   macro avg       0.22      0.21      0.21      3900\n",
      "weighted avg       0.22      0.22      0.21      3900\n",
      "\n"
     ]
    }
   ],
   "source": [
    "y_pred_stack = clf.predict(X_test_vectors)\n",
    "\n",
    "print(\"----------------Stacking Classifier----------------\")\n",
    "print(classification_report(y_test, y_pred_stack))"
   ]
  },
  {
   "cell_type": "code",
   "execution_count": 50,
   "metadata": {},
   "outputs": [
    {
     "data": {
      "text/plain": [
       "['models_joblib/sign/log_reg_stacked_clf.sav']"
      ]
     },
     "execution_count": 50,
     "metadata": {},
     "output_type": "execute_result"
    }
   ],
   "source": [
    "import joblib\n",
    "filename_1 = 'models_joblib/sign/log_reg_hypertuned.sav'\n",
    "filename_2 = 'models_joblib/sign/log_reg_stacked_clf.sav'\n",
    "#pickle.dump(lr, open(filename_1, 'wb'), protocol=pickle.HIGHEST_PROTOCOL)\n",
    "#pickle.dump(clf, open(filename_2, 'wb'), protocol=pickle.HIGHEST_PROTOCOL)\n",
    "joblib.dump(lr, filename_1)\n",
    "joblib.dump(clf, filename_2)"
   ]
  },
  {
   "cell_type": "code",
   "execution_count": 77,
   "metadata": {},
   "outputs": [],
   "source": [
    "data.to_csv(\"results/results_sternzeichen.csv\")"
   ]
  },
  {
   "cell_type": "code",
   "execution_count": 47,
   "metadata": {},
   "outputs": [
    {
     "ename": "NotFittedError",
     "evalue": "This LogisticRegression instance is not fitted yet. Call 'fit' with appropriate arguments before using this estimator.",
     "output_type": "error",
     "traceback": [
      "\u001b[1;31m---------------------------------------------------------------------------\u001b[0m",
      "\u001b[1;31mNotFittedError\u001b[0m                            Traceback (most recent call last)",
      "Cell \u001b[1;32mIn[47], line 3\u001b[0m\n\u001b[0;32m      1\u001b[0m loaded_model \u001b[39m=\u001b[39m pickle\u001b[39m.\u001b[39mload(\u001b[39mopen\u001b[39m(\u001b[39m\"\u001b[39m\u001b[39mmodels/sign/log_reg_hypertuned.sav\u001b[39m\u001b[39m\"\u001b[39m, \u001b[39m'\u001b[39m\u001b[39mrb\u001b[39m\u001b[39m'\u001b[39m))\n\u001b[0;32m      2\u001b[0m \u001b[39m#result = loaded_model.fit(X_train_vectors, y_train)\u001b[39;00m\n\u001b[1;32m----> 3\u001b[0m result \u001b[39m=\u001b[39m loaded_model\u001b[39m.\u001b[39;49mscore(X_test_vectors, y_test)\n\u001b[0;32m      4\u001b[0m \u001b[39mprint\u001b[39m(result)\n",
      "File \u001b[1;32mc:\\Users\\nikla\\anaconda3\\envs\\NLP-New\\lib\\site-packages\\sklearn\\base.py:666\u001b[0m, in \u001b[0;36mClassifierMixin.score\u001b[1;34m(self, X, y, sample_weight)\u001b[0m\n\u001b[0;32m    641\u001b[0m \u001b[39m\"\"\"\u001b[39;00m\n\u001b[0;32m    642\u001b[0m \u001b[39mReturn the mean accuracy on the given test data and labels.\u001b[39;00m\n\u001b[0;32m    643\u001b[0m \n\u001b[1;32m   (...)\u001b[0m\n\u001b[0;32m    662\u001b[0m \u001b[39m    Mean accuracy of ``self.predict(X)`` wrt. `y`.\u001b[39;00m\n\u001b[0;32m    663\u001b[0m \u001b[39m\"\"\"\u001b[39;00m\n\u001b[0;32m    664\u001b[0m \u001b[39mfrom\u001b[39;00m \u001b[39m.\u001b[39;00m\u001b[39mmetrics\u001b[39;00m \u001b[39mimport\u001b[39;00m accuracy_score\n\u001b[1;32m--> 666\u001b[0m \u001b[39mreturn\u001b[39;00m accuracy_score(y, \u001b[39mself\u001b[39;49m\u001b[39m.\u001b[39;49mpredict(X), sample_weight\u001b[39m=\u001b[39msample_weight)\n",
      "File \u001b[1;32mc:\\Users\\nikla\\anaconda3\\envs\\NLP-New\\lib\\site-packages\\sklearn\\linear_model\\_base.py:447\u001b[0m, in \u001b[0;36mLinearClassifierMixin.predict\u001b[1;34m(self, X)\u001b[0m\n\u001b[0;32m    433\u001b[0m \u001b[39mdef\u001b[39;00m \u001b[39mpredict\u001b[39m(\u001b[39mself\u001b[39m, X):\n\u001b[0;32m    434\u001b[0m     \u001b[39m\"\"\"\u001b[39;00m\n\u001b[0;32m    435\u001b[0m \u001b[39m    Predict class labels for samples in X.\u001b[39;00m\n\u001b[0;32m    436\u001b[0m \n\u001b[1;32m   (...)\u001b[0m\n\u001b[0;32m    445\u001b[0m \u001b[39m        Vector containing the class labels for each sample.\u001b[39;00m\n\u001b[0;32m    446\u001b[0m \u001b[39m    \"\"\"\u001b[39;00m\n\u001b[1;32m--> 447\u001b[0m     scores \u001b[39m=\u001b[39m \u001b[39mself\u001b[39;49m\u001b[39m.\u001b[39;49mdecision_function(X)\n\u001b[0;32m    448\u001b[0m     \u001b[39mif\u001b[39;00m \u001b[39mlen\u001b[39m(scores\u001b[39m.\u001b[39mshape) \u001b[39m==\u001b[39m \u001b[39m1\u001b[39m:\n\u001b[0;32m    449\u001b[0m         indices \u001b[39m=\u001b[39m (scores \u001b[39m>\u001b[39m \u001b[39m0\u001b[39m)\u001b[39m.\u001b[39mastype(\u001b[39mint\u001b[39m)\n",
      "File \u001b[1;32mc:\\Users\\nikla\\anaconda3\\envs\\NLP-New\\lib\\site-packages\\sklearn\\linear_model\\_base.py:427\u001b[0m, in \u001b[0;36mLinearClassifierMixin.decision_function\u001b[1;34m(self, X)\u001b[0m\n\u001b[0;32m    408\u001b[0m \u001b[39mdef\u001b[39;00m \u001b[39mdecision_function\u001b[39m(\u001b[39mself\u001b[39m, X):\n\u001b[0;32m    409\u001b[0m     \u001b[39m\"\"\"\u001b[39;00m\n\u001b[0;32m    410\u001b[0m \u001b[39m    Predict confidence scores for samples.\u001b[39;00m\n\u001b[0;32m    411\u001b[0m \n\u001b[1;32m   (...)\u001b[0m\n\u001b[0;32m    425\u001b[0m \u001b[39m        this class would be predicted.\u001b[39;00m\n\u001b[0;32m    426\u001b[0m \u001b[39m    \"\"\"\u001b[39;00m\n\u001b[1;32m--> 427\u001b[0m     check_is_fitted(\u001b[39mself\u001b[39;49m)\n\u001b[0;32m    429\u001b[0m     X \u001b[39m=\u001b[39m \u001b[39mself\u001b[39m\u001b[39m.\u001b[39m_validate_data(X, accept_sparse\u001b[39m=\u001b[39m\u001b[39m\"\u001b[39m\u001b[39mcsr\u001b[39m\u001b[39m\"\u001b[39m, reset\u001b[39m=\u001b[39m\u001b[39mFalse\u001b[39;00m)\n\u001b[0;32m    430\u001b[0m     scores \u001b[39m=\u001b[39m safe_sparse_dot(X, \u001b[39mself\u001b[39m\u001b[39m.\u001b[39mcoef_\u001b[39m.\u001b[39mT, dense_output\u001b[39m=\u001b[39m\u001b[39mTrue\u001b[39;00m) \u001b[39m+\u001b[39m \u001b[39mself\u001b[39m\u001b[39m.\u001b[39mintercept_\n",
      "File \u001b[1;32mc:\\Users\\nikla\\anaconda3\\envs\\NLP-New\\lib\\site-packages\\sklearn\\utils\\validation.py:1345\u001b[0m, in \u001b[0;36mcheck_is_fitted\u001b[1;34m(estimator, attributes, msg, all_or_any)\u001b[0m\n\u001b[0;32m   1340\u001b[0m     fitted \u001b[39m=\u001b[39m [\n\u001b[0;32m   1341\u001b[0m         v \u001b[39mfor\u001b[39;00m v \u001b[39min\u001b[39;00m \u001b[39mvars\u001b[39m(estimator) \u001b[39mif\u001b[39;00m v\u001b[39m.\u001b[39mendswith(\u001b[39m\"\u001b[39m\u001b[39m_\u001b[39m\u001b[39m\"\u001b[39m) \u001b[39mand\u001b[39;00m \u001b[39mnot\u001b[39;00m v\u001b[39m.\u001b[39mstartswith(\u001b[39m\"\u001b[39m\u001b[39m__\u001b[39m\u001b[39m\"\u001b[39m)\n\u001b[0;32m   1342\u001b[0m     ]\n\u001b[0;32m   1344\u001b[0m \u001b[39mif\u001b[39;00m \u001b[39mnot\u001b[39;00m fitted:\n\u001b[1;32m-> 1345\u001b[0m     \u001b[39mraise\u001b[39;00m NotFittedError(msg \u001b[39m%\u001b[39m {\u001b[39m\"\u001b[39m\u001b[39mname\u001b[39m\u001b[39m\"\u001b[39m: \u001b[39mtype\u001b[39m(estimator)\u001b[39m.\u001b[39m\u001b[39m__name__\u001b[39m})\n",
      "\u001b[1;31mNotFittedError\u001b[0m: This LogisticRegression instance is not fitted yet. Call 'fit' with appropriate arguments before using this estimator."
     ]
    }
   ],
   "source": [
    "loaded_model = pickle.load(open(\"models_pickle/sign/log_reg_hypertuned.sav\", 'rb'))\n",
    "#result = loaded_model.fit(X_train_vectors, y_train)\n",
    "result = loaded_model.score(X_test_vectors, y_test)\n",
    "print(result)"
   ]
  },
  {
   "cell_type": "code",
   "execution_count": null,
   "metadata": {},
   "outputs": [],
   "source": []
  }
 ],
 "metadata": {
  "kernelspec": {
   "display_name": "NLP-New",
   "language": "python",
   "name": "python3"
  },
  "language_info": {
   "codemirror_mode": {
    "name": "ipython",
    "version": 3
   },
   "file_extension": ".py",
   "mimetype": "text/x-python",
   "name": "python",
   "nbconvert_exporter": "python",
   "pygments_lexer": "ipython3",
   "version": "3.8.15"
  },
  "orig_nbformat": 4,
  "vscode": {
   "interpreter": {
    "hash": "06972781760676f1ec39ca0dd490c0cce4e321933a34cdf9140b46909a4aadfc"
   }
  }
 },
 "nbformat": 4,
 "nbformat_minor": 2
}
