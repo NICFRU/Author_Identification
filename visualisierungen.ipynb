{
 "cells": [
  {
   "cell_type": "code",
   "execution_count": 1,
   "metadata": {},
   "outputs": [],
   "source": [
    "import pandas as pd\n",
    "import numpy as np\n",
    "import matplotlib.pyplot as plt\n",
    "import nltk\n",
    "from nltk.tokenize import word_tokenize, sent_tokenize\n",
    "from nltk.stem.porter import PorterStemmer\n",
    "import sklearn as sk\n",
    "import seaborn as sea\n",
    "import re \n",
    "from tqdm import tqdm\n"
   ]
  },
  {
   "cell_type": "code",
   "execution_count": 4,
   "metadata": {},
   "outputs": [],
   "source": [
    "def stripping(liste):\n",
    "    return [i.strip() for i in liste]\n",
    "\n",
    "df=pd.read_csv('data/df_tokenized_port_2.csv',converters={'sent_tokenize': lambda x: x[1:-1].strip('][').replace(\"'\",\"\").strip().split(','),'word_tokenize': lambda x: x[1:-1].strip('][').replace(\"'\",\"\").strip().split(','),\n",
    "'word_tokenize_without_stopwords': lambda x: x[1:-1].strip('][').replace(\"'\",\"\").strip().split(',')\n",
    ",'word_tokenize_without_stopwords_port': lambda x: x[1:-1].strip('][').replace(\"'\",\"\").strip().split(',')\n",
    "})\n",
    "\n",
    "df['word_tokenize']=df['word_tokenize'].apply(stripping)\n",
    "df['sent_tokenize']=df['sent_tokenize'].apply(stripping)\n",
    "df['word_tokenize_without_stopwords']=df['word_tokenize_without_stopwords'].apply(stripping)\n",
    "df['word_tokenize_without_stopwords_port']=df['word_tokenize_without_stopwords_port'].apply(stripping)\n"
   ]
  },
  {
   "cell_type": "code",
   "execution_count": null,
   "metadata": {},
   "outputs": [],
   "source": [
    "def streudiagramm(x_achse, y_achse):\n",
    "    plt.plot(x_achse, y_achse, 'o')\n",
    "    m, b = np.polyfit(x_achse, y_achse, 1)\n",
    "    plt.plot(x_achse, m*x_achse+b)"
   ]
  },
  {
   "cell_type": "code",
   "execution_count": null,
   "metadata": {},
   "outputs": [],
   "source": [
    "streudiagramm()"
   ]
  }
 ],
 "metadata": {
  "kernelspec": {
   "display_name": "Python 3.8.5 ('base')",
   "language": "python",
   "name": "python3"
  },
  "language_info": {
   "codemirror_mode": {
    "name": "ipython",
    "version": 3
   },
   "file_extension": ".py",
   "mimetype": "text/x-python",
   "name": "python",
   "nbconvert_exporter": "python",
   "pygments_lexer": "ipython3",
   "version": "3.8.5"
  },
  "orig_nbformat": 4,
  "vscode": {
   "interpreter": {
    "hash": "8bd85b9f08aaa5135c8387a0c1e096579749b0a2e64b071c4a34f95dfb0716ad"
   }
  }
 },
 "nbformat": 4,
 "nbformat_minor": 2
}
