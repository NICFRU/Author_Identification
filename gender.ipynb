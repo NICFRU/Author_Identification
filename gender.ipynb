{
 "cells": [
  {
   "cell_type": "code",
   "execution_count": 17,
   "metadata": {},
   "outputs": [],
   "source": [
    "import pandas as pd\n",
    "import numpy as np\n",
    "import matplotlib.pyplot as plt\n",
    "import nltk\n",
    "from nltk.tokenize import word_tokenize, sent_tokenize\n",
    "from nltk.stem.porter import PorterStemmer\n",
    "from nltk.corpus import stopwords\n",
    "from ast import literal_eval\n",
    "import sklearn as sk\n",
    "import seaborn as sb\n",
    "import re \n",
    "from tqdm import tqdm"
   ]
  },
  {
   "cell_type": "code",
   "execution_count": 5,
   "metadata": {},
   "outputs": [
    {
     "data": {
      "text/html": [
       "<div>\n",
       "<style scoped>\n",
       "    .dataframe tbody tr th:only-of-type {\n",
       "        vertical-align: middle;\n",
       "    }\n",
       "\n",
       "    .dataframe tbody tr th {\n",
       "        vertical-align: top;\n",
       "    }\n",
       "\n",
       "    .dataframe thead th {\n",
       "        text-align: right;\n",
       "    }\n",
       "</style>\n",
       "<table border=\"1\" class=\"dataframe\">\n",
       "  <thead>\n",
       "    <tr style=\"text-align: right;\">\n",
       "      <th></th>\n",
       "      <th>text</th>\n",
       "      <th>word_tokenize</th>\n",
       "      <th>sent_tokenize</th>\n",
       "      <th>count_word</th>\n",
       "      <th>count_sent</th>\n",
       "      <th>word_tokenize_num_of_stopwords</th>\n",
       "      <th>word_tokenize_without_stopwords</th>\n",
       "      <th>word_tokenize_without_stopwords_port</th>\n",
       "      <th>msg_lemmatized</th>\n",
       "      <th>cleanLinks</th>\n",
       "      <th>laenge_saetze</th>\n",
       "      <th>word_per_sent_mean</th>\n",
       "      <th>gender</th>\n",
       "      <th>age</th>\n",
       "      <th>topic</th>\n",
       "      <th>sign</th>\n",
       "    </tr>\n",
       "  </thead>\n",
       "  <tbody>\n",
       "    <tr>\n",
       "      <th>0</th>\n",
       "      <td>This blog is being posted due to the fact that...</td>\n",
       "      <td>['This', 'blog', 'is', 'being', 'posted', 'due...</td>\n",
       "      <td>['This blog is being posted due to the fact th...</td>\n",
       "      <td>83</td>\n",
       "      <td>4</td>\n",
       "      <td>34</td>\n",
       "      <td>['This', 'blog', 'posted', 'due', 'fact', 'lit...</td>\n",
       "      <td>['thi', 'blog', 'post', 'due', 'fact', 'littl'...</td>\n",
       "      <td>['This', 'blog', 'posted', 'due', 'fact', 'lit...</td>\n",
       "      <td>This blog is being posted due to the fact that...</td>\n",
       "      <td>4</td>\n",
       "      <td>20.75</td>\n",
       "      <td>male</td>\n",
       "      <td>14</td>\n",
       "      <td>Student</td>\n",
       "      <td>Sagittarius</td>\n",
       "    </tr>\n",
       "    <tr>\n",
       "      <th>1</th>\n",
       "      <td>So I have a big fucking interview tomorrow for...</td>\n",
       "      <td>['So', 'I', 'have', 'a', 'big', 'fucking', 'in...</td>\n",
       "      <td>['So I have a big fucking interview tomorrow f...</td>\n",
       "      <td>88</td>\n",
       "      <td>5</td>\n",
       "      <td>31</td>\n",
       "      <td>['So', 'I', 'big', 'fucking', 'interview', 'to...</td>\n",
       "      <td>['so', 'i', 'big', 'fuck', 'interview', 'tomor...</td>\n",
       "      <td>['So', 'I', 'big', 'fucking', 'interview', 'to...</td>\n",
       "      <td>So I have a big fucking interview tomorrow for...</td>\n",
       "      <td>5</td>\n",
       "      <td>17.60</td>\n",
       "      <td>male</td>\n",
       "      <td>15</td>\n",
       "      <td>Student</td>\n",
       "      <td>Pisces</td>\n",
       "    </tr>\n",
       "    <tr>\n",
       "      <th>2</th>\n",
       "      <td>I was reminded just now of the time Ashley and...</td>\n",
       "      <td>['I', 'was', 'reminded', 'just', 'now', 'of', ...</td>\n",
       "      <td>['I was reminded just now of the time Ashley a...</td>\n",
       "      <td>574</td>\n",
       "      <td>32</td>\n",
       "      <td>234</td>\n",
       "      <td>['I', 'reminded', 'time', 'Ashley', 'I', 'drov...</td>\n",
       "      <td>['i', 'remind', 'time', 'ashley', 'i', 'drove'...</td>\n",
       "      <td>['I', 'reminded', 'time', 'Ashley', 'I', 'drov...</td>\n",
       "      <td>I was reminded just now of the time Ashley and...</td>\n",
       "      <td>32</td>\n",
       "      <td>17.94</td>\n",
       "      <td>female</td>\n",
       "      <td>17</td>\n",
       "      <td>Student</td>\n",
       "      <td>Gemini</td>\n",
       "    </tr>\n",
       "    <tr>\n",
       "      <th>3</th>\n",
       "      <td>I was checking up on my cousin Dylan and Fanni...</td>\n",
       "      <td>['I', 'was', 'checking', 'up', 'on', 'my', 'co...</td>\n",
       "      <td>['\"I was checking up on my cousin Dylan and Fa...</td>\n",
       "      <td>84</td>\n",
       "      <td>3</td>\n",
       "      <td>32</td>\n",
       "      <td>['I', 'checking', 'cousin', 'Dylan', 'Fannie',...</td>\n",
       "      <td>['i', 'check', 'cousin', 'dylan', 'fanni', '\"s...</td>\n",
       "      <td>['I', 'checking', 'cousin', 'Dylan', 'Fannie',...</td>\n",
       "      <td>I was checking up on my cousin Dylan and Fanni...</td>\n",
       "      <td>3</td>\n",
       "      <td>28.00</td>\n",
       "      <td>female</td>\n",
       "      <td>23</td>\n",
       "      <td>Student</td>\n",
       "      <td>Taurus</td>\n",
       "    </tr>\n",
       "    <tr>\n",
       "      <th>4</th>\n",
       "      <td>for the NME interview click urlLink part 1 and...</td>\n",
       "      <td>['for', 'the', 'NME', 'interview', 'click', 'u...</td>\n",
       "      <td>['for the NME interview click urlLink part 1 a...</td>\n",
       "      <td>12</td>\n",
       "      <td>1</td>\n",
       "      <td>3</td>\n",
       "      <td>['NME', 'interview', 'click', 'urlLink', 'part...</td>\n",
       "      <td>['nme', 'interview', 'click', 'urllink', 'part...</td>\n",
       "      <td>['NME', 'interview', 'click', 'urlLink', 'part...</td>\n",
       "      <td>for the NME interview click urlLink part 1 and...</td>\n",
       "      <td>1</td>\n",
       "      <td>12.00</td>\n",
       "      <td>female</td>\n",
       "      <td>23</td>\n",
       "      <td>Student</td>\n",
       "      <td>Aquarius</td>\n",
       "    </tr>\n",
       "  </tbody>\n",
       "</table>\n",
       "</div>"
      ],
      "text/plain": [
       "                                                text  \\\n",
       "0  This blog is being posted due to the fact that...   \n",
       "1  So I have a big fucking interview tomorrow for...   \n",
       "2  I was reminded just now of the time Ashley and...   \n",
       "3  I was checking up on my cousin Dylan and Fanni...   \n",
       "4  for the NME interview click urlLink part 1 and...   \n",
       "\n",
       "                                       word_tokenize  \\\n",
       "0  ['This', 'blog', 'is', 'being', 'posted', 'due...   \n",
       "1  ['So', 'I', 'have', 'a', 'big', 'fucking', 'in...   \n",
       "2  ['I', 'was', 'reminded', 'just', 'now', 'of', ...   \n",
       "3  ['I', 'was', 'checking', 'up', 'on', 'my', 'co...   \n",
       "4  ['for', 'the', 'NME', 'interview', 'click', 'u...   \n",
       "\n",
       "                                       sent_tokenize  count_word  count_sent  \\\n",
       "0  ['This blog is being posted due to the fact th...          83           4   \n",
       "1  ['So I have a big fucking interview tomorrow f...          88           5   \n",
       "2  ['I was reminded just now of the time Ashley a...         574          32   \n",
       "3  ['\"I was checking up on my cousin Dylan and Fa...          84           3   \n",
       "4  ['for the NME interview click urlLink part 1 a...          12           1   \n",
       "\n",
       "   word_tokenize_num_of_stopwords  \\\n",
       "0                              34   \n",
       "1                              31   \n",
       "2                             234   \n",
       "3                              32   \n",
       "4                               3   \n",
       "\n",
       "                     word_tokenize_without_stopwords  \\\n",
       "0  ['This', 'blog', 'posted', 'due', 'fact', 'lit...   \n",
       "1  ['So', 'I', 'big', 'fucking', 'interview', 'to...   \n",
       "2  ['I', 'reminded', 'time', 'Ashley', 'I', 'drov...   \n",
       "3  ['I', 'checking', 'cousin', 'Dylan', 'Fannie',...   \n",
       "4  ['NME', 'interview', 'click', 'urlLink', 'part...   \n",
       "\n",
       "                word_tokenize_without_stopwords_port  \\\n",
       "0  ['thi', 'blog', 'post', 'due', 'fact', 'littl'...   \n",
       "1  ['so', 'i', 'big', 'fuck', 'interview', 'tomor...   \n",
       "2  ['i', 'remind', 'time', 'ashley', 'i', 'drove'...   \n",
       "3  ['i', 'check', 'cousin', 'dylan', 'fanni', '\"s...   \n",
       "4  ['nme', 'interview', 'click', 'urllink', 'part...   \n",
       "\n",
       "                                      msg_lemmatized  \\\n",
       "0  ['This', 'blog', 'posted', 'due', 'fact', 'lit...   \n",
       "1  ['So', 'I', 'big', 'fucking', 'interview', 'to...   \n",
       "2  ['I', 'reminded', 'time', 'Ashley', 'I', 'drov...   \n",
       "3  ['I', 'checking', 'cousin', 'Dylan', 'Fannie',...   \n",
       "4  ['NME', 'interview', 'click', 'urlLink', 'part...   \n",
       "\n",
       "                                          cleanLinks  laenge_saetze  \\\n",
       "0  This blog is being posted due to the fact that...              4   \n",
       "1  So I have a big fucking interview tomorrow for...              5   \n",
       "2  I was reminded just now of the time Ashley and...             32   \n",
       "3  I was checking up on my cousin Dylan and Fanni...              3   \n",
       "4  for the NME interview click urlLink part 1 and...              1   \n",
       "\n",
       "   word_per_sent_mean  gender  age    topic         sign  \n",
       "0               20.75    male   14  Student  Sagittarius  \n",
       "1               17.60    male   15  Student       Pisces  \n",
       "2               17.94  female   17  Student       Gemini  \n",
       "3               28.00  female   23  Student       Taurus  \n",
       "4               12.00  female   23  Student     Aquarius  "
      ]
     },
     "execution_count": 5,
     "metadata": {},
     "output_type": "execute_result"
    }
   ],
   "source": [
    "data = pd.read_csv(\"data/train_500.csv\")\n",
    "data = data.drop([\"Unnamed: 0\", \"id\", \"lang\", \"language_2\", \"date\"], axis=1)\n",
    "data.head(5)"
   ]
  },
  {
   "cell_type": "code",
   "execution_count": 6,
   "metadata": {},
   "outputs": [
    {
     "data": {
      "text/plain": [
       "male      11002\n",
       "female     8498\n",
       "Name: gender, dtype: int64"
      ]
     },
     "execution_count": 6,
     "metadata": {},
     "output_type": "execute_result"
    }
   ],
   "source": [
    "data[\"gender\"].value_counts()"
   ]
  },
  {
   "cell_type": "code",
   "execution_count": 7,
   "metadata": {},
   "outputs": [],
   "source": [
    "data_male = data[data[\"gender\"] == \"male\"]\n",
    "data_female = data[data[\"gender\"] == \"female\"]"
   ]
  },
  {
   "cell_type": "code",
   "execution_count": 8,
   "metadata": {},
   "outputs": [
    {
     "data": {
      "text/html": [
       "<div>\n",
       "<style scoped>\n",
       "    .dataframe tbody tr th:only-of-type {\n",
       "        vertical-align: middle;\n",
       "    }\n",
       "\n",
       "    .dataframe tbody tr th {\n",
       "        vertical-align: top;\n",
       "    }\n",
       "\n",
       "    .dataframe thead th {\n",
       "        text-align: right;\n",
       "    }\n",
       "</style>\n",
       "<table border=\"1\" class=\"dataframe\">\n",
       "  <thead>\n",
       "    <tr style=\"text-align: right;\">\n",
       "      <th></th>\n",
       "      <th>count_word</th>\n",
       "      <th>count_sent</th>\n",
       "      <th>word_tokenize_num_of_stopwords</th>\n",
       "      <th>laenge_saetze</th>\n",
       "      <th>word_per_sent_mean</th>\n",
       "      <th>age</th>\n",
       "    </tr>\n",
       "  </thead>\n",
       "  <tbody>\n",
       "    <tr>\n",
       "      <th>count</th>\n",
       "      <td>11002.000000</td>\n",
       "      <td>11002.000000</td>\n",
       "      <td>11002.00000</td>\n",
       "      <td>11002.000000</td>\n",
       "      <td>11002.000000</td>\n",
       "      <td>11002.000000</td>\n",
       "    </tr>\n",
       "    <tr>\n",
       "      <th>mean</th>\n",
       "      <td>164.383748</td>\n",
       "      <td>8.025904</td>\n",
       "      <td>61.95419</td>\n",
       "      <td>8.025904</td>\n",
       "      <td>25.200421</td>\n",
       "      <td>26.626795</td>\n",
       "    </tr>\n",
       "    <tr>\n",
       "      <th>std</th>\n",
       "      <td>154.043682</td>\n",
       "      <td>7.483871</td>\n",
       "      <td>61.77030</td>\n",
       "      <td>7.483871</td>\n",
       "      <td>34.310678</td>\n",
       "      <td>7.814512</td>\n",
       "    </tr>\n",
       "    <tr>\n",
       "      <th>min</th>\n",
       "      <td>1.000000</td>\n",
       "      <td>1.000000</td>\n",
       "      <td>0.00000</td>\n",
       "      <td>1.000000</td>\n",
       "      <td>1.000000</td>\n",
       "      <td>13.000000</td>\n",
       "    </tr>\n",
       "    <tr>\n",
       "      <th>25%</th>\n",
       "      <td>43.000000</td>\n",
       "      <td>2.000000</td>\n",
       "      <td>14.00000</td>\n",
       "      <td>2.000000</td>\n",
       "      <td>13.420000</td>\n",
       "      <td>23.000000</td>\n",
       "    </tr>\n",
       "    <tr>\n",
       "      <th>50%</th>\n",
       "      <td>116.000000</td>\n",
       "      <td>5.000000</td>\n",
       "      <td>41.00000</td>\n",
       "      <td>5.000000</td>\n",
       "      <td>18.330000</td>\n",
       "      <td>25.000000</td>\n",
       "    </tr>\n",
       "    <tr>\n",
       "      <th>75%</th>\n",
       "      <td>239.000000</td>\n",
       "      <td>12.000000</td>\n",
       "      <td>92.00000</td>\n",
       "      <td>12.000000</td>\n",
       "      <td>25.000000</td>\n",
       "      <td>33.000000</td>\n",
       "    </tr>\n",
       "    <tr>\n",
       "      <th>max</th>\n",
       "      <td>707.000000</td>\n",
       "      <td>33.000000</td>\n",
       "      <td>335.00000</td>\n",
       "      <td>33.000000</td>\n",
       "      <td>705.000000</td>\n",
       "      <td>48.000000</td>\n",
       "    </tr>\n",
       "  </tbody>\n",
       "</table>\n",
       "</div>"
      ],
      "text/plain": [
       "         count_word    count_sent  word_tokenize_num_of_stopwords  \\\n",
       "count  11002.000000  11002.000000                     11002.00000   \n",
       "mean     164.383748      8.025904                        61.95419   \n",
       "std      154.043682      7.483871                        61.77030   \n",
       "min        1.000000      1.000000                         0.00000   \n",
       "25%       43.000000      2.000000                        14.00000   \n",
       "50%      116.000000      5.000000                        41.00000   \n",
       "75%      239.000000     12.000000                        92.00000   \n",
       "max      707.000000     33.000000                       335.00000   \n",
       "\n",
       "       laenge_saetze  word_per_sent_mean           age  \n",
       "count   11002.000000        11002.000000  11002.000000  \n",
       "mean        8.025904           25.200421     26.626795  \n",
       "std         7.483871           34.310678      7.814512  \n",
       "min         1.000000            1.000000     13.000000  \n",
       "25%         2.000000           13.420000     23.000000  \n",
       "50%         5.000000           18.330000     25.000000  \n",
       "75%        12.000000           25.000000     33.000000  \n",
       "max        33.000000          705.000000     48.000000  "
      ]
     },
     "execution_count": 8,
     "metadata": {},
     "output_type": "execute_result"
    }
   ],
   "source": [
    "data_male.describe()"
   ]
  },
  {
   "cell_type": "code",
   "execution_count": 9,
   "metadata": {},
   "outputs": [
    {
     "data": {
      "text/html": [
       "<div>\n",
       "<style scoped>\n",
       "    .dataframe tbody tr th:only-of-type {\n",
       "        vertical-align: middle;\n",
       "    }\n",
       "\n",
       "    .dataframe tbody tr th {\n",
       "        vertical-align: top;\n",
       "    }\n",
       "\n",
       "    .dataframe thead th {\n",
       "        text-align: right;\n",
       "    }\n",
       "</style>\n",
       "<table border=\"1\" class=\"dataframe\">\n",
       "  <thead>\n",
       "    <tr style=\"text-align: right;\">\n",
       "      <th></th>\n",
       "      <th>count_word</th>\n",
       "      <th>count_sent</th>\n",
       "      <th>word_tokenize_num_of_stopwords</th>\n",
       "      <th>laenge_saetze</th>\n",
       "      <th>word_per_sent_mean</th>\n",
       "      <th>age</th>\n",
       "    </tr>\n",
       "  </thead>\n",
       "  <tbody>\n",
       "    <tr>\n",
       "      <th>count</th>\n",
       "      <td>8498.000000</td>\n",
       "      <td>8498.000000</td>\n",
       "      <td>8498.000000</td>\n",
       "      <td>8498.000000</td>\n",
       "      <td>8498.000000</td>\n",
       "      <td>8498.000000</td>\n",
       "    </tr>\n",
       "    <tr>\n",
       "      <th>mean</th>\n",
       "      <td>184.072135</td>\n",
       "      <td>8.894681</td>\n",
       "      <td>70.215109</td>\n",
       "      <td>8.894681</td>\n",
       "      <td>29.495157</td>\n",
       "      <td>26.308426</td>\n",
       "    </tr>\n",
       "    <tr>\n",
       "      <th>std</th>\n",
       "      <td>156.322218</td>\n",
       "      <td>7.894702</td>\n",
       "      <td>63.674437</td>\n",
       "      <td>7.894702</td>\n",
       "      <td>46.079235</td>\n",
       "      <td>7.289428</td>\n",
       "    </tr>\n",
       "    <tr>\n",
       "      <th>min</th>\n",
       "      <td>2.000000</td>\n",
       "      <td>1.000000</td>\n",
       "      <td>0.000000</td>\n",
       "      <td>1.000000</td>\n",
       "      <td>2.000000</td>\n",
       "      <td>13.000000</td>\n",
       "    </tr>\n",
       "    <tr>\n",
       "      <th>25%</th>\n",
       "      <td>55.000000</td>\n",
       "      <td>2.000000</td>\n",
       "      <td>19.000000</td>\n",
       "      <td>2.000000</td>\n",
       "      <td>13.810000</td>\n",
       "      <td>23.000000</td>\n",
       "    </tr>\n",
       "    <tr>\n",
       "      <th>50%</th>\n",
       "      <td>143.000000</td>\n",
       "      <td>6.000000</td>\n",
       "      <td>53.000000</td>\n",
       "      <td>6.000000</td>\n",
       "      <td>18.500000</td>\n",
       "      <td>25.000000</td>\n",
       "    </tr>\n",
       "    <tr>\n",
       "      <th>75%</th>\n",
       "      <td>274.000000</td>\n",
       "      <td>13.000000</td>\n",
       "      <td>105.000000</td>\n",
       "      <td>13.000000</td>\n",
       "      <td>25.750000</td>\n",
       "      <td>27.000000</td>\n",
       "    </tr>\n",
       "    <tr>\n",
       "      <th>max</th>\n",
       "      <td>707.000000</td>\n",
       "      <td>33.000000</td>\n",
       "      <td>329.000000</td>\n",
       "      <td>33.000000</td>\n",
       "      <td>704.000000</td>\n",
       "      <td>48.000000</td>\n",
       "    </tr>\n",
       "  </tbody>\n",
       "</table>\n",
       "</div>"
      ],
      "text/plain": [
       "        count_word   count_sent  word_tokenize_num_of_stopwords  \\\n",
       "count  8498.000000  8498.000000                     8498.000000   \n",
       "mean    184.072135     8.894681                       70.215109   \n",
       "std     156.322218     7.894702                       63.674437   \n",
       "min       2.000000     1.000000                        0.000000   \n",
       "25%      55.000000     2.000000                       19.000000   \n",
       "50%     143.000000     6.000000                       53.000000   \n",
       "75%     274.000000    13.000000                      105.000000   \n",
       "max     707.000000    33.000000                      329.000000   \n",
       "\n",
       "       laenge_saetze  word_per_sent_mean          age  \n",
       "count    8498.000000         8498.000000  8498.000000  \n",
       "mean        8.894681           29.495157    26.308426  \n",
       "std         7.894702           46.079235     7.289428  \n",
       "min         1.000000            2.000000    13.000000  \n",
       "25%         2.000000           13.810000    23.000000  \n",
       "50%         6.000000           18.500000    25.000000  \n",
       "75%        13.000000           25.750000    27.000000  \n",
       "max        33.000000          704.000000    48.000000  "
      ]
     },
     "execution_count": 9,
     "metadata": {},
     "output_type": "execute_result"
    }
   ],
   "source": [
    "data_female.describe()"
   ]
  },
  {
   "cell_type": "code",
   "execution_count": 12,
   "metadata": {},
   "outputs": [
    {
     "data": {
      "text/plain": [
       "<AxesSubplot:xlabel='count_word', ylabel='Count'>"
      ]
     },
     "execution_count": 12,
     "metadata": {},
     "output_type": "execute_result"
    },
    {
     "data": {
      "image/png": "[encoded data removed]",
      "text/plain": [
       "<Figure size 1200x800 with 1 Axes>"
      ]
     },
     "metadata": {},
     "output_type": "display_data"
    }
   ],
   "source": [
    "plt.figure(figsize=(12,8))\n",
    "sb.histplot(x=\"count_word\", data=data_male)"
   ]
  },
  {
   "cell_type": "code",
   "execution_count": 13,
   "metadata": {},
   "outputs": [
    {
     "data": {
      "text/plain": [
       "<AxesSubplot:xlabel='count_word', ylabel='Count'>"
      ]
     },
     "execution_count": 13,
     "metadata": {},
     "output_type": "execute_result"
    },
    {
     "data": {
      "image/png": "[encoded data removed]",
      "text/plain": [
       "<Figure size 1200x800 with 1 Axes>"
      ]
     },
     "metadata": {},
     "output_type": "display_data"
    }
   ],
   "source": [
    "plt.figure(figsize=(12,8))\n",
    "sb.histplot(x=\"count_word\", data=data_female)"
   ]
  },
  {
   "cell_type": "code",
   "execution_count": 14,
   "metadata": {},
   "outputs": [
    {
     "data": {
      "text/plain": [
       "<AxesSubplot:xlabel='count_word', ylabel='Count'>"
      ]
     },
     "execution_count": 14,
     "metadata": {},
     "output_type": "execute_result"
    },
    {
     "data": {
      "image/png": "[encoded data removed]",
      "text/plain": [
       "<Figure size 1200x800 with 1 Axes>"
      ]
     },
     "metadata": {},
     "output_type": "display_data"
    }
   ],
   "source": [
    "plt.figure(figsize=(12,8))\n",
    "sb.histplot(x=\"count_word\", data=data, hue=\"gender\")"
   ]
  },
  {
   "cell_type": "code",
   "execution_count": 15,
   "metadata": {},
   "outputs": [
    {
     "data": {
      "text/plain": [
       "<AxesSubplot:xlabel='count_sent', ylabel='Count'>"
      ]
     },
     "execution_count": 15,
     "metadata": {},
     "output_type": "execute_result"
    },
    {
     "data": {
      "image/png": "[encoded data removed]",
      "text/plain": [
       "<Figure size 1200x800 with 1 Axes>"
      ]
     },
     "metadata": {},
     "output_type": "display_data"
    }
   ],
   "source": [
    "plt.figure(figsize=(12,8))\n",
    "sb.histplot(x=\"count_sent\", data=data, hue=\"gender\")"
   ]
  },
  {
   "cell_type": "code",
   "execution_count": 20,
   "metadata": {},
   "outputs": [],
   "source": [
    "def create_word_dict(data, without_stopwords=True, with_stopwords=False):\n",
    "\n",
    "    if without_stopwords:\n",
    "        word_dict_without_stopwords = {}\n",
    "        \n",
    "    if with_stopwords:\n",
    "        word_dict_with_stopwords = {}\n",
    "\n",
    "    stopwordlist = stopwords.words('english')\n",
    "    for i in tqdm(range(len(data))):\n",
    "        if without_stopwords:\n",
    "            for word in literal_eval(data[\"word_tokenize_without_stopwords\"][i]):\n",
    "                if word in word_dict_without_stopwords.keys():\n",
    "                    word_dict_without_stopwords[word] += 1\n",
    "                else:\n",
    "                    word_dict_without_stopwords[word] = 1\n",
    "\n",
    "        if with_stopwords:\n",
    "            for word in literal_eval(data[\"word_tokenize\"][i]):\n",
    "                if word in word_dict_with_stopwords.keys():\n",
    "                    word_dict_with_stopwords[word] += 1\n",
    "                else:\n",
    "                    word_dict_with_stopwords[word] = 1\n",
    "\n",
    "    if without_stopwords and with_stopwords:\n",
    "        return word_dict_without_stopwords, word_dict_with_stopwords\n",
    "    elif without_stopwords:\n",
    "        return word_dict_without_stopwords\n",
    "    elif with_stopwords:\n",
    "        return word_dict_with_stopwords\n",
    "    else:\n",
    "        print(\"Nothing to return selected\")\n",
    "        return 0"
   ]
  },
  {
   "cell_type": "code",
   "execution_count": 21,
   "metadata": {},
   "outputs": [
    {
     "name": "stderr",
     "output_type": "stream",
     "text": [
      "100%|██████████| 19500/19500 [00:07<00:00, 2759.87it/s]\n"
     ]
    }
   ],
   "source": [
    "words_without_stopwords, words_with_stopwords = create_word_dict(data, True, True)"
   ]
  },
  {
   "cell_type": "code",
   "execution_count": 22,
   "metadata": {},
   "outputs": [],
   "source": [
    "def visualize_specific_words(dictionary, limit=10, save_fig=True, save_name=\"standard_save_name\"):\n",
    "    data_as_df = pd.DataFrame(data={\"word\": dictionary.keys(), \"number\": dictionary.values()})\n",
    "    sorted_df = data_as_df.sort_values(by=\"number\", ascending=False)\n",
    "\n",
    "    figure = sb.barplot(data=sorted_df[:limit], x=\"word\", y=\"number\", palette=\"deep\")\n",
    "    figure.set_xlabel(\"Words\")\n",
    "    figure.set_ylabel(\"Appearances of the word\")\n",
    "\n",
    "    if save_fig:\n",
    "        fig = figure.get_figure()\n",
    "        fig.savefig(str(save_name + \".jpg\"))\n",
    "\n",
    "    return fig.get_figure()"
   ]
  },
  {
   "cell_type": "code",
   "execution_count": 25,
   "metadata": {},
   "outputs": [
    {
     "ename": "UnboundLocalError",
     "evalue": "local variable 'fig' referenced before assignment",
     "output_type": "error",
     "traceback": [
      "\u001b[1;31m---------------------------------------------------------------------------\u001b[0m",
      "\u001b[1;31mUnboundLocalError\u001b[0m                         Traceback (most recent call last)",
      "\u001b[1;32mc:\\Users\\nikla\\workspace\\Machine Learning DHBW\\Autorenmerkmale\\Author_Identification\\gender.ipynb Zelle 14\u001b[0m in \u001b[0;36m<cell line: 1>\u001b[1;34m()\u001b[0m\n\u001b[1;32m----> <a href='vscode-notebook-cell:/c%3A/Users/nikla/workspace/Machine%20Learning%20DHBW/Autorenmerkmale/Author_Identification/gender.ipynb#X21sZmlsZQ%3D%3D?line=0'>1</a>\u001b[0m figure_1 \u001b[39m=\u001b[39m visualize_specific_words(words_without_stopwords, save_fig\u001b[39m=\u001b[39;49m\u001b[39mFalse\u001b[39;49;00m)\n",
      "\u001b[1;32mc:\\Users\\nikla\\workspace\\Machine Learning DHBW\\Autorenmerkmale\\Author_Identification\\gender.ipynb Zelle 14\u001b[0m in \u001b[0;36mvisualize_specific_words\u001b[1;34m(dictionary, limit, save_fig, save_name)\u001b[0m\n\u001b[0;32m     <a href='vscode-notebook-cell:/c%3A/Users/nikla/workspace/Machine%20Learning%20DHBW/Autorenmerkmale/Author_Identification/gender.ipynb#X21sZmlsZQ%3D%3D?line=9'>10</a>\u001b[0m     fig \u001b[39m=\u001b[39m figure\u001b[39m.\u001b[39mget_figure()\n\u001b[0;32m     <a href='vscode-notebook-cell:/c%3A/Users/nikla/workspace/Machine%20Learning%20DHBW/Autorenmerkmale/Author_Identification/gender.ipynb#X21sZmlsZQ%3D%3D?line=10'>11</a>\u001b[0m     fig\u001b[39m.\u001b[39msavefig(\u001b[39mstr\u001b[39m(save_name \u001b[39m+\u001b[39m \u001b[39m\"\u001b[39m\u001b[39m.jpg\u001b[39m\u001b[39m\"\u001b[39m))\n\u001b[1;32m---> <a href='vscode-notebook-cell:/c%3A/Users/nikla/workspace/Machine%20Learning%20DHBW/Autorenmerkmale/Author_Identification/gender.ipynb#X21sZmlsZQ%3D%3D?line=12'>13</a>\u001b[0m \u001b[39mreturn\u001b[39;00m fig\u001b[39m.\u001b[39mget_figure()\n",
      "\u001b[1;31mUnboundLocalError\u001b[0m: local variable 'fig' referenced before assignment"
     ]
    },
    {
     "data": {
      "image/png": "[encoded data removed]",
      "text/plain": [
       "<Figure size 640x480 with 1 Axes>"
      ]
     },
     "metadata": {},
     "output_type": "display_data"
    }
   ],
   "source": [
    "figure_1 = visualize_specific_words(words_without_stopwords, save_fig=False)"
   ]
  },
  {
   "cell_type": "code",
   "execution_count": null,
   "metadata": {},
   "outputs": [],
   "source": [
    "element=[',','.','!','\"',')','(']\n",
    "\n",
    "x = [word  for word in  df['msg_lemmatized'][0] if word not in element]\n",
    "x"
   ]
  }
 ],
 "metadata": {
  "kernelspec": {
   "display_name": "Python 3.9.12 ('NLP')",
   "language": "python",
   "name": "python3"
  },
  "language_info": {
   "codemirror_mode": {
    "name": "ipython",
    "version": 3
   },
   "file_extension": ".py",
   "mimetype": "text/x-python",
   "name": "python",
   "nbconvert_exporter": "python",
   "pygments_lexer": "ipython3",
   "version": "3.9.12"
  },
  "orig_nbformat": 4,
  "vscode": {
   "interpreter": {
    "hash": "cde137ca4d604021dfeee5cc69f15444c7734737e8b71c16850c523803c8f980"
   }
  }
 },
 "nbformat": 4,
 "nbformat_minor": 2
}
