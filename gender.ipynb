{
 "cells": [
  {
   "cell_type": "code",
   "execution_count": 1,
   "metadata": {},
   "outputs": [
    {
     "name": "stderr",
     "output_type": "stream",
     "text": [
      "c:\\Users\\nikla\\anaconda3\\envs\\NLP\\lib\\site-packages\\tqdm\\auto.py:22: TqdmWarning: IProgress not found. Please update jupyter and ipywidgets. See https://ipywidgets.readthedocs.io/en/stable/user_install.html\n",
      "  from .autonotebook import tqdm as notebook_tqdm\n"
     ]
    }
   ],
   "source": [
    "import pandas as pd\n",
    "import numpy as np\n",
    "import matplotlib.pyplot as plt\n",
    "import nltk\n",
    "from nltk.tokenize import word_tokenize, sent_tokenize\n",
    "from nltk.stem.porter import PorterStemmer\n",
    "from nltk.corpus import stopwords\n",
    "from ast import literal_eval\n",
    "import sklearn as sk\n",
    "import seaborn as sb\n",
    "import re \n",
    "from tqdm import tqdm\n",
    "\n",
    "import torch\n",
    "import torchvision"
   ]
  },
  {
   "cell_type": "code",
   "execution_count": 2,
   "metadata": {},
   "outputs": [],
   "source": [
    "def initialize_data():\n",
    "    data = pd.read_csv(\"data/df_text_spacy.csv\")\n",
    "    data2 = pd.read_csv(\"data/train_500.csv\")\n",
    "    data2 = data2[[\"gender\", \"age\", \"topic\", \"sign\"]]\n",
    "    data = data.join(data2)\n",
    "    data = data.drop([\"Unnamed: 0\"], axis=1)\n",
    "    data = data.replace({\"male\": 0, \"female\": 1})\n",
    "\n",
    "    data['sent_tokenize'] = data.apply(lambda row: sent_tokenize(row['text']), axis=1)\n",
    "    data['word_tokenize'] = data.apply(lambda row: word_tokenize(row['text']), axis=1)\n",
    "    data['sentence_count'] = data.apply(lambda row: len(row['sent_tokenize']), axis=1)\n",
    "    data['word_count'] = data.apply(lambda row: len(literal_eval(row['text_list'])), axis=1)\n",
    "\n",
    "    return data"
   ]
  },
  {
   "cell_type": "code",
   "execution_count": 3,
   "metadata": {},
   "outputs": [],
   "source": [
    "data = initialize_data()"
   ]
  },
  {
   "cell_type": "code",
   "execution_count": 9,
   "metadata": {},
   "outputs": [
    {
     "data": {
      "text/plain": [
       "0    11002\n",
       "1     8498\n",
       "Name: gender, dtype: int64"
      ]
     },
     "execution_count": 9,
     "metadata": {},
     "output_type": "execute_result"
    }
   ],
   "source": [
    "data[\"gender\"].value_counts()"
   ]
  },
  {
   "cell_type": "code",
   "execution_count": 4,
   "metadata": {},
   "outputs": [],
   "source": [
    "data_male = data[data[\"gender\"] == 0]\n",
    "data_male.reset_index(inplace=True)\n",
    "#data_male.drop(\"Unnamed: 0\", axis=1, inplace=True)\n",
    "\n",
    "data_female = data[data[\"gender\"] == 1]\n",
    "data_female.reset_index(inplace=True)\n",
    "#data_female.drop(\"Unnamed: 0\", axis=1, inplace=True)\n",
    "\n"
   ]
  },
  {
   "cell_type": "code",
   "execution_count": 6,
   "metadata": {},
   "outputs": [
    {
     "data": {
      "text/html": [
       "<div>\n",
       "<style scoped>\n",
       "    .dataframe tbody tr th:only-of-type {\n",
       "        vertical-align: middle;\n",
       "    }\n",
       "\n",
       "    .dataframe tbody tr th {\n",
       "        vertical-align: top;\n",
       "    }\n",
       "\n",
       "    .dataframe thead th {\n",
       "        text-align: right;\n",
       "    }\n",
       "</style>\n",
       "<table border=\"1\" class=\"dataframe\">\n",
       "  <thead>\n",
       "    <tr style=\"text-align: right;\">\n",
       "      <th></th>\n",
       "      <th>index</th>\n",
       "      <th>lemma_list_num_of_stopwords</th>\n",
       "      <th>gender</th>\n",
       "      <th>age</th>\n",
       "      <th>sentence_count</th>\n",
       "      <th>word_count</th>\n",
       "    </tr>\n",
       "  </thead>\n",
       "  <tbody>\n",
       "    <tr>\n",
       "      <th>count</th>\n",
       "      <td>11002.000000</td>\n",
       "      <td>11002.000000</td>\n",
       "      <td>11002.0</td>\n",
       "      <td>11002.000000</td>\n",
       "      <td>11002.000000</td>\n",
       "      <td>11002.000000</td>\n",
       "    </tr>\n",
       "    <tr>\n",
       "      <th>mean</th>\n",
       "      <td>9552.282131</td>\n",
       "      <td>60.428104</td>\n",
       "      <td>0.0</td>\n",
       "      <td>26.626795</td>\n",
       "      <td>8.025904</td>\n",
       "      <td>165.652972</td>\n",
       "    </tr>\n",
       "    <tr>\n",
       "      <th>std</th>\n",
       "      <td>5507.777844</td>\n",
       "      <td>59.201220</td>\n",
       "      <td>0.0</td>\n",
       "      <td>7.814512</td>\n",
       "      <td>7.483871</td>\n",
       "      <td>155.327601</td>\n",
       "    </tr>\n",
       "    <tr>\n",
       "      <th>min</th>\n",
       "      <td>0.000000</td>\n",
       "      <td>0.000000</td>\n",
       "      <td>0.0</td>\n",
       "      <td>13.000000</td>\n",
       "      <td>1.000000</td>\n",
       "      <td>1.000000</td>\n",
       "    </tr>\n",
       "    <tr>\n",
       "      <th>25%</th>\n",
       "      <td>4868.250000</td>\n",
       "      <td>14.000000</td>\n",
       "      <td>0.0</td>\n",
       "      <td>23.000000</td>\n",
       "      <td>2.000000</td>\n",
       "      <td>43.000000</td>\n",
       "    </tr>\n",
       "    <tr>\n",
       "      <th>50%</th>\n",
       "      <td>9412.500000</td>\n",
       "      <td>41.000000</td>\n",
       "      <td>0.0</td>\n",
       "      <td>25.000000</td>\n",
       "      <td>5.000000</td>\n",
       "      <td>117.000000</td>\n",
       "    </tr>\n",
       "    <tr>\n",
       "      <th>75%</th>\n",
       "      <td>14289.750000</td>\n",
       "      <td>89.000000</td>\n",
       "      <td>0.0</td>\n",
       "      <td>33.000000</td>\n",
       "      <td>12.000000</td>\n",
       "      <td>241.000000</td>\n",
       "    </tr>\n",
       "    <tr>\n",
       "      <th>max</th>\n",
       "      <td>19498.000000</td>\n",
       "      <td>312.000000</td>\n",
       "      <td>0.0</td>\n",
       "      <td>48.000000</td>\n",
       "      <td>33.000000</td>\n",
       "      <td>745.000000</td>\n",
       "    </tr>\n",
       "  </tbody>\n",
       "</table>\n",
       "</div>"
      ],
      "text/plain": [
       "              index  lemma_list_num_of_stopwords   gender           age  \\\n",
       "count  11002.000000                 11002.000000  11002.0  11002.000000   \n",
       "mean    9552.282131                    60.428104      0.0     26.626795   \n",
       "std     5507.777844                    59.201220      0.0      7.814512   \n",
       "min        0.000000                     0.000000      0.0     13.000000   \n",
       "25%     4868.250000                    14.000000      0.0     23.000000   \n",
       "50%     9412.500000                    41.000000      0.0     25.000000   \n",
       "75%    14289.750000                    89.000000      0.0     33.000000   \n",
       "max    19498.000000                   312.000000      0.0     48.000000   \n",
       "\n",
       "       sentence_count    word_count  \n",
       "count    11002.000000  11002.000000  \n",
       "mean         8.025904    165.652972  \n",
       "std          7.483871    155.327601  \n",
       "min          1.000000      1.000000  \n",
       "25%          2.000000     43.000000  \n",
       "50%          5.000000    117.000000  \n",
       "75%         12.000000    241.000000  \n",
       "max         33.000000    745.000000  "
      ]
     },
     "execution_count": 6,
     "metadata": {},
     "output_type": "execute_result"
    }
   ],
   "source": [
    "data_male.describe()"
   ]
  },
  {
   "cell_type": "code",
   "execution_count": 7,
   "metadata": {},
   "outputs": [
    {
     "data": {
      "text/html": [
       "<div>\n",
       "<style scoped>\n",
       "    .dataframe tbody tr th:only-of-type {\n",
       "        vertical-align: middle;\n",
       "    }\n",
       "\n",
       "    .dataframe tbody tr th {\n",
       "        vertical-align: top;\n",
       "    }\n",
       "\n",
       "    .dataframe thead th {\n",
       "        text-align: right;\n",
       "    }\n",
       "</style>\n",
       "<table border=\"1\" class=\"dataframe\">\n",
       "  <thead>\n",
       "    <tr style=\"text-align: right;\">\n",
       "      <th></th>\n",
       "      <th>index</th>\n",
       "      <th>lemma_list_num_of_stopwords</th>\n",
       "      <th>gender</th>\n",
       "      <th>age</th>\n",
       "      <th>sentence_count</th>\n",
       "      <th>word_count</th>\n",
       "    </tr>\n",
       "  </thead>\n",
       "  <tbody>\n",
       "    <tr>\n",
       "      <th>count</th>\n",
       "      <td>8498.000000</td>\n",
       "      <td>8498.000000</td>\n",
       "      <td>8498.0</td>\n",
       "      <td>8498.000000</td>\n",
       "      <td>8498.000000</td>\n",
       "      <td>8498.000000</td>\n",
       "    </tr>\n",
       "    <tr>\n",
       "      <th>mean</th>\n",
       "      <td>10004.829607</td>\n",
       "      <td>67.045775</td>\n",
       "      <td>1.0</td>\n",
       "      <td>26.308426</td>\n",
       "      <td>8.894681</td>\n",
       "      <td>184.632619</td>\n",
       "    </tr>\n",
       "    <tr>\n",
       "      <th>std</th>\n",
       "      <td>5773.185314</td>\n",
       "      <td>59.608547</td>\n",
       "      <td>0.0</td>\n",
       "      <td>7.289428</td>\n",
       "      <td>7.894702</td>\n",
       "      <td>156.490219</td>\n",
       "    </tr>\n",
       "    <tr>\n",
       "      <th>min</th>\n",
       "      <td>2.000000</td>\n",
       "      <td>0.000000</td>\n",
       "      <td>1.0</td>\n",
       "      <td>13.000000</td>\n",
       "      <td>1.000000</td>\n",
       "      <td>2.000000</td>\n",
       "    </tr>\n",
       "    <tr>\n",
       "      <th>25%</th>\n",
       "      <td>4886.500000</td>\n",
       "      <td>18.000000</td>\n",
       "      <td>1.0</td>\n",
       "      <td>23.000000</td>\n",
       "      <td>2.000000</td>\n",
       "      <td>56.000000</td>\n",
       "    </tr>\n",
       "    <tr>\n",
       "      <th>50%</th>\n",
       "      <td>10387.000000</td>\n",
       "      <td>50.000000</td>\n",
       "      <td>1.0</td>\n",
       "      <td>25.000000</td>\n",
       "      <td>6.000000</td>\n",
       "      <td>144.000000</td>\n",
       "    </tr>\n",
       "    <tr>\n",
       "      <th>75%</th>\n",
       "      <td>15064.500000</td>\n",
       "      <td>101.000000</td>\n",
       "      <td>1.0</td>\n",
       "      <td>27.000000</td>\n",
       "      <td>13.000000</td>\n",
       "      <td>276.000000</td>\n",
       "    </tr>\n",
       "    <tr>\n",
       "      <th>max</th>\n",
       "      <td>19499.000000</td>\n",
       "      <td>319.000000</td>\n",
       "      <td>1.0</td>\n",
       "      <td>48.000000</td>\n",
       "      <td>33.000000</td>\n",
       "      <td>777.000000</td>\n",
       "    </tr>\n",
       "  </tbody>\n",
       "</table>\n",
       "</div>"
      ],
      "text/plain": [
       "              index  lemma_list_num_of_stopwords  gender          age  \\\n",
       "count   8498.000000                  8498.000000  8498.0  8498.000000   \n",
       "mean   10004.829607                    67.045775     1.0    26.308426   \n",
       "std     5773.185314                    59.608547     0.0     7.289428   \n",
       "min        2.000000                     0.000000     1.0    13.000000   \n",
       "25%     4886.500000                    18.000000     1.0    23.000000   \n",
       "50%    10387.000000                    50.000000     1.0    25.000000   \n",
       "75%    15064.500000                   101.000000     1.0    27.000000   \n",
       "max    19499.000000                   319.000000     1.0    48.000000   \n",
       "\n",
       "       sentence_count   word_count  \n",
       "count     8498.000000  8498.000000  \n",
       "mean         8.894681   184.632619  \n",
       "std          7.894702   156.490219  \n",
       "min          1.000000     2.000000  \n",
       "25%          2.000000    56.000000  \n",
       "50%          6.000000   144.000000  \n",
       "75%         13.000000   276.000000  \n",
       "max         33.000000   777.000000  "
      ]
     },
     "execution_count": 7,
     "metadata": {},
     "output_type": "execute_result"
    }
   ],
   "source": [
    "data_female.describe()"
   ]
  },
  {
   "cell_type": "code",
   "execution_count": 8,
   "metadata": {},
   "outputs": [
    {
     "data": {
      "text/plain": [
       "<AxesSubplot:xlabel='word_count', ylabel='Count'>"
      ]
     },
     "execution_count": 8,
     "metadata": {},
     "output_type": "execute_result"
    },
    {
     "data": {
      "image/png": "[encoded data removed]",
      "text/plain": [
       "<Figure size 1200x800 with 1 Axes>"
      ]
     },
     "metadata": {},
     "output_type": "display_data"
    }
   ],
   "source": [
    "plt.figure(figsize=(12,8))\n",
    "sb.histplot(x=\"word_count\", data=data_male)"
   ]
  },
  {
   "cell_type": "code",
   "execution_count": 9,
   "metadata": {},
   "outputs": [
    {
     "data": {
      "text/plain": [
       "<AxesSubplot:xlabel='word_count', ylabel='Count'>"
      ]
     },
     "execution_count": 9,
     "metadata": {},
     "output_type": "execute_result"
    },
    {
     "data": {
      "image/png": "[encoded data removed]",
      "text/plain": [
       "<Figure size 1200x800 with 1 Axes>"
      ]
     },
     "metadata": {},
     "output_type": "display_data"
    }
   ],
   "source": [
    "plt.figure(figsize=(12,8))\n",
    "sb.histplot(x=\"word_count\", data=data_female)"
   ]
  },
  {
   "cell_type": "code",
   "execution_count": 10,
   "metadata": {},
   "outputs": [
    {
     "ename": "ValueError",
     "evalue": "Could not interpret value `count_word` for parameter `x`",
     "output_type": "error",
     "traceback": [
      "\u001b[1;31m---------------------------------------------------------------------------\u001b[0m",
      "\u001b[1;31mValueError\u001b[0m                                Traceback (most recent call last)",
      "\u001b[1;32mc:\\Users\\nikla\\workspace\\Machine Learning DHBW\\Autorenmerkmale\\Author_Identification\\gender.ipynb Cell 10\u001b[0m in \u001b[0;36m<cell line: 2>\u001b[1;34m()\u001b[0m\n\u001b[0;32m      <a href='vscode-notebook-cell:/c%3A/Users/nikla/workspace/Machine%20Learning%20DHBW/Autorenmerkmale/Author_Identification/gender.ipynb#X12sZmlsZQ%3D%3D?line=0'>1</a>\u001b[0m plt\u001b[39m.\u001b[39mfigure(figsize\u001b[39m=\u001b[39m(\u001b[39m12\u001b[39m,\u001b[39m8\u001b[39m))\n\u001b[1;32m----> <a href='vscode-notebook-cell:/c%3A/Users/nikla/workspace/Machine%20Learning%20DHBW/Autorenmerkmale/Author_Identification/gender.ipynb#X12sZmlsZQ%3D%3D?line=1'>2</a>\u001b[0m sb\u001b[39m.\u001b[39;49mhistplot(x\u001b[39m=\u001b[39;49m\u001b[39m\"\u001b[39;49m\u001b[39mcount_word\u001b[39;49m\u001b[39m\"\u001b[39;49m, data\u001b[39m=\u001b[39;49mdata, hue\u001b[39m=\u001b[39;49m\u001b[39m\"\u001b[39;49m\u001b[39mgender\u001b[39;49m\u001b[39m\"\u001b[39;49m)\n",
      "File \u001b[1;32mc:\\Users\\nikla\\anaconda3\\envs\\NLP\\lib\\site-packages\\seaborn\\distributions.py:1430\u001b[0m, in \u001b[0;36mhistplot\u001b[1;34m(data, x, y, hue, weights, stat, bins, binwidth, binrange, discrete, cumulative, common_bins, common_norm, multiple, element, fill, shrink, kde, kde_kws, line_kws, thresh, pthresh, pmax, cbar, cbar_ax, cbar_kws, palette, hue_order, hue_norm, color, log_scale, legend, ax, **kwargs)\u001b[0m\n\u001b[0;32m   1409\u001b[0m \u001b[39mdef\u001b[39;00m \u001b[39mhistplot\u001b[39m(\n\u001b[0;32m   1410\u001b[0m     data\u001b[39m=\u001b[39m\u001b[39mNone\u001b[39;00m, \u001b[39m*\u001b[39m,\n\u001b[0;32m   1411\u001b[0m     \u001b[39m# Vector variables\u001b[39;00m\n\u001b[1;32m   (...)\u001b[0m\n\u001b[0;32m   1427\u001b[0m     \u001b[39m*\u001b[39m\u001b[39m*\u001b[39mkwargs,\n\u001b[0;32m   1428\u001b[0m ):\n\u001b[1;32m-> 1430\u001b[0m     p \u001b[39m=\u001b[39m _DistributionPlotter(\n\u001b[0;32m   1431\u001b[0m         data\u001b[39m=\u001b[39;49mdata,\n\u001b[0;32m   1432\u001b[0m         variables\u001b[39m=\u001b[39;49m_DistributionPlotter\u001b[39m.\u001b[39;49mget_semantics(\u001b[39mlocals\u001b[39;49m())\n\u001b[0;32m   1433\u001b[0m     )\n\u001b[0;32m   1435\u001b[0m     p\u001b[39m.\u001b[39mmap_hue(palette\u001b[39m=\u001b[39mpalette, order\u001b[39m=\u001b[39mhue_order, norm\u001b[39m=\u001b[39mhue_norm)\n\u001b[0;32m   1437\u001b[0m     \u001b[39mif\u001b[39;00m ax \u001b[39mis\u001b[39;00m \u001b[39mNone\u001b[39;00m:\n",
      "File \u001b[1;32mc:\\Users\\nikla\\anaconda3\\envs\\NLP\\lib\\site-packages\\seaborn\\distributions.py:111\u001b[0m, in \u001b[0;36m_DistributionPlotter.__init__\u001b[1;34m(self, data, variables)\u001b[0m\n\u001b[0;32m    105\u001b[0m \u001b[39mdef\u001b[39;00m \u001b[39m__init__\u001b[39m(\n\u001b[0;32m    106\u001b[0m     \u001b[39mself\u001b[39m,\n\u001b[0;32m    107\u001b[0m     data\u001b[39m=\u001b[39m\u001b[39mNone\u001b[39;00m,\n\u001b[0;32m    108\u001b[0m     variables\u001b[39m=\u001b[39m{},\n\u001b[0;32m    109\u001b[0m ):\n\u001b[1;32m--> 111\u001b[0m     \u001b[39msuper\u001b[39;49m()\u001b[39m.\u001b[39;49m\u001b[39m__init__\u001b[39;49m(data\u001b[39m=\u001b[39;49mdata, variables\u001b[39m=\u001b[39;49mvariables)\n",
      "File \u001b[1;32mc:\\Users\\nikla\\anaconda3\\envs\\NLP\\lib\\site-packages\\seaborn\\_core.py:605\u001b[0m, in \u001b[0;36mVectorPlotter.__init__\u001b[1;34m(self, data, variables)\u001b[0m\n\u001b[0;32m    603\u001b[0m \u001b[39mdef\u001b[39;00m \u001b[39m__init__\u001b[39m(\u001b[39mself\u001b[39m, data\u001b[39m=\u001b[39m\u001b[39mNone\u001b[39;00m, variables\u001b[39m=\u001b[39m{}):\n\u001b[1;32m--> 605\u001b[0m     \u001b[39mself\u001b[39;49m\u001b[39m.\u001b[39;49massign_variables(data, variables)\n\u001b[0;32m    607\u001b[0m     \u001b[39mfor\u001b[39;00m var, \u001b[39mcls\u001b[39m \u001b[39min\u001b[39;00m \u001b[39mself\u001b[39m\u001b[39m.\u001b[39m_semantic_mappings\u001b[39m.\u001b[39mitems():\n\u001b[0;32m    608\u001b[0m \n\u001b[0;32m    609\u001b[0m         \u001b[39m# Create the mapping function\u001b[39;00m\n\u001b[0;32m    610\u001b[0m         map_func \u001b[39m=\u001b[39m partial(\u001b[39mcls\u001b[39m\u001b[39m.\u001b[39mmap, plotter\u001b[39m=\u001b[39m\u001b[39mself\u001b[39m)\n",
      "File \u001b[1;32mc:\\Users\\nikla\\anaconda3\\envs\\NLP\\lib\\site-packages\\seaborn\\_core.py:668\u001b[0m, in \u001b[0;36mVectorPlotter.assign_variables\u001b[1;34m(self, data, variables)\u001b[0m\n\u001b[0;32m    666\u001b[0m \u001b[39melse\u001b[39;00m:\n\u001b[0;32m    667\u001b[0m     \u001b[39mself\u001b[39m\u001b[39m.\u001b[39minput_format \u001b[39m=\u001b[39m \u001b[39m\"\u001b[39m\u001b[39mlong\u001b[39m\u001b[39m\"\u001b[39m\n\u001b[1;32m--> 668\u001b[0m     plot_data, variables \u001b[39m=\u001b[39m \u001b[39mself\u001b[39m\u001b[39m.\u001b[39m_assign_variables_longform(\n\u001b[0;32m    669\u001b[0m         data, \u001b[39m*\u001b[39m\u001b[39m*\u001b[39mvariables,\n\u001b[0;32m    670\u001b[0m     )\n\u001b[0;32m    672\u001b[0m \u001b[39mself\u001b[39m\u001b[39m.\u001b[39mplot_data \u001b[39m=\u001b[39m plot_data\n\u001b[0;32m    673\u001b[0m \u001b[39mself\u001b[39m\u001b[39m.\u001b[39mvariables \u001b[39m=\u001b[39m variables\n",
      "File \u001b[1;32mc:\\Users\\nikla\\anaconda3\\envs\\NLP\\lib\\site-packages\\seaborn\\_core.py:903\u001b[0m, in \u001b[0;36mVectorPlotter._assign_variables_longform\u001b[1;34m(self, data, **kwargs)\u001b[0m\n\u001b[0;32m    898\u001b[0m \u001b[39melif\u001b[39;00m \u001b[39misinstance\u001b[39m(val, (\u001b[39mstr\u001b[39m, \u001b[39mbytes\u001b[39m)):\n\u001b[0;32m    899\u001b[0m \n\u001b[0;32m    900\u001b[0m     \u001b[39m# This looks like a column name but we don't know what it means!\u001b[39;00m\n\u001b[0;32m    902\u001b[0m     err \u001b[39m=\u001b[39m \u001b[39mf\u001b[39m\u001b[39m\"\u001b[39m\u001b[39mCould not interpret value `\u001b[39m\u001b[39m{\u001b[39;00mval\u001b[39m}\u001b[39;00m\u001b[39m` for parameter `\u001b[39m\u001b[39m{\u001b[39;00mkey\u001b[39m}\u001b[39;00m\u001b[39m`\u001b[39m\u001b[39m\"\u001b[39m\n\u001b[1;32m--> 903\u001b[0m     \u001b[39mraise\u001b[39;00m \u001b[39mValueError\u001b[39;00m(err)\n\u001b[0;32m    905\u001b[0m \u001b[39melse\u001b[39;00m:\n\u001b[0;32m    906\u001b[0m \n\u001b[0;32m    907\u001b[0m     \u001b[39m# Otherwise, assume the value is itself data\u001b[39;00m\n\u001b[0;32m    908\u001b[0m \n\u001b[0;32m    909\u001b[0m     \u001b[39m# Raise when data object is present and a vector can't matched\u001b[39;00m\n\u001b[0;32m    910\u001b[0m     \u001b[39mif\u001b[39;00m \u001b[39misinstance\u001b[39m(data, pd\u001b[39m.\u001b[39mDataFrame) \u001b[39mand\u001b[39;00m \u001b[39mnot\u001b[39;00m \u001b[39misinstance\u001b[39m(val, pd\u001b[39m.\u001b[39mSeries):\n",
      "\u001b[1;31mValueError\u001b[0m: Could not interpret value `count_word` for parameter `x`"
     ]
    },
    {
     "data": {
      "text/plain": [
       "<Figure size 1200x800 with 0 Axes>"
      ]
     },
     "metadata": {},
     "output_type": "display_data"
    }
   ],
   "source": [
    "plt.figure(figsize=(12,8))\n",
    "sb.histplot(x=\"count_word\", data=data, hue=\"gender\")"
   ]
  },
  {
   "cell_type": "code",
   "execution_count": null,
   "metadata": {},
   "outputs": [
    {
     "data": {
      "text/plain": [
       "<AxesSubplot:xlabel='sentence_count', ylabel='Count'>"
      ]
     },
     "execution_count": 48,
     "metadata": {},
     "output_type": "execute_result"
    },
    {
     "data": {
      "image/png": "[encoded data removed]",
      "text/plain": [
       "<Figure size 1200x800 with 1 Axes>"
      ]
     },
     "metadata": {},
     "output_type": "display_data"
    }
   ],
   "source": [
    "plt.figure(figsize=(12,8))\n",
    "sb.histplot(x=\"sentence_count\", data=data, hue=\"gender\")"
   ]
  },
  {
   "cell_type": "code",
   "execution_count": 11,
   "metadata": {},
   "outputs": [
    {
     "data": {
      "text/html": [
       "<div>\n",
       "<style scoped>\n",
       "    .dataframe tbody tr th:only-of-type {\n",
       "        vertical-align: middle;\n",
       "    }\n",
       "\n",
       "    .dataframe tbody tr th {\n",
       "        vertical-align: top;\n",
       "    }\n",
       "\n",
       "    .dataframe thead th {\n",
       "        text-align: right;\n",
       "    }\n",
       "</style>\n",
       "<table border=\"1\" class=\"dataframe\">\n",
       "  <thead>\n",
       "    <tr style=\"text-align: right;\">\n",
       "      <th></th>\n",
       "      <th>text</th>\n",
       "      <th>text_list</th>\n",
       "      <th>lemma_list</th>\n",
       "      <th>pos_list</th>\n",
       "      <th>tag_list</th>\n",
       "      <th>dep_list</th>\n",
       "      <th>shape_list</th>\n",
       "      <th>alpha_list</th>\n",
       "      <th>stop_list</th>\n",
       "      <th>lemma_list_num_of_stopwords</th>\n",
       "      <th>...</th>\n",
       "      <th>data_lemmatized_noun</th>\n",
       "      <th>text_out_list_noun</th>\n",
       "      <th>gender</th>\n",
       "      <th>age</th>\n",
       "      <th>topic</th>\n",
       "      <th>sign</th>\n",
       "      <th>sent_tokenize</th>\n",
       "      <th>word_tokenize</th>\n",
       "      <th>sentence_count</th>\n",
       "      <th>word_count</th>\n",
       "    </tr>\n",
       "  </thead>\n",
       "  <tbody>\n",
       "    <tr>\n",
       "      <th>0</th>\n",
       "      <td>This blog is being posted due to the fact that...</td>\n",
       "      <td>['This', 'blog', 'is', 'being', 'posted', 'due...</td>\n",
       "      <td>['this', 'blog', 'be', 'be', 'post', 'due', 't...</td>\n",
       "      <td>['DET', 'NOUN', 'AUX', 'AUX', 'VERB', 'ADP', '...</td>\n",
       "      <td>['DT', 'NN', 'VBZ', 'VBG', 'VBN', 'IN', 'IN', ...</td>\n",
       "      <td>['det', 'nsubjpass', 'aux', 'auxpass', 'ROOT',...</td>\n",
       "      <td>['Xxxx', 'xxxx', 'xx', 'xxxx', 'xxxx', 'xxx', ...</td>\n",
       "      <td>[True, True, True, True, True, True, True, Tru...</td>\n",
       "      <td>[True, False, True, True, False, True, True, T...</td>\n",
       "      <td>34</td>\n",
       "      <td>...</td>\n",
       "      <td>fact development regard day school uniform swa...</td>\n",
       "      <td>['fact', 'development', 'regard', 'day', 'scho...</td>\n",
       "      <td>0</td>\n",
       "      <td>14</td>\n",
       "      <td>Student</td>\n",
       "      <td>Sagittarius</td>\n",
       "      <td>[This blog is being posted due to the fact tha...</td>\n",
       "      <td>[This, blog, is, being, posted, due, to, the, ...</td>\n",
       "      <td>4</td>\n",
       "      <td>91</td>\n",
       "    </tr>\n",
       "    <tr>\n",
       "      <th>1</th>\n",
       "      <td>So I have a big fucking interview tomorrow for...</td>\n",
       "      <td>['So', 'I', 'have', 'a', 'big', 'fucking', 'in...</td>\n",
       "      <td>['so', '-PRON-', 'have', 'a', 'big', 'fucking'...</td>\n",
       "      <td>['CCONJ', 'PRON', 'AUX', 'DET', 'ADJ', 'ADJ', ...</td>\n",
       "      <td>['CC', 'PRP', 'VBP', 'DT', 'JJ', 'JJ', 'NN', '...</td>\n",
       "      <td>['advmod', 'nsubj', 'ROOT', 'det', 'amod', 'am...</td>\n",
       "      <td>['Xx', 'X', 'xxxx', 'x', 'xxx', 'xxxx', 'xxxx'...</td>\n",
       "      <td>[True, True, True, True, True, True, True, Tru...</td>\n",
       "      <td>[True, True, True, True, False, False, False, ...</td>\n",
       "      <td>32</td>\n",
       "      <td>...</td>\n",
       "      <td>interview tomorrow school talk people girl spo...</td>\n",
       "      <td>['interview', 'tomorrow', 'school', 'talk', 'p...</td>\n",
       "      <td>0</td>\n",
       "      <td>15</td>\n",
       "      <td>Student</td>\n",
       "      <td>Pisces</td>\n",
       "      <td>[So I have a big fucking interview tomorrow fo...</td>\n",
       "      <td>[So, I, have, a, big, fucking, interview, tomo...</td>\n",
       "      <td>5</td>\n",
       "      <td>88</td>\n",
       "    </tr>\n",
       "  </tbody>\n",
       "</table>\n",
       "<p>2 rows × 24 columns</p>\n",
       "</div>"
      ],
      "text/plain": [
       "                                                text  \\\n",
       "0  This blog is being posted due to the fact that...   \n",
       "1  So I have a big fucking interview tomorrow for...   \n",
       "\n",
       "                                           text_list  \\\n",
       "0  ['This', 'blog', 'is', 'being', 'posted', 'due...   \n",
       "1  ['So', 'I', 'have', 'a', 'big', 'fucking', 'in...   \n",
       "\n",
       "                                          lemma_list  \\\n",
       "0  ['this', 'blog', 'be', 'be', 'post', 'due', 't...   \n",
       "1  ['so', '-PRON-', 'have', 'a', 'big', 'fucking'...   \n",
       "\n",
       "                                            pos_list  \\\n",
       "0  ['DET', 'NOUN', 'AUX', 'AUX', 'VERB', 'ADP', '...   \n",
       "1  ['CCONJ', 'PRON', 'AUX', 'DET', 'ADJ', 'ADJ', ...   \n",
       "\n",
       "                                            tag_list  \\\n",
       "0  ['DT', 'NN', 'VBZ', 'VBG', 'VBN', 'IN', 'IN', ...   \n",
       "1  ['CC', 'PRP', 'VBP', 'DT', 'JJ', 'JJ', 'NN', '...   \n",
       "\n",
       "                                            dep_list  \\\n",
       "0  ['det', 'nsubjpass', 'aux', 'auxpass', 'ROOT',...   \n",
       "1  ['advmod', 'nsubj', 'ROOT', 'det', 'amod', 'am...   \n",
       "\n",
       "                                          shape_list  \\\n",
       "0  ['Xxxx', 'xxxx', 'xx', 'xxxx', 'xxxx', 'xxx', ...   \n",
       "1  ['Xx', 'X', 'xxxx', 'x', 'xxx', 'xxxx', 'xxxx'...   \n",
       "\n",
       "                                          alpha_list  \\\n",
       "0  [True, True, True, True, True, True, True, Tru...   \n",
       "1  [True, True, True, True, True, True, True, Tru...   \n",
       "\n",
       "                                           stop_list  \\\n",
       "0  [True, False, True, True, False, True, True, T...   \n",
       "1  [True, True, True, True, False, False, False, ...   \n",
       "\n",
       "   lemma_list_num_of_stopwords  ...  \\\n",
       "0                           34  ...   \n",
       "1                           32  ...   \n",
       "\n",
       "                                data_lemmatized_noun  \\\n",
       "0  fact development regard day school uniform swa...   \n",
       "1  interview tomorrow school talk people girl spo...   \n",
       "\n",
       "                                  text_out_list_noun gender age    topic  \\\n",
       "0  ['fact', 'development', 'regard', 'day', 'scho...      0  14  Student   \n",
       "1  ['interview', 'tomorrow', 'school', 'talk', 'p...      0  15  Student   \n",
       "\n",
       "          sign                                      sent_tokenize  \\\n",
       "0  Sagittarius  [This blog is being posted due to the fact tha...   \n",
       "1       Pisces  [So I have a big fucking interview tomorrow fo...   \n",
       "\n",
       "                                       word_tokenize sentence_count word_count  \n",
       "0  [This, blog, is, being, posted, due, to, the, ...              4         91  \n",
       "1  [So, I, have, a, big, fucking, interview, tomo...              5         88  \n",
       "\n",
       "[2 rows x 24 columns]"
      ]
     },
     "execution_count": 11,
     "metadata": {},
     "output_type": "execute_result"
    }
   ],
   "source": [
    "data.head(2)"
   ]
  },
  {
   "cell_type": "code",
   "execution_count": 5,
   "metadata": {},
   "outputs": [],
   "source": [
    "def create_word_dict(data, without_stopwords=True, with_stopwords=False):\n",
    "\n",
    "    if without_stopwords:\n",
    "        word_dict_without_stopwords = {}\n",
    "        \n",
    "    if with_stopwords:\n",
    "        word_dict_with_stopwords = {}\n",
    "\n",
    "    stopword_list = stopwords.words('english')\n",
    "    for i in tqdm(range(len(data))):\n",
    "        if without_stopwords:\n",
    "            for word in literal_eval(data[\"lemma_list\"][i]):\n",
    "                if word not in [\",\", \".\", \")\", \"(\", \"{\", \"}\", \"[\", \"]\", \":\", \";\", \"\\\"\\\"\", \"...\", \"I\", \"-PRON-\", \"-\", \"'\", \"'s\", \"urllink\"] and word not in stopword_list:\n",
    "                    if word in word_dict_without_stopwords.keys():\n",
    "                        word_dict_without_stopwords[word] += 1\n",
    "                    else:\n",
    "                        word_dict_without_stopwords[word] = 1\n",
    "\n",
    "        if with_stopwords:\n",
    "            for word in literal_eval(data[\"word_tokenize\"][i]):\n",
    "                if word not in [\",\", \".\", \")\", \"(\", \"{\", \"}\", \"[\", \"]\", \":\", \";\", \"\\\"\\\"\", \"...\", \"I\", \"-PRON-\", \"-\", \"'\"]:\n",
    "                    if word in word_dict_with_stopwords.keys():\n",
    "                        word_dict_with_stopwords[word] += 1\n",
    "                    else:\n",
    "                        word_dict_with_stopwords[word] = 1\n",
    "\n",
    "    if without_stopwords and with_stopwords:\n",
    "        return word_dict_without_stopwords, word_dict_with_stopwords\n",
    "    elif without_stopwords:\n",
    "        return word_dict_without_stopwords\n",
    "    elif with_stopwords:\n",
    "        return word_dict_with_stopwords\n",
    "    else:\n",
    "        print(\"Nothing to return selected\")\n",
    "        return 0"
   ]
  },
  {
   "cell_type": "code",
   "execution_count": 13,
   "metadata": {},
   "outputs": [
    {
     "name": "stderr",
     "output_type": "stream",
     "text": [
      "100%|██████████| 19500/19500 [00:07<00:00, 2688.53it/s]\n",
      "100%|██████████| 11002/11002 [00:03<00:00, 2834.62it/s]\n",
      "100%|██████████| 8498/8498 [00:03<00:00, 2486.98it/s]\n"
     ]
    }
   ],
   "source": [
    "words_without_stopwords_all = create_word_dict(data, True, False)\n",
    "words_without_stopwords_male = create_word_dict(data_male, True, False)\n",
    "words_without_stopwords_female = create_word_dict(data_female, True, False)"
   ]
  },
  {
   "cell_type": "code",
   "execution_count": 14,
   "metadata": {},
   "outputs": [],
   "source": [
    "def visualize_specific_words(dictionary, limit=10, save_fig=True, save_name=\"standard_save_name\"):\n",
    "    data_as_df = pd.DataFrame(data={\"word\": dictionary.keys(), \"number\": dictionary.values()})\n",
    "    sorted_df = data_as_df.sort_values(by=\"number\", ascending=False)\n",
    "\n",
    "    figure = sb.barplot(data=sorted_df[:limit], x=\"word\", y=\"number\", palette=\"deep\")\n",
    "    figure.set_xlabel(\"Words\")\n",
    "    figure.set_ylabel(\"Appearances of the word\")\n",
    "\n",
    "    if save_fig:\n",
    "        fig = figure.get_figure()\n",
    "        fig.savefig(str(save_name + \".jpg\"))\n",
    "\n",
    "    return fig.get_figure()"
   ]
  },
  {
   "cell_type": "code",
   "execution_count": 15,
   "metadata": {},
   "outputs": [
    {
     "ename": "UnboundLocalError",
     "evalue": "local variable 'fig' referenced before assignment",
     "output_type": "error",
     "traceback": [
      "\u001b[1;31m---------------------------------------------------------------------------\u001b[0m",
      "\u001b[1;31mUnboundLocalError\u001b[0m                         Traceback (most recent call last)",
      "\u001b[1;32mc:\\Users\\nikla\\workspace\\Machine Learning DHBW\\Autorenmerkmale\\Author_Identification\\gender.ipynb Cell 16\u001b[0m in \u001b[0;36m<cell line: 1>\u001b[1;34m()\u001b[0m\n\u001b[1;32m----> <a href='vscode-notebook-cell:/c%3A/Users/nikla/workspace/Machine%20Learning%20DHBW/Autorenmerkmale/Author_Identification/gender.ipynb#X21sZmlsZQ%3D%3D?line=0'>1</a>\u001b[0m figure_1 \u001b[39m=\u001b[39m visualize_specific_words(words_without_stopwords_all, save_fig\u001b[39m=\u001b[39;49m\u001b[39mFalse\u001b[39;49;00m)\n",
      "\u001b[1;32mc:\\Users\\nikla\\workspace\\Machine Learning DHBW\\Autorenmerkmale\\Author_Identification\\gender.ipynb Cell 16\u001b[0m in \u001b[0;36mvisualize_specific_words\u001b[1;34m(dictionary, limit, save_fig, save_name)\u001b[0m\n\u001b[0;32m     <a href='vscode-notebook-cell:/c%3A/Users/nikla/workspace/Machine%20Learning%20DHBW/Autorenmerkmale/Author_Identification/gender.ipynb#X21sZmlsZQ%3D%3D?line=9'>10</a>\u001b[0m     fig \u001b[39m=\u001b[39m figure\u001b[39m.\u001b[39mget_figure()\n\u001b[0;32m     <a href='vscode-notebook-cell:/c%3A/Users/nikla/workspace/Machine%20Learning%20DHBW/Autorenmerkmale/Author_Identification/gender.ipynb#X21sZmlsZQ%3D%3D?line=10'>11</a>\u001b[0m     fig\u001b[39m.\u001b[39msavefig(\u001b[39mstr\u001b[39m(save_name \u001b[39m+\u001b[39m \u001b[39m\"\u001b[39m\u001b[39m.jpg\u001b[39m\u001b[39m\"\u001b[39m))\n\u001b[1;32m---> <a href='vscode-notebook-cell:/c%3A/Users/nikla/workspace/Machine%20Learning%20DHBW/Autorenmerkmale/Author_Identification/gender.ipynb#X21sZmlsZQ%3D%3D?line=12'>13</a>\u001b[0m \u001b[39mreturn\u001b[39;00m fig\u001b[39m.\u001b[39mget_figure()\n",
      "\u001b[1;31mUnboundLocalError\u001b[0m: local variable 'fig' referenced before assignment"
     ]
    },
    {
     "data": {
      "image/png": "[encoded data removed]",
      "text/plain": [
       "<Figure size 640x480 with 1 Axes>"
      ]
     },
     "metadata": {},
     "output_type": "display_data"
    }
   ],
   "source": [
    "figure_1 = visualize_specific_words(words_without_stopwords_all, save_fig=False)"
   ]
  },
  {
   "cell_type": "code",
   "execution_count": 16,
   "metadata": {},
   "outputs": [
    {
     "ename": "UnboundLocalError",
     "evalue": "local variable 'fig' referenced before assignment",
     "output_type": "error",
     "traceback": [
      "\u001b[1;31m---------------------------------------------------------------------------\u001b[0m",
      "\u001b[1;31mUnboundLocalError\u001b[0m                         Traceback (most recent call last)",
      "\u001b[1;32mc:\\Users\\nikla\\workspace\\Machine Learning DHBW\\Autorenmerkmale\\Author_Identification\\gender.ipynb Cell 17\u001b[0m in \u001b[0;36m<cell line: 1>\u001b[1;34m()\u001b[0m\n\u001b[1;32m----> <a href='vscode-notebook-cell:/c%3A/Users/nikla/workspace/Machine%20Learning%20DHBW/Autorenmerkmale/Author_Identification/gender.ipynb#X22sZmlsZQ%3D%3D?line=0'>1</a>\u001b[0m figure_2 \u001b[39m=\u001b[39m visualize_specific_words(words_without_stopwords_male, save_fig\u001b[39m=\u001b[39;49m\u001b[39mFalse\u001b[39;49;00m)\n",
      "\u001b[1;32mc:\\Users\\nikla\\workspace\\Machine Learning DHBW\\Autorenmerkmale\\Author_Identification\\gender.ipynb Cell 17\u001b[0m in \u001b[0;36mvisualize_specific_words\u001b[1;34m(dictionary, limit, save_fig, save_name)\u001b[0m\n\u001b[0;32m     <a href='vscode-notebook-cell:/c%3A/Users/nikla/workspace/Machine%20Learning%20DHBW/Autorenmerkmale/Author_Identification/gender.ipynb#X22sZmlsZQ%3D%3D?line=9'>10</a>\u001b[0m     fig \u001b[39m=\u001b[39m figure\u001b[39m.\u001b[39mget_figure()\n\u001b[0;32m     <a href='vscode-notebook-cell:/c%3A/Users/nikla/workspace/Machine%20Learning%20DHBW/Autorenmerkmale/Author_Identification/gender.ipynb#X22sZmlsZQ%3D%3D?line=10'>11</a>\u001b[0m     fig\u001b[39m.\u001b[39msavefig(\u001b[39mstr\u001b[39m(save_name \u001b[39m+\u001b[39m \u001b[39m\"\u001b[39m\u001b[39m.jpg\u001b[39m\u001b[39m\"\u001b[39m))\n\u001b[1;32m---> <a href='vscode-notebook-cell:/c%3A/Users/nikla/workspace/Machine%20Learning%20DHBW/Autorenmerkmale/Author_Identification/gender.ipynb#X22sZmlsZQ%3D%3D?line=12'>13</a>\u001b[0m \u001b[39mreturn\u001b[39;00m fig\u001b[39m.\u001b[39mget_figure()\n",
      "\u001b[1;31mUnboundLocalError\u001b[0m: local variable 'fig' referenced before assignment"
     ]
    },
    {
     "data": {
      "image/png": "[encoded data removed]",
      "text/plain": [
       "<Figure size 640x480 with 1 Axes>"
      ]
     },
     "metadata": {},
     "output_type": "display_data"
    }
   ],
   "source": [
    "figure_2 = visualize_specific_words(words_without_stopwords_male, save_fig=False)"
   ]
  },
  {
   "cell_type": "code",
   "execution_count": 17,
   "metadata": {},
   "outputs": [
    {
     "ename": "UnboundLocalError",
     "evalue": "local variable 'fig' referenced before assignment",
     "output_type": "error",
     "traceback": [
      "\u001b[1;31m---------------------------------------------------------------------------\u001b[0m",
      "\u001b[1;31mUnboundLocalError\u001b[0m                         Traceback (most recent call last)",
      "\u001b[1;32mc:\\Users\\nikla\\workspace\\Machine Learning DHBW\\Autorenmerkmale\\Author_Identification\\gender.ipynb Cell 18\u001b[0m in \u001b[0;36m<cell line: 1>\u001b[1;34m()\u001b[0m\n\u001b[1;32m----> <a href='vscode-notebook-cell:/c%3A/Users/nikla/workspace/Machine%20Learning%20DHBW/Autorenmerkmale/Author_Identification/gender.ipynb#X23sZmlsZQ%3D%3D?line=0'>1</a>\u001b[0m figure_3 \u001b[39m=\u001b[39m visualize_specific_words(words_without_stopwords_female, save_fig\u001b[39m=\u001b[39;49m\u001b[39mFalse\u001b[39;49;00m)\n",
      "\u001b[1;32mc:\\Users\\nikla\\workspace\\Machine Learning DHBW\\Autorenmerkmale\\Author_Identification\\gender.ipynb Cell 18\u001b[0m in \u001b[0;36mvisualize_specific_words\u001b[1;34m(dictionary, limit, save_fig, save_name)\u001b[0m\n\u001b[0;32m     <a href='vscode-notebook-cell:/c%3A/Users/nikla/workspace/Machine%20Learning%20DHBW/Autorenmerkmale/Author_Identification/gender.ipynb#X23sZmlsZQ%3D%3D?line=9'>10</a>\u001b[0m     fig \u001b[39m=\u001b[39m figure\u001b[39m.\u001b[39mget_figure()\n\u001b[0;32m     <a href='vscode-notebook-cell:/c%3A/Users/nikla/workspace/Machine%20Learning%20DHBW/Autorenmerkmale/Author_Identification/gender.ipynb#X23sZmlsZQ%3D%3D?line=10'>11</a>\u001b[0m     fig\u001b[39m.\u001b[39msavefig(\u001b[39mstr\u001b[39m(save_name \u001b[39m+\u001b[39m \u001b[39m\"\u001b[39m\u001b[39m.jpg\u001b[39m\u001b[39m\"\u001b[39m))\n\u001b[1;32m---> <a href='vscode-notebook-cell:/c%3A/Users/nikla/workspace/Machine%20Learning%20DHBW/Autorenmerkmale/Author_Identification/gender.ipynb#X23sZmlsZQ%3D%3D?line=12'>13</a>\u001b[0m \u001b[39mreturn\u001b[39;00m fig\u001b[39m.\u001b[39mget_figure()\n",
      "\u001b[1;31mUnboundLocalError\u001b[0m: local variable 'fig' referenced before assignment"
     ]
    },
    {
     "data": {
      "image/png": "[encoded data removed]",
      "text/plain": [
       "<Figure size 640x480 with 1 Axes>"
      ]
     },
     "metadata": {},
     "output_type": "display_data"
    }
   ],
   "source": [
    "figure_3 = visualize_specific_words(words_without_stopwords_female, save_fig=False)"
   ]
  },
  {
   "cell_type": "code",
   "execution_count": 18,
   "metadata": {},
   "outputs": [
    {
     "data": {
      "text/html": [
       "<div>\n",
       "<style scoped>\n",
       "    .dataframe tbody tr th:only-of-type {\n",
       "        vertical-align: middle;\n",
       "    }\n",
       "\n",
       "    .dataframe tbody tr th {\n",
       "        vertical-align: top;\n",
       "    }\n",
       "\n",
       "    .dataframe thead th {\n",
       "        text-align: right;\n",
       "    }\n",
       "</style>\n",
       "<table border=\"1\" class=\"dataframe\">\n",
       "  <thead>\n",
       "    <tr style=\"text-align: right;\">\n",
       "      <th></th>\n",
       "      <th>text</th>\n",
       "      <th>text_list</th>\n",
       "      <th>lemma_list</th>\n",
       "      <th>pos_list</th>\n",
       "      <th>tag_list</th>\n",
       "      <th>dep_list</th>\n",
       "      <th>shape_list</th>\n",
       "      <th>alpha_list</th>\n",
       "      <th>stop_list</th>\n",
       "      <th>lemma_list_num_of_stopwords</th>\n",
       "      <th>...</th>\n",
       "      <th>data_lemmatized_noun</th>\n",
       "      <th>text_out_list_noun</th>\n",
       "      <th>gender</th>\n",
       "      <th>age</th>\n",
       "      <th>topic</th>\n",
       "      <th>sign</th>\n",
       "      <th>sent_tokenize</th>\n",
       "      <th>word_tokenize</th>\n",
       "      <th>sentence_count</th>\n",
       "      <th>word_count</th>\n",
       "    </tr>\n",
       "  </thead>\n",
       "  <tbody>\n",
       "    <tr>\n",
       "      <th>0</th>\n",
       "      <td>This blog is being posted due to the fact that...</td>\n",
       "      <td>['This', 'blog', 'is', 'being', 'posted', 'due...</td>\n",
       "      <td>['this', 'blog', 'be', 'be', 'post', 'due', 't...</td>\n",
       "      <td>['DET', 'NOUN', 'AUX', 'AUX', 'VERB', 'ADP', '...</td>\n",
       "      <td>['DT', 'NN', 'VBZ', 'VBG', 'VBN', 'IN', 'IN', ...</td>\n",
       "      <td>['det', 'nsubjpass', 'aux', 'auxpass', 'ROOT',...</td>\n",
       "      <td>['Xxxx', 'xxxx', 'xx', 'xxxx', 'xxxx', 'xxx', ...</td>\n",
       "      <td>[True, True, True, True, True, True, True, Tru...</td>\n",
       "      <td>[True, False, True, True, False, True, True, T...</td>\n",
       "      <td>34</td>\n",
       "      <td>...</td>\n",
       "      <td>fact development regard day school uniform swa...</td>\n",
       "      <td>['fact', 'development', 'regard', 'day', 'scho...</td>\n",
       "      <td>0</td>\n",
       "      <td>14</td>\n",
       "      <td>Student</td>\n",
       "      <td>Sagittarius</td>\n",
       "      <td>[This blog is being posted due to the fact tha...</td>\n",
       "      <td>[This, blog, is, being, posted, due, to, the, ...</td>\n",
       "      <td>4</td>\n",
       "      <td>91</td>\n",
       "    </tr>\n",
       "    <tr>\n",
       "      <th>1</th>\n",
       "      <td>So I have a big fucking interview tomorrow for...</td>\n",
       "      <td>['So', 'I', 'have', 'a', 'big', 'fucking', 'in...</td>\n",
       "      <td>['so', '-PRON-', 'have', 'a', 'big', 'fucking'...</td>\n",
       "      <td>['CCONJ', 'PRON', 'AUX', 'DET', 'ADJ', 'ADJ', ...</td>\n",
       "      <td>['CC', 'PRP', 'VBP', 'DT', 'JJ', 'JJ', 'NN', '...</td>\n",
       "      <td>['advmod', 'nsubj', 'ROOT', 'det', 'amod', 'am...</td>\n",
       "      <td>['Xx', 'X', 'xxxx', 'x', 'xxx', 'xxxx', 'xxxx'...</td>\n",
       "      <td>[True, True, True, True, True, True, True, Tru...</td>\n",
       "      <td>[True, True, True, True, False, False, False, ...</td>\n",
       "      <td>32</td>\n",
       "      <td>...</td>\n",
       "      <td>interview tomorrow school talk people girl spo...</td>\n",
       "      <td>['interview', 'tomorrow', 'school', 'talk', 'p...</td>\n",
       "      <td>0</td>\n",
       "      <td>15</td>\n",
       "      <td>Student</td>\n",
       "      <td>Pisces</td>\n",
       "      <td>[So I have a big fucking interview tomorrow fo...</td>\n",
       "      <td>[So, I, have, a, big, fucking, interview, tomo...</td>\n",
       "      <td>5</td>\n",
       "      <td>88</td>\n",
       "    </tr>\n",
       "  </tbody>\n",
       "</table>\n",
       "<p>2 rows × 24 columns</p>\n",
       "</div>"
      ],
      "text/plain": [
       "                                                text  \\\n",
       "0  This blog is being posted due to the fact that...   \n",
       "1  So I have a big fucking interview tomorrow for...   \n",
       "\n",
       "                                           text_list  \\\n",
       "0  ['This', 'blog', 'is', 'being', 'posted', 'due...   \n",
       "1  ['So', 'I', 'have', 'a', 'big', 'fucking', 'in...   \n",
       "\n",
       "                                          lemma_list  \\\n",
       "0  ['this', 'blog', 'be', 'be', 'post', 'due', 't...   \n",
       "1  ['so', '-PRON-', 'have', 'a', 'big', 'fucking'...   \n",
       "\n",
       "                                            pos_list  \\\n",
       "0  ['DET', 'NOUN', 'AUX', 'AUX', 'VERB', 'ADP', '...   \n",
       "1  ['CCONJ', 'PRON', 'AUX', 'DET', 'ADJ', 'ADJ', ...   \n",
       "\n",
       "                                            tag_list  \\\n",
       "0  ['DT', 'NN', 'VBZ', 'VBG', 'VBN', 'IN', 'IN', ...   \n",
       "1  ['CC', 'PRP', 'VBP', 'DT', 'JJ', 'JJ', 'NN', '...   \n",
       "\n",
       "                                            dep_list  \\\n",
       "0  ['det', 'nsubjpass', 'aux', 'auxpass', 'ROOT',...   \n",
       "1  ['advmod', 'nsubj', 'ROOT', 'det', 'amod', 'am...   \n",
       "\n",
       "                                          shape_list  \\\n",
       "0  ['Xxxx', 'xxxx', 'xx', 'xxxx', 'xxxx', 'xxx', ...   \n",
       "1  ['Xx', 'X', 'xxxx', 'x', 'xxx', 'xxxx', 'xxxx'...   \n",
       "\n",
       "                                          alpha_list  \\\n",
       "0  [True, True, True, True, True, True, True, Tru...   \n",
       "1  [True, True, True, True, True, True, True, Tru...   \n",
       "\n",
       "                                           stop_list  \\\n",
       "0  [True, False, True, True, False, True, True, T...   \n",
       "1  [True, True, True, True, False, False, False, ...   \n",
       "\n",
       "   lemma_list_num_of_stopwords  ...  \\\n",
       "0                           34  ...   \n",
       "1                           32  ...   \n",
       "\n",
       "                                data_lemmatized_noun  \\\n",
       "0  fact development regard day school uniform swa...   \n",
       "1  interview tomorrow school talk people girl spo...   \n",
       "\n",
       "                                  text_out_list_noun gender age    topic  \\\n",
       "0  ['fact', 'development', 'regard', 'day', 'scho...      0  14  Student   \n",
       "1  ['interview', 'tomorrow', 'school', 'talk', 'p...      0  15  Student   \n",
       "\n",
       "          sign                                      sent_tokenize  \\\n",
       "0  Sagittarius  [This blog is being posted due to the fact tha...   \n",
       "1       Pisces  [So I have a big fucking interview tomorrow fo...   \n",
       "\n",
       "                                       word_tokenize sentence_count word_count  \n",
       "0  [This, blog, is, being, posted, due, to, the, ...              4         91  \n",
       "1  [So, I, have, a, big, fucking, interview, tomo...              5         88  \n",
       "\n",
       "[2 rows x 24 columns]"
      ]
     },
     "execution_count": 18,
     "metadata": {},
     "output_type": "execute_result"
    }
   ],
   "source": [
    "data.head(2)"
   ]
  },
  {
   "cell_type": "code",
   "execution_count": 11,
   "metadata": {},
   "outputs": [],
   "source": [
    "def getNumbers(data):\n",
    "    data[\"num_nouns\"] = 0\n",
    "    data[\"num_verbs\"] = 0\n",
    "    data[\"num_conjs\"] = 0\n",
    "    num_nouns, num_verbs, num_conjs = [], [], []\n",
    "\n",
    "    for i in tqdm(range(len(data))):\n",
    "        nouns, verbs, conjs = 0, 0, 0\n",
    "        for elem in literal_eval(data[\"pos_list\"][i]):\n",
    "            #print(elem)\n",
    "            if elem == \"NOUN\":\n",
    "                nouns += 1\n",
    "            elif elem == \"VERB\":\n",
    "                verbs += 1\n",
    "            elif elem == \"CCONJ\":\n",
    "                conjs += 1\n",
    "        num_nouns.append(nouns)\n",
    "        num_verbs.append(verbs)\n",
    "        num_conjs.append(conjs)\n",
    "\n",
    "    data[\"num_nouns\"] = num_nouns\n",
    "    data[\"num_verbs\"] = num_verbs\n",
    "    data[\"num_conjs\"] = num_conjs\n",
    "\n",
    "    return data\n",
    "\n",
    "def getRatios(data):\n",
    "    data[\"ratio_nouns\"] = data.apply(lambda row: (row[\"num_nouns\"] / row[\"word_count\"]), axis=1)\n",
    "    data[\"ratio_verbs\"] = data.apply(lambda row: (row[\"num_verbs\"] / row[\"word_count\"]), axis=1)\n",
    "    data[\"ratio_conjs\"] = data.apply(lambda row: (row[\"num_conjs\"] / row[\"word_count\"]), axis=1)\n",
    "\n",
    "    return data"
   ]
  },
  {
   "cell_type": "code",
   "execution_count": 12,
   "metadata": {},
   "outputs": [
    {
     "name": "stderr",
     "output_type": "stream",
     "text": [
      "100%|██████████| 19500/19500 [00:03<00:00, 5205.31it/s]\n"
     ]
    }
   ],
   "source": [
    "#data['word_tokenize'] = data.apply(lambda row: word_tokenize(row['text']), axis=1)\n",
    "data = getNumbers(data)\n",
    "data = getRatios(data)\n"
   ]
  },
  {
   "cell_type": "code",
   "execution_count": 21,
   "metadata": {},
   "outputs": [
    {
     "data": {
      "text/html": [
       "<div>\n",
       "<style scoped>\n",
       "    .dataframe tbody tr th:only-of-type {\n",
       "        vertical-align: middle;\n",
       "    }\n",
       "\n",
       "    .dataframe tbody tr th {\n",
       "        vertical-align: top;\n",
       "    }\n",
       "\n",
       "    .dataframe thead th {\n",
       "        text-align: right;\n",
       "    }\n",
       "</style>\n",
       "<table border=\"1\" class=\"dataframe\">\n",
       "  <thead>\n",
       "    <tr style=\"text-align: right;\">\n",
       "      <th></th>\n",
       "      <th>text</th>\n",
       "      <th>text_list</th>\n",
       "      <th>lemma_list</th>\n",
       "      <th>pos_list</th>\n",
       "      <th>tag_list</th>\n",
       "      <th>dep_list</th>\n",
       "      <th>shape_list</th>\n",
       "      <th>alpha_list</th>\n",
       "      <th>stop_list</th>\n",
       "      <th>lemma_list_num_of_stopwords</th>\n",
       "      <th>...</th>\n",
       "      <th>sent_tokenize</th>\n",
       "      <th>word_tokenize</th>\n",
       "      <th>sentence_count</th>\n",
       "      <th>word_count</th>\n",
       "      <th>num_nouns</th>\n",
       "      <th>num_verbs</th>\n",
       "      <th>num_conjs</th>\n",
       "      <th>ratio_nouns</th>\n",
       "      <th>ratio_verbs</th>\n",
       "      <th>ratio_conjs</th>\n",
       "    </tr>\n",
       "  </thead>\n",
       "  <tbody>\n",
       "    <tr>\n",
       "      <th>0</th>\n",
       "      <td>This blog is being posted due to the fact that...</td>\n",
       "      <td>['This', 'blog', 'is', 'being', 'posted', 'due...</td>\n",
       "      <td>['this', 'blog', 'be', 'be', 'post', 'due', 't...</td>\n",
       "      <td>['DET', 'NOUN', 'AUX', 'AUX', 'VERB', 'ADP', '...</td>\n",
       "      <td>['DT', 'NN', 'VBZ', 'VBG', 'VBN', 'IN', 'IN', ...</td>\n",
       "      <td>['det', 'nsubjpass', 'aux', 'auxpass', 'ROOT',...</td>\n",
       "      <td>['Xxxx', 'xxxx', 'xx', 'xxxx', 'xxxx', 'xxx', ...</td>\n",
       "      <td>[True, True, True, True, True, True, True, Tru...</td>\n",
       "      <td>[True, False, True, True, False, True, True, T...</td>\n",
       "      <td>34</td>\n",
       "      <td>...</td>\n",
       "      <td>[This blog is being posted due to the fact tha...</td>\n",
       "      <td>[This, blog, is, being, posted, due, to, the, ...</td>\n",
       "      <td>4</td>\n",
       "      <td>91</td>\n",
       "      <td>17</td>\n",
       "      <td>15</td>\n",
       "      <td>1</td>\n",
       "      <td>0.186813</td>\n",
       "      <td>0.164835</td>\n",
       "      <td>0.010989</td>\n",
       "    </tr>\n",
       "    <tr>\n",
       "      <th>1</th>\n",
       "      <td>So I have a big fucking interview tomorrow for...</td>\n",
       "      <td>['So', 'I', 'have', 'a', 'big', 'fucking', 'in...</td>\n",
       "      <td>['so', '-PRON-', 'have', 'a', 'big', 'fucking'...</td>\n",
       "      <td>['CCONJ', 'PRON', 'AUX', 'DET', 'ADJ', 'ADJ', ...</td>\n",
       "      <td>['CC', 'PRP', 'VBP', 'DT', 'JJ', 'JJ', 'NN', '...</td>\n",
       "      <td>['advmod', 'nsubj', 'ROOT', 'det', 'amod', 'am...</td>\n",
       "      <td>['Xx', 'X', 'xxxx', 'x', 'xxx', 'xxxx', 'xxxx'...</td>\n",
       "      <td>[True, True, True, True, True, True, True, Tru...</td>\n",
       "      <td>[True, True, True, True, False, False, False, ...</td>\n",
       "      <td>32</td>\n",
       "      <td>...</td>\n",
       "      <td>[So I have a big fucking interview tomorrow fo...</td>\n",
       "      <td>[So, I, have, a, big, fucking, interview, tomo...</td>\n",
       "      <td>5</td>\n",
       "      <td>88</td>\n",
       "      <td>12</td>\n",
       "      <td>13</td>\n",
       "      <td>2</td>\n",
       "      <td>0.136364</td>\n",
       "      <td>0.147727</td>\n",
       "      <td>0.022727</td>\n",
       "    </tr>\n",
       "  </tbody>\n",
       "</table>\n",
       "<p>2 rows × 30 columns</p>\n",
       "</div>"
      ],
      "text/plain": [
       "                                                text  \\\n",
       "0  This blog is being posted due to the fact that...   \n",
       "1  So I have a big fucking interview tomorrow for...   \n",
       "\n",
       "                                           text_list  \\\n",
       "0  ['This', 'blog', 'is', 'being', 'posted', 'due...   \n",
       "1  ['So', 'I', 'have', 'a', 'big', 'fucking', 'in...   \n",
       "\n",
       "                                          lemma_list  \\\n",
       "0  ['this', 'blog', 'be', 'be', 'post', 'due', 't...   \n",
       "1  ['so', '-PRON-', 'have', 'a', 'big', 'fucking'...   \n",
       "\n",
       "                                            pos_list  \\\n",
       "0  ['DET', 'NOUN', 'AUX', 'AUX', 'VERB', 'ADP', '...   \n",
       "1  ['CCONJ', 'PRON', 'AUX', 'DET', 'ADJ', 'ADJ', ...   \n",
       "\n",
       "                                            tag_list  \\\n",
       "0  ['DT', 'NN', 'VBZ', 'VBG', 'VBN', 'IN', 'IN', ...   \n",
       "1  ['CC', 'PRP', 'VBP', 'DT', 'JJ', 'JJ', 'NN', '...   \n",
       "\n",
       "                                            dep_list  \\\n",
       "0  ['det', 'nsubjpass', 'aux', 'auxpass', 'ROOT',...   \n",
       "1  ['advmod', 'nsubj', 'ROOT', 'det', 'amod', 'am...   \n",
       "\n",
       "                                          shape_list  \\\n",
       "0  ['Xxxx', 'xxxx', 'xx', 'xxxx', 'xxxx', 'xxx', ...   \n",
       "1  ['Xx', 'X', 'xxxx', 'x', 'xxx', 'xxxx', 'xxxx'...   \n",
       "\n",
       "                                          alpha_list  \\\n",
       "0  [True, True, True, True, True, True, True, Tru...   \n",
       "1  [True, True, True, True, True, True, True, Tru...   \n",
       "\n",
       "                                           stop_list  \\\n",
       "0  [True, False, True, True, False, True, True, T...   \n",
       "1  [True, True, True, True, False, False, False, ...   \n",
       "\n",
       "   lemma_list_num_of_stopwords  ...  \\\n",
       "0                           34  ...   \n",
       "1                           32  ...   \n",
       "\n",
       "                                       sent_tokenize  \\\n",
       "0  [This blog is being posted due to the fact tha...   \n",
       "1  [So I have a big fucking interview tomorrow fo...   \n",
       "\n",
       "                                       word_tokenize sentence_count  \\\n",
       "0  [This, blog, is, being, posted, due, to, the, ...              4   \n",
       "1  [So, I, have, a, big, fucking, interview, tomo...              5   \n",
       "\n",
       "  word_count num_nouns num_verbs  num_conjs  ratio_nouns ratio_verbs  \\\n",
       "0         91        17        15          1     0.186813    0.164835   \n",
       "1         88        12        13          2     0.136364    0.147727   \n",
       "\n",
       "  ratio_conjs  \n",
       "0    0.010989  \n",
       "1    0.022727  \n",
       "\n",
       "[2 rows x 30 columns]"
      ]
     },
     "execution_count": 21,
     "metadata": {},
     "output_type": "execute_result"
    }
   ],
   "source": [
    "data.head(2)"
   ]
  },
  {
   "cell_type": "code",
   "execution_count": 26,
   "metadata": {},
   "outputs": [
    {
     "data": {
      "text/plain": [
       "<function matplotlib.pyplot.show(close=None, block=None)>"
      ]
     },
     "execution_count": 26,
     "metadata": {},
     "output_type": "execute_result"
    },
    {
     "data": {
      "image/png": "[encoded data removed]",
      "text/plain": [
       "<Figure size 1000x500 with 2 Axes>"
      ]
     },
     "metadata": {},
     "output_type": "display_data"
    }
   ],
   "source": [
    "plt.figure(figsize=(10,5))\n",
    "sb.heatmap(data.corr())\n",
    "plt.show"
   ]
  },
  {
   "cell_type": "code",
   "execution_count": 4,
   "metadata": {},
   "outputs": [],
   "source": [
    "from transformers import pipeline, AutoTokenizer"
   ]
  },
  {
   "cell_type": "code",
   "execution_count": 5,
   "metadata": {},
   "outputs": [],
   "source": [
    "tokenizer = AutoTokenizer.from_pretrained(\"bert-base-uncased\")\n",
    "\n",
    "def tokenizer_function(input_string, padding=True, truncation=True, return_tensors=\"pt\"):\n",
    "    return tokenizer(input_string, padding=padding, truncation=truncation, return_tensors=return_tensors)"
   ]
  },
  {
   "cell_type": "code",
   "execution_count": 6,
   "metadata": {},
   "outputs": [
    {
     "name": "stderr",
     "output_type": "stream",
     "text": [
      "  0%|          | 0/19500 [00:00<?, ?it/s]C:\\Users\\nikla\\AppData\\Local\\Temp\\ipykernel_18144\\2452050011.py:3: SettingWithCopyWarning: \n",
      "A value is trying to be set on a copy of a slice from a DataFrame\n",
      "\n",
      "See the caveats in the documentation: https://pandas.pydata.org/pandas-docs/stable/user_guide/indexing.html#returning-a-view-versus-a-copy\n",
      "  data[\"tok\"][i] = tokenizer_function(data[\"text\"][i])\n",
      "100%|██████████| 19500/19500 [00:08<00:00, 2382.59it/s]\n"
     ]
    }
   ],
   "source": [
    "data[\"tok\"] = 0\n",
    "for i in tqdm(range(len(data))):\n",
    "    data[\"tok\"][i] = tokenizer_function(data[\"text\"][i])\n"
   ]
  },
  {
   "cell_type": "code",
   "execution_count": 7,
   "metadata": {},
   "outputs": [
    {
     "data": {
      "text/plain": [
       "tensor([[  101,  2061,  1045,  2031,  1037,  2502,  8239,  4357,  4826,  2005,\n",
       "          2026,  2047,  2082,  1012,  1045,  2572,  2036,  6015,  1997,  3331,\n",
       "          2000,  2111,  2008,  1045,  2123,  1005,  1056,  2113,  2164,  3057,\n",
       "          1012,  2061,  2008,  1005,  1055,  2183,  2000,  2404,  2033,  1999,\n",
       "          1037,  2919,  3962,  1012,  1998,  1045,  4687,  2054,  3980,  2008,\n",
       "          2027,  1005,  2222,  3198,  1012,  2009,  1005,  1055,  2763,  2242,\n",
       "          2066,  1024,  1011,  2339,  2106,  2017,  6611,  2000, 12997,  7898,\n",
       "          1011,  2013,  2115,  2034,  3193,  2054, 19802, 22139,  2015, 12997,\n",
       "          7898,  2013,  2151,  2060,  2082,  1011,  2097,  2017,  2022,  2478,\n",
       "          1996, 20116,  2226, 13433, 21781,  3075,  2411,  2151,  2393,  2065,\n",
       "          2017,  2064,   102]])"
      ]
     },
     "execution_count": 7,
     "metadata": {},
     "output_type": "execute_result"
    }
   ],
   "source": [
    "data[\"tok\"][1][\"input_ids\"]"
   ]
  },
  {
   "cell_type": "code",
   "execution_count": 8,
   "metadata": {},
   "outputs": [],
   "source": [
    "small_train_dataset = data[data.index <= (len(data)*0.75)]\n",
    "small_test_dataset = data[data.index > (len(data)*0.75)]\n",
    "\n",
    "small_train_dataset = small_train_dataset.rename(columns={\"gender\": \"labels\", \"tok\": \"logits\"})\n",
    "small_test_dataset = small_test_dataset.rename(columns={\"gender\": \"labels\", \"tok\": \"logits\"})"
   ]
  },
  {
   "cell_type": "code",
   "execution_count": 9,
   "metadata": {},
   "outputs": [],
   "source": [
    "small_train_dataset = small_train_dataset[[\"labels\", \"logits\"]].to_dict()\n",
    "small_test_dataset = small_test_dataset[[\"labels\", \"logits\"]].to_dict()"
   ]
  },
  {
   "cell_type": "code",
   "execution_count": 10,
   "metadata": {},
   "outputs": [
    {
     "ename": "RuntimeError",
     "evalue": "Failed to import transformers.trainer because of the following error (look up to see its traceback):\nDLL load failed while importing lib: Die angegebene Prozedur wurde nicht gefunden.",
     "output_type": "error",
     "traceback": [
      "\u001b[1;31m---------------------------------------------------------------------------\u001b[0m",
      "\u001b[1;31mImportError\u001b[0m                               Traceback (most recent call last)",
      "File \u001b[1;32mc:\\Users\\nikla\\anaconda3\\envs\\NLP\\lib\\site-packages\\transformers\\utils\\import_utils.py:1093\u001b[0m, in \u001b[0;36m_LazyModule._get_module\u001b[1;34m(self, module_name)\u001b[0m\n\u001b[0;32m   1092\u001b[0m \u001b[39mtry\u001b[39;00m:\n\u001b[1;32m-> 1093\u001b[0m     \u001b[39mreturn\u001b[39;00m importlib\u001b[39m.\u001b[39;49mimport_module(\u001b[39m\"\u001b[39;49m\u001b[39m.\u001b[39;49m\u001b[39m\"\u001b[39;49m \u001b[39m+\u001b[39;49m module_name, \u001b[39mself\u001b[39;49m\u001b[39m.\u001b[39;49m\u001b[39m__name__\u001b[39;49m)\n\u001b[0;32m   1094\u001b[0m \u001b[39mexcept\u001b[39;00m \u001b[39mException\u001b[39;00m \u001b[39mas\u001b[39;00m e:\n",
      "File \u001b[1;32mc:\\Users\\nikla\\anaconda3\\envs\\NLP\\lib\\importlib\\__init__.py:127\u001b[0m, in \u001b[0;36mimport_module\u001b[1;34m(name, package)\u001b[0m\n\u001b[0;32m    126\u001b[0m         level \u001b[39m+\u001b[39m\u001b[39m=\u001b[39m \u001b[39m1\u001b[39m\n\u001b[1;32m--> 127\u001b[0m \u001b[39mreturn\u001b[39;00m _bootstrap\u001b[39m.\u001b[39;49m_gcd_import(name[level:], package, level)\n",
      "File \u001b[1;32m<frozen importlib._bootstrap>:1030\u001b[0m, in \u001b[0;36m_gcd_import\u001b[1;34m(name, package, level)\u001b[0m\n",
      "File \u001b[1;32m<frozen importlib._bootstrap>:1007\u001b[0m, in \u001b[0;36m_find_and_load\u001b[1;34m(name, import_)\u001b[0m\n",
      "File \u001b[1;32m<frozen importlib._bootstrap>:986\u001b[0m, in \u001b[0;36m_find_and_load_unlocked\u001b[1;34m(name, import_)\u001b[0m\n",
      "File \u001b[1;32m<frozen importlib._bootstrap>:680\u001b[0m, in \u001b[0;36m_load_unlocked\u001b[1;34m(spec)\u001b[0m\n",
      "File \u001b[1;32m<frozen importlib._bootstrap_external>:850\u001b[0m, in \u001b[0;36mexec_module\u001b[1;34m(self, module)\u001b[0m\n",
      "File \u001b[1;32m<frozen importlib._bootstrap>:228\u001b[0m, in \u001b[0;36m_call_with_frames_removed\u001b[1;34m(f, *args, **kwds)\u001b[0m\n",
      "File \u001b[1;32mc:\\Users\\nikla\\anaconda3\\envs\\NLP\\lib\\site-packages\\transformers\\trainer.py:168\u001b[0m, in \u001b[0;36m<module>\u001b[1;34m\u001b[0m\n\u001b[0;32m    167\u001b[0m \u001b[39mif\u001b[39;00m is_datasets_available():\n\u001b[1;32m--> 168\u001b[0m     \u001b[39mimport\u001b[39;00m \u001b[39mdatasets\u001b[39;00m\n\u001b[0;32m    170\u001b[0m \u001b[39mif\u001b[39;00m is_torch_tpu_available(check_device\u001b[39m=\u001b[39m\u001b[39mFalse\u001b[39;00m):\n",
      "File \u001b[1;32mc:\\Users\\nikla\\anaconda3\\envs\\NLP\\lib\\site-packages\\datasets\\__init__.py:24\u001b[0m, in \u001b[0;36m<module>\u001b[1;34m\u001b[0m\n\u001b[0;32m     22\u001b[0m \u001b[39mimport\u001b[39;00m \u001b[39mplatform\u001b[39;00m\n\u001b[1;32m---> 24\u001b[0m \u001b[39mimport\u001b[39;00m \u001b[39mpyarrow\u001b[39;00m\n\u001b[0;32m     25\u001b[0m \u001b[39mfrom\u001b[39;00m \u001b[39mpackaging\u001b[39;00m \u001b[39mimport\u001b[39;00m version\n",
      "File \u001b[1;32mc:\\Users\\nikla\\anaconda3\\envs\\NLP\\lib\\site-packages\\pyarrow\\__init__.py:65\u001b[0m, in \u001b[0;36m<module>\u001b[1;34m\u001b[0m\n\u001b[0;32m     64\u001b[0m _gc\u001b[39m.\u001b[39mdisable()\n\u001b[1;32m---> 65\u001b[0m \u001b[39mimport\u001b[39;00m \u001b[39mpyarrow\u001b[39;00m\u001b[39m.\u001b[39;00m\u001b[39mlib\u001b[39;00m \u001b[39mas\u001b[39;00m \u001b[39m_lib\u001b[39;00m\n\u001b[0;32m     66\u001b[0m \u001b[39mif\u001b[39;00m _gc_enabled:\n",
      "\u001b[1;31mImportError\u001b[0m: DLL load failed while importing lib: Die angegebene Prozedur wurde nicht gefunden.",
      "\nThe above exception was the direct cause of the following exception:\n",
      "\u001b[1;31mRuntimeError\u001b[0m                              Traceback (most recent call last)",
      "\u001b[1;32mc:\\Users\\nikla\\workspace\\Machine Learning DHBW\\Autorenmerkmale\\Author_Identification\\gender.ipynb Cell 30\u001b[0m in \u001b[0;36m<cell line: 1>\u001b[1;34m()\u001b[0m\n\u001b[1;32m----> <a href='vscode-notebook-cell:/c%3A/Users/nikla/workspace/Machine%20Learning%20DHBW/Autorenmerkmale/Author_Identification/gender.ipynb#X41sZmlsZQ%3D%3D?line=0'>1</a>\u001b[0m \u001b[39mfrom\u001b[39;00m \u001b[39mtransformers\u001b[39;00m \u001b[39mimport\u001b[39;00m AutoModelForSequenceClassification, TrainingArguments, Trainer\n\u001b[0;32m      <a href='vscode-notebook-cell:/c%3A/Users/nikla/workspace/Machine%20Learning%20DHBW/Autorenmerkmale/Author_Identification/gender.ipynb#X41sZmlsZQ%3D%3D?line=1'>2</a>\u001b[0m \u001b[39mimport\u001b[39;00m \u001b[39mevaluate\u001b[39;00m\n\u001b[0;32m      <a href='vscode-notebook-cell:/c%3A/Users/nikla/workspace/Machine%20Learning%20DHBW/Autorenmerkmale/Author_Identification/gender.ipynb#X41sZmlsZQ%3D%3D?line=2'>3</a>\u001b[0m \u001b[39mfrom\u001b[39;00m \u001b[39mtorch\u001b[39;00m \u001b[39mimport\u001b[39;00m nn\n",
      "File \u001b[1;32m<frozen importlib._bootstrap>:1055\u001b[0m, in \u001b[0;36m_handle_fromlist\u001b[1;34m(module, fromlist, import_, recursive)\u001b[0m\n",
      "File \u001b[1;32mc:\\Users\\nikla\\anaconda3\\envs\\NLP\\lib\\site-packages\\transformers\\utils\\import_utils.py:1083\u001b[0m, in \u001b[0;36m_LazyModule.__getattr__\u001b[1;34m(self, name)\u001b[0m\n\u001b[0;32m   1081\u001b[0m     value \u001b[39m=\u001b[39m \u001b[39mself\u001b[39m\u001b[39m.\u001b[39m_get_module(name)\n\u001b[0;32m   1082\u001b[0m \u001b[39melif\u001b[39;00m name \u001b[39min\u001b[39;00m \u001b[39mself\u001b[39m\u001b[39m.\u001b[39m_class_to_module\u001b[39m.\u001b[39mkeys():\n\u001b[1;32m-> 1083\u001b[0m     module \u001b[39m=\u001b[39m \u001b[39mself\u001b[39;49m\u001b[39m.\u001b[39;49m_get_module(\u001b[39mself\u001b[39;49m\u001b[39m.\u001b[39;49m_class_to_module[name])\n\u001b[0;32m   1084\u001b[0m     value \u001b[39m=\u001b[39m \u001b[39mgetattr\u001b[39m(module, name)\n\u001b[0;32m   1085\u001b[0m \u001b[39melse\u001b[39;00m:\n",
      "File \u001b[1;32mc:\\Users\\nikla\\anaconda3\\envs\\NLP\\lib\\site-packages\\transformers\\utils\\import_utils.py:1095\u001b[0m, in \u001b[0;36m_LazyModule._get_module\u001b[1;34m(self, module_name)\u001b[0m\n\u001b[0;32m   1093\u001b[0m     \u001b[39mreturn\u001b[39;00m importlib\u001b[39m.\u001b[39mimport_module(\u001b[39m\"\u001b[39m\u001b[39m.\u001b[39m\u001b[39m\"\u001b[39m \u001b[39m+\u001b[39m module_name, \u001b[39mself\u001b[39m\u001b[39m.\u001b[39m\u001b[39m__name__\u001b[39m)\n\u001b[0;32m   1094\u001b[0m \u001b[39mexcept\u001b[39;00m \u001b[39mException\u001b[39;00m \u001b[39mas\u001b[39;00m e:\n\u001b[1;32m-> 1095\u001b[0m     \u001b[39mraise\u001b[39;00m \u001b[39mRuntimeError\u001b[39;00m(\n\u001b[0;32m   1096\u001b[0m         \u001b[39mf\u001b[39m\u001b[39m\"\u001b[39m\u001b[39mFailed to import \u001b[39m\u001b[39m{\u001b[39;00m\u001b[39mself\u001b[39m\u001b[39m.\u001b[39m\u001b[39m__name__\u001b[39m\u001b[39m}\u001b[39;00m\u001b[39m.\u001b[39m\u001b[39m{\u001b[39;00mmodule_name\u001b[39m}\u001b[39;00m\u001b[39m because of the following error (look up to see its\u001b[39m\u001b[39m\"\u001b[39m\n\u001b[0;32m   1097\u001b[0m         \u001b[39mf\u001b[39m\u001b[39m\"\u001b[39m\u001b[39m traceback):\u001b[39m\u001b[39m\\n\u001b[39;00m\u001b[39m{\u001b[39;00me\u001b[39m}\u001b[39;00m\u001b[39m\"\u001b[39m\n\u001b[0;32m   1098\u001b[0m     ) \u001b[39mfrom\u001b[39;00m \u001b[39me\u001b[39;00m\n",
      "\u001b[1;31mRuntimeError\u001b[0m: Failed to import transformers.trainer because of the following error (look up to see its traceback):\nDLL load failed while importing lib: Die angegebene Prozedur wurde nicht gefunden."
     ]
    }
   ],
   "source": [
    "from transformers import AutoModelForSequenceClassification, TrainingArguments, Trainer\n",
    "import evaluate\n",
    "from torch import nn"
   ]
  },
  {
   "cell_type": "code",
   "execution_count": 27,
   "metadata": {},
   "outputs": [
    {
     "name": "stderr",
     "output_type": "stream",
     "text": [
      "Downloading: 100%|██████████| 570/570 [00:00<00:00, 378kB/s]\n",
      "Downloading: 100%|██████████| 436M/436M [00:40<00:00, 10.8MB/s] \n",
      "Some weights of the model checkpoint at bert-base-cased were not used when initializing BertForSequenceClassification: ['cls.predictions.transform.dense.weight', 'cls.predictions.decoder.weight', 'cls.seq_relationship.weight', 'cls.predictions.transform.dense.bias', 'cls.predictions.transform.LayerNorm.weight', 'cls.seq_relationship.bias', 'cls.predictions.bias', 'cls.predictions.transform.LayerNorm.bias']\n",
      "- This IS expected if you are initializing BertForSequenceClassification from the checkpoint of a model trained on another task or with another architecture (e.g. initializing a BertForSequenceClassification model from a BertForPreTraining model).\n",
      "- This IS NOT expected if you are initializing BertForSequenceClassification from the checkpoint of a model that you expect to be exactly identical (initializing a BertForSequenceClassification model from a BertForSequenceClassification model).\n",
      "Some weights of BertForSequenceClassification were not initialized from the model checkpoint at bert-base-cased and are newly initialized: ['classifier.weight', 'classifier.bias']\n",
      "You should probably TRAIN this model on a down-stream task to be able to use it for predictions and inference.\n"
     ]
    }
   ],
   "source": [
    "model = AutoModelForSequenceClassification.from_pretrained(\"bert-base-cased\", num_labels = 2)"
   ]
  },
  {
   "cell_type": "code",
   "execution_count": 32,
   "metadata": {},
   "outputs": [],
   "source": [
    "training_args = TrainingArguments(output_dir=\"test_trainer\", evaluation_strategy=\"epoch\")\n",
    "metric = evaluate.load(\"accuracy\")"
   ]
  },
  {
   "cell_type": "code",
   "execution_count": 31,
   "metadata": {},
   "outputs": [],
   "source": [
    "def compute_metrics(eval_pred):\n",
    "    logits, labels = eval_pred\n",
    "    predictions = np.argmax(logits, axis=1)\n",
    "    return metric.compute(predictions=predictions, references=labels)"
   ]
  },
  {
   "cell_type": "code",
   "execution_count": 48,
   "metadata": {},
   "outputs": [],
   "source": [
    "class CustomTrainer(Trainer):\n",
    "    def compute_loss(self, model, inputs, return_outputs=False):\n",
    "        labels = inputs.get(\"labels\")\n",
    "        # forward pass\n",
    "        outputs = model(**inputs)\n",
    "        logits = outputs.get(\"logits\")\n",
    "        # compute custom loss (suppose one has 3 labels with different weights)\n",
    "        loss_fct = nn.CrossEntropyLoss(weight=torch.tensor([1.0, 2.0, 3.0]))\n",
    "        loss = loss_fct(logits.view(-1, self.model.config.num_labels), labels.view(-1))\n",
    "        return (loss, outputs) if return_outputs else loss"
   ]
  },
  {
   "cell_type": "code",
   "execution_count": 49,
   "metadata": {},
   "outputs": [],
   "source": [
    "trainer = CustomTrainer(\n",
    "    model = model,\n",
    "    args = training_args,\n",
    "    train_dataset = small_train_dataset,\n",
    "    eval_dataset = small_test_dataset,\n",
    "    compute_metrics = compute_metrics,\n",
    ")"
   ]
  },
  {
   "cell_type": "code",
   "execution_count": 52,
   "metadata": {},
   "outputs": [
    {
     "name": "stderr",
     "output_type": "stream",
     "text": [
      "***** Running training *****\n",
      "  Num examples = 2\n",
      "  Num Epochs = 3\n",
      "  Instantaneous batch size per device = 8\n",
      "  Total train batch size (w. parallel, distributed & accumulation) = 8\n",
      "  Gradient Accumulation steps = 1\n",
      "  Total optimization steps = 3\n",
      "  Number of trainable parameters = 108311810\n",
      "\n",
      "\n",
      "  0%|          | 0/3 [00:23<?, ?it/s]\n"
     ]
    },
    {
     "ename": "KeyError",
     "evalue": "0",
     "output_type": "error",
     "traceback": [
      "\u001b[1;31m---------------------------------------------------------------------------\u001b[0m",
      "\u001b[1;31mKeyError\u001b[0m                                  Traceback (most recent call last)",
      "\u001b[1;32mc:\\Users\\nikla\\workspace\\Machine Learning DHBW\\Autorenmerkmale\\Author_Identification\\gender.ipynb Cell 36\u001b[0m in \u001b[0;36m<cell line: 1>\u001b[1;34m()\u001b[0m\n\u001b[1;32m----> <a href='vscode-notebook-cell:/c%3A/Users/nikla/workspace/Machine%20Learning%20DHBW/Autorenmerkmale/Author_Identification/gender.ipynb#X53sZmlsZQ%3D%3D?line=0'>1</a>\u001b[0m trainer\u001b[39m.\u001b[39;49mtrain()\n",
      "File \u001b[1;32mc:\\Users\\nikla\\anaconda3\\envs\\NLP\\lib\\site-packages\\transformers\\trainer.py:1527\u001b[0m, in \u001b[0;36mTrainer.train\u001b[1;34m(self, resume_from_checkpoint, trial, ignore_keys_for_eval, **kwargs)\u001b[0m\n\u001b[0;32m   1522\u001b[0m     \u001b[39mself\u001b[39m\u001b[39m.\u001b[39mmodel_wrapped \u001b[39m=\u001b[39m \u001b[39mself\u001b[39m\u001b[39m.\u001b[39mmodel\n\u001b[0;32m   1524\u001b[0m inner_training_loop \u001b[39m=\u001b[39m find_executable_batch_size(\n\u001b[0;32m   1525\u001b[0m     \u001b[39mself\u001b[39m\u001b[39m.\u001b[39m_inner_training_loop, \u001b[39mself\u001b[39m\u001b[39m.\u001b[39m_train_batch_size, args\u001b[39m.\u001b[39mauto_find_batch_size\n\u001b[0;32m   1526\u001b[0m )\n\u001b[1;32m-> 1527\u001b[0m \u001b[39mreturn\u001b[39;00m inner_training_loop(\n\u001b[0;32m   1528\u001b[0m     args\u001b[39m=\u001b[39;49margs,\n\u001b[0;32m   1529\u001b[0m     resume_from_checkpoint\u001b[39m=\u001b[39;49mresume_from_checkpoint,\n\u001b[0;32m   1530\u001b[0m     trial\u001b[39m=\u001b[39;49mtrial,\n\u001b[0;32m   1531\u001b[0m     ignore_keys_for_eval\u001b[39m=\u001b[39;49mignore_keys_for_eval,\n\u001b[0;32m   1532\u001b[0m )\n",
      "File \u001b[1;32mc:\\Users\\nikla\\anaconda3\\envs\\NLP\\lib\\site-packages\\transformers\\trainer.py:1749\u001b[0m, in \u001b[0;36mTrainer._inner_training_loop\u001b[1;34m(self, batch_size, args, resume_from_checkpoint, trial, ignore_keys_for_eval)\u001b[0m\n\u001b[0;32m   1746\u001b[0m     \u001b[39mself\u001b[39m\u001b[39m.\u001b[39m_load_rng_state(resume_from_checkpoint)\n\u001b[0;32m   1748\u001b[0m step \u001b[39m=\u001b[39m \u001b[39m-\u001b[39m\u001b[39m1\u001b[39m\n\u001b[1;32m-> 1749\u001b[0m \u001b[39mfor\u001b[39;00m step, inputs \u001b[39min\u001b[39;00m \u001b[39menumerate\u001b[39m(epoch_iterator):\n\u001b[0;32m   1750\u001b[0m \n\u001b[0;32m   1751\u001b[0m     \u001b[39m# Skip past any already trained steps if resuming training\u001b[39;00m\n\u001b[0;32m   1752\u001b[0m     \u001b[39mif\u001b[39;00m steps_trained_in_current_epoch \u001b[39m>\u001b[39m \u001b[39m0\u001b[39m:\n\u001b[0;32m   1753\u001b[0m         steps_trained_in_current_epoch \u001b[39m-\u001b[39m\u001b[39m=\u001b[39m \u001b[39m1\u001b[39m\n",
      "File \u001b[1;32mc:\\Users\\nikla\\anaconda3\\envs\\NLP\\lib\\site-packages\\torch\\utils\\data\\dataloader.py:628\u001b[0m, in \u001b[0;36m_BaseDataLoaderIter.__next__\u001b[1;34m(self)\u001b[0m\n\u001b[0;32m    625\u001b[0m \u001b[39mif\u001b[39;00m \u001b[39mself\u001b[39m\u001b[39m.\u001b[39m_sampler_iter \u001b[39mis\u001b[39;00m \u001b[39mNone\u001b[39;00m:\n\u001b[0;32m    626\u001b[0m     \u001b[39m# TODO(https://github.com/pytorch/pytorch/issues/76750)\u001b[39;00m\n\u001b[0;32m    627\u001b[0m     \u001b[39mself\u001b[39m\u001b[39m.\u001b[39m_reset()  \u001b[39m# type: ignore[call-arg]\u001b[39;00m\n\u001b[1;32m--> 628\u001b[0m data \u001b[39m=\u001b[39m \u001b[39mself\u001b[39;49m\u001b[39m.\u001b[39;49m_next_data()\n\u001b[0;32m    629\u001b[0m \u001b[39mself\u001b[39m\u001b[39m.\u001b[39m_num_yielded \u001b[39m+\u001b[39m\u001b[39m=\u001b[39m \u001b[39m1\u001b[39m\n\u001b[0;32m    630\u001b[0m \u001b[39mif\u001b[39;00m \u001b[39mself\u001b[39m\u001b[39m.\u001b[39m_dataset_kind \u001b[39m==\u001b[39m _DatasetKind\u001b[39m.\u001b[39mIterable \u001b[39mand\u001b[39;00m \\\n\u001b[0;32m    631\u001b[0m         \u001b[39mself\u001b[39m\u001b[39m.\u001b[39m_IterableDataset_len_called \u001b[39mis\u001b[39;00m \u001b[39mnot\u001b[39;00m \u001b[39mNone\u001b[39;00m \u001b[39mand\u001b[39;00m \\\n\u001b[0;32m    632\u001b[0m         \u001b[39mself\u001b[39m\u001b[39m.\u001b[39m_num_yielded \u001b[39m>\u001b[39m \u001b[39mself\u001b[39m\u001b[39m.\u001b[39m_IterableDataset_len_called:\n",
      "File \u001b[1;32mc:\\Users\\nikla\\anaconda3\\envs\\NLP\\lib\\site-packages\\torch\\utils\\data\\dataloader.py:671\u001b[0m, in \u001b[0;36m_SingleProcessDataLoaderIter._next_data\u001b[1;34m(self)\u001b[0m\n\u001b[0;32m    669\u001b[0m \u001b[39mdef\u001b[39;00m \u001b[39m_next_data\u001b[39m(\u001b[39mself\u001b[39m):\n\u001b[0;32m    670\u001b[0m     index \u001b[39m=\u001b[39m \u001b[39mself\u001b[39m\u001b[39m.\u001b[39m_next_index()  \u001b[39m# may raise StopIteration\u001b[39;00m\n\u001b[1;32m--> 671\u001b[0m     data \u001b[39m=\u001b[39m \u001b[39mself\u001b[39;49m\u001b[39m.\u001b[39;49m_dataset_fetcher\u001b[39m.\u001b[39;49mfetch(index)  \u001b[39m# may raise StopIteration\u001b[39;00m\n\u001b[0;32m    672\u001b[0m     \u001b[39mif\u001b[39;00m \u001b[39mself\u001b[39m\u001b[39m.\u001b[39m_pin_memory:\n\u001b[0;32m    673\u001b[0m         data \u001b[39m=\u001b[39m _utils\u001b[39m.\u001b[39mpin_memory\u001b[39m.\u001b[39mpin_memory(data, \u001b[39mself\u001b[39m\u001b[39m.\u001b[39m_pin_memory_device)\n",
      "File \u001b[1;32mc:\\Users\\nikla\\anaconda3\\envs\\NLP\\lib\\site-packages\\torch\\utils\\data\\_utils\\fetch.py:58\u001b[0m, in \u001b[0;36m_MapDatasetFetcher.fetch\u001b[1;34m(self, possibly_batched_index)\u001b[0m\n\u001b[0;32m     56\u001b[0m         data \u001b[39m=\u001b[39m \u001b[39mself\u001b[39m\u001b[39m.\u001b[39mdataset\u001b[39m.\u001b[39m__getitems__(possibly_batched_index)\n\u001b[0;32m     57\u001b[0m     \u001b[39melse\u001b[39;00m:\n\u001b[1;32m---> 58\u001b[0m         data \u001b[39m=\u001b[39m [\u001b[39mself\u001b[39m\u001b[39m.\u001b[39mdataset[idx] \u001b[39mfor\u001b[39;00m idx \u001b[39min\u001b[39;00m possibly_batched_index]\n\u001b[0;32m     59\u001b[0m \u001b[39melse\u001b[39;00m:\n\u001b[0;32m     60\u001b[0m     data \u001b[39m=\u001b[39m \u001b[39mself\u001b[39m\u001b[39m.\u001b[39mdataset[possibly_batched_index]\n",
      "File \u001b[1;32mc:\\Users\\nikla\\anaconda3\\envs\\NLP\\lib\\site-packages\\torch\\utils\\data\\_utils\\fetch.py:58\u001b[0m, in \u001b[0;36m<listcomp>\u001b[1;34m(.0)\u001b[0m\n\u001b[0;32m     56\u001b[0m         data \u001b[39m=\u001b[39m \u001b[39mself\u001b[39m\u001b[39m.\u001b[39mdataset\u001b[39m.\u001b[39m__getitems__(possibly_batched_index)\n\u001b[0;32m     57\u001b[0m     \u001b[39melse\u001b[39;00m:\n\u001b[1;32m---> 58\u001b[0m         data \u001b[39m=\u001b[39m [\u001b[39mself\u001b[39;49m\u001b[39m.\u001b[39;49mdataset[idx] \u001b[39mfor\u001b[39;00m idx \u001b[39min\u001b[39;00m possibly_batched_index]\n\u001b[0;32m     59\u001b[0m \u001b[39melse\u001b[39;00m:\n\u001b[0;32m     60\u001b[0m     data \u001b[39m=\u001b[39m \u001b[39mself\u001b[39m\u001b[39m.\u001b[39mdataset[possibly_batched_index]\n",
      "\u001b[1;31mKeyError\u001b[0m: 0"
     ]
    }
   ],
   "source": [
    "trainer.train()"
   ]
  },
  {
   "cell_type": "code",
   "execution_count": null,
   "metadata": {},
   "outputs": [],
   "source": []
  }
 ],
 "metadata": {
  "kernelspec": {
   "display_name": "Python 3.9.12 ('NLP')",
   "language": "python",
   "name": "python3"
  },
  "language_info": {
   "codemirror_mode": {
    "name": "ipython",
    "version": 3
   },
   "file_extension": ".py",
   "mimetype": "text/x-python",
   "name": "python",
   "nbconvert_exporter": "python",
   "pygments_lexer": "ipython3",
   "version": "3.9.12"
  },
  "orig_nbformat": 4,
  "vscode": {
   "interpreter": {
    "hash": "cde137ca4d604021dfeee5cc69f15444c7734737e8b71c16850c523803c8f980"
   }
  }
 },
 "nbformat": 4,
 "nbformat_minor": 2
}
