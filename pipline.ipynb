{
 "cells": [
  {
   "cell_type": "code",
   "execution_count": 1,
   "metadata": {},
   "outputs": [],
   "source": [
    "import pandas as pd\n",
    "import matplotlib.pyplot as mltp\n",
    "import nltk\n",
    "from nltk.tokenize import word_tokenize, sent_tokenize\n",
    "from nltk.stem.porter import PorterStemmer\n",
    "import sklearn as sk\n",
    "import seaborn as sea\n",
    "import re \n",
    "import tqdm\n",
    "\n",
    "df=pd.read_csv('Datei/blogtext.csv')"
   ]
  },
  {
   "cell_type": "code",
   "execution_count": 2,
   "metadata": {},
   "outputs": [
    {
     "name": "stderr",
     "output_type": "stream",
     "text": [
      "[nltk_data] Downloading package stopwords to\n",
      "[nltk_data]     /Users/niclascramer/nltk_data...\n",
      "[nltk_data]   Package stopwords is already up-to-date!\n"
     ]
    }
   ],
   "source": [
    "nltk.download(\"stopwords\")\n",
    "from nltk.corpus import stopwords"
   ]
  },
  {
   "cell_type": "code",
   "execution_count": 2,
   "metadata": {},
   "outputs": [
    {
     "data": {
      "text/html": [
       "<div>\n",
       "<style scoped>\n",
       "    .dataframe tbody tr th:only-of-type {\n",
       "        vertical-align: middle;\n",
       "    }\n",
       "\n",
       "    .dataframe tbody tr th {\n",
       "        vertical-align: top;\n",
       "    }\n",
       "\n",
       "    .dataframe thead th {\n",
       "        text-align: right;\n",
       "    }\n",
       "</style>\n",
       "<table border=\"1\" class=\"dataframe\">\n",
       "  <thead>\n",
       "    <tr style=\"text-align: right;\">\n",
       "      <th></th>\n",
       "      <th>id</th>\n",
       "      <th>gender</th>\n",
       "      <th>age</th>\n",
       "      <th>topic</th>\n",
       "      <th>sign</th>\n",
       "      <th>date</th>\n",
       "      <th>text</th>\n",
       "    </tr>\n",
       "  </thead>\n",
       "  <tbody>\n",
       "    <tr>\n",
       "      <th>0</th>\n",
       "      <td>2059027</td>\n",
       "      <td>male</td>\n",
       "      <td>15</td>\n",
       "      <td>Student</td>\n",
       "      <td>Leo</td>\n",
       "      <td>14,May,2004</td>\n",
       "      <td>Info has been found (+/- 100 pages,...</td>\n",
       "    </tr>\n",
       "    <tr>\n",
       "      <th>1</th>\n",
       "      <td>2059027</td>\n",
       "      <td>male</td>\n",
       "      <td>15</td>\n",
       "      <td>Student</td>\n",
       "      <td>Leo</td>\n",
       "      <td>13,May,2004</td>\n",
       "      <td>These are the team members:   Drewe...</td>\n",
       "    </tr>\n",
       "    <tr>\n",
       "      <th>2</th>\n",
       "      <td>2059027</td>\n",
       "      <td>male</td>\n",
       "      <td>15</td>\n",
       "      <td>Student</td>\n",
       "      <td>Leo</td>\n",
       "      <td>12,May,2004</td>\n",
       "      <td>In het kader van kernfusie op aarde...</td>\n",
       "    </tr>\n",
       "    <tr>\n",
       "      <th>3</th>\n",
       "      <td>2059027</td>\n",
       "      <td>male</td>\n",
       "      <td>15</td>\n",
       "      <td>Student</td>\n",
       "      <td>Leo</td>\n",
       "      <td>12,May,2004</td>\n",
       "      <td>testing!!!  testing!!!</td>\n",
       "    </tr>\n",
       "    <tr>\n",
       "      <th>4</th>\n",
       "      <td>3581210</td>\n",
       "      <td>male</td>\n",
       "      <td>33</td>\n",
       "      <td>InvestmentBanking</td>\n",
       "      <td>Aquarius</td>\n",
       "      <td>11,June,2004</td>\n",
       "      <td>Thanks to Yahoo!'s Toolbar I can ...</td>\n",
       "    </tr>\n",
       "  </tbody>\n",
       "</table>\n",
       "</div>"
      ],
      "text/plain": [
       "        id gender  age              topic      sign          date  \\\n",
       "0  2059027   male   15            Student       Leo   14,May,2004   \n",
       "1  2059027   male   15            Student       Leo   13,May,2004   \n",
       "2  2059027   male   15            Student       Leo   12,May,2004   \n",
       "3  2059027   male   15            Student       Leo   12,May,2004   \n",
       "4  3581210   male   33  InvestmentBanking  Aquarius  11,June,2004   \n",
       "\n",
       "                                                text  \n",
       "0             Info has been found (+/- 100 pages,...  \n",
       "1             These are the team members:   Drewe...  \n",
       "2             In het kader van kernfusie op aarde...  \n",
       "3                   testing!!!  testing!!!            \n",
       "4               Thanks to Yahoo!'s Toolbar I can ...  "
      ]
     },
     "execution_count": 2,
     "metadata": {},
     "output_type": "execute_result"
    }
   ],
   "source": [
    "df.head(5)"
   ]
  },
  {
   "cell_type": "code",
   "execution_count": 246,
   "metadata": {},
   "outputs": [
    {
     "data": {
      "text/plain": [
       "['id', 'gender', 'age', 'topic', 'sign', 'date', 'text']"
      ]
     },
     "execution_count": 246,
     "metadata": {},
     "output_type": "execute_result"
    }
   ],
   "source": [
    "col=df.columns.to_list()\n",
    "col"
   ]
  },
  {
   "cell_type": "code",
   "execution_count": 247,
   "metadata": {},
   "outputs": [
    {
     "data": {
      "text/plain": [
       "male      345193\n",
       "female    336091\n",
       "Name: gender, dtype: int64"
      ]
     },
     "execution_count": 247,
     "metadata": {},
     "output_type": "execute_result"
    }
   ],
   "source": [
    "df['gender'].value_counts()"
   ]
  },
  {
   "cell_type": "code",
   "execution_count": 248,
   "metadata": {},
   "outputs": [
    {
     "data": {
      "text/plain": [
       "17    80859\n",
       "24    80071\n",
       "23    72889\n",
       "16    72708\n",
       "25    67051\n",
       "26    55312\n",
       "27    46124\n",
       "15    41767\n",
       "14    27400\n",
       "34    21347\n",
       "33    17584\n",
       "35    17462\n",
       "36    14229\n",
       "13    13133\n",
       "37     9317\n",
       "38     7545\n",
       "39     5556\n",
       "40     5016\n",
       "45     4482\n",
       "43     4230\n",
       "41     3738\n",
       "48     3572\n",
       "42     2908\n",
       "46     2733\n",
       "47     2207\n",
       "44     2044\n",
       "Name: age, dtype: int64"
      ]
     },
     "execution_count": 248,
     "metadata": {},
     "output_type": "execute_result"
    }
   ],
   "source": [
    "df['age'].value_counts()"
   ]
  },
  {
   "cell_type": "code",
   "execution_count": 249,
   "metadata": {},
   "outputs": [
    {
     "data": {
      "text/plain": [
       "indUnk                     251015\n",
       "Student                    153903\n",
       "Technology                  42055\n",
       "Arts                        32449\n",
       "Education                   29633\n",
       "Communications-Media        20140\n",
       "Internet                    16006\n",
       "Non-Profit                  14700\n",
       "Engineering                 11653\n",
       "Law                          9040\n",
       "Publishing                   7753\n",
       "Science                      7269\n",
       "Government                   6907\n",
       "Consulting                   5862\n",
       "Religion                     5235\n",
       "Fashion                      4851\n",
       "Marketing                    4769\n",
       "Advertising                  4676\n",
       "BusinessServices             4500\n",
       "Banking                      4049\n",
       "Chemicals                    3928\n",
       "Telecommunications           3891\n",
       "Accounting                   3832\n",
       "Military                     3128\n",
       "Museums-Libraries            3096\n",
       "Sports-Recreation            3038\n",
       "HumanResources               3010\n",
       "RealEstate                   2870\n",
       "Transportation               2326\n",
       "Manufacturing                2272\n",
       "Biotech                      2234\n",
       "Tourism                      1942\n",
       "LawEnforcement-Security      1878\n",
       "Architecture                 1638\n",
       "InvestmentBanking            1292\n",
       "Automotive                   1244\n",
       "Agriculture                  1235\n",
       "Construction                 1093\n",
       "Environment                   592\n",
       "Maritime                      280\n",
       "Name: topic, dtype: int64"
      ]
     },
     "execution_count": 249,
     "metadata": {},
     "output_type": "execute_result"
    }
   ],
   "source": [
    "df['topic'].value_counts()"
   ]
  },
  {
   "cell_type": "code",
   "execution_count": 250,
   "metadata": {},
   "outputs": [
    {
     "data": {
      "text/plain": [
       "Cancer         65048\n",
       "Aries          64979\n",
       "Taurus         62561\n",
       "Libra          62363\n",
       "Virgo          60399\n",
       "Scorpio        57161\n",
       "Pisces         54053\n",
       "Leo            53811\n",
       "Gemini         51985\n",
       "Sagittarius    50036\n",
       "Aquarius       49687\n",
       "Capricorn      49201\n",
       "Name: sign, dtype: int64"
      ]
     },
     "execution_count": 250,
     "metadata": {},
     "output_type": "execute_result"
    }
   ],
   "source": [
    "df['sign'].value_counts()"
   ]
  },
  {
   "cell_type": "code",
   "execution_count": 251,
   "metadata": {},
   "outputs": [
    {
     "data": {
      "text/plain": [
       "02,August,2004     16544\n",
       "01,August,2004     13261\n",
       "03,August,2004     11851\n",
       "05,August,2004      9297\n",
       "04,August,2004      8661\n",
       "                   ...  \n",
       "10,Januar,2004         1\n",
       "02,enero,2004          1\n",
       "15,Mai,2004            1\n",
       "08,enero,2004          1\n",
       "21,October,2000        1\n",
       "Name: date, Length: 2616, dtype: int64"
      ]
     },
     "execution_count": 251,
     "metadata": {},
     "output_type": "execute_result"
    }
   ],
   "source": [
    "df['date'].value_counts()"
   ]
  },
  {
   "cell_type": "markdown",
   "metadata": {},
   "source": [
    "## Data Pipline"
   ]
  },
  {
   "cell_type": "markdown",
   "metadata": {},
   "source": [
    "### Preprocessing "
   ]
  },
  {
   "cell_type": "code",
   "execution_count": 252,
   "metadata": {},
   "outputs": [
    {
     "data": {
      "text/html": [
       "<div>\n",
       "<style scoped>\n",
       "    .dataframe tbody tr th:only-of-type {\n",
       "        vertical-align: middle;\n",
       "    }\n",
       "\n",
       "    .dataframe tbody tr th {\n",
       "        vertical-align: top;\n",
       "    }\n",
       "\n",
       "    .dataframe thead th {\n",
       "        text-align: right;\n",
       "    }\n",
       "</style>\n",
       "<table border=\"1\" class=\"dataframe\">\n",
       "  <thead>\n",
       "    <tr style=\"text-align: right;\">\n",
       "      <th></th>\n",
       "      <th>id</th>\n",
       "      <th>gender</th>\n",
       "      <th>age</th>\n",
       "      <th>topic</th>\n",
       "      <th>sign</th>\n",
       "      <th>date</th>\n",
       "      <th>text</th>\n",
       "    </tr>\n",
       "  </thead>\n",
       "  <tbody>\n",
       "    <tr>\n",
       "      <th>0</th>\n",
       "      <td>2059027</td>\n",
       "      <td>male</td>\n",
       "      <td>15</td>\n",
       "      <td>Student</td>\n",
       "      <td>Leo</td>\n",
       "      <td>14,May,2004</td>\n",
       "      <td>Info has been found (+/- 100 pages,...</td>\n",
       "    </tr>\n",
       "    <tr>\n",
       "      <th>1</th>\n",
       "      <td>2059027</td>\n",
       "      <td>male</td>\n",
       "      <td>15</td>\n",
       "      <td>Student</td>\n",
       "      <td>Leo</td>\n",
       "      <td>13,May,2004</td>\n",
       "      <td>These are the team members:   Drewe...</td>\n",
       "    </tr>\n",
       "    <tr>\n",
       "      <th>2</th>\n",
       "      <td>2059027</td>\n",
       "      <td>male</td>\n",
       "      <td>15</td>\n",
       "      <td>Student</td>\n",
       "      <td>Leo</td>\n",
       "      <td>12,May,2004</td>\n",
       "      <td>In het kader van kernfusie op aarde...</td>\n",
       "    </tr>\n",
       "    <tr>\n",
       "      <th>3</th>\n",
       "      <td>2059027</td>\n",
       "      <td>male</td>\n",
       "      <td>15</td>\n",
       "      <td>Student</td>\n",
       "      <td>Leo</td>\n",
       "      <td>12,May,2004</td>\n",
       "      <td>testing!!!  testing!!!</td>\n",
       "    </tr>\n",
       "    <tr>\n",
       "      <th>4</th>\n",
       "      <td>3581210</td>\n",
       "      <td>male</td>\n",
       "      <td>33</td>\n",
       "      <td>InvestmentBanking</td>\n",
       "      <td>Aquarius</td>\n",
       "      <td>11,June,2004</td>\n",
       "      <td>Thanks to Yahoo!'s Toolbar I can ...</td>\n",
       "    </tr>\n",
       "    <tr>\n",
       "      <th>5</th>\n",
       "      <td>3581210</td>\n",
       "      <td>male</td>\n",
       "      <td>33</td>\n",
       "      <td>InvestmentBanking</td>\n",
       "      <td>Aquarius</td>\n",
       "      <td>10,June,2004</td>\n",
       "      <td>I had an interesting conversation...</td>\n",
       "    </tr>\n",
       "    <tr>\n",
       "      <th>6</th>\n",
       "      <td>3581210</td>\n",
       "      <td>male</td>\n",
       "      <td>33</td>\n",
       "      <td>InvestmentBanking</td>\n",
       "      <td>Aquarius</td>\n",
       "      <td>10,June,2004</td>\n",
       "      <td>Somehow Coca-Cola has a way of su...</td>\n",
       "    </tr>\n",
       "    <tr>\n",
       "      <th>7</th>\n",
       "      <td>3581210</td>\n",
       "      <td>male</td>\n",
       "      <td>33</td>\n",
       "      <td>InvestmentBanking</td>\n",
       "      <td>Aquarius</td>\n",
       "      <td>10,June,2004</td>\n",
       "      <td>If anything, Korea is a country o...</td>\n",
       "    </tr>\n",
       "    <tr>\n",
       "      <th>8</th>\n",
       "      <td>3581210</td>\n",
       "      <td>male</td>\n",
       "      <td>33</td>\n",
       "      <td>InvestmentBanking</td>\n",
       "      <td>Aquarius</td>\n",
       "      <td>10,June,2004</td>\n",
       "      <td>Take a read of this news article ...</td>\n",
       "    </tr>\n",
       "    <tr>\n",
       "      <th>9</th>\n",
       "      <td>3581210</td>\n",
       "      <td>male</td>\n",
       "      <td>33</td>\n",
       "      <td>InvestmentBanking</td>\n",
       "      <td>Aquarius</td>\n",
       "      <td>09,June,2004</td>\n",
       "      <td>I surf the English news sites a l...</td>\n",
       "    </tr>\n",
       "  </tbody>\n",
       "</table>\n",
       "</div>"
      ],
      "text/plain": [
       "        id gender  age              topic      sign          date  \\\n",
       "0  2059027   male   15            Student       Leo   14,May,2004   \n",
       "1  2059027   male   15            Student       Leo   13,May,2004   \n",
       "2  2059027   male   15            Student       Leo   12,May,2004   \n",
       "3  2059027   male   15            Student       Leo   12,May,2004   \n",
       "4  3581210   male   33  InvestmentBanking  Aquarius  11,June,2004   \n",
       "5  3581210   male   33  InvestmentBanking  Aquarius  10,June,2004   \n",
       "6  3581210   male   33  InvestmentBanking  Aquarius  10,June,2004   \n",
       "7  3581210   male   33  InvestmentBanking  Aquarius  10,June,2004   \n",
       "8  3581210   male   33  InvestmentBanking  Aquarius  10,June,2004   \n",
       "9  3581210   male   33  InvestmentBanking  Aquarius  09,June,2004   \n",
       "\n",
       "                                                text  \n",
       "0             Info has been found (+/- 100 pages,...  \n",
       "1             These are the team members:   Drewe...  \n",
       "2             In het kader van kernfusie op aarde...  \n",
       "3                   testing!!!  testing!!!            \n",
       "4               Thanks to Yahoo!'s Toolbar I can ...  \n",
       "5               I had an interesting conversation...  \n",
       "6               Somehow Coca-Cola has a way of su...  \n",
       "7               If anything, Korea is a country o...  \n",
       "8               Take a read of this news article ...  \n",
       "9               I surf the English news sites a l...  "
      ]
     },
     "execution_count": 252,
     "metadata": {},
     "output_type": "execute_result"
    }
   ],
   "source": [
    "df.head(10)"
   ]
  },
  {
   "cell_type": "code",
   "execution_count": 253,
   "metadata": {},
   "outputs": [],
   "source": [
    "df['text']=df['text'].apply(lambda x:x.lower())"
   ]
  },
  {
   "cell_type": "code",
   "execution_count": 254,
   "metadata": {},
   "outputs": [
    {
     "data": {
      "text/html": [
       "<div>\n",
       "<style scoped>\n",
       "    .dataframe tbody tr th:only-of-type {\n",
       "        vertical-align: middle;\n",
       "    }\n",
       "\n",
       "    .dataframe tbody tr th {\n",
       "        vertical-align: top;\n",
       "    }\n",
       "\n",
       "    .dataframe thead th {\n",
       "        text-align: right;\n",
       "    }\n",
       "</style>\n",
       "<table border=\"1\" class=\"dataframe\">\n",
       "  <thead>\n",
       "    <tr style=\"text-align: right;\">\n",
       "      <th></th>\n",
       "      <th>id</th>\n",
       "      <th>gender</th>\n",
       "      <th>age</th>\n",
       "      <th>topic</th>\n",
       "      <th>sign</th>\n",
       "      <th>date</th>\n",
       "      <th>text</th>\n",
       "    </tr>\n",
       "  </thead>\n",
       "  <tbody>\n",
       "    <tr>\n",
       "      <th>0</th>\n",
       "      <td>2059027</td>\n",
       "      <td>male</td>\n",
       "      <td>15</td>\n",
       "      <td>Student</td>\n",
       "      <td>Leo</td>\n",
       "      <td>14,May,2004</td>\n",
       "      <td>info has been found (+/- 100 pages,...</td>\n",
       "    </tr>\n",
       "    <tr>\n",
       "      <th>1</th>\n",
       "      <td>2059027</td>\n",
       "      <td>male</td>\n",
       "      <td>15</td>\n",
       "      <td>Student</td>\n",
       "      <td>Leo</td>\n",
       "      <td>13,May,2004</td>\n",
       "      <td>these are the team members:   drewe...</td>\n",
       "    </tr>\n",
       "    <tr>\n",
       "      <th>2</th>\n",
       "      <td>2059027</td>\n",
       "      <td>male</td>\n",
       "      <td>15</td>\n",
       "      <td>Student</td>\n",
       "      <td>Leo</td>\n",
       "      <td>12,May,2004</td>\n",
       "      <td>in het kader van kernfusie op aarde...</td>\n",
       "    </tr>\n",
       "    <tr>\n",
       "      <th>3</th>\n",
       "      <td>2059027</td>\n",
       "      <td>male</td>\n",
       "      <td>15</td>\n",
       "      <td>Student</td>\n",
       "      <td>Leo</td>\n",
       "      <td>12,May,2004</td>\n",
       "      <td>testing!!!  testing!!!</td>\n",
       "    </tr>\n",
       "    <tr>\n",
       "      <th>4</th>\n",
       "      <td>3581210</td>\n",
       "      <td>male</td>\n",
       "      <td>33</td>\n",
       "      <td>InvestmentBanking</td>\n",
       "      <td>Aquarius</td>\n",
       "      <td>11,June,2004</td>\n",
       "      <td>thanks to yahoo!'s toolbar i can ...</td>\n",
       "    </tr>\n",
       "    <tr>\n",
       "      <th>5</th>\n",
       "      <td>3581210</td>\n",
       "      <td>male</td>\n",
       "      <td>33</td>\n",
       "      <td>InvestmentBanking</td>\n",
       "      <td>Aquarius</td>\n",
       "      <td>10,June,2004</td>\n",
       "      <td>i had an interesting conversation...</td>\n",
       "    </tr>\n",
       "    <tr>\n",
       "      <th>6</th>\n",
       "      <td>3581210</td>\n",
       "      <td>male</td>\n",
       "      <td>33</td>\n",
       "      <td>InvestmentBanking</td>\n",
       "      <td>Aquarius</td>\n",
       "      <td>10,June,2004</td>\n",
       "      <td>somehow coca-cola has a way of su...</td>\n",
       "    </tr>\n",
       "    <tr>\n",
       "      <th>7</th>\n",
       "      <td>3581210</td>\n",
       "      <td>male</td>\n",
       "      <td>33</td>\n",
       "      <td>InvestmentBanking</td>\n",
       "      <td>Aquarius</td>\n",
       "      <td>10,June,2004</td>\n",
       "      <td>if anything, korea is a country o...</td>\n",
       "    </tr>\n",
       "    <tr>\n",
       "      <th>8</th>\n",
       "      <td>3581210</td>\n",
       "      <td>male</td>\n",
       "      <td>33</td>\n",
       "      <td>InvestmentBanking</td>\n",
       "      <td>Aquarius</td>\n",
       "      <td>10,June,2004</td>\n",
       "      <td>take a read of this news article ...</td>\n",
       "    </tr>\n",
       "    <tr>\n",
       "      <th>9</th>\n",
       "      <td>3581210</td>\n",
       "      <td>male</td>\n",
       "      <td>33</td>\n",
       "      <td>InvestmentBanking</td>\n",
       "      <td>Aquarius</td>\n",
       "      <td>09,June,2004</td>\n",
       "      <td>i surf the english news sites a l...</td>\n",
       "    </tr>\n",
       "  </tbody>\n",
       "</table>\n",
       "</div>"
      ],
      "text/plain": [
       "        id gender  age              topic      sign          date  \\\n",
       "0  2059027   male   15            Student       Leo   14,May,2004   \n",
       "1  2059027   male   15            Student       Leo   13,May,2004   \n",
       "2  2059027   male   15            Student       Leo   12,May,2004   \n",
       "3  2059027   male   15            Student       Leo   12,May,2004   \n",
       "4  3581210   male   33  InvestmentBanking  Aquarius  11,June,2004   \n",
       "5  3581210   male   33  InvestmentBanking  Aquarius  10,June,2004   \n",
       "6  3581210   male   33  InvestmentBanking  Aquarius  10,June,2004   \n",
       "7  3581210   male   33  InvestmentBanking  Aquarius  10,June,2004   \n",
       "8  3581210   male   33  InvestmentBanking  Aquarius  10,June,2004   \n",
       "9  3581210   male   33  InvestmentBanking  Aquarius  09,June,2004   \n",
       "\n",
       "                                                text  \n",
       "0             info has been found (+/- 100 pages,...  \n",
       "1             these are the team members:   drewe...  \n",
       "2             in het kader van kernfusie op aarde...  \n",
       "3                   testing!!!  testing!!!            \n",
       "4               thanks to yahoo!'s toolbar i can ...  \n",
       "5               i had an interesting conversation...  \n",
       "6               somehow coca-cola has a way of su...  \n",
       "7               if anything, korea is a country o...  \n",
       "8               take a read of this news article ...  \n",
       "9               i surf the english news sites a l...  "
      ]
     },
     "execution_count": 254,
     "metadata": {},
     "output_type": "execute_result"
    }
   ],
   "source": [
    "df.head(10)"
   ]
  },
  {
   "cell_type": "code",
   "execution_count": 255,
   "metadata": {},
   "outputs": [
    {
     "data": {
      "text/plain": [
       "'           info has been found (+/- 100 pages, and 4.5 mb of .pdf files) now i have to wait untill our team leader has processed it and learns html.         '"
      ]
     },
     "execution_count": 255,
     "metadata": {},
     "output_type": "execute_result"
    }
   ],
   "source": [
    "df['text'][0]"
   ]
  },
  {
   "cell_type": "code",
   "execution_count": 256,
   "metadata": {},
   "outputs": [
    {
     "data": {
      "text/html": [
       "<div>\n",
       "<style scoped>\n",
       "    .dataframe tbody tr th:only-of-type {\n",
       "        vertical-align: middle;\n",
       "    }\n",
       "\n",
       "    .dataframe tbody tr th {\n",
       "        vertical-align: top;\n",
       "    }\n",
       "\n",
       "    .dataframe thead th {\n",
       "        text-align: right;\n",
       "    }\n",
       "</style>\n",
       "<table border=\"1\" class=\"dataframe\">\n",
       "  <thead>\n",
       "    <tr style=\"text-align: right;\">\n",
       "      <th></th>\n",
       "      <th>id</th>\n",
       "      <th>gender</th>\n",
       "      <th>age</th>\n",
       "      <th>topic</th>\n",
       "      <th>sign</th>\n",
       "      <th>date</th>\n",
       "      <th>text</th>\n",
       "    </tr>\n",
       "  </thead>\n",
       "  <tbody>\n",
       "    <tr>\n",
       "      <th>0</th>\n",
       "      <td>2059027</td>\n",
       "      <td>male</td>\n",
       "      <td>15</td>\n",
       "      <td>Student</td>\n",
       "      <td>Leo</td>\n",
       "      <td>14,May,2004</td>\n",
       "      <td>info has been found (+/- 100 pages,...</td>\n",
       "    </tr>\n",
       "    <tr>\n",
       "      <th>1</th>\n",
       "      <td>2059027</td>\n",
       "      <td>male</td>\n",
       "      <td>15</td>\n",
       "      <td>Student</td>\n",
       "      <td>Leo</td>\n",
       "      <td>13,May,2004</td>\n",
       "      <td>these are the team members:   drewe...</td>\n",
       "    </tr>\n",
       "    <tr>\n",
       "      <th>2</th>\n",
       "      <td>2059027</td>\n",
       "      <td>male</td>\n",
       "      <td>15</td>\n",
       "      <td>Student</td>\n",
       "      <td>Leo</td>\n",
       "      <td>12,May,2004</td>\n",
       "      <td>in het kader van kernfusie op aarde...</td>\n",
       "    </tr>\n",
       "    <tr>\n",
       "      <th>3</th>\n",
       "      <td>2059027</td>\n",
       "      <td>male</td>\n",
       "      <td>15</td>\n",
       "      <td>Student</td>\n",
       "      <td>Leo</td>\n",
       "      <td>12,May,2004</td>\n",
       "      <td>testing!!!  testing!!!</td>\n",
       "    </tr>\n",
       "    <tr>\n",
       "      <th>4</th>\n",
       "      <td>3581210</td>\n",
       "      <td>male</td>\n",
       "      <td>33</td>\n",
       "      <td>InvestmentBanking</td>\n",
       "      <td>Aquarius</td>\n",
       "      <td>11,June,2004</td>\n",
       "      <td>thanks to yahoo!'s toolbar i can ...</td>\n",
       "    </tr>\n",
       "    <tr>\n",
       "      <th>...</th>\n",
       "      <td>...</td>\n",
       "      <td>...</td>\n",
       "      <td>...</td>\n",
       "      <td>...</td>\n",
       "      <td>...</td>\n",
       "      <td>...</td>\n",
       "      <td>...</td>\n",
       "    </tr>\n",
       "    <tr>\n",
       "      <th>681279</th>\n",
       "      <td>1713845</td>\n",
       "      <td>male</td>\n",
       "      <td>23</td>\n",
       "      <td>Student</td>\n",
       "      <td>Taurus</td>\n",
       "      <td>01,July,2004</td>\n",
       "      <td>dear susan,  i could write some really ...</td>\n",
       "    </tr>\n",
       "    <tr>\n",
       "      <th>681280</th>\n",
       "      <td>1713845</td>\n",
       "      <td>male</td>\n",
       "      <td>23</td>\n",
       "      <td>Student</td>\n",
       "      <td>Taurus</td>\n",
       "      <td>01,July,2004</td>\n",
       "      <td>dear susan,  'i have the second yeast i...</td>\n",
       "    </tr>\n",
       "    <tr>\n",
       "      <th>681281</th>\n",
       "      <td>1713845</td>\n",
       "      <td>male</td>\n",
       "      <td>23</td>\n",
       "      <td>Student</td>\n",
       "      <td>Taurus</td>\n",
       "      <td>01,July,2004</td>\n",
       "      <td>dear susan,  your 'boyfriend' is fuckin...</td>\n",
       "    </tr>\n",
       "    <tr>\n",
       "      <th>681282</th>\n",
       "      <td>1713845</td>\n",
       "      <td>male</td>\n",
       "      <td>23</td>\n",
       "      <td>Student</td>\n",
       "      <td>Taurus</td>\n",
       "      <td>01,July,2004</td>\n",
       "      <td>dear susan:    just to clarify, i am as...</td>\n",
       "    </tr>\n",
       "    <tr>\n",
       "      <th>681283</th>\n",
       "      <td>1713845</td>\n",
       "      <td>male</td>\n",
       "      <td>23</td>\n",
       "      <td>Student</td>\n",
       "      <td>Taurus</td>\n",
       "      <td>01,July,2004</td>\n",
       "      <td>hey everybody...and susan,  you might a...</td>\n",
       "    </tr>\n",
       "  </tbody>\n",
       "</table>\n",
       "<p>681284 rows × 7 columns</p>\n",
       "</div>"
      ],
      "text/plain": [
       "             id gender  age              topic      sign          date  \\\n",
       "0       2059027   male   15            Student       Leo   14,May,2004   \n",
       "1       2059027   male   15            Student       Leo   13,May,2004   \n",
       "2       2059027   male   15            Student       Leo   12,May,2004   \n",
       "3       2059027   male   15            Student       Leo   12,May,2004   \n",
       "4       3581210   male   33  InvestmentBanking  Aquarius  11,June,2004   \n",
       "...         ...    ...  ...                ...       ...           ...   \n",
       "681279  1713845   male   23            Student    Taurus  01,July,2004   \n",
       "681280  1713845   male   23            Student    Taurus  01,July,2004   \n",
       "681281  1713845   male   23            Student    Taurus  01,July,2004   \n",
       "681282  1713845   male   23            Student    Taurus  01,July,2004   \n",
       "681283  1713845   male   23            Student    Taurus  01,July,2004   \n",
       "\n",
       "                                                     text  \n",
       "0                  info has been found (+/- 100 pages,...  \n",
       "1                  these are the team members:   drewe...  \n",
       "2                  in het kader van kernfusie op aarde...  \n",
       "3                        testing!!!  testing!!!            \n",
       "4                    thanks to yahoo!'s toolbar i can ...  \n",
       "...                                                   ...  \n",
       "681279         dear susan,  i could write some really ...  \n",
       "681280         dear susan,  'i have the second yeast i...  \n",
       "681281         dear susan,  your 'boyfriend' is fuckin...  \n",
       "681282         dear susan:    just to clarify, i am as...  \n",
       "681283         hey everybody...and susan,  you might a...  \n",
       "\n",
       "[681284 rows x 7 columns]"
      ]
     },
     "execution_count": 256,
     "metadata": {},
     "output_type": "execute_result"
    }
   ],
   "source": [
    "df_pip=df.copy()\n",
    "df_pip\n"
   ]
  },
  {
   "cell_type": "markdown",
   "metadata": {},
   "source": [
    "#### removel of punktuation in the text"
   ]
  },
  {
   "cell_type": "code",
   "execution_count": 257,
   "metadata": {},
   "outputs": [],
   "source": [
    "def remove_punktuation(text):\n",
    "    pattern = re.compile('[<,*?>!]')\n",
    "    return pattern.sub(r'', text)"
   ]
  },
  {
   "cell_type": "code",
   "execution_count": 258,
   "metadata": {},
   "outputs": [],
   "source": [
    "df_pip['text']=df_pip['text'].apply(remove_punktuation)"
   ]
  },
  {
   "cell_type": "code",
   "execution_count": 259,
   "metadata": {},
   "outputs": [],
   "source": [
    "#pattern =re.compile('[<,*?>]')\n",
    "#pattern.search(df['text'][0])"
   ]
  },
  {
   "cell_type": "code",
   "execution_count": 260,
   "metadata": {},
   "outputs": [],
   "source": [
    "def searching(text):\n",
    "    pattern = re.compile('https?://S+|www.S+')\n",
    "    return pattern.search(text)"
   ]
  },
  {
   "cell_type": "code",
   "execution_count": 261,
   "metadata": {},
   "outputs": [],
   "source": [
    "def point_to_pip(text):\n",
    "    return re.sub(\"([.][a-z0-9])\",r'|', text)\n",
    "\n"
   ]
  },
  {
   "cell_type": "code",
   "execution_count": 262,
   "metadata": {},
   "outputs": [
    {
     "data": {
      "text/plain": [
       "'           info has been found (+/- 100 pages and 4.5 mb of .pdf files) now i have to wait untill our team leader has processed it and learns html.         '"
      ]
     },
     "execution_count": 262,
     "metadata": {},
     "output_type": "execute_result"
    }
   ],
   "source": [
    "df_pip['text'][0]"
   ]
  },
  {
   "cell_type": "code",
   "execution_count": 263,
   "metadata": {},
   "outputs": [],
   "source": [
    "# pattern = re.compile('[<,*?>]')\n",
    "# print(pattern.match(df_pip['text'][0]))\n",
    "# txt = df_pip['text'][0]\n",
    "# re.sub(\"([.]\\s)\",r'|', txt)\n",
    "#df_pip['text']=df_pip['text'].apply(point_to_pip)\n"
   ]
  },
  {
   "cell_type": "code",
   "execution_count": 264,
   "metadata": {},
   "outputs": [
    {
     "data": {
      "text/plain": [
       "'           info has been found (+/- 100 pages and 4.5 mb of .pdf files) now i have to wait untill our team leader has processed it and learns html.         '"
      ]
     },
     "execution_count": 264,
     "metadata": {},
     "output_type": "execute_result"
    }
   ],
   "source": [
    "df_pip['text'][0]"
   ]
  },
  {
   "cell_type": "code",
   "execution_count": 265,
   "metadata": {},
   "outputs": [
    {
     "data": {
      "text/html": [
       "<div>\n",
       "<style scoped>\n",
       "    .dataframe tbody tr th:only-of-type {\n",
       "        vertical-align: middle;\n",
       "    }\n",
       "\n",
       "    .dataframe tbody tr th {\n",
       "        vertical-align: top;\n",
       "    }\n",
       "\n",
       "    .dataframe thead th {\n",
       "        text-align: right;\n",
       "    }\n",
       "</style>\n",
       "<table border=\"1\" class=\"dataframe\">\n",
       "  <thead>\n",
       "    <tr style=\"text-align: right;\">\n",
       "      <th></th>\n",
       "      <th>id</th>\n",
       "      <th>gender</th>\n",
       "      <th>age</th>\n",
       "      <th>topic</th>\n",
       "      <th>sign</th>\n",
       "      <th>date</th>\n",
       "      <th>text</th>\n",
       "    </tr>\n",
       "  </thead>\n",
       "  <tbody>\n",
       "  </tbody>\n",
       "</table>\n",
       "</div>"
      ],
      "text/plain": [
       "Empty DataFrame\n",
       "Columns: [id, gender, age, topic, sign, date, text]\n",
       "Index: []"
      ]
     },
     "execution_count": 265,
     "metadata": {},
     "output_type": "execute_result"
    }
   ],
   "source": [
    "\n",
    "df_pip[df_pip['text'].apply(searching)==True]"
   ]
  },
  {
   "cell_type": "code",
   "execution_count": 266,
   "metadata": {},
   "outputs": [],
   "source": [
    "# from textblob import TextBlob\n",
    "\n",
    "# def correction(text):\n",
    "#     textblob = TextBlob(text)\n",
    "#     return textblob.correct()\n",
    "\n",
    "# df_pip['text']=df_pip['text'].apply(correction)"
   ]
  },
  {
   "cell_type": "code",
   "execution_count": 267,
   "metadata": {},
   "outputs": [],
   "source": [
    "\n",
    "def spaceremove(text):\n",
    "    return \" \".join(text.split())\n",
    "df_pip['text']=df_pip['text'].apply(spaceremove)\n"
   ]
  },
  {
   "cell_type": "code",
   "execution_count": 233,
   "metadata": {},
   "outputs": [
    {
     "data": {
      "text/plain": [
       "'info has been found (+/- 100 pages and 4.5 mb of .pdf files) now i have to wait untill our team leader has processed it and learns html.'"
      ]
     },
     "execution_count": 233,
     "metadata": {},
     "output_type": "execute_result"
    }
   ],
   "source": [
    "df_pip['text'][0]\n"
   ]
  },
  {
   "cell_type": "code",
   "execution_count": 235,
   "metadata": {},
   "outputs": [
    {
     "data": {
      "text/plain": [
       "'these are the team members: drewes van der laag urllink mail ruiyu xie urllink mail bryan aaldering (me) urllink mail'"
      ]
     },
     "execution_count": 235,
     "metadata": {},
     "output_type": "execute_result"
    }
   ],
   "source": [
    "df_pip['text'][1]"
   ]
  },
  {
   "cell_type": "code",
   "execution_count": 204,
   "metadata": {},
   "outputs": [],
   "source": [
    "def delete_dupplicates(text):\n",
    "    return re.sub(r'[!.]+[^a-z0-9]', '', df_pip['text'][0]) \n",
    "#df_pip['text']=df_pip['text'].apply(delete_dupplicates)"
   ]
  },
  {
   "cell_type": "code",
   "execution_count": 268,
   "metadata": {},
   "outputs": [
    {
     "data": {
      "text/plain": [
       "'info has been found (+/- 100 pages and 4.5 mb of .pdf files) now i have to wait untill our team leader has processed it and learns html.'"
      ]
     },
     "execution_count": 268,
     "metadata": {},
     "output_type": "execute_result"
    }
   ],
   "source": [
    "df_pip['text'][0]"
   ]
  },
  {
   "cell_type": "code",
   "execution_count": 269,
   "metadata": {},
   "outputs": [],
   "source": [
    "df_test=df.copy()"
   ]
  },
  {
   "cell_type": "code",
   "execution_count": 270,
   "metadata": {},
   "outputs": [],
   "source": [
    "def remove_emoji(string):\n",
    "    emoji_pattern = re.compile(\"[\"\n",
    "                           u\"U0001F600-U0001F64F\"  # emoticons\n",
    "                           u\"U0001F300-U0001F5FF\"  # symbols & pictographs\n",
    "                           u\"U0001F680-U0001F6FF\"  # transport & map symbols\n",
    "                           u\"U0001F1E0-U0001F1FF\"  # flags (iOS)\n",
    "                           u\"U00002702-U000027B0\"\n",
    "                           u\"U000024C2-U0001F251\"\n",
    "                           \"]+\", flags=re.UNICODE)\n",
    "    return emoji_pattern.sub(r'', string)\n",
    "#df_test['text']=df_pip['text'].apply(remove_emoji)"
   ]
  },
  {
   "cell_type": "code",
   "execution_count": 271,
   "metadata": {},
   "outputs": [
    {
     "data": {
      "text/plain": [
       "'info has been found (+/-  pages and . mb of .pdf files) now i have to wait untill our team leader has processed it and learns html.'"
      ]
     },
     "execution_count": 271,
     "metadata": {},
     "output_type": "execute_result"
    }
   ],
   "source": [
    "df_test['text'][0]"
   ]
  },
  {
   "cell_type": "code",
   "execution_count": null,
   "metadata": {},
   "outputs": [],
   "source": [
    "#def emoji(text):\n",
    "# emo = [\n",
    "# [u\":‑)\",\"Happy face or smiley\"],\n",
    "# [u\":)\",\"Happy face or smiley\"],\n",
    "# [u\":-]\",\"Happy face or smiley\"],\n",
    "# [u\":]\",\"Happy face or smiley\"],\n",
    "# [u\":-3\",\"Happy face smiley\"],\n",
    "# [u\":3\",\"Happy face smiley\"],\n",
    "# [u\":->\",\"Happy face smiley\"],\n",
    "# [u\":>\",\"Happy face smiley\"],\n",
    "# [u\"8-)\",\"Happy face smiley\"],\n",
    "# [u\":o)\",\"Happy face smiley\"],\n",
    "# [u\":-}\",\"Happy face smiley\"],\n",
    "# [u\":}\",\"Happy face smiley\"],\n",
    "# [u\":-)\",\"Happy face smiley\"],\n",
    "# [u\":c)\",\"Happy face smiley\"],\n",
    "# [u\":^)\",\"Happy face smiley\"],\n",
    "# [u\"=]\",\"Happy face smiley\"]\n",
    "# ]\n",
    "# for z in emo:\n",
    "#     for x,y in z:\n",
    "#         print(x,y)\n",
    "        \n",
    "            \n",
    "    #     for x,y in z: \n",
    "    #         re.sub(x,y,text)\n",
    "    # return text\n",
    "#df_pip['text']=df_pip['text'][0].apply(emoji)"
   ]
  },
  {
   "cell_type": "code",
   "execution_count": 239,
   "metadata": {},
   "outputs": [],
   "source": [
    "def tokenize(column):\n",
    "    \"\"\"Tokenizes a Pandas dataframe column and returns a list of tokens.\n",
    "\n",
    "    Args:\n",
    "        column: Pandas dataframe column (i.e. df['text']).\n",
    "\n",
    "    Returns:\n",
    "        tokens (list): Tokenized list, i.e. [Donald, Trump, tweets]\n",
    "    \"\"\"\n",
    "\n",
    "    tokens = nltk.word_tokenize(column)\n",
    "    return [w for w in tokens if w.isalpha()]\n",
    "    "
   ]
  },
  {
   "cell_type": "code",
   "execution_count": null,
   "metadata": {},
   "outputs": [
    {
     "name": "stderr",
     "output_type": "stream",
     "text": [
      "[nltk_data] Downloading package punkt to\n",
      "[nltk_data]     /Users/niclascramer/nltk_data...\n",
      "[nltk_data]   Package punkt is already up-to-date!\n"
     ]
    },
    {
     "data": {
      "text/plain": [
       "True"
      ]
     },
     "execution_count": 145,
     "metadata": {},
     "output_type": "execute_result"
    }
   ],
   "source": [
    "nltk.download('punkt')"
   ]
  },
  {
   "cell_type": "code",
   "execution_count": null,
   "metadata": {},
   "outputs": [],
   "source": [
    "# df_pip['text'] = df_pip['text'].astype(str)\n",
    "# df_pip['tokenized'] = df_pip.apply(lambda x: tokenize(x['text']), axis=1)"
   ]
  },
  {
   "cell_type": "code",
   "execution_count": 272,
   "metadata": {},
   "outputs": [],
   "source": [
    "df_pip['word_tokenize']=df_pip.apply(lambda row: word_tokenize(row['text']), axis=1)\n",
    "df_pip['sent_tokenize']=df_pip.apply(lambda row: sent_tokenize(row['text']), axis=1)\n"
   ]
  },
  {
   "cell_type": "code",
   "execution_count": 279,
   "metadata": {},
   "outputs": [],
   "source": [
    "df_pip.to_csv('Datei/df_tokenized.csv')"
   ]
  },
  {
   "cell_type": "code",
   "execution_count": 6,
   "metadata": {},
   "outputs": [],
   "source": [
    "def stripping(liste):\n",
    "    return [i.strip() for i in liste]"
   ]
  },
  {
   "cell_type": "code",
   "execution_count": 44,
   "metadata": {},
   "outputs": [],
   "source": [
    "df_pip=pd.read_csv('Datei/df_tokenized.csv',converters={'sent_tokenize': lambda x: x[1:-1].strip('][').replace(\"'\",\"\").strip().split(','),'word_tokenize': lambda x: x[1:-1].strip('][').replace(\"'\",\"\").strip().split(',')})\n",
    "df_pip['word_tokenize']=df_pip['word_tokenize'].apply(stripping)\n",
    "df_pip['sent_tokenize']=df_pip['sent_tokenize'].apply(stripping)"
   ]
  },
  {
   "cell_type": "code",
   "execution_count": null,
   "metadata": {},
   "outputs": [],
   "source": []
  },
  {
   "cell_type": "code",
   "execution_count": 45,
   "metadata": {},
   "outputs": [
    {
     "data": {
      "text/html": [
       "<div>\n",
       "<style scoped>\n",
       "    .dataframe tbody tr th:only-of-type {\n",
       "        vertical-align: middle;\n",
       "    }\n",
       "\n",
       "    .dataframe tbody tr th {\n",
       "        vertical-align: top;\n",
       "    }\n",
       "\n",
       "    .dataframe thead th {\n",
       "        text-align: right;\n",
       "    }\n",
       "</style>\n",
       "<table border=\"1\" class=\"dataframe\">\n",
       "  <thead>\n",
       "    <tr style=\"text-align: right;\">\n",
       "      <th></th>\n",
       "      <th>Unnamed: 0</th>\n",
       "      <th>id</th>\n",
       "      <th>gender</th>\n",
       "      <th>age</th>\n",
       "      <th>topic</th>\n",
       "      <th>sign</th>\n",
       "      <th>date</th>\n",
       "      <th>text</th>\n",
       "      <th>word_tokenize</th>\n",
       "      <th>sent_tokenize</th>\n",
       "    </tr>\n",
       "  </thead>\n",
       "  <tbody>\n",
       "    <tr>\n",
       "      <th>0</th>\n",
       "      <td>0</td>\n",
       "      <td>2059027</td>\n",
       "      <td>male</td>\n",
       "      <td>15</td>\n",
       "      <td>Student</td>\n",
       "      <td>Leo</td>\n",
       "      <td>14,May,2004</td>\n",
       "      <td>info has been found (+/- 100 pages and 4.5 mb ...</td>\n",
       "      <td>[info, has, been, found, (, +/-, 100, pages, a...</td>\n",
       "      <td>[info has been found (+/- 100 pages and 4.5 mb...</td>\n",
       "    </tr>\n",
       "    <tr>\n",
       "      <th>1</th>\n",
       "      <td>1</td>\n",
       "      <td>2059027</td>\n",
       "      <td>male</td>\n",
       "      <td>15</td>\n",
       "      <td>Student</td>\n",
       "      <td>Leo</td>\n",
       "      <td>13,May,2004</td>\n",
       "      <td>these are the team members: drewes van der laa...</td>\n",
       "      <td>[these, are, the, team, members, :, drewes, va...</td>\n",
       "      <td>[these are the team members: drewes van der la...</td>\n",
       "    </tr>\n",
       "    <tr>\n",
       "      <th>2</th>\n",
       "      <td>2</td>\n",
       "      <td>2059027</td>\n",
       "      <td>male</td>\n",
       "      <td>15</td>\n",
       "      <td>Student</td>\n",
       "      <td>Leo</td>\n",
       "      <td>12,May,2004</td>\n",
       "      <td>in het kader van kernfusie op aarde: maak je e...</td>\n",
       "      <td>[in, het, kader, van, kernfusie, op, aarde, :,...</td>\n",
       "      <td>[\"in het kader van kernfusie op aarde: maak je...</td>\n",
       "    </tr>\n",
       "    <tr>\n",
       "      <th>3</th>\n",
       "      <td>3</td>\n",
       "      <td>2059027</td>\n",
       "      <td>male</td>\n",
       "      <td>15</td>\n",
       "      <td>Student</td>\n",
       "      <td>Leo</td>\n",
       "      <td>12,May,2004</td>\n",
       "      <td>testing testing</td>\n",
       "      <td>[testing, testing]</td>\n",
       "      <td>[testing testing]</td>\n",
       "    </tr>\n",
       "    <tr>\n",
       "      <th>4</th>\n",
       "      <td>4</td>\n",
       "      <td>3581210</td>\n",
       "      <td>male</td>\n",
       "      <td>33</td>\n",
       "      <td>InvestmentBanking</td>\n",
       "      <td>Aquarius</td>\n",
       "      <td>11,June,2004</td>\n",
       "      <td>thanks to yahoo's toolbar i can now 'capture' ...</td>\n",
       "      <td>[thanks, to, yahoo, \"s\", toolbar, i, can, now,...</td>\n",
       "      <td>[\"thanks to yahoos toolbar i can now capture t...</td>\n",
       "    </tr>\n",
       "  </tbody>\n",
       "</table>\n",
       "</div>"
      ],
      "text/plain": [
       "   Unnamed: 0       id gender  age              topic      sign          date  \\\n",
       "0           0  2059027   male   15            Student       Leo   14,May,2004   \n",
       "1           1  2059027   male   15            Student       Leo   13,May,2004   \n",
       "2           2  2059027   male   15            Student       Leo   12,May,2004   \n",
       "3           3  2059027   male   15            Student       Leo   12,May,2004   \n",
       "4           4  3581210   male   33  InvestmentBanking  Aquarius  11,June,2004   \n",
       "\n",
       "                                                text  \\\n",
       "0  info has been found (+/- 100 pages and 4.5 mb ...   \n",
       "1  these are the team members: drewes van der laa...   \n",
       "2  in het kader van kernfusie op aarde: maak je e...   \n",
       "3                                    testing testing   \n",
       "4  thanks to yahoo's toolbar i can now 'capture' ...   \n",
       "\n",
       "                                       word_tokenize  \\\n",
       "0  [info, has, been, found, (, +/-, 100, pages, a...   \n",
       "1  [these, are, the, team, members, :, drewes, va...   \n",
       "2  [in, het, kader, van, kernfusie, op, aarde, :,...   \n",
       "3                                 [testing, testing]   \n",
       "4  [thanks, to, yahoo, \"s\", toolbar, i, can, now,...   \n",
       "\n",
       "                                       sent_tokenize  \n",
       "0  [info has been found (+/- 100 pages and 4.5 mb...  \n",
       "1  [these are the team members: drewes van der la...  \n",
       "2  [\"in het kader van kernfusie op aarde: maak je...  \n",
       "3                                  [testing testing]  \n",
       "4  [\"thanks to yahoos toolbar i can now capture t...  "
      ]
     },
     "execution_count": 45,
     "metadata": {},
     "output_type": "execute_result"
    }
   ],
   "source": [
    "df_pip.head(5)"
   ]
  },
  {
   "cell_type": "code",
   "execution_count": 46,
   "metadata": {},
   "outputs": [],
   "source": [
    "df_pip['count_word']=df_pip['word_tokenize'].str.len()\n",
    "df_pip['count_sent']=df_pip['sent_tokenize'].str.len()"
   ]
  },
  {
   "cell_type": "code",
   "execution_count": 47,
   "metadata": {},
   "outputs": [
    {
     "data": {
      "text/html": [
       "<div>\n",
       "<style scoped>\n",
       "    .dataframe tbody tr th:only-of-type {\n",
       "        vertical-align: middle;\n",
       "    }\n",
       "\n",
       "    .dataframe tbody tr th {\n",
       "        vertical-align: top;\n",
       "    }\n",
       "\n",
       "    .dataframe thead th {\n",
       "        text-align: right;\n",
       "    }\n",
       "</style>\n",
       "<table border=\"1\" class=\"dataframe\">\n",
       "  <thead>\n",
       "    <tr style=\"text-align: right;\">\n",
       "      <th></th>\n",
       "      <th>Unnamed: 0</th>\n",
       "      <th>id</th>\n",
       "      <th>gender</th>\n",
       "      <th>age</th>\n",
       "      <th>topic</th>\n",
       "      <th>sign</th>\n",
       "      <th>date</th>\n",
       "      <th>text</th>\n",
       "      <th>word_tokenize</th>\n",
       "      <th>sent_tokenize</th>\n",
       "      <th>count_word</th>\n",
       "      <th>count_sent</th>\n",
       "    </tr>\n",
       "  </thead>\n",
       "  <tbody>\n",
       "    <tr>\n",
       "      <th>0</th>\n",
       "      <td>0</td>\n",
       "      <td>2059027</td>\n",
       "      <td>male</td>\n",
       "      <td>15</td>\n",
       "      <td>Student</td>\n",
       "      <td>Leo</td>\n",
       "      <td>14,May,2004</td>\n",
       "      <td>info has been found (+/- 100 pages and 4.5 mb ...</td>\n",
       "      <td>[info, has, been, found, (, +/-, 100, pages, a...</td>\n",
       "      <td>[info has been found (+/- 100 pages and 4.5 mb...</td>\n",
       "      <td>31</td>\n",
       "      <td>1</td>\n",
       "    </tr>\n",
       "    <tr>\n",
       "      <th>1</th>\n",
       "      <td>1</td>\n",
       "      <td>2059027</td>\n",
       "      <td>male</td>\n",
       "      <td>15</td>\n",
       "      <td>Student</td>\n",
       "      <td>Leo</td>\n",
       "      <td>13,May,2004</td>\n",
       "      <td>these are the team members: drewes van der laa...</td>\n",
       "      <td>[these, are, the, team, members, :, drewes, va...</td>\n",
       "      <td>[these are the team members: drewes van der la...</td>\n",
       "      <td>23</td>\n",
       "      <td>1</td>\n",
       "    </tr>\n",
       "    <tr>\n",
       "      <th>2</th>\n",
       "      <td>2</td>\n",
       "      <td>2059027</td>\n",
       "      <td>male</td>\n",
       "      <td>15</td>\n",
       "      <td>Student</td>\n",
       "      <td>Leo</td>\n",
       "      <td>12,May,2004</td>\n",
       "      <td>in het kader van kernfusie op aarde: maak je e...</td>\n",
       "      <td>[in, het, kader, van, kernfusie, op, aarde, :,...</td>\n",
       "      <td>[\"in het kader van kernfusie op aarde: maak je...</td>\n",
       "      <td>4783</td>\n",
       "      <td>235</td>\n",
       "    </tr>\n",
       "    <tr>\n",
       "      <th>3</th>\n",
       "      <td>3</td>\n",
       "      <td>2059027</td>\n",
       "      <td>male</td>\n",
       "      <td>15</td>\n",
       "      <td>Student</td>\n",
       "      <td>Leo</td>\n",
       "      <td>12,May,2004</td>\n",
       "      <td>testing testing</td>\n",
       "      <td>[testing, testing]</td>\n",
       "      <td>[testing testing]</td>\n",
       "      <td>2</td>\n",
       "      <td>1</td>\n",
       "    </tr>\n",
       "    <tr>\n",
       "      <th>4</th>\n",
       "      <td>4</td>\n",
       "      <td>3581210</td>\n",
       "      <td>male</td>\n",
       "      <td>33</td>\n",
       "      <td>InvestmentBanking</td>\n",
       "      <td>Aquarius</td>\n",
       "      <td>11,June,2004</td>\n",
       "      <td>thanks to yahoo's toolbar i can now 'capture' ...</td>\n",
       "      <td>[thanks, to, yahoo, \"s\", toolbar, i, can, now,...</td>\n",
       "      <td>[\"thanks to yahoos toolbar i can now capture t...</td>\n",
       "      <td>77</td>\n",
       "      <td>3</td>\n",
       "    </tr>\n",
       "  </tbody>\n",
       "</table>\n",
       "</div>"
      ],
      "text/plain": [
       "   Unnamed: 0       id gender  age              topic      sign          date  \\\n",
       "0           0  2059027   male   15            Student       Leo   14,May,2004   \n",
       "1           1  2059027   male   15            Student       Leo   13,May,2004   \n",
       "2           2  2059027   male   15            Student       Leo   12,May,2004   \n",
       "3           3  2059027   male   15            Student       Leo   12,May,2004   \n",
       "4           4  3581210   male   33  InvestmentBanking  Aquarius  11,June,2004   \n",
       "\n",
       "                                                text  \\\n",
       "0  info has been found (+/- 100 pages and 4.5 mb ...   \n",
       "1  these are the team members: drewes van der laa...   \n",
       "2  in het kader van kernfusie op aarde: maak je e...   \n",
       "3                                    testing testing   \n",
       "4  thanks to yahoo's toolbar i can now 'capture' ...   \n",
       "\n",
       "                                       word_tokenize  \\\n",
       "0  [info, has, been, found, (, +/-, 100, pages, a...   \n",
       "1  [these, are, the, team, members, :, drewes, va...   \n",
       "2  [in, het, kader, van, kernfusie, op, aarde, :,...   \n",
       "3                                 [testing, testing]   \n",
       "4  [thanks, to, yahoo, \"s\", toolbar, i, can, now,...   \n",
       "\n",
       "                                       sent_tokenize  count_word  count_sent  \n",
       "0  [info has been found (+/- 100 pages and 4.5 mb...          31           1  \n",
       "1  [these are the team members: drewes van der la...          23           1  \n",
       "2  [\"in het kader van kernfusie op aarde: maak je...        4783         235  \n",
       "3                                  [testing testing]           2           1  \n",
       "4  [\"thanks to yahoos toolbar i can now capture t...          77           3  "
      ]
     },
     "execution_count": 47,
     "metadata": {},
     "output_type": "execute_result"
    }
   ],
   "source": [
    "df_pip.head()"
   ]
  },
  {
   "cell_type": "code",
   "execution_count": 48,
   "metadata": {},
   "outputs": [
    {
     "data": {
      "text/plain": [
       "['info',\n",
       " 'has',\n",
       " 'been',\n",
       " 'found',\n",
       " '(',\n",
       " '+/-',\n",
       " '100',\n",
       " 'pages',\n",
       " 'and',\n",
       " '4.5',\n",
       " 'mb',\n",
       " 'of',\n",
       " '.pdf',\n",
       " 'files',\n",
       " ')',\n",
       " 'now',\n",
       " 'i',\n",
       " 'have',\n",
       " 'to',\n",
       " 'wait',\n",
       " 'untill',\n",
       " 'our',\n",
       " 'team',\n",
       " 'leader',\n",
       " 'has',\n",
       " 'processed',\n",
       " 'it',\n",
       " 'and',\n",
       " 'learns',\n",
       " 'html',\n",
       " '.']"
      ]
     },
     "execution_count": 48,
     "metadata": {},
     "output_type": "execute_result"
    }
   ],
   "source": [
    "test=['info',\n",
    " ' has',\n",
    " ' been',\n",
    " ' found',\n",
    " ' (',\n",
    " ' +/-',\n",
    " ' 100',\n",
    " ' pages',\n",
    " ' and',\n",
    " ' 4.5',\n",
    " ' mb',\n",
    " ' of',\n",
    " ' .pdf',\n",
    " ' files',\n",
    " ' )',\n",
    " ' now',\n",
    " ' i',\n",
    " ' have',\n",
    " ' to',\n",
    " ' wait',\n",
    " ' untill',\n",
    " ' our',\n",
    " ' team',\n",
    " ' leader',\n",
    " ' has',\n",
    " ' processed',\n",
    " ' it',\n",
    " ' and',\n",
    " ' learns',\n",
    " ' html',\n",
    " ' .']\n",
    "test=[i.strip() for i in test]\n",
    "test"
   ]
  },
  {
   "cell_type": "code",
   "execution_count": 49,
   "metadata": {},
   "outputs": [
    {
     "data": {
      "text/plain": [
       "['info',\n",
       " 'has',\n",
       " 'been',\n",
       " 'found',\n",
       " '(',\n",
       " '+/-',\n",
       " '100',\n",
       " 'pages',\n",
       " 'and',\n",
       " '4.5',\n",
       " 'mb',\n",
       " 'of',\n",
       " '.pdf',\n",
       " 'files',\n",
       " ')',\n",
       " 'now',\n",
       " 'i',\n",
       " 'have',\n",
       " 'to',\n",
       " 'wait',\n",
       " 'untill',\n",
       " 'our',\n",
       " 'team',\n",
       " 'leader',\n",
       " 'has',\n",
       " 'processed',\n",
       " 'it',\n",
       " 'and',\n",
       " 'learns',\n",
       " 'html',\n",
       " '.']"
      ]
     },
     "execution_count": 49,
     "metadata": {},
     "output_type": "execute_result"
    }
   ],
   "source": [
    "df_pip['word_tokenize'][0]"
   ]
  },
  {
   "cell_type": "code",
   "execution_count": 50,
   "metadata": {},
   "outputs": [
    {
     "data": {
      "text/plain": [
       "['\"in het kader van kernfusie op aarde: maak je eigen waterstofbom how to build an h-bomb from: ascott@tartarus.uwa.edu.au (andrew scott) newsgroups: rec.humor subject: how to build an h-bomb (humorous) date: 7 feb 1994 07:41:14 gmt organization: the university of western australia original file dated 12th november 1990. seemed to be a transcript of a seven days article.\"',\n",
       " 'poorly formatted and corrupted.',\n",
       " '\"i have added the text between examine under a microscope and malleable like gold as it was missing.\"',\n",
       " 'if anyone has the full text please distribute.',\n",
       " 'i am not responsible for the accuracy of this information.',\n",
       " 'converted to html by dionisio@infinet.com 11/13/98.',\n",
       " '(did a little spell-checking and some minor edits too.)',\n",
       " 'stolen from urllink http://my.ohio.voyager.net/~dionisio/fun/m...own-h-bomb.html and reformatted the html.',\n",
       " 'it now validates to xhtml 1.0 strict.',\n",
       " 'how to build an h-bomb making and owning an h-bomb is the kind of challenge real americans seek.',\n",
       " 'who wants to be a passive victim of nuclear war when with a little effort you can be an active participant bomb shelters are for losers.',\n",
       " 'who wants to huddle together underground eating canned spam winners want to push the button themselves.',\n",
       " '\"making your own h-bomb is a big step in nuclear assertiveness training -- its called taking charge.\"',\n",
       " '\"were sure youll enjoy the risks and the heady thrill of playing nuclear chicken.\"',\n",
       " 'introduction when the feds clamped down on the progressive magazine for attempting to publish an article on the manufacture of the hydrogen bomb it piqued our curiosity.',\n",
       " 'was it really true that atomic and hydrogen bomb technology was so simple you could build an h-bomb in your own kitchen seven days decided to find out.',\n",
       " 'food editor barbara ehrenreich investigative reporter peter biskind photographer jane melnick and nuclear scientist michio kaku were given three days to cook up a workable h-bomb.',\n",
       " 'they did and we have decided to share their culinary secrets with you.',\n",
       " 'not that seven days supports nuclear terrorism.',\n",
       " '\"we dont.\"',\n",
       " 'we would prefer to die slowly from familiar poisons like low-level radiation microwaves ddt dbcp aflatoxins pbbs pbcs or food dyes rather than unexpectedly say as hostage to a latvian nationalist brandishing a homemade bomb.',\n",
       " 'in our view the real terrorists are the governments american soviet french chinese and british that are hoarding h-bombs for their own use and worse still those governments (u.s. french and german) that are eagerly peddling advanced nuclear technology to countries like south africa brazil and argentina so that they can make their own bombs.',\n",
       " '\"when these bombs are used and they will be it will be the worlds big-time nuclear peddlers along with corporate suppliers like general electric westinghouse and gulf oil that we can thank for it.\"',\n",
       " 'gagging the progressive will do no more for national security than backyard bomb shelters because like it or not the news is out.',\n",
       " 'the heart of the successful h-bomb is the successful a-bomb.',\n",
       " '\"once youve got your a-bombs made the rest is frosting on the cake.\"',\n",
       " '\"all you have to do is set them up so that when they detonate theyll start off a hydrogen-fusion reaction.\"',\n",
       " 'part 1: making your bomb step 1: getting the ingredients uranium is the basic ingredient of the a-bomb.',\n",
       " '\"when a uranium atoms nucleus splits apart it releases a tremendous amount of energy (for its size) and it emits neutrons which go on to split other nearby uranium nuclei releasing more energy in what is called a chain reaction.\"',\n",
       " '\"(when atoms split matter is converted into energy according to einsteins equation e=mc2.\"',\n",
       " 'what better way to mark his birthday than with your own atomic fireworks) there are two kinds (isotopes) of uranium: the rare u-235 used in bombs and the more common heavier but useless u-238.',\n",
       " '\"natural uranium contains less than 1 percent u-235 and in order to be usable in bombs it has to be enriched to 90 percent u-235 and only 10 percent u-238.\"',\n",
       " 'plutonium-239 can also be used in bombs as a substitute for u-235.',\n",
       " 'ten pounds of u-235 (or slightly less plutonium) is all that is necessary for a bomb.',\n",
       " '\"less than ten pounds wont give you a critical mass.\"',\n",
       " 'so purifying or enriching naturally occurring uranium is likely to be your first big hurdle.',\n",
       " 'it is infinitely easy to steal ready-to-use enriched uranium or plutonium than to enrich some yourself.',\n",
       " 'and stealing uranium is not as hard as it sounds.',\n",
       " 'there are at least three sources of enriched uranium or plutonium... enriched uranium is manufactured at a gaseous diffusion plant in portsmouth ohio.',\n",
       " 'from there it is shipped in 10 liter bottles by airplane and trucks to conversion plants that turn it into uranium oxide or uranium metal.',\n",
       " 'each 10 liter bottle contains 7 kilograms of u-235 and there are 20 bottles to a typical shipment.',\n",
       " 'conversion facilities exist at hematite missouri; apollo pennsylvania; and erwin tennessee.',\n",
       " '\"the kerr-mcgee plant at crescent oklahoma -- where karen silkwood worked -- was a conversion plant that lost 40 lbs of plutonium.\"',\n",
       " 'enriched uranium can be stolen from these plants or from fuel-fabricating plants like those in new haven san diego; or lynchburg virginia.',\n",
       " '\"(a former kerr-mcgee supervisor james v. smith when asked at the silkwood trial if there were any security precautions at the plant to prevent theft testified that there were none of any kind no guards no fences no nothing.)\"',\n",
       " 'plutonium can be obtained from places like united nuclear in pawling new york; nuclear fuel services in erwin tennessee; general electric in pleasanton california; westinghouse in cheswick pennsylvania; nuclear materials and equipment corporation (numec) in leechburg pennsylvania; and plants in hanfford washington and morris illinois.',\n",
       " 'according to rolling stone magazine the israelis were involved in the theft of plutonium from numec.',\n",
       " '\"finally you can steal enriched uranium or plutonium while its en-route from conversion plants to fuel fabricating plants.\"',\n",
       " '\"it is usually transported (by air or truck) in the form of uranium oxide a brownish powder resembling instant coffee or as a metal coming in small chunks called broken buttons.\"',\n",
       " 'both forms are shipped in small cans stacked in 5-inch cylinders braced with welded struts in the center of ordinary 55 gallon steel drums.',\n",
       " '\"the drums weigh about 100 pounds and are clearly marked fissible material or danger plutonium.\"',\n",
       " 'a typical shipment might go from the enrichment plant at portsmouth ohio to the conversion plant in hematite missouri then to kansas city by truck where it would be flown to los angeles and then trucked down to the general atomic plant in san diego.',\n",
       " '\"the plans for the general atomic plant are on file at the nuclear regulatory commissions reading room at 1717 h street nw washington.\"',\n",
       " 'a xerox machine is provided for the convenience of the public.',\n",
       " '\"if you cant get hold of any enriched uranium youll have to settle for commercial grade (20 percent u-235).\"',\n",
       " 'this can be stolen from university reactors of a type called triga mark ii where security is even more casual than at commercial plants.',\n",
       " 'if stealing uranium seems too tacky you can buy it.',\n",
       " 'unenriched uranium is available at any chemical supply house for $23 a pound.',\n",
       " 'commercial grade (3 to 20 percent enriched) is available for $40 a pound from gulf atomic.',\n",
       " '\"youll have to enrich it further yourself.\"',\n",
       " 'quite frankly this can be something of a pain in the ass.',\n",
       " '\"youll need to start with a little more than 50 pounds of commercial-grade uranium.\"',\n",
       " '\"(its only 20 percent u-235 at best and you need 10 pounds of u-235 so... ) but with a little kitchen-table chemistry youll be able to convert the solid uranium oxide youve purchased into a liquid form.\"',\n",
       " '\"once youve done that youll be able to separate the u-235 that youll need from the u-238.\"',\n",
       " 'first pour a few gallons of concentrated hydrofluoric acid into your uranium oxide converting it to uranium tetrafluoride.',\n",
       " '(safety note: concentrated hydrofluoric acid is so corrosive that it will eat its way through glass so store it only in plastic.',\n",
       " 'used 1-gallon plastic milk containers will do.)',\n",
       " 'now you have to convert your uranium tetrafluoride to uranium hexafluoride the gaseous form of uranium which is convenient for separating out the isotope u-235 from u-238.',\n",
       " 'to get the hexafluoride form bubble fluorine gas into your container of uranium tetrafluoride.',\n",
       " 'fluorine is available in pressurized tanks from chemical-supply firms.',\n",
       " 'be careful how you use it though because fluorine is several times more deadly than chlorine the classic world war i poison gas.',\n",
       " 'chemists recommend that you carry out this step under a stove hood (the kind used to remove unpleasant cooking odors).',\n",
       " '\"if youve done your chemistry right you should now have a generous supply of uranium hexafluoride ready for enriching.\"',\n",
       " 'in the old horse-and-buggy days of a-bomb manufacture the enrichment was carried out by passing the uranium hexafluoride through hundreds of miles of pipes tubes and membranes until the u-235 was eventually separated from the u-238.',\n",
       " 'this gaseous-diffusion process as it was called is difficult time-consuming and expensive.',\n",
       " 'gaseous-diffusion plants cover hundreds of acres and cost in the neighborhood of $2-billion each.',\n",
       " 'so forget it.',\n",
       " 'there are easier and cheaper ways to enrich your uranium.',\n",
       " 'first transform the gas into a liquid by subjecting it to pressure.',\n",
       " 'you can use a bicycle pump for this.',\n",
       " 'then make a simple home centrifuge.',\n",
       " 'fill a standard-size bucket one-quarter full of liquid uranium hexafluoride.',\n",
       " 'attach a six-foot rope to the bucket handle.',\n",
       " 'now swing the rope (and attached bucket) around your head as fast as possible.',\n",
       " 'keep this up for about 45 minutes.',\n",
       " 'slow down gradually and very gently put the bucket on the floor.',\n",
       " 'the u-235 which is lighter will have risen to the top where it can be skimmed off like cream.',\n",
       " 'repeat this step until you have the required 10 pounds of uranium.',\n",
       " '\"(safety note: dont put all your enriched uranium hexafluoride in one bucket.\"',\n",
       " 'use at least two or three buckets and keep them in separate corners of the room.',\n",
       " 'this will prevent the premature build-up of a critical mass.)',\n",
       " '\"now its time to convert your enriched uranium back to metal form.\"',\n",
       " 'this is easily enough accomplished by spooning several ladlefuls of calcium (available in tablet form from your drugstore) into each bucket of uranium.',\n",
       " 'the calcium will react with the uranium hexafluoride to produce calcium fluoride a colorless salt which can be easily be separated from your pure enriched uranium metal.',\n",
       " '\"a few precautions: • while uranium is not dangerously radioactive in the amounts youll be handling if you plan to make more than one bomb it might be wise to wear gloves and a lead apron the kind you can buy in dental supply stores.\"',\n",
       " '• plutonium is one of the most toxic substances known.',\n",
       " 'if inhaled a thousandth of a gram can cause massive fibrosis of the lungs a painful way to go.',\n",
       " 'even a millionth of a gram in the lungs will cause cancer.',\n",
       " 'if eaten plutonium is metabolized like calcium.',\n",
       " 'it goes straight to the bones where it gives out alpha particles preventing bone marrow from manufacturing red blood cells.',\n",
       " 'the best way to avoid inhaling plutonium is to hold your breath while handling it.',\n",
       " 'if this is too difficult wear a mask.',\n",
       " 'to avoid ingesting plutonium orally follow this simple rule: never make an a-bomb on an empty stomach.',\n",
       " '\"• if you find yourself dozing off while youre working or if you begin to glow in the dark it might be wise to take a blood count.\"',\n",
       " 'prick your finger with a sterile pin place a drop of blood on a microscope slide cover it with a cover slip and examine under a microscope.',\n",
       " '(best results are obtained in the early morning.)',\n",
       " 'when you get leukemia immature cells are released into the bloodstream and usually the number of white cells increases (though this increase might take almost 2 weeks).',\n",
       " 'red blood cells look kind of like donuts (without the hole) and are slightly smaller than the white cells each of which has a nucleus.',\n",
       " 'immature red cells look similar to white cells (i.e.. slightly larger and have a nucleus).',\n",
       " 'if you have more than about 1 white cell (including immature ones) to 400 red cells then start to worry.',\n",
       " 'but depending upon your plans for the eventual use of the bomb a short life expectancy might not be a problem.',\n",
       " '\"step 2: assembling the a-bomb now that youve acquired the enriched uranium all thats left is to assemble your a-bomb.\"',\n",
       " 'go find a couple of stainless steel salad bowls.',\n",
       " 'you also want to separate your 10 pounds of u-235 into two hunks.',\n",
       " '(keep them apart) the idea is to push each half your uranium into the inside of a bowl.',\n",
       " 'take one hunk of your uranium and beat it into the inside of the first bowl.',\n",
       " 'uranium is malleable like gold so you should have no trouble hammering it into the bowl to get a good fit.',\n",
       " 'take another five-pound hunk of uranium and fit it into a second stainless steel bowl.',\n",
       " '\"these two bowls of u-235 are the subcritical masses which when brought together forcefully will provide the critical mass that makes your a-bomb go.\"',\n",
       " '\"keep them a respectful distance apart while working because you dont want them to go critical on you... at least not yet.\"',\n",
       " 'now hollow out the body of an old vacuum cleaner and place your two hemispherical bowls inside open ends facing each other no less than seven inches apart using masking tape to set them up in position.',\n",
       " '\"the reason for the steel bowls and the vacuum cleaner in case youre wondering is that these help reflect the neutrons back into the uranium for a more efficient explosion.\"',\n",
       " '\"a loose neutron is a useless neutron as the a-bomb pioneers used to say.\"',\n",
       " '\"as far as the a-bomb goes youre almost done.\"',\n",
       " 'the final problem is to figure out how to get the two u-235 hemispheres to smash into each other with sufficient force to set off a truly effective fission reaction.',\n",
       " 'almost any type of explosive can be used to drive them together.',\n",
       " 'gunpowder for example is easily made at home from potassium nitrate sulfur and carbon.',\n",
       " 'or you can get some blasting caps or tnt.',\n",
       " '(buy them or steal them from a construction site.)',\n",
       " 'best of all is c4 plastic explosive.',\n",
       " '\"you can mold it around your bowls and its fairly safe to work with.\"',\n",
       " '(but it might be wise to shape it around an extra salad bowl in another room and then fit it to your uranium-packed bowls.',\n",
       " 'this is particularly true in winter when a stray static electrical charge might induce ignition in the c4.',\n",
       " 'a responsible bomb maker considers it impolite to accidentally destroy more of the neighborhood than absolutely necessary.)',\n",
       " 'once the explosives are in place all you need to do is hook up a simple detonation device with a few batteries a switch and some wire.',\n",
       " 'remember though that it is essential that the two charges -- one on each side of the casing -- go off simultaneously.',\n",
       " '\"now put the whole thing in the casing of an old hoover vacuum cleaner and youre finished with this part of the process.\"',\n",
       " 'the rest is easy.',\n",
       " '\"step 3: make more a-bombs following the directions above a word to the wise about wastes after your a-bomb is completed youll have a pile of moderately fatal radioactive wastes like u-238.\"',\n",
       " 'these are not dangerous but you do have to get rid of them.',\n",
       " 'you can flush leftovers down the toilet.',\n",
       " '\"(dont worry about polluting the ocean there is already so much radioactive waste there a few more bucketfuls wont make any waves whatsoever.)\"',\n",
       " '\"if youre the fastidious type -- the kind who never leaves gum under their seat at the movies -- you can seal the nasty stuff in coffee cans and bury it in the backyard just like uncle sam does.\"',\n",
       " 'if the neighbor kids have a habit of trampling the lawn tell them to play over by the waste.',\n",
       " '\"youll soon find that theyre spending most of their time in bed.\"',\n",
       " '\"going first class if youre like us youre feeling the economic pinch and youll want to make your bomb as inexpensively as possible consonant of course with reasonable yield.\"',\n",
       " '\"the recipe weve given is for a budget-pleasing h-bomb no frills no flourishes; its just a simple 5-megaton bomb capable of wiping out the new york metropolitan area the san francisco bay area or boston.\"',\n",
       " '\"but dont forget your h-bomb will only be as good as the a-bombs in it.\"',\n",
       " 'if you want to spend a little more money you can punch-up your a-bomb considerably.',\n",
       " 'instead of centrifuging your uranium by hand you can buy a commercial centrifuge.',\n",
       " '(fisher scientific sells one for about $1000.)',\n",
       " 'you also might want to be fussier about your design.',\n",
       " '\"the hiroshima bomb a relatively crude one only fissioned 1 percent of its uranium and yielded only 13 kilotons.\"',\n",
       " '\"in order to fission more of the uranium the force of your explosive trigger needs to be evenly diffused around the sphere; the same pressure has to be exerted on every point of the sphere simultaneously.\"',\n",
       " '(it was a technique for producing this sort of simultaneous detonation by fashioning the explosives into lenses that the government accused julius and ethel rosenberg of trying to steal).',\n",
       " 'part 2: putting your h-bomb together the heart of the h-bomb is the fusion process.',\n",
       " 'several a-bombs are detonated in such a way as to create the extremely high temperature (100 million degrees c) necessary to fuse lithium deuteride (lid) into helium.',\n",
       " 'when the lithium nucleus slams into the deuterium nucleus two helium nuclei are created and if this happens to enough deuterium nuclei rapidly enough the result is an enormous amount of energy: the energy of the h-bomb.',\n",
       " '\"you dont have to worry about stealing lithium deuteride it can be purchased from any chemical-supply house.\"',\n",
       " 'it costs $1000 a pound.',\n",
       " '\"if your budget wont allow it you can substitute lithium hydride at $40 a pound.\"',\n",
       " 'you will need at least 100 pounds.',\n",
       " '\"its a corrosive and toxic powder so be careful.\"',\n",
       " 'place the lithium deuteride or hydride in glass jars and surround it with four a-bombs in their casings.',\n",
       " 'attach them to the same detonator so that they will go off simultaneously.',\n",
       " 'the container for the whole thing is no problem.',\n",
       " 'they can be placed anywhere: inside an old stereo console a discarded refrigerator etc... when the detonator sets off the four a-bombs all eight hemispheres of fissionable material will slam into each other at the same time creating four critical masses and four detonations.',\n",
       " 'this will raise the temperature of the lithium deuteride to 100 million degrees c fast enough (a few billionths of a second) so that the lithium will not be blown all over the neighborhood before the nuclei have time to fuse.',\n",
       " 'the result at least 1000 times the punch of the puny a-bomb that leveled hiroshima (20 million tons of tnt vs. 20 thousand tons.)',\n",
       " '\"part 3: what to do with your bomb now that you have a fully assembled h-bomb housed in an attractive console of your choice you may be wondering what should i do with it every family will have to answer this question according to its own tastes and preferences but you may want to explore some possibilities which have been successfully pioneered by the american government.\"',\n",
       " '1. sell your bomb and make a pile of money in these days of rising inflation increasing unemployment and an uncertain economic outlook few businesses make as much sense as weapons production.',\n",
       " 'if your career forecast is cloudy bomb sales may be the only sure way to avoid the humiliation of receiving welfare or unemployment.',\n",
       " 'regardless of your present income level a home h-bomb business can be an invaluable income supplement and certainly a profitable alternative to selling tupperware or pirated girl scout cookies.',\n",
       " 'unfortunately for the family bomb business big government has already cornered a large part of the world market.',\n",
       " 'but this does not mean that there is a shortage of potential customers.',\n",
       " 'the raid on entebee was the waterloo of hijacking and many nationalist groups are now on the alert for new means to get their message across.',\n",
       " '\"theyd jump at the chance to get hold of an h-bomb.\"',\n",
       " '\"emerging nations which cant ante up enough rice or sugar to buy themselves a reactor from g.e.\"',\n",
       " 'or westinghouse are also shopping around.',\n",
       " 'you may wonder about the ethics of selling to nations or groups whose goals you may disapprove of.',\n",
       " '\"but here again take a tip from our government: forget ideology -- its cash that counts.\"',\n",
       " 'and remember h-bomb sales have a way of escalating almost like a chain reaction.',\n",
       " 'suppose you make a sale to south yemen which you believe to be a soviet puppet.',\n",
       " 'well within a few days some discrete inquiries from north yemen and possibly the saudis the egyptians and the ethiopians as well can be expected.',\n",
       " 'similarly a sale to the ira will generate a sale to the ulster government; and a sale to the tanzanians will bring the ugandans running and so forth.',\n",
       " '\"it doesnt matter which side youre on only how many sides there are.\"',\n",
       " '\"dont forget about the possibility of repeat sales to the same customer.\"',\n",
       " 'as the experience of both the u.s. and the u.s.s.r. has shown each individual nation has a potentially infinite need for h-bombs.',\n",
       " 'no customer -- no matter how small -- can ever have too many.',\n",
       " '\"2. use your bomb at home many families are attracted to the h-bomb simply as a deterrent.\"',\n",
       " '\"a discrete sticker on the door or on the living room window saying this home protected by h-bomb will discourage irs investigators census takers and jehovahs witnesses.\"',\n",
       " '\"youll be surprised how fast the crime rate will go down and property values will go up.\"',\n",
       " '\"and once the news gets out that you are a home h-bomb owner youll find that you have unexpected leverage in neighborhood disputes over everything from parking places and stereo noise levels to school tax rates.\"',\n",
       " '\"so relax and enjoy the pride and excitement of home h-bomb ownership is it for you lets be honest.\"',\n",
       " '\"the h-bomb isnt for everyone.\"',\n",
       " '\"frankly there are people who cant handle it.\"',\n",
       " 'they break out in hives at the very mention of mega-death fallout or radiation sickness.',\n",
       " 'the following quiz will help you find out whether you have what it takes for home h-bomb ownership.',\n",
       " '\"if you can answer yes to six or more of these questions then youre emotionally eligible to join the nuclear club.\"',\n",
       " 'if not a more conventional weapon may be more your cup of tea try botulism-toxin laser rays or nerve gas.',\n",
       " '1. i ignore the demands of others.',\n",
       " '2. i subscribe to one or more of the following: soldier of fortune hustler popular mechanics self.',\n",
       " '3. though i have many interesting acquaintances i am my own best friend.',\n",
       " '\"4. i know what to say after you say hello but i am seldom interested in pursuing the conversation.\"',\n",
       " '\"5. i have seen the movie the deer hunter more than once.\"',\n",
       " '6. i know that everyone can be a winner if they want to and i resent whiners.',\n",
       " '7. i own one or more of the following: handgun video game trash compactor snowmobile.',\n",
       " '8. i am convinced that leukemia is psychosomatic.',\n",
       " '9. i am aware that most vegetarians are sexually impotent.',\n",
       " '10. i have read evidence that solar energy is a communist conspiracy.',\n",
       " 'myths about nuclear war ever since the first mushroom cloud over hiroshima ushered in the atomic age a small group of nay-sayers and doom-mongers has lobbied campaigned and demonstrated to convince americans that h-bomb ownership along with nuclear power is dangerous and unhealthy.',\n",
       " 'using their virtual stranglehold over the media these people have tried to discredit everything nuclear from energy to war.',\n",
       " 'they have vastly overrated the risks of nuclear bombs and left many americans feeling demoralized and indecisive; not sure where the truth lies.',\n",
       " 'well here are the myths and here are the facts.',\n",
       " 'myth: after a nuclear exchange the earth will no longer be suitable for human habitation.',\n",
       " 'fact: this is completely false.',\n",
       " '\"according to one scientist (quoted in john mcpees the curve of binding energy) the largest bomb that has ever been exploded anywhere was 60 megatons and that is one-thousandth the force of an earthquake one-thousandth the force of a hurricane.\"',\n",
       " '\"we have lived with earthquakes and hurricanes for a long time.\"',\n",
       " '\"another scientist adds it is often assumed that a full blown nuclear war would be the end of life on earth.\"',\n",
       " 'that is far from the truth.',\n",
       " '\"to end life on earth would take at least a thousand times the total yield of all the nuclear explosives existing in the world and probably a lot more.\"',\n",
       " 'even if humans succumbed many forms of life would survive a nuclear free-for-all cockroaches certain forms of bacteria and lichens for instance.',\n",
       " 'myth: radiation is bad for you.',\n",
       " 'fact: everything is bad for you if you have too much of it.',\n",
       " '\"if you eat too many bananas youll get a stomach-ache.\"',\n",
       " 'if you get too much sun you can get sunburned (or even skin cancer).',\n",
       " 'same thing with radiation.',\n",
       " 'too much may make you feel under the weather but nuclear industry officials insist that there is no evidence that low-level radiation has any really serious adverse effects.',\n",
       " 'and high-level radiation may bring unexpected benefits.',\n",
       " 'it speeds up evolution by weeding out unwanted genetic types and creating new ones.',\n",
       " '\"(remember the old saying two heads are better than one.)\"',\n",
       " '\"nearer to home its plain that radiation will get rid of pesky crab grass and weeds and teenagers will find that brief exposure to a nuclear burst vaporizes acne and other skin blemishes.\"',\n",
       " '\"(many survivors of the hiroshima bomb found that they were free from skin and its attendant problems forever.)\"',\n",
       " 'we hope this clears up any misconceptions you may have had.',\n",
       " 'enjoy your h-bomb']"
      ]
     },
     "execution_count": 50,
     "metadata": {},
     "output_type": "execute_result"
    }
   ],
   "source": [
    "df_pip.head(5)['sent_tokenize'][2]"
   ]
  },
  {
   "cell_type": "code",
   "execution_count": 51,
   "metadata": {},
   "outputs": [],
   "source": [
    "def stopwording(liste):\n",
    "    return [word for word in liste if not word in stopwords.words()]\n"
   ]
  },
  {
   "cell_type": "code",
   "execution_count": 52,
   "metadata": {},
   "outputs": [],
   "source": [
    "from tqdm import tqdm\n"
   ]
  },
  {
   "cell_type": "code",
   "execution_count": 53,
   "metadata": {},
   "outputs": [],
   "source": [
    "def stopwords_count_and_removal(data, col, language=\"english\"):\n",
    "\n",
    "    stoplist = stopwords.words(language)\n",
    "\n",
    "    number_of_stopwords = []\n",
    "    text_without_stopwords = []\n",
    "\n",
    "    col_name_number_of_stopwords = col + \"_num_of_stopwords\"\n",
    "    col_name_without_stopwords = col + \"_without_stopwords\"\n",
    "\n",
    "    for i in tqdm(range(len(data))):\n",
    "        no_of_words = 0\n",
    "        without_stopwords = []\n",
    "        for word in data[col][i]:\n",
    "            if word in stoplist:\n",
    "                no_of_words += 1\n",
    "            else:\n",
    "                without_stopwords.append(word)\n",
    "        \n",
    "        text_without_stopwords.append(without_stopwords)\n",
    "        number_of_stopwords.append(no_of_words)\n",
    "\n",
    "    data[col_name_number_of_stopwords] = number_of_stopwords\n",
    "    data[col_name_without_stopwords] = text_without_stopwords\n",
    "\n",
    "\n",
    "    return data"
   ]
  },
  {
   "cell_type": "code",
   "execution_count": 54,
   "metadata": {},
   "outputs": [
    {
     "name": "stderr",
     "output_type": "stream",
     "text": [
      "100%|██████████| 681284/681284 [04:24<00:00, 2572.58it/s]\n"
     ]
    },
    {
     "data": {
      "text/html": [
       "<div>\n",
       "<style scoped>\n",
       "    .dataframe tbody tr th:only-of-type {\n",
       "        vertical-align: middle;\n",
       "    }\n",
       "\n",
       "    .dataframe tbody tr th {\n",
       "        vertical-align: top;\n",
       "    }\n",
       "\n",
       "    .dataframe thead th {\n",
       "        text-align: right;\n",
       "    }\n",
       "</style>\n",
       "<table border=\"1\" class=\"dataframe\">\n",
       "  <thead>\n",
       "    <tr style=\"text-align: right;\">\n",
       "      <th></th>\n",
       "      <th>Unnamed: 0</th>\n",
       "      <th>id</th>\n",
       "      <th>gender</th>\n",
       "      <th>age</th>\n",
       "      <th>topic</th>\n",
       "      <th>sign</th>\n",
       "      <th>date</th>\n",
       "      <th>text</th>\n",
       "      <th>word_tokenize</th>\n",
       "      <th>sent_tokenize</th>\n",
       "      <th>count_word</th>\n",
       "      <th>count_sent</th>\n",
       "      <th>word_tokenize_num_of_stopwords</th>\n",
       "      <th>word_tokenize_without_stopwords</th>\n",
       "    </tr>\n",
       "  </thead>\n",
       "  <tbody>\n",
       "    <tr>\n",
       "      <th>0</th>\n",
       "      <td>0</td>\n",
       "      <td>2059027</td>\n",
       "      <td>male</td>\n",
       "      <td>15</td>\n",
       "      <td>Student</td>\n",
       "      <td>Leo</td>\n",
       "      <td>14,May,2004</td>\n",
       "      <td>info has been found (+/- 100 pages and 4.5 mb ...</td>\n",
       "      <td>[info, has, been, found, (, +/-, 100, pages, a...</td>\n",
       "      <td>[info has been found (+/- 100 pages and 4.5 mb...</td>\n",
       "      <td>31</td>\n",
       "      <td>1</td>\n",
       "      <td>12</td>\n",
       "      <td>[info, found, (, +/-, 100, pages, 4.5, mb, .pd...</td>\n",
       "    </tr>\n",
       "    <tr>\n",
       "      <th>1</th>\n",
       "      <td>1</td>\n",
       "      <td>2059027</td>\n",
       "      <td>male</td>\n",
       "      <td>15</td>\n",
       "      <td>Student</td>\n",
       "      <td>Leo</td>\n",
       "      <td>13,May,2004</td>\n",
       "      <td>these are the team members: drewes van der laa...</td>\n",
       "      <td>[these, are, the, team, members, :, drewes, va...</td>\n",
       "      <td>[these are the team members: drewes van der la...</td>\n",
       "      <td>23</td>\n",
       "      <td>1</td>\n",
       "      <td>4</td>\n",
       "      <td>[team, members, :, drewes, van, der, laag, url...</td>\n",
       "    </tr>\n",
       "    <tr>\n",
       "      <th>2</th>\n",
       "      <td>2</td>\n",
       "      <td>2059027</td>\n",
       "      <td>male</td>\n",
       "      <td>15</td>\n",
       "      <td>Student</td>\n",
       "      <td>Leo</td>\n",
       "      <td>12,May,2004</td>\n",
       "      <td>in het kader van kernfusie op aarde: maak je e...</td>\n",
       "      <td>[in, het, kader, van, kernfusie, op, aarde, :,...</td>\n",
       "      <td>[\"in het kader van kernfusie op aarde: maak je...</td>\n",
       "      <td>4783</td>\n",
       "      <td>235</td>\n",
       "      <td>1965</td>\n",
       "      <td>[het, kader, van, kernfusie, op, aarde, :, maa...</td>\n",
       "    </tr>\n",
       "    <tr>\n",
       "      <th>3</th>\n",
       "      <td>3</td>\n",
       "      <td>2059027</td>\n",
       "      <td>male</td>\n",
       "      <td>15</td>\n",
       "      <td>Student</td>\n",
       "      <td>Leo</td>\n",
       "      <td>12,May,2004</td>\n",
       "      <td>testing testing</td>\n",
       "      <td>[testing, testing]</td>\n",
       "      <td>[testing testing]</td>\n",
       "      <td>2</td>\n",
       "      <td>1</td>\n",
       "      <td>0</td>\n",
       "      <td>[testing, testing]</td>\n",
       "    </tr>\n",
       "    <tr>\n",
       "      <th>4</th>\n",
       "      <td>4</td>\n",
       "      <td>3581210</td>\n",
       "      <td>male</td>\n",
       "      <td>33</td>\n",
       "      <td>InvestmentBanking</td>\n",
       "      <td>Aquarius</td>\n",
       "      <td>11,June,2004</td>\n",
       "      <td>thanks to yahoo's toolbar i can now 'capture' ...</td>\n",
       "      <td>[thanks, to, yahoo, \"s\", toolbar, i, can, now,...</td>\n",
       "      <td>[\"thanks to yahoos toolbar i can now capture t...</td>\n",
       "      <td>77</td>\n",
       "      <td>3</td>\n",
       "      <td>29</td>\n",
       "      <td>[thanks, yahoo, \"s\", toolbar, \"capture\", \"\", u...</td>\n",
       "    </tr>\n",
       "    <tr>\n",
       "      <th>...</th>\n",
       "      <td>...</td>\n",
       "      <td>...</td>\n",
       "      <td>...</td>\n",
       "      <td>...</td>\n",
       "      <td>...</td>\n",
       "      <td>...</td>\n",
       "      <td>...</td>\n",
       "      <td>...</td>\n",
       "      <td>...</td>\n",
       "      <td>...</td>\n",
       "      <td>...</td>\n",
       "      <td>...</td>\n",
       "      <td>...</td>\n",
       "      <td>...</td>\n",
       "    </tr>\n",
       "    <tr>\n",
       "      <th>681279</th>\n",
       "      <td>681279</td>\n",
       "      <td>1713845</td>\n",
       "      <td>male</td>\n",
       "      <td>23</td>\n",
       "      <td>Student</td>\n",
       "      <td>Taurus</td>\n",
       "      <td>01,July,2004</td>\n",
       "      <td>dear susan i could write some really bitter di...</td>\n",
       "      <td>[dear, susan, i, could, write, some, really, b...</td>\n",
       "      <td>[dear susan i could write some really bitter d...</td>\n",
       "      <td>45</td>\n",
       "      <td>4</td>\n",
       "      <td>17</td>\n",
       "      <td>[dear, susan, could, write, really, bitter, di...</td>\n",
       "    </tr>\n",
       "    <tr>\n",
       "      <th>681280</th>\n",
       "      <td>681280</td>\n",
       "      <td>1713845</td>\n",
       "      <td>male</td>\n",
       "      <td>23</td>\n",
       "      <td>Student</td>\n",
       "      <td>Taurus</td>\n",
       "      <td>01,July,2004</td>\n",
       "      <td>dear susan 'i have the second yeast infection ...</td>\n",
       "      <td>[dear, susan, \"\", i, have, the, second, yeast,...</td>\n",
       "      <td>[\"dear susan i have the second yeast infection...</td>\n",
       "      <td>77</td>\n",
       "      <td>5</td>\n",
       "      <td>26</td>\n",
       "      <td>[dear, susan, \"\", second, yeast, infection, pa...</td>\n",
       "    </tr>\n",
       "    <tr>\n",
       "      <th>681281</th>\n",
       "      <td>681281</td>\n",
       "      <td>1713845</td>\n",
       "      <td>male</td>\n",
       "      <td>23</td>\n",
       "      <td>Student</td>\n",
       "      <td>Taurus</td>\n",
       "      <td>01,July,2004</td>\n",
       "      <td>dear susan your 'boyfriend' is fucking bald go...</td>\n",
       "      <td>[dear, susan, your, \"boyfriend\", \"\", is, fucki...</td>\n",
       "      <td>[\"dear susan your boyfriend is fucking bald go...</td>\n",
       "      <td>13</td>\n",
       "      <td>1</td>\n",
       "      <td>4</td>\n",
       "      <td>[dear, susan, \"boyfriend\", \"\", fucking, bald, ...</td>\n",
       "    </tr>\n",
       "    <tr>\n",
       "      <th>681282</th>\n",
       "      <td>681282</td>\n",
       "      <td>1713845</td>\n",
       "      <td>male</td>\n",
       "      <td>23</td>\n",
       "      <td>Student</td>\n",
       "      <td>Taurus</td>\n",
       "      <td>01,July,2004</td>\n",
       "      <td>dear susan: just to clarify i am asking you to...</td>\n",
       "      <td>[dear, susan, :, just, to, clarify, i, am, ask...</td>\n",
       "      <td>[\"dear susan: just to clarify i am asking you ...</td>\n",
       "      <td>68</td>\n",
       "      <td>2</td>\n",
       "      <td>35</td>\n",
       "      <td>[dear, susan, :, clarify, asking, leave, house...</td>\n",
       "    </tr>\n",
       "    <tr>\n",
       "      <th>681283</th>\n",
       "      <td>681283</td>\n",
       "      <td>1713845</td>\n",
       "      <td>male</td>\n",
       "      <td>23</td>\n",
       "      <td>Student</td>\n",
       "      <td>Taurus</td>\n",
       "      <td>01,July,2004</td>\n",
       "      <td>hey everybody...and susan you might already kn...</td>\n",
       "      <td>[hey, everybody, ..., and, susan, you, might, ...</td>\n",
       "      <td>[hey everybody...and susan you might already k...</td>\n",
       "      <td>273</td>\n",
       "      <td>8</td>\n",
       "      <td>123</td>\n",
       "      <td>[hey, everybody, ..., susan, might, already, k...</td>\n",
       "    </tr>\n",
       "  </tbody>\n",
       "</table>\n",
       "<p>681284 rows × 14 columns</p>\n",
       "</div>"
      ],
      "text/plain": [
       "        Unnamed: 0       id gender  age              topic      sign  \\\n",
       "0                0  2059027   male   15            Student       Leo   \n",
       "1                1  2059027   male   15            Student       Leo   \n",
       "2                2  2059027   male   15            Student       Leo   \n",
       "3                3  2059027   male   15            Student       Leo   \n",
       "4                4  3581210   male   33  InvestmentBanking  Aquarius   \n",
       "...            ...      ...    ...  ...                ...       ...   \n",
       "681279      681279  1713845   male   23            Student    Taurus   \n",
       "681280      681280  1713845   male   23            Student    Taurus   \n",
       "681281      681281  1713845   male   23            Student    Taurus   \n",
       "681282      681282  1713845   male   23            Student    Taurus   \n",
       "681283      681283  1713845   male   23            Student    Taurus   \n",
       "\n",
       "                date                                               text  \\\n",
       "0        14,May,2004  info has been found (+/- 100 pages and 4.5 mb ...   \n",
       "1        13,May,2004  these are the team members: drewes van der laa...   \n",
       "2        12,May,2004  in het kader van kernfusie op aarde: maak je e...   \n",
       "3        12,May,2004                                    testing testing   \n",
       "4       11,June,2004  thanks to yahoo's toolbar i can now 'capture' ...   \n",
       "...              ...                                                ...   \n",
       "681279  01,July,2004  dear susan i could write some really bitter di...   \n",
       "681280  01,July,2004  dear susan 'i have the second yeast infection ...   \n",
       "681281  01,July,2004  dear susan your 'boyfriend' is fucking bald go...   \n",
       "681282  01,July,2004  dear susan: just to clarify i am asking you to...   \n",
       "681283  01,July,2004  hey everybody...and susan you might already kn...   \n",
       "\n",
       "                                            word_tokenize  \\\n",
       "0       [info, has, been, found, (, +/-, 100, pages, a...   \n",
       "1       [these, are, the, team, members, :, drewes, va...   \n",
       "2       [in, het, kader, van, kernfusie, op, aarde, :,...   \n",
       "3                                      [testing, testing]   \n",
       "4       [thanks, to, yahoo, \"s\", toolbar, i, can, now,...   \n",
       "...                                                   ...   \n",
       "681279  [dear, susan, i, could, write, some, really, b...   \n",
       "681280  [dear, susan, \"\", i, have, the, second, yeast,...   \n",
       "681281  [dear, susan, your, \"boyfriend\", \"\", is, fucki...   \n",
       "681282  [dear, susan, :, just, to, clarify, i, am, ask...   \n",
       "681283  [hey, everybody, ..., and, susan, you, might, ...   \n",
       "\n",
       "                                            sent_tokenize  count_word  \\\n",
       "0       [info has been found (+/- 100 pages and 4.5 mb...          31   \n",
       "1       [these are the team members: drewes van der la...          23   \n",
       "2       [\"in het kader van kernfusie op aarde: maak je...        4783   \n",
       "3                                       [testing testing]           2   \n",
       "4       [\"thanks to yahoos toolbar i can now capture t...          77   \n",
       "...                                                   ...         ...   \n",
       "681279  [dear susan i could write some really bitter d...          45   \n",
       "681280  [\"dear susan i have the second yeast infection...          77   \n",
       "681281  [\"dear susan your boyfriend is fucking bald go...          13   \n",
       "681282  [\"dear susan: just to clarify i am asking you ...          68   \n",
       "681283  [hey everybody...and susan you might already k...         273   \n",
       "\n",
       "        count_sent  word_tokenize_num_of_stopwords  \\\n",
       "0                1                              12   \n",
       "1                1                               4   \n",
       "2              235                            1965   \n",
       "3                1                               0   \n",
       "4                3                              29   \n",
       "...            ...                             ...   \n",
       "681279           4                              17   \n",
       "681280           5                              26   \n",
       "681281           1                               4   \n",
       "681282           2                              35   \n",
       "681283           8                             123   \n",
       "\n",
       "                          word_tokenize_without_stopwords  \n",
       "0       [info, found, (, +/-, 100, pages, 4.5, mb, .pd...  \n",
       "1       [team, members, :, drewes, van, der, laag, url...  \n",
       "2       [het, kader, van, kernfusie, op, aarde, :, maa...  \n",
       "3                                      [testing, testing]  \n",
       "4       [thanks, yahoo, \"s\", toolbar, \"capture\", \"\", u...  \n",
       "...                                                   ...  \n",
       "681279  [dear, susan, could, write, really, bitter, di...  \n",
       "681280  [dear, susan, \"\", second, yeast, infection, pa...  \n",
       "681281  [dear, susan, \"boyfriend\", \"\", fucking, bald, ...  \n",
       "681282  [dear, susan, :, clarify, asking, leave, house...  \n",
       "681283  [hey, everybody, ..., susan, might, already, k...  \n",
       "\n",
       "[681284 rows x 14 columns]"
      ]
     },
     "execution_count": 54,
     "metadata": {},
     "output_type": "execute_result"
    }
   ],
   "source": [
    "stopwords_count_and_removal(df_pip,'word_tokenize')"
   ]
  },
  {
   "cell_type": "code",
   "execution_count": 55,
   "metadata": {},
   "outputs": [
    {
     "data": {
      "text/plain": [
       "['info',\n",
       " 'found',\n",
       " '(',\n",
       " '+/-',\n",
       " '100',\n",
       " 'pages',\n",
       " '4.5',\n",
       " 'mb',\n",
       " '.pdf',\n",
       " 'files',\n",
       " ')',\n",
       " 'wait',\n",
       " 'untill',\n",
       " 'team',\n",
       " 'leader',\n",
       " 'processed',\n",
       " 'learns',\n",
       " 'html',\n",
       " '.']"
      ]
     },
     "execution_count": 55,
     "metadata": {},
     "output_type": "execute_result"
    }
   ],
   "source": [
    "df_pip['word_tokenize_without_stopwords'][0]"
   ]
  },
  {
   "cell_type": "code",
   "execution_count": 56,
   "metadata": {},
   "outputs": [
    {
     "data": {
      "text/html": [
       "<div>\n",
       "<style scoped>\n",
       "    .dataframe tbody tr th:only-of-type {\n",
       "        vertical-align: middle;\n",
       "    }\n",
       "\n",
       "    .dataframe tbody tr th {\n",
       "        vertical-align: top;\n",
       "    }\n",
       "\n",
       "    .dataframe thead th {\n",
       "        text-align: right;\n",
       "    }\n",
       "</style>\n",
       "<table border=\"1\" class=\"dataframe\">\n",
       "  <thead>\n",
       "    <tr style=\"text-align: right;\">\n",
       "      <th></th>\n",
       "      <th>Unnamed: 0</th>\n",
       "      <th>id</th>\n",
       "      <th>gender</th>\n",
       "      <th>age</th>\n",
       "      <th>topic</th>\n",
       "      <th>sign</th>\n",
       "      <th>date</th>\n",
       "      <th>text</th>\n",
       "      <th>word_tokenize</th>\n",
       "      <th>sent_tokenize</th>\n",
       "      <th>count_word</th>\n",
       "      <th>count_sent</th>\n",
       "      <th>word_tokenize_num_of_stopwords</th>\n",
       "      <th>word_tokenize_without_stopwords</th>\n",
       "    </tr>\n",
       "  </thead>\n",
       "  <tbody>\n",
       "    <tr>\n",
       "      <th>0</th>\n",
       "      <td>0</td>\n",
       "      <td>2059027</td>\n",
       "      <td>male</td>\n",
       "      <td>15</td>\n",
       "      <td>Student</td>\n",
       "      <td>Leo</td>\n",
       "      <td>14,May,2004</td>\n",
       "      <td>info has been found (+/- 100 pages and 4.5 mb ...</td>\n",
       "      <td>[info, has, been, found, (, +/-, 100, pages, a...</td>\n",
       "      <td>[info has been found (+/- 100 pages and 4.5 mb...</td>\n",
       "      <td>31</td>\n",
       "      <td>1</td>\n",
       "      <td>12</td>\n",
       "      <td>[info, found, (, +/-, 100, pages, 4.5, mb, .pd...</td>\n",
       "    </tr>\n",
       "    <tr>\n",
       "      <th>1</th>\n",
       "      <td>1</td>\n",
       "      <td>2059027</td>\n",
       "      <td>male</td>\n",
       "      <td>15</td>\n",
       "      <td>Student</td>\n",
       "      <td>Leo</td>\n",
       "      <td>13,May,2004</td>\n",
       "      <td>these are the team members: drewes van der laa...</td>\n",
       "      <td>[these, are, the, team, members, :, drewes, va...</td>\n",
       "      <td>[these are the team members: drewes van der la...</td>\n",
       "      <td>23</td>\n",
       "      <td>1</td>\n",
       "      <td>4</td>\n",
       "      <td>[team, members, :, drewes, van, der, laag, url...</td>\n",
       "    </tr>\n",
       "    <tr>\n",
       "      <th>2</th>\n",
       "      <td>2</td>\n",
       "      <td>2059027</td>\n",
       "      <td>male</td>\n",
       "      <td>15</td>\n",
       "      <td>Student</td>\n",
       "      <td>Leo</td>\n",
       "      <td>12,May,2004</td>\n",
       "      <td>in het kader van kernfusie op aarde: maak je e...</td>\n",
       "      <td>[in, het, kader, van, kernfusie, op, aarde, :,...</td>\n",
       "      <td>[\"in het kader van kernfusie op aarde: maak je...</td>\n",
       "      <td>4783</td>\n",
       "      <td>235</td>\n",
       "      <td>1965</td>\n",
       "      <td>[het, kader, van, kernfusie, op, aarde, :, maa...</td>\n",
       "    </tr>\n",
       "    <tr>\n",
       "      <th>3</th>\n",
       "      <td>3</td>\n",
       "      <td>2059027</td>\n",
       "      <td>male</td>\n",
       "      <td>15</td>\n",
       "      <td>Student</td>\n",
       "      <td>Leo</td>\n",
       "      <td>12,May,2004</td>\n",
       "      <td>testing testing</td>\n",
       "      <td>[testing, testing]</td>\n",
       "      <td>[testing testing]</td>\n",
       "      <td>2</td>\n",
       "      <td>1</td>\n",
       "      <td>0</td>\n",
       "      <td>[testing, testing]</td>\n",
       "    </tr>\n",
       "    <tr>\n",
       "      <th>4</th>\n",
       "      <td>4</td>\n",
       "      <td>3581210</td>\n",
       "      <td>male</td>\n",
       "      <td>33</td>\n",
       "      <td>InvestmentBanking</td>\n",
       "      <td>Aquarius</td>\n",
       "      <td>11,June,2004</td>\n",
       "      <td>thanks to yahoo's toolbar i can now 'capture' ...</td>\n",
       "      <td>[thanks, to, yahoo, \"s\", toolbar, i, can, now,...</td>\n",
       "      <td>[\"thanks to yahoos toolbar i can now capture t...</td>\n",
       "      <td>77</td>\n",
       "      <td>3</td>\n",
       "      <td>29</td>\n",
       "      <td>[thanks, yahoo, \"s\", toolbar, \"capture\", \"\", u...</td>\n",
       "    </tr>\n",
       "  </tbody>\n",
       "</table>\n",
       "</div>"
      ],
      "text/plain": [
       "   Unnamed: 0       id gender  age              topic      sign          date  \\\n",
       "0           0  2059027   male   15            Student       Leo   14,May,2004   \n",
       "1           1  2059027   male   15            Student       Leo   13,May,2004   \n",
       "2           2  2059027   male   15            Student       Leo   12,May,2004   \n",
       "3           3  2059027   male   15            Student       Leo   12,May,2004   \n",
       "4           4  3581210   male   33  InvestmentBanking  Aquarius  11,June,2004   \n",
       "\n",
       "                                                text  \\\n",
       "0  info has been found (+/- 100 pages and 4.5 mb ...   \n",
       "1  these are the team members: drewes van der laa...   \n",
       "2  in het kader van kernfusie op aarde: maak je e...   \n",
       "3                                    testing testing   \n",
       "4  thanks to yahoo's toolbar i can now 'capture' ...   \n",
       "\n",
       "                                       word_tokenize  \\\n",
       "0  [info, has, been, found, (, +/-, 100, pages, a...   \n",
       "1  [these, are, the, team, members, :, drewes, va...   \n",
       "2  [in, het, kader, van, kernfusie, op, aarde, :,...   \n",
       "3                                 [testing, testing]   \n",
       "4  [thanks, to, yahoo, \"s\", toolbar, i, can, now,...   \n",
       "\n",
       "                                       sent_tokenize  count_word  count_sent  \\\n",
       "0  [info has been found (+/- 100 pages and 4.5 mb...          31           1   \n",
       "1  [these are the team members: drewes van der la...          23           1   \n",
       "2  [\"in het kader van kernfusie op aarde: maak je...        4783         235   \n",
       "3                                  [testing testing]           2           1   \n",
       "4  [\"thanks to yahoos toolbar i can now capture t...          77           3   \n",
       "\n",
       "   word_tokenize_num_of_stopwords  \\\n",
       "0                              12   \n",
       "1                               4   \n",
       "2                            1965   \n",
       "3                               0   \n",
       "4                              29   \n",
       "\n",
       "                     word_tokenize_without_stopwords  \n",
       "0  [info, found, (, +/-, 100, pages, 4.5, mb, .pd...  \n",
       "1  [team, members, :, drewes, van, der, laag, url...  \n",
       "2  [het, kader, van, kernfusie, op, aarde, :, maa...  \n",
       "3                                 [testing, testing]  \n",
       "4  [thanks, yahoo, \"s\", toolbar, \"capture\", \"\", u...  "
      ]
     },
     "execution_count": 56,
     "metadata": {},
     "output_type": "execute_result"
    }
   ],
   "source": [
    "df_pip.head(5)"
   ]
  },
  {
   "cell_type": "code",
   "execution_count": 57,
   "metadata": {},
   "outputs": [],
   "source": [
    "# from tqdm import tqdm\n",
    "# import pandas as pd\n",
    "# #import swifter\n",
    "# tqdm.pandas()\n",
    "# df_pip['word_tokenize']=df_pip['word_tokenize'].swifter.progress_apply(stopwording)"
   ]
  },
  {
   "cell_type": "code",
   "execution_count": 58,
   "metadata": {},
   "outputs": [
    {
     "data": {
      "text/plain": [
       "['info',\n",
       " 'found',\n",
       " '(',\n",
       " '+/-',\n",
       " '100',\n",
       " 'page',\n",
       " '4.5',\n",
       " 'mb',\n",
       " '.pdf',\n",
       " 'file',\n",
       " ')',\n",
       " 'wait',\n",
       " 'until',\n",
       " 'team',\n",
       " 'leader',\n",
       " 'process',\n",
       " 'learn',\n",
       " 'html',\n",
       " '.']"
      ]
     },
     "execution_count": 58,
     "metadata": {},
     "output_type": "execute_result"
    }
   ],
   "source": [
    "a= ['info',\n",
    " 'found',\n",
    " '(',\n",
    " '+/-',\n",
    " '100',\n",
    " 'pages',\n",
    " '4.5',\n",
    " 'mb',\n",
    " '.pdf',\n",
    " 'files',\n",
    " ')',\n",
    " 'wait',\n",
    " 'untill',\n",
    " 'team',\n",
    " 'leader',\n",
    " 'processed',\n",
    " 'learns',\n",
    " 'html',\n",
    " '.']\n",
    "liste=[]\n",
    "porter_stemmer = PorterStemmer()\n",
    "for b in a:\n",
    "    liste.append(porter_stemmer.stem(b))\n",
    "liste"
   ]
  },
  {
   "cell_type": "code",
   "execution_count": 59,
   "metadata": {},
   "outputs": [],
   "source": [
    "def port(liste):\n",
    "    return [porter_stemmer.stem(x) for x in liste]"
   ]
  },
  {
   "cell_type": "code",
   "execution_count": 60,
   "metadata": {},
   "outputs": [
    {
     "name": "stderr",
     "output_type": "stream",
     "text": [
      "100%|██████████| 681284/681284 [17:45<00:00, 639.33it/s]  \n"
     ]
    }
   ],
   "source": [
    "\n",
    "tqdm.pandas()\n",
    "df_pip['word_tokenize_without_stopwords_port']=df_pip['word_tokenize_without_stopwords'].progress_apply(port)"
   ]
  },
  {
   "cell_type": "markdown",
   "metadata": {},
   "source": [
    "deep leaning oder unseres im vergleich von hugging face oder spyre-->website beide predictions "
   ]
  },
  {
   "cell_type": "code",
   "execution_count": 61,
   "metadata": {},
   "outputs": [
    {
     "data": {
      "text/html": [
       "<div>\n",
       "<style scoped>\n",
       "    .dataframe tbody tr th:only-of-type {\n",
       "        vertical-align: middle;\n",
       "    }\n",
       "\n",
       "    .dataframe tbody tr th {\n",
       "        vertical-align: top;\n",
       "    }\n",
       "\n",
       "    .dataframe thead th {\n",
       "        text-align: right;\n",
       "    }\n",
       "</style>\n",
       "<table border=\"1\" class=\"dataframe\">\n",
       "  <thead>\n",
       "    <tr style=\"text-align: right;\">\n",
       "      <th></th>\n",
       "      <th>Unnamed: 0</th>\n",
       "      <th>id</th>\n",
       "      <th>gender</th>\n",
       "      <th>age</th>\n",
       "      <th>topic</th>\n",
       "      <th>sign</th>\n",
       "      <th>date</th>\n",
       "      <th>text</th>\n",
       "      <th>word_tokenize</th>\n",
       "      <th>sent_tokenize</th>\n",
       "      <th>count_word</th>\n",
       "      <th>count_sent</th>\n",
       "      <th>word_tokenize_num_of_stopwords</th>\n",
       "      <th>word_tokenize_without_stopwords</th>\n",
       "      <th>word_tokenize_without_stopwords_port</th>\n",
       "    </tr>\n",
       "  </thead>\n",
       "  <tbody>\n",
       "    <tr>\n",
       "      <th>0</th>\n",
       "      <td>0</td>\n",
       "      <td>2059027</td>\n",
       "      <td>male</td>\n",
       "      <td>15</td>\n",
       "      <td>Student</td>\n",
       "      <td>Leo</td>\n",
       "      <td>14,May,2004</td>\n",
       "      <td>info has been found (+/- 100 pages and 4.5 mb ...</td>\n",
       "      <td>[info, has, been, found, (, +/-, 100, pages, a...</td>\n",
       "      <td>[info has been found (+/- 100 pages and 4.5 mb...</td>\n",
       "      <td>31</td>\n",
       "      <td>1</td>\n",
       "      <td>12</td>\n",
       "      <td>[info, found, (, +/-, 100, pages, 4.5, mb, .pd...</td>\n",
       "      <td>[info, found, (, +/-, 100, page, 4.5, mb, .pdf...</td>\n",
       "    </tr>\n",
       "    <tr>\n",
       "      <th>1</th>\n",
       "      <td>1</td>\n",
       "      <td>2059027</td>\n",
       "      <td>male</td>\n",
       "      <td>15</td>\n",
       "      <td>Student</td>\n",
       "      <td>Leo</td>\n",
       "      <td>13,May,2004</td>\n",
       "      <td>these are the team members: drewes van der laa...</td>\n",
       "      <td>[these, are, the, team, members, :, drewes, va...</td>\n",
       "      <td>[these are the team members: drewes van der la...</td>\n",
       "      <td>23</td>\n",
       "      <td>1</td>\n",
       "      <td>4</td>\n",
       "      <td>[team, members, :, drewes, van, der, laag, url...</td>\n",
       "      <td>[team, member, :, drew, van, der, laag, urllin...</td>\n",
       "    </tr>\n",
       "    <tr>\n",
       "      <th>2</th>\n",
       "      <td>2</td>\n",
       "      <td>2059027</td>\n",
       "      <td>male</td>\n",
       "      <td>15</td>\n",
       "      <td>Student</td>\n",
       "      <td>Leo</td>\n",
       "      <td>12,May,2004</td>\n",
       "      <td>in het kader van kernfusie op aarde: maak je e...</td>\n",
       "      <td>[in, het, kader, van, kernfusie, op, aarde, :,...</td>\n",
       "      <td>[\"in het kader van kernfusie op aarde: maak je...</td>\n",
       "      <td>4783</td>\n",
       "      <td>235</td>\n",
       "      <td>1965</td>\n",
       "      <td>[het, kader, van, kernfusie, op, aarde, :, maa...</td>\n",
       "      <td>[het, kader, van, kernfusi, op, aard, :, maak,...</td>\n",
       "    </tr>\n",
       "    <tr>\n",
       "      <th>3</th>\n",
       "      <td>3</td>\n",
       "      <td>2059027</td>\n",
       "      <td>male</td>\n",
       "      <td>15</td>\n",
       "      <td>Student</td>\n",
       "      <td>Leo</td>\n",
       "      <td>12,May,2004</td>\n",
       "      <td>testing testing</td>\n",
       "      <td>[testing, testing]</td>\n",
       "      <td>[testing testing]</td>\n",
       "      <td>2</td>\n",
       "      <td>1</td>\n",
       "      <td>0</td>\n",
       "      <td>[testing, testing]</td>\n",
       "      <td>[test, test]</td>\n",
       "    </tr>\n",
       "    <tr>\n",
       "      <th>4</th>\n",
       "      <td>4</td>\n",
       "      <td>3581210</td>\n",
       "      <td>male</td>\n",
       "      <td>33</td>\n",
       "      <td>InvestmentBanking</td>\n",
       "      <td>Aquarius</td>\n",
       "      <td>11,June,2004</td>\n",
       "      <td>thanks to yahoo's toolbar i can now 'capture' ...</td>\n",
       "      <td>[thanks, to, yahoo, \"s\", toolbar, i, can, now,...</td>\n",
       "      <td>[\"thanks to yahoos toolbar i can now capture t...</td>\n",
       "      <td>77</td>\n",
       "      <td>3</td>\n",
       "      <td>29</td>\n",
       "      <td>[thanks, yahoo, \"s\", toolbar, \"capture\", \"\", u...</td>\n",
       "      <td>[thank, yahoo, \"s\", toolbar, \"capture\", \"\", ur...</td>\n",
       "    </tr>\n",
       "  </tbody>\n",
       "</table>\n",
       "</div>"
      ],
      "text/plain": [
       "   Unnamed: 0       id gender  age              topic      sign          date  \\\n",
       "0           0  2059027   male   15            Student       Leo   14,May,2004   \n",
       "1           1  2059027   male   15            Student       Leo   13,May,2004   \n",
       "2           2  2059027   male   15            Student       Leo   12,May,2004   \n",
       "3           3  2059027   male   15            Student       Leo   12,May,2004   \n",
       "4           4  3581210   male   33  InvestmentBanking  Aquarius  11,June,2004   \n",
       "\n",
       "                                                text  \\\n",
       "0  info has been found (+/- 100 pages and 4.5 mb ...   \n",
       "1  these are the team members: drewes van der laa...   \n",
       "2  in het kader van kernfusie op aarde: maak je e...   \n",
       "3                                    testing testing   \n",
       "4  thanks to yahoo's toolbar i can now 'capture' ...   \n",
       "\n",
       "                                       word_tokenize  \\\n",
       "0  [info, has, been, found, (, +/-, 100, pages, a...   \n",
       "1  [these, are, the, team, members, :, drewes, va...   \n",
       "2  [in, het, kader, van, kernfusie, op, aarde, :,...   \n",
       "3                                 [testing, testing]   \n",
       "4  [thanks, to, yahoo, \"s\", toolbar, i, can, now,...   \n",
       "\n",
       "                                       sent_tokenize  count_word  count_sent  \\\n",
       "0  [info has been found (+/- 100 pages and 4.5 mb...          31           1   \n",
       "1  [these are the team members: drewes van der la...          23           1   \n",
       "2  [\"in het kader van kernfusie op aarde: maak je...        4783         235   \n",
       "3                                  [testing testing]           2           1   \n",
       "4  [\"thanks to yahoos toolbar i can now capture t...          77           3   \n",
       "\n",
       "   word_tokenize_num_of_stopwords  \\\n",
       "0                              12   \n",
       "1                               4   \n",
       "2                            1965   \n",
       "3                               0   \n",
       "4                              29   \n",
       "\n",
       "                     word_tokenize_without_stopwords  \\\n",
       "0  [info, found, (, +/-, 100, pages, 4.5, mb, .pd...   \n",
       "1  [team, members, :, drewes, van, der, laag, url...   \n",
       "2  [het, kader, van, kernfusie, op, aarde, :, maa...   \n",
       "3                                 [testing, testing]   \n",
       "4  [thanks, yahoo, \"s\", toolbar, \"capture\", \"\", u...   \n",
       "\n",
       "                word_tokenize_without_stopwords_port  \n",
       "0  [info, found, (, +/-, 100, page, 4.5, mb, .pdf...  \n",
       "1  [team, member, :, drew, van, der, laag, urllin...  \n",
       "2  [het, kader, van, kernfusi, op, aard, :, maak,...  \n",
       "3                                       [test, test]  \n",
       "4  [thank, yahoo, \"s\", toolbar, \"capture\", \"\", ur...  "
      ]
     },
     "execution_count": 61,
     "metadata": {},
     "output_type": "execute_result"
    }
   ],
   "source": [
    "df_pip.head(5)"
   ]
  },
  {
   "cell_type": "code",
   "execution_count": 62,
   "metadata": {},
   "outputs": [],
   "source": [
    "df_pip.to_csv('Datei/df_tokenized_port.csv')"
   ]
  },
  {
   "cell_type": "code",
   "execution_count": 64,
   "metadata": {},
   "outputs": [],
   "source": [
    "df_pip=pd.read_csv('Datei/df_tokenized.csv',converters={'sent_tokenize': lambda x: x[1:-1].strip('][').replace(\"'\",\"\").strip().split(','),'word_tokenize': lambda x: x[1:-1].strip('][').replace(\"'\",\"\").strip().split(','),\n",
    "'word_tokenize_without_stopwords': lambda x: x[1:-1].strip('][').replace(\"'\",\"\").strip().split(',')\n",
    ",'word_tokenize_without_stopwords_port': lambda x: x[1:-1].strip('][').replace(\"'\",\"\").strip().split(',')\n",
    "})\n",
    "\n"
   ]
  },
  {
   "cell_type": "code",
   "execution_count": null,
   "metadata": {},
   "outputs": [],
   "source": [
    "df_pip['word_tokenize']=df_pip['word_tokenize'].apply(stripping)\n",
    "df_pip['sent_tokenize']=df_pip['sent_tokenize'].apply(stripping)\n",
    "df_pip['word_tokenize_without_stopwords']=df_pip['word_tokenize_without_stopwords'].apply(stripping)\n",
    "df_pip['word_tokenize_without_stopwords_port']=df_pip['word_tokenize_without_stopwords_port'].apply(stripping)"
   ]
  },
  {
   "cell_type": "code",
   "execution_count": null,
   "metadata": {},
   "outputs": [
    {
     "data": {
      "text/plain": [
       "['info',\n",
       " 'found',\n",
       " '(',\n",
       " '+/-',\n",
       " '100',\n",
       " 'page',\n",
       " '4.5',\n",
       " 'mb',\n",
       " '.pdf',\n",
       " 'file',\n",
       " ')',\n",
       " 'wait',\n",
       " 'until',\n",
       " 'team',\n",
       " 'leader',\n",
       " 'process',\n",
       " 'learn',\n",
       " 'html',\n",
       " '.']"
      ]
     },
     "execution_count": 37,
     "metadata": {},
     "output_type": "execute_result"
    }
   ],
   "source": [
    "df_pip['word_tokenize_without_stopwords_port'][0]"
   ]
  },
  {
   "cell_type": "markdown",
   "metadata": {},
   "source": [
    "# Hugging Face"
   ]
  },
  {
   "cell_type": "code",
   "execution_count": 41,
   "metadata": {},
   "outputs": [
    {
     "name": "stdout",
     "output_type": "stream",
     "text": [
      "\u001b[33mWARNING: Skipping transformers as it is not installed.\u001b[0m\u001b[33m\n",
      "\u001b[0m"
     ]
    }
   ],
   "source": [
    "!pip3 uninstall transformers --yes"
   ]
  },
  {
   "cell_type": "code",
   "execution_count": 67,
   "metadata": {},
   "outputs": [
    {
     "name": "stdout",
     "output_type": "stream",
     "text": [
      "Requirement already satisfied: transformers in /opt/anaconda3/lib/python3.9/site-packages (4.24.0)\n",
      "Requirement already satisfied: tokenizers!=0.11.3,<0.14,>=0.11.1 in /opt/anaconda3/lib/python3.9/site-packages (from transformers) (0.13.2)\n",
      "Requirement already satisfied: filelock in /opt/anaconda3/lib/python3.9/site-packages (from transformers) (3.6.0)\n",
      "Requirement already satisfied: regex!=2019.12.17 in /opt/anaconda3/lib/python3.9/site-packages (from transformers) (2022.7.9)\n",
      "Requirement already satisfied: pyyaml>=5.1 in /opt/anaconda3/lib/python3.9/site-packages (from transformers) (6.0)\n",
      "Requirement already satisfied: numpy>=1.17 in /opt/anaconda3/lib/python3.9/site-packages (from transformers) (1.23.5)\n",
      "Requirement already satisfied: packaging>=20.0 in /opt/anaconda3/lib/python3.9/site-packages (from transformers) (21.3)\n",
      "Requirement already satisfied: tqdm>=4.27 in /opt/anaconda3/lib/python3.9/site-packages (from transformers) (4.64.1)\n",
      "Requirement already satisfied: huggingface-hub<1.0,>=0.10.0 in /opt/anaconda3/lib/python3.9/site-packages (from transformers) (0.11.0)\n",
      "Requirement already satisfied: requests in /opt/anaconda3/lib/python3.9/site-packages (from transformers) (2.28.1)\n",
      "Requirement already satisfied: typing-extensions>=3.7.4.3 in /opt/anaconda3/lib/python3.9/site-packages (from huggingface-hub<1.0,>=0.10.0->transformers) (4.3.0)\n",
      "Requirement already satisfied: pyparsing!=3.0.5,>=2.0.2 in /opt/anaconda3/lib/python3.9/site-packages (from packaging>=20.0->transformers) (3.0.9)\n",
      "Requirement already satisfied: charset-normalizer<3,>=2 in /opt/anaconda3/lib/python3.9/site-packages (from requests->transformers) (2.0.4)\n",
      "Requirement already satisfied: certifi>=2017.4.17 in /opt/anaconda3/lib/python3.9/site-packages (from requests->transformers) (2022.9.24)\n",
      "Requirement already satisfied: urllib3<1.27,>=1.21.1 in /opt/anaconda3/lib/python3.9/site-packages (from requests->transformers) (1.26.11)\n",
      "Requirement already satisfied: idna<4,>=2.5 in /opt/anaconda3/lib/python3.9/site-packages (from requests->transformers) (3.3)\n"
     ]
    }
   ],
   "source": [
    "!pip3 install transformers"
   ]
  },
  {
   "cell_type": "code",
   "execution_count": 69,
   "metadata": {},
   "outputs": [
    {
     "name": "stdout",
     "output_type": "stream",
     "text": [
      "Requirement already satisfied: flax in /opt/anaconda3/lib/python3.9/site-packages (0.6.2)\n",
      "Requirement already satisfied: numpy>=1.12 in /opt/anaconda3/lib/python3.9/site-packages (from flax) (1.23.5)\n",
      "Requirement already satisfied: matplotlib in /opt/anaconda3/lib/python3.9/site-packages (from flax) (3.5.2)\n",
      "Requirement already satisfied: typing-extensions>=4.1.1 in /opt/anaconda3/lib/python3.9/site-packages (from flax) (4.3.0)\n",
      "Requirement already satisfied: optax in /opt/anaconda3/lib/python3.9/site-packages (from flax) (0.1.4)\n",
      "Requirement already satisfied: jax>=0.3.16 in /opt/anaconda3/lib/python3.9/site-packages (from flax) (0.3.25)\n",
      "Requirement already satisfied: PyYAML>=5.4.1 in /opt/anaconda3/lib/python3.9/site-packages (from flax) (6.0)\n",
      "Requirement already satisfied: msgpack in /opt/anaconda3/lib/python3.9/site-packages (from flax) (1.0.3)\n",
      "Requirement already satisfied: rich>=11.1 in /opt/anaconda3/lib/python3.9/site-packages (from flax) (12.6.0)\n",
      "Requirement already satisfied: tensorstore in /opt/anaconda3/lib/python3.9/site-packages (from flax) (0.1.28)\n",
      "Requirement already satisfied: scipy>=1.5 in /opt/anaconda3/lib/python3.9/site-packages (from jax>=0.3.16->flax) (1.9.1)\n",
      "Requirement already satisfied: opt-einsum in /opt/anaconda3/lib/python3.9/site-packages (from jax>=0.3.16->flax) (3.3.0)\n",
      "Requirement already satisfied: commonmark<0.10.0,>=0.9.0 in /opt/anaconda3/lib/python3.9/site-packages (from rich>=11.1->flax) (0.9.1)\n",
      "Requirement already satisfied: pygments<3.0.0,>=2.6.0 in /opt/anaconda3/lib/python3.9/site-packages (from rich>=11.1->flax) (2.11.2)\n",
      "Requirement already satisfied: cycler>=0.10 in /opt/anaconda3/lib/python3.9/site-packages (from matplotlib->flax) (0.11.0)\n",
      "Requirement already satisfied: packaging>=20.0 in /opt/anaconda3/lib/python3.9/site-packages (from matplotlib->flax) (21.3)\n",
      "Requirement already satisfied: fonttools>=4.22.0 in /opt/anaconda3/lib/python3.9/site-packages (from matplotlib->flax) (4.25.0)\n",
      "Requirement already satisfied: pillow>=6.2.0 in /opt/anaconda3/lib/python3.9/site-packages (from matplotlib->flax) (9.2.0)\n",
      "Requirement already satisfied: pyparsing>=2.2.1 in /opt/anaconda3/lib/python3.9/site-packages (from matplotlib->flax) (3.0.9)\n",
      "Requirement already satisfied: python-dateutil>=2.7 in /opt/anaconda3/lib/python3.9/site-packages (from matplotlib->flax) (2.8.2)\n",
      "Requirement already satisfied: kiwisolver>=1.0.1 in /opt/anaconda3/lib/python3.9/site-packages (from matplotlib->flax) (1.4.2)\n",
      "Requirement already satisfied: jaxlib>=0.1.37 in /opt/anaconda3/lib/python3.9/site-packages (from optax->flax) (0.3.25)\n",
      "Requirement already satisfied: chex>=0.1.5 in /opt/anaconda3/lib/python3.9/site-packages (from optax->flax) (0.1.5)\n",
      "Requirement already satisfied: absl-py>=0.7.1 in /opt/anaconda3/lib/python3.9/site-packages (from optax->flax) (1.3.0)\n",
      "Requirement already satisfied: toolz>=0.9.0 in /opt/anaconda3/lib/python3.9/site-packages (from chex>=0.1.5->optax->flax) (0.11.2)\n",
      "Requirement already satisfied: dm-tree>=0.1.5 in /opt/anaconda3/lib/python3.9/site-packages (from chex>=0.1.5->optax->flax) (0.1.7)\n",
      "Requirement already satisfied: six>=1.5 in /opt/anaconda3/lib/python3.9/site-packages (from python-dateutil>=2.7->matplotlib->flax) (1.16.0)\n"
     ]
    }
   ],
   "source": [
    "!pip install flax"
   ]
  },
  {
   "cell_type": "code",
   "execution_count": 70,
   "metadata": {},
   "outputs": [
    {
     "name": "stdout",
     "output_type": "stream",
     "text": [
      "zsh:1: no matches found: transformers[flax]\n"
     ]
    }
   ],
   "source": [
    "!pip3 install transformers[flax]"
   ]
  },
  {
   "cell_type": "code",
   "execution_count": 50,
   "metadata": {},
   "outputs": [
    {
     "name": "stdout",
     "output_type": "stream",
     "text": [
      "Requirement already satisfied: torch in /opt/anaconda3/lib/python3.9/site-packages (1.13.0)\n",
      "Requirement already satisfied: torchvision in /opt/anaconda3/lib/python3.9/site-packages (0.14.0)\n",
      "Requirement already satisfied: torchaudio in /opt/anaconda3/lib/python3.9/site-packages (0.13.0)\n",
      "Requirement already satisfied: typing-extensions in /opt/anaconda3/lib/python3.9/site-packages (from torch) (4.3.0)\n",
      "Requirement already satisfied: pillow!=8.3.*,>=5.3.0 in /opt/anaconda3/lib/python3.9/site-packages (from torchvision) (9.2.0)\n",
      "Requirement already satisfied: requests in /opt/anaconda3/lib/python3.9/site-packages (from torchvision) (2.28.1)\n",
      "Requirement already satisfied: numpy in /opt/anaconda3/lib/python3.9/site-packages (from torchvision) (1.23.5)\n",
      "Requirement already satisfied: urllib3<1.27,>=1.21.1 in /opt/anaconda3/lib/python3.9/site-packages (from requests->torchvision) (1.26.11)\n",
      "Requirement already satisfied: charset-normalizer<3,>=2 in /opt/anaconda3/lib/python3.9/site-packages (from requests->torchvision) (2.0.4)\n",
      "Requirement already satisfied: idna<4,>=2.5 in /opt/anaconda3/lib/python3.9/site-packages (from requests->torchvision) (3.3)\n",
      "Requirement already satisfied: certifi>=2017.4.17 in /opt/anaconda3/lib/python3.9/site-packages (from requests->torchvision) (2022.9.24)\n"
     ]
    }
   ],
   "source": [
    "!pip3 install torch torchvision torchaudio "
   ]
  },
  {
   "cell_type": "code",
   "execution_count": 66,
   "metadata": {},
   "outputs": [
    {
     "name": "stdout",
     "output_type": "stream",
     "text": [
      "Requirement already satisfied: flax in /opt/anaconda3/lib/python3.9/site-packages (0.6.2)\n",
      "Requirement already satisfied: msgpack in /opt/anaconda3/lib/python3.9/site-packages (from flax) (1.0.3)\n",
      "Requirement already satisfied: numpy>=1.12 in /opt/anaconda3/lib/python3.9/site-packages (from flax) (1.23.5)\n",
      "Requirement already satisfied: tensorstore in /opt/anaconda3/lib/python3.9/site-packages (from flax) (0.1.28)\n",
      "Requirement already satisfied: typing-extensions>=4.1.1 in /opt/anaconda3/lib/python3.9/site-packages (from flax) (4.3.0)\n",
      "Requirement already satisfied: rich>=11.1 in /opt/anaconda3/lib/python3.9/site-packages (from flax) (12.6.0)\n",
      "Requirement already satisfied: optax in /opt/anaconda3/lib/python3.9/site-packages (from flax) (0.1.4)\n",
      "Requirement already satisfied: matplotlib in /opt/anaconda3/lib/python3.9/site-packages (from flax) (3.5.2)\n",
      "Requirement already satisfied: PyYAML>=5.4.1 in /opt/anaconda3/lib/python3.9/site-packages (from flax) (6.0)\n",
      "Requirement already satisfied: jax>=0.3.16 in /opt/anaconda3/lib/python3.9/site-packages (from flax) (0.3.25)\n",
      "Requirement already satisfied: scipy>=1.5 in /opt/anaconda3/lib/python3.9/site-packages (from jax>=0.3.16->flax) (1.9.1)\n",
      "Requirement already satisfied: opt-einsum in /opt/anaconda3/lib/python3.9/site-packages (from jax>=0.3.16->flax) (3.3.0)\n",
      "Requirement already satisfied: commonmark<0.10.0,>=0.9.0 in /opt/anaconda3/lib/python3.9/site-packages (from rich>=11.1->flax) (0.9.1)\n",
      "Requirement already satisfied: pygments<3.0.0,>=2.6.0 in /opt/anaconda3/lib/python3.9/site-packages (from rich>=11.1->flax) (2.11.2)\n",
      "Requirement already satisfied: kiwisolver>=1.0.1 in /opt/anaconda3/lib/python3.9/site-packages (from matplotlib->flax) (1.4.2)\n",
      "Requirement already satisfied: packaging>=20.0 in /opt/anaconda3/lib/python3.9/site-packages (from matplotlib->flax) (21.3)\n",
      "Requirement already satisfied: fonttools>=4.22.0 in /opt/anaconda3/lib/python3.9/site-packages (from matplotlib->flax) (4.25.0)\n",
      "Requirement already satisfied: pyparsing>=2.2.1 in /opt/anaconda3/lib/python3.9/site-packages (from matplotlib->flax) (3.0.9)\n",
      "Requirement already satisfied: python-dateutil>=2.7 in /opt/anaconda3/lib/python3.9/site-packages (from matplotlib->flax) (2.8.2)\n",
      "Requirement already satisfied: cycler>=0.10 in /opt/anaconda3/lib/python3.9/site-packages (from matplotlib->flax) (0.11.0)\n",
      "Requirement already satisfied: pillow>=6.2.0 in /opt/anaconda3/lib/python3.9/site-packages (from matplotlib->flax) (9.2.0)\n",
      "Requirement already satisfied: jaxlib>=0.1.37 in /opt/anaconda3/lib/python3.9/site-packages (from optax->flax) (0.3.25)\n",
      "Requirement already satisfied: chex>=0.1.5 in /opt/anaconda3/lib/python3.9/site-packages (from optax->flax) (0.1.5)\n",
      "Requirement already satisfied: absl-py>=0.7.1 in /opt/anaconda3/lib/python3.9/site-packages (from optax->flax) (1.3.0)\n",
      "Requirement already satisfied: dm-tree>=0.1.5 in /opt/anaconda3/lib/python3.9/site-packages (from chex>=0.1.5->optax->flax) (0.1.7)\n",
      "Requirement already satisfied: toolz>=0.9.0 in /opt/anaconda3/lib/python3.9/site-packages (from chex>=0.1.5->optax->flax) (0.11.2)\n",
      "Requirement already satisfied: six>=1.5 in /opt/anaconda3/lib/python3.9/site-packages (from python-dateutil>=2.7->matplotlib->flax) (1.16.0)\n"
     ]
    }
   ],
   "source": [
    "!pip install flax"
   ]
  },
  {
   "cell_type": "code",
   "execution_count": 43,
   "metadata": {},
   "outputs": [
    {
     "name": "stdout",
     "output_type": "stream",
     "text": [
      "Found existing installation: flax 0.6.2\n",
      "Uninstalling flax-0.6.2:\n",
      "  Successfully uninstalled flax-0.6.2\n",
      "Found existing installation: jax 0.3.25\n",
      "Uninstalling jax-0.3.25:\n",
      "  Successfully uninstalled jax-0.3.25\n",
      "Found existing installation: jaxlib 0.3.25\n",
      "Uninstalling jaxlib-0.3.25:\n",
      "  Successfully uninstalled jaxlib-0.3.25\n",
      "Found existing installation: numpyro 0.10.1\n",
      "Uninstalling numpyro-0.10.1:\n",
      "  Successfully uninstalled numpyro-0.10.1\n"
     ]
    }
   ],
   "source": [
    "!pip3 uninstall flax jax jaxlib numpyro --yes"
   ]
  },
  {
   "cell_type": "code",
   "execution_count": 44,
   "metadata": {},
   "outputs": [],
   "source": [
    "#!python3 -m pip install jax jaxlib numpyro"
   ]
  },
  {
   "cell_type": "code",
   "execution_count": 52,
   "metadata": {},
   "outputs": [],
   "source": [
    "import torch as PyTorch"
   ]
  },
  {
   "cell_type": "code",
   "execution_count": 71,
   "metadata": {},
   "outputs": [
    {
     "ename": "AttributeError",
     "evalue": "partially initialized module 'jax' has no attribute 'version' (most likely due to a circular import)",
     "output_type": "error",
     "traceback": [
      "\u001b[0;31m---------------------------------------------------------------------------\u001b[0m",
      "\u001b[0;31mAttributeError\u001b[0m                            Traceback (most recent call last)",
      "\u001b[0;32m/var/folders/k3/z_svrdgd6sb9lc9bqdfzp_k00000gn/T/ipykernel_29907/3667314160.py\u001b[0m in \u001b[0;36m<module>\u001b[0;34m\u001b[0m\n\u001b[0;32m----> 1\u001b[0;31m \u001b[0;32mfrom\u001b[0m \u001b[0mtransformers\u001b[0m \u001b[0;32mimport\u001b[0m \u001b[0mAutoTokenizer\u001b[0m\u001b[0;34m\u001b[0m\u001b[0;34m\u001b[0m\u001b[0m\n\u001b[0m\u001b[1;32m      2\u001b[0m \u001b[0;34m\u001b[0m\u001b[0m\n\u001b[1;32m      3\u001b[0m \u001b[0mcheckpoint\u001b[0m \u001b[0;34m=\u001b[0m \u001b[0;34m\"distilbert-base-uncased-finetuned-sst-2-english\"\u001b[0m\u001b[0;34m\u001b[0m\u001b[0;34m\u001b[0m\u001b[0m\n\u001b[1;32m      4\u001b[0m \u001b[0mtokenizer\u001b[0m \u001b[0;34m=\u001b[0m \u001b[0mAutoTokenizer\u001b[0m\u001b[0;34m.\u001b[0m\u001b[0mfrom_pretrained\u001b[0m\u001b[0;34m(\u001b[0m\u001b[0mcheckpoint\u001b[0m\u001b[0;34m)\u001b[0m\u001b[0;34m\u001b[0m\u001b[0;34m\u001b[0m\u001b[0m\n\u001b[1;32m      5\u001b[0m raw_inputs = [\n",
      "\u001b[0;32m/opt/anaconda3/lib/python3.9/site-packages/transformers/__init__.py\u001b[0m in \u001b[0;36m<module>\u001b[0;34m\u001b[0m\n\u001b[1;32m     28\u001b[0m \u001b[0;34m\u001b[0m\u001b[0m\n\u001b[1;32m     29\u001b[0m \u001b[0;31m# Check the dependencies satisfy the minimal versions required.\u001b[0m\u001b[0;34m\u001b[0m\u001b[0;34m\u001b[0m\u001b[0m\n\u001b[0;32m---> 30\u001b[0;31m \u001b[0;32mfrom\u001b[0m \u001b[0;34m.\u001b[0m \u001b[0;32mimport\u001b[0m \u001b[0mdependency_versions_check\u001b[0m\u001b[0;34m\u001b[0m\u001b[0;34m\u001b[0m\u001b[0m\n\u001b[0m\u001b[1;32m     31\u001b[0m from .utils import (\n\u001b[1;32m     32\u001b[0m     \u001b[0mOptionalDependencyNotAvailable\u001b[0m\u001b[0;34m,\u001b[0m\u001b[0;34m\u001b[0m\u001b[0;34m\u001b[0m\u001b[0m\n",
      "\u001b[0;32m/opt/anaconda3/lib/python3.9/site-packages/transformers/dependency_versions_check.py\u001b[0m in \u001b[0;36m<module>\u001b[0;34m\u001b[0m\n\u001b[1;32m     34\u001b[0m         \u001b[0;32mif\u001b[0m \u001b[0mpkg\u001b[0m \u001b[0;34m==\u001b[0m \u001b[0;34m\"tokenizers\"\u001b[0m\u001b[0;34m:\u001b[0m\u001b[0;34m\u001b[0m\u001b[0;34m\u001b[0m\u001b[0m\n\u001b[1;32m     35\u001b[0m             \u001b[0;31m# must be loaded here, or else tqdm check may fail\u001b[0m\u001b[0;34m\u001b[0m\u001b[0;34m\u001b[0m\u001b[0m\n\u001b[0;32m---> 36\u001b[0;31m             \u001b[0;32mfrom\u001b[0m \u001b[0;34m.\u001b[0m\u001b[0mutils\u001b[0m \u001b[0;32mimport\u001b[0m \u001b[0mis_tokenizers_available\u001b[0m\u001b[0;34m\u001b[0m\u001b[0;34m\u001b[0m\u001b[0m\n\u001b[0m\u001b[1;32m     37\u001b[0m \u001b[0;34m\u001b[0m\u001b[0m\n\u001b[1;32m     38\u001b[0m             \u001b[0;32mif\u001b[0m \u001b[0;32mnot\u001b[0m \u001b[0mis_tokenizers_available\u001b[0m\u001b[0;34m(\u001b[0m\u001b[0;34m)\u001b[0m\u001b[0;34m:\u001b[0m\u001b[0;34m\u001b[0m\u001b[0;34m\u001b[0m\u001b[0m\n",
      "\u001b[0;32m/opt/anaconda3/lib/python3.9/site-packages/transformers/utils/__init__.py\u001b[0m in \u001b[0;36m<module>\u001b[0;34m\u001b[0m\n\u001b[1;32m     32\u001b[0m     \u001b[0mreplace_return_docstrings\u001b[0m\u001b[0;34m,\u001b[0m\u001b[0;34m\u001b[0m\u001b[0;34m\u001b[0m\u001b[0m\n\u001b[1;32m     33\u001b[0m )\n\u001b[0;32m---> 34\u001b[0;31m from .generic import (\n\u001b[0m\u001b[1;32m     35\u001b[0m     \u001b[0mContextManagers\u001b[0m\u001b[0;34m,\u001b[0m\u001b[0;34m\u001b[0m\u001b[0;34m\u001b[0m\u001b[0m\n\u001b[1;32m     36\u001b[0m     \u001b[0mExplicitEnum\u001b[0m\u001b[0;34m,\u001b[0m\u001b[0;34m\u001b[0m\u001b[0;34m\u001b[0m\u001b[0m\n",
      "\u001b[0;32m/opt/anaconda3/lib/python3.9/site-packages/transformers/utils/generic.py\u001b[0m in \u001b[0;36m<module>\u001b[0;34m\u001b[0m\n\u001b[1;32m     34\u001b[0m \u001b[0;34m\u001b[0m\u001b[0m\n\u001b[1;32m     35\u001b[0m \u001b[0;32mif\u001b[0m \u001b[0mis_flax_available\u001b[0m\u001b[0;34m(\u001b[0m\u001b[0;34m)\u001b[0m\u001b[0;34m:\u001b[0m\u001b[0;34m\u001b[0m\u001b[0;34m\u001b[0m\u001b[0m\n\u001b[0;32m---> 36\u001b[0;31m     \u001b[0;32mimport\u001b[0m \u001b[0mjax\u001b[0m\u001b[0;34m.\u001b[0m\u001b[0mnumpy\u001b[0m \u001b[0;32mas\u001b[0m \u001b[0mjnp\u001b[0m\u001b[0;34m\u001b[0m\u001b[0;34m\u001b[0m\u001b[0m\n\u001b[0m\u001b[1;32m     37\u001b[0m \u001b[0;34m\u001b[0m\u001b[0m\n\u001b[1;32m     38\u001b[0m \u001b[0;34m\u001b[0m\u001b[0m\n",
      "\u001b[0;32m/opt/anaconda3/lib/python3.9/site-packages/jax/__init__.py\u001b[0m in \u001b[0;36m<module>\u001b[0;34m\u001b[0m\n\u001b[1;32m     38\u001b[0m \u001b[0;32mfrom\u001b[0m \u001b[0mjax\u001b[0m\u001b[0;34m.\u001b[0m\u001b[0m_src\u001b[0m\u001b[0;34m.\u001b[0m\u001b[0mbasearray\u001b[0m \u001b[0;32mimport\u001b[0m \u001b[0mArray\u001b[0m \u001b[0;32mas\u001b[0m \u001b[0mArray\u001b[0m\u001b[0;34m\u001b[0m\u001b[0;34m\u001b[0m\u001b[0m\n\u001b[1;32m     39\u001b[0m \u001b[0;34m\u001b[0m\u001b[0m\n\u001b[0;32m---> 40\u001b[0;31m from jax._src.config import (\n\u001b[0m\u001b[1;32m     41\u001b[0m   \u001b[0mconfig\u001b[0m \u001b[0;32mas\u001b[0m \u001b[0mconfig\u001b[0m\u001b[0;34m,\u001b[0m\u001b[0;34m\u001b[0m\u001b[0;34m\u001b[0m\u001b[0m\n\u001b[1;32m     42\u001b[0m   \u001b[0menable_checks\u001b[0m \u001b[0;32mas\u001b[0m \u001b[0menable_checks\u001b[0m\u001b[0;34m,\u001b[0m\u001b[0;34m\u001b[0m\u001b[0;34m\u001b[0m\u001b[0m\n",
      "\u001b[0;32m/opt/anaconda3/lib/python3.9/site-packages/jax/_src/config.py\u001b[0m in \u001b[0;36m<module>\u001b[0;34m\u001b[0m\n\u001b[1;32m     25\u001b[0m \u001b[0;32mfrom\u001b[0m \u001b[0mtyping\u001b[0m \u001b[0;32mimport\u001b[0m \u001b[0mAny\u001b[0m\u001b[0;34m,\u001b[0m \u001b[0mList\u001b[0m\u001b[0;34m,\u001b[0m \u001b[0mCallable\u001b[0m\u001b[0;34m,\u001b[0m \u001b[0mHashable\u001b[0m\u001b[0;34m,\u001b[0m \u001b[0mNamedTuple\u001b[0m\u001b[0;34m,\u001b[0m \u001b[0mIterator\u001b[0m\u001b[0;34m,\u001b[0m \u001b[0mOptional\u001b[0m\u001b[0;34m\u001b[0m\u001b[0;34m\u001b[0m\u001b[0m\n\u001b[1;32m     26\u001b[0m \u001b[0;34m\u001b[0m\u001b[0m\n\u001b[0;32m---> 27\u001b[0;31m \u001b[0;32mfrom\u001b[0m \u001b[0mjax\u001b[0m\u001b[0;34m.\u001b[0m\u001b[0m_src\u001b[0m \u001b[0;32mimport\u001b[0m \u001b[0mlib\u001b[0m\u001b[0;34m\u001b[0m\u001b[0;34m\u001b[0m\u001b[0m\n\u001b[0m\u001b[1;32m     28\u001b[0m \u001b[0;32mfrom\u001b[0m \u001b[0mjax\u001b[0m\u001b[0;34m.\u001b[0m\u001b[0m_src\u001b[0m\u001b[0;34m.\u001b[0m\u001b[0mlib\u001b[0m \u001b[0;32mimport\u001b[0m \u001b[0mjax_jit\u001b[0m\u001b[0;34m\u001b[0m\u001b[0;34m\u001b[0m\u001b[0m\n\u001b[1;32m     29\u001b[0m \u001b[0;32mfrom\u001b[0m \u001b[0mjax\u001b[0m\u001b[0;34m.\u001b[0m\u001b[0m_src\u001b[0m\u001b[0;34m.\u001b[0m\u001b[0mlib\u001b[0m \u001b[0;32mimport\u001b[0m \u001b[0mtransfer_guard_lib\u001b[0m\u001b[0;34m\u001b[0m\u001b[0;34m\u001b[0m\u001b[0m\n",
      "\u001b[0;32m/opt/anaconda3/lib/python3.9/site-packages/jax/_src/lib/__init__.py\u001b[0m in \u001b[0;36m<module>\u001b[0;34m\u001b[0m\n\u001b[1;32m     73\u001b[0m \u001b[0mversion_str\u001b[0m \u001b[0;34m=\u001b[0m \u001b[0mjaxlib\u001b[0m\u001b[0;34m.\u001b[0m\u001b[0mversion\u001b[0m\u001b[0;34m.\u001b[0m\u001b[0m__version__\u001b[0m\u001b[0;34m\u001b[0m\u001b[0;34m\u001b[0m\u001b[0m\n\u001b[1;32m     74\u001b[0m version = check_jaxlib_version(\n\u001b[0;32m---> 75\u001b[0;31m   \u001b[0mjax_version\u001b[0m\u001b[0;34m=\u001b[0m\u001b[0mjax\u001b[0m\u001b[0;34m.\u001b[0m\u001b[0mversion\u001b[0m\u001b[0;34m.\u001b[0m\u001b[0m__version__\u001b[0m\u001b[0;34m,\u001b[0m\u001b[0;34m\u001b[0m\u001b[0;34m\u001b[0m\u001b[0m\n\u001b[0m\u001b[1;32m     76\u001b[0m   \u001b[0mjaxlib_version\u001b[0m\u001b[0;34m=\u001b[0m\u001b[0mjaxlib\u001b[0m\u001b[0;34m.\u001b[0m\u001b[0mversion\u001b[0m\u001b[0;34m.\u001b[0m\u001b[0m__version__\u001b[0m\u001b[0;34m,\u001b[0m\u001b[0;34m\u001b[0m\u001b[0;34m\u001b[0m\u001b[0m\n\u001b[1;32m     77\u001b[0m   minimum_jaxlib_version=jax.version._minimum_jaxlib_version)\n",
      "\u001b[0;31mAttributeError\u001b[0m: partially initialized module 'jax' has no attribute 'version' (most likely due to a circular import)"
     ]
    }
   ],
   "source": [
    "from transformers import AutoTokenizer\n",
    "\n",
    "checkpoint = \"distilbert-base-uncased-finetuned-sst-2-english\"\n",
    "tokenizer = AutoTokenizer.from_pretrained(checkpoint)\n",
    "raw_inputs = [\n",
    "    \"I've been waiting for a HuggingFace course my whole life.\",\n",
    "    \"I hate this so much!\"\n",
    "]\n",
    "inputs = tokenizer(raw_inputs, padding=True, truncation=True, return_tensors=\"pt\")\n",
    "print(inputs)"
   ]
  },
  {
   "cell_type": "code",
   "execution_count": 55,
   "metadata": {},
   "outputs": [],
   "source": [
    "import pandas as pd\n",
    "import matplotlib.pyplot as mltp\n",
    "import nltk\n",
    "from nltk.tokenize import word_tokenize, sent_tokenize\n",
    "from nltk.stem.porter import PorterStemmer\n",
    "import sklearn as sk\n",
    "import seaborn as sea\n",
    "import re \n",
    "import tqdm\n",
    "\n",
    "df=pd.read_csv('Datei/blogtext.csv')"
   ]
  },
  {
   "cell_type": "code",
   "execution_count": 56,
   "metadata": {},
   "outputs": [],
   "source": [
    "df_hugging=df.copy()"
   ]
  },
  {
   "cell_type": "code",
   "execution_count": null,
   "metadata": {},
   "outputs": [
    {
     "ename": "",
     "evalue": "",
     "output_type": "error",
     "traceback": [
      "\u001b[1;31mDer Kernel ist beim Ausführen von Code in der aktuellen Zelle oder einer vorherigen Zelle abgestürzt. Bitte überprüfen Sie den Code in der/den Zelle(n), um eine mögliche Fehlerursache zu identifizieren. Klicken Sie <a href='https://aka.ms/vscodeJupyterKernelCrash'>hier</a>, um weitere Informationen zu erhalten. Weitere Details finden Sie in Jupyter <a href='command:jupyter.viewOutput'>log</a>."
     ]
    },
    {
     "ename": "",
     "evalue": "",
     "output_type": "error",
     "traceback": [
      "\u001b[1;31mCanceled future for execute_request message before replies were done"
     ]
    }
   ],
   "source": [
    "import os\n",
    "os._exit(00)"
   ]
  },
  {
   "cell_type": "code",
   "execution_count": 57,
   "metadata": {},
   "outputs": [
    {
     "ename": "AttributeError",
     "evalue": "partially initialized module 'jax' has no attribute 'version' (most likely due to a circular import)",
     "output_type": "error",
     "traceback": [
      "\u001b[0;31m---------------------------------------------------------------------------\u001b[0m",
      "\u001b[0;31mAttributeError\u001b[0m                            Traceback (most recent call last)",
      "\u001b[0;32m/var/folders/k3/z_svrdgd6sb9lc9bqdfzp_k00000gn/T/ipykernel_29907/4287807559.py\u001b[0m in \u001b[0;36m<module>\u001b[0;34m\u001b[0m\n\u001b[0;32m----> 1\u001b[0;31m \u001b[0;32mfrom\u001b[0m \u001b[0mtransformers\u001b[0m \u001b[0;32mimport\u001b[0m \u001b[0mpipeline\u001b[0m\u001b[0;34m\u001b[0m\u001b[0;34m\u001b[0m\u001b[0m\n\u001b[0m",
      "\u001b[0;32m/opt/anaconda3/lib/python3.9/site-packages/transformers/__init__.py\u001b[0m in \u001b[0;36m<module>\u001b[0;34m\u001b[0m\n\u001b[1;32m     28\u001b[0m \u001b[0;34m\u001b[0m\u001b[0m\n\u001b[1;32m     29\u001b[0m \u001b[0;31m# Check the dependencies satisfy the minimal versions required.\u001b[0m\u001b[0;34m\u001b[0m\u001b[0;34m\u001b[0m\u001b[0m\n\u001b[0;32m---> 30\u001b[0;31m \u001b[0;32mfrom\u001b[0m \u001b[0;34m.\u001b[0m \u001b[0;32mimport\u001b[0m \u001b[0mdependency_versions_check\u001b[0m\u001b[0;34m\u001b[0m\u001b[0;34m\u001b[0m\u001b[0m\n\u001b[0m\u001b[1;32m     31\u001b[0m from .utils import (\n\u001b[1;32m     32\u001b[0m     \u001b[0mOptionalDependencyNotAvailable\u001b[0m\u001b[0;34m,\u001b[0m\u001b[0;34m\u001b[0m\u001b[0;34m\u001b[0m\u001b[0m\n",
      "\u001b[0;32m/opt/anaconda3/lib/python3.9/site-packages/transformers/dependency_versions_check.py\u001b[0m in \u001b[0;36m<module>\u001b[0;34m\u001b[0m\n\u001b[1;32m     34\u001b[0m         \u001b[0;32mif\u001b[0m \u001b[0mpkg\u001b[0m \u001b[0;34m==\u001b[0m \u001b[0;34m\"tokenizers\"\u001b[0m\u001b[0;34m:\u001b[0m\u001b[0;34m\u001b[0m\u001b[0;34m\u001b[0m\u001b[0m\n\u001b[1;32m     35\u001b[0m             \u001b[0;31m# must be loaded here, or else tqdm check may fail\u001b[0m\u001b[0;34m\u001b[0m\u001b[0;34m\u001b[0m\u001b[0m\n\u001b[0;32m---> 36\u001b[0;31m             \u001b[0;32mfrom\u001b[0m \u001b[0;34m.\u001b[0m\u001b[0mutils\u001b[0m \u001b[0;32mimport\u001b[0m \u001b[0mis_tokenizers_available\u001b[0m\u001b[0;34m\u001b[0m\u001b[0;34m\u001b[0m\u001b[0m\n\u001b[0m\u001b[1;32m     37\u001b[0m \u001b[0;34m\u001b[0m\u001b[0m\n\u001b[1;32m     38\u001b[0m             \u001b[0;32mif\u001b[0m \u001b[0;32mnot\u001b[0m \u001b[0mis_tokenizers_available\u001b[0m\u001b[0;34m(\u001b[0m\u001b[0;34m)\u001b[0m\u001b[0;34m:\u001b[0m\u001b[0;34m\u001b[0m\u001b[0;34m\u001b[0m\u001b[0m\n",
      "\u001b[0;32m/opt/anaconda3/lib/python3.9/site-packages/transformers/utils/__init__.py\u001b[0m in \u001b[0;36m<module>\u001b[0;34m\u001b[0m\n\u001b[1;32m     32\u001b[0m     \u001b[0mreplace_return_docstrings\u001b[0m\u001b[0;34m,\u001b[0m\u001b[0;34m\u001b[0m\u001b[0;34m\u001b[0m\u001b[0m\n\u001b[1;32m     33\u001b[0m )\n\u001b[0;32m---> 34\u001b[0;31m from .generic import (\n\u001b[0m\u001b[1;32m     35\u001b[0m     \u001b[0mContextManagers\u001b[0m\u001b[0;34m,\u001b[0m\u001b[0;34m\u001b[0m\u001b[0;34m\u001b[0m\u001b[0m\n\u001b[1;32m     36\u001b[0m     \u001b[0mExplicitEnum\u001b[0m\u001b[0;34m,\u001b[0m\u001b[0;34m\u001b[0m\u001b[0;34m\u001b[0m\u001b[0m\n",
      "\u001b[0;32m/opt/anaconda3/lib/python3.9/site-packages/transformers/utils/generic.py\u001b[0m in \u001b[0;36m<module>\u001b[0;34m\u001b[0m\n\u001b[1;32m     34\u001b[0m \u001b[0;34m\u001b[0m\u001b[0m\n\u001b[1;32m     35\u001b[0m \u001b[0;32mif\u001b[0m \u001b[0mis_flax_available\u001b[0m\u001b[0;34m(\u001b[0m\u001b[0;34m)\u001b[0m\u001b[0;34m:\u001b[0m\u001b[0;34m\u001b[0m\u001b[0;34m\u001b[0m\u001b[0m\n\u001b[0;32m---> 36\u001b[0;31m     \u001b[0;32mimport\u001b[0m \u001b[0mjax\u001b[0m\u001b[0;34m.\u001b[0m\u001b[0mnumpy\u001b[0m \u001b[0;32mas\u001b[0m \u001b[0mjnp\u001b[0m\u001b[0;34m\u001b[0m\u001b[0;34m\u001b[0m\u001b[0m\n\u001b[0m\u001b[1;32m     37\u001b[0m \u001b[0;34m\u001b[0m\u001b[0m\n\u001b[1;32m     38\u001b[0m \u001b[0;34m\u001b[0m\u001b[0m\n",
      "\u001b[0;32m/opt/anaconda3/lib/python3.9/site-packages/jax/__init__.py\u001b[0m in \u001b[0;36m<module>\u001b[0;34m\u001b[0m\n\u001b[1;32m     38\u001b[0m \u001b[0;32mfrom\u001b[0m \u001b[0mjax\u001b[0m\u001b[0;34m.\u001b[0m\u001b[0m_src\u001b[0m\u001b[0;34m.\u001b[0m\u001b[0mbasearray\u001b[0m \u001b[0;32mimport\u001b[0m \u001b[0mArray\u001b[0m \u001b[0;32mas\u001b[0m \u001b[0mArray\u001b[0m\u001b[0;34m\u001b[0m\u001b[0;34m\u001b[0m\u001b[0m\n\u001b[1;32m     39\u001b[0m \u001b[0;34m\u001b[0m\u001b[0m\n\u001b[0;32m---> 40\u001b[0;31m from jax._src.config import (\n\u001b[0m\u001b[1;32m     41\u001b[0m   \u001b[0mconfig\u001b[0m \u001b[0;32mas\u001b[0m \u001b[0mconfig\u001b[0m\u001b[0;34m,\u001b[0m\u001b[0;34m\u001b[0m\u001b[0;34m\u001b[0m\u001b[0m\n\u001b[1;32m     42\u001b[0m   \u001b[0menable_checks\u001b[0m \u001b[0;32mas\u001b[0m \u001b[0menable_checks\u001b[0m\u001b[0;34m,\u001b[0m\u001b[0;34m\u001b[0m\u001b[0;34m\u001b[0m\u001b[0m\n",
      "\u001b[0;32m/opt/anaconda3/lib/python3.9/site-packages/jax/_src/config.py\u001b[0m in \u001b[0;36m<module>\u001b[0;34m\u001b[0m\n\u001b[1;32m     25\u001b[0m \u001b[0;32mfrom\u001b[0m \u001b[0mtyping\u001b[0m \u001b[0;32mimport\u001b[0m \u001b[0mAny\u001b[0m\u001b[0;34m,\u001b[0m \u001b[0mList\u001b[0m\u001b[0;34m,\u001b[0m \u001b[0mCallable\u001b[0m\u001b[0;34m,\u001b[0m \u001b[0mHashable\u001b[0m\u001b[0;34m,\u001b[0m \u001b[0mNamedTuple\u001b[0m\u001b[0;34m,\u001b[0m \u001b[0mIterator\u001b[0m\u001b[0;34m,\u001b[0m \u001b[0mOptional\u001b[0m\u001b[0;34m\u001b[0m\u001b[0;34m\u001b[0m\u001b[0m\n\u001b[1;32m     26\u001b[0m \u001b[0;34m\u001b[0m\u001b[0m\n\u001b[0;32m---> 27\u001b[0;31m \u001b[0;32mfrom\u001b[0m \u001b[0mjax\u001b[0m\u001b[0;34m.\u001b[0m\u001b[0m_src\u001b[0m \u001b[0;32mimport\u001b[0m \u001b[0mlib\u001b[0m\u001b[0;34m\u001b[0m\u001b[0;34m\u001b[0m\u001b[0m\n\u001b[0m\u001b[1;32m     28\u001b[0m \u001b[0;32mfrom\u001b[0m \u001b[0mjax\u001b[0m\u001b[0;34m.\u001b[0m\u001b[0m_src\u001b[0m\u001b[0;34m.\u001b[0m\u001b[0mlib\u001b[0m \u001b[0;32mimport\u001b[0m \u001b[0mjax_jit\u001b[0m\u001b[0;34m\u001b[0m\u001b[0;34m\u001b[0m\u001b[0m\n\u001b[1;32m     29\u001b[0m \u001b[0;32mfrom\u001b[0m \u001b[0mjax\u001b[0m\u001b[0;34m.\u001b[0m\u001b[0m_src\u001b[0m\u001b[0;34m.\u001b[0m\u001b[0mlib\u001b[0m \u001b[0;32mimport\u001b[0m \u001b[0mtransfer_guard_lib\u001b[0m\u001b[0;34m\u001b[0m\u001b[0;34m\u001b[0m\u001b[0m\n",
      "\u001b[0;32m/opt/anaconda3/lib/python3.9/site-packages/jax/_src/lib/__init__.py\u001b[0m in \u001b[0;36m<module>\u001b[0;34m\u001b[0m\n\u001b[1;32m     73\u001b[0m \u001b[0mversion_str\u001b[0m \u001b[0;34m=\u001b[0m \u001b[0mjaxlib\u001b[0m\u001b[0;34m.\u001b[0m\u001b[0mversion\u001b[0m\u001b[0;34m.\u001b[0m\u001b[0m__version__\u001b[0m\u001b[0;34m\u001b[0m\u001b[0;34m\u001b[0m\u001b[0m\n\u001b[1;32m     74\u001b[0m version = check_jaxlib_version(\n\u001b[0;32m---> 75\u001b[0;31m   \u001b[0mjax_version\u001b[0m\u001b[0;34m=\u001b[0m\u001b[0mjax\u001b[0m\u001b[0;34m.\u001b[0m\u001b[0mversion\u001b[0m\u001b[0;34m.\u001b[0m\u001b[0m__version__\u001b[0m\u001b[0;34m,\u001b[0m\u001b[0;34m\u001b[0m\u001b[0;34m\u001b[0m\u001b[0m\n\u001b[0m\u001b[1;32m     76\u001b[0m   \u001b[0mjaxlib_version\u001b[0m\u001b[0;34m=\u001b[0m\u001b[0mjaxlib\u001b[0m\u001b[0;34m.\u001b[0m\u001b[0mversion\u001b[0m\u001b[0;34m.\u001b[0m\u001b[0m__version__\u001b[0m\u001b[0;34m,\u001b[0m\u001b[0;34m\u001b[0m\u001b[0;34m\u001b[0m\u001b[0m\n\u001b[1;32m     77\u001b[0m   minimum_jaxlib_version=jax.version._minimum_jaxlib_version)\n",
      "\u001b[0;31mAttributeError\u001b[0m: partially initialized module 'jax' has no attribute 'version' (most likely due to a circular import)"
     ]
    }
   ],
   "source": [
    "from transformers import pipeline"
   ]
  },
  {
   "cell_type": "code",
   "execution_count": 58,
   "metadata": {},
   "outputs": [
    {
     "ename": "AttributeError",
     "evalue": "partially initialized module 'jax' has no attribute 'version' (most likely due to a circular import)",
     "output_type": "error",
     "traceback": [
      "\u001b[0;31m---------------------------------------------------------------------------\u001b[0m",
      "\u001b[0;31mAttributeError\u001b[0m                            Traceback (most recent call last)",
      "\u001b[0;32m/var/folders/k3/z_svrdgd6sb9lc9bqdfzp_k00000gn/T/ipykernel_29907/4213061602.py\u001b[0m in \u001b[0;36m<module>\u001b[0;34m\u001b[0m\n\u001b[0;32m----> 1\u001b[0;31m \u001b[0;32mfrom\u001b[0m \u001b[0mtransformers\u001b[0m \u001b[0;32mimport\u001b[0m \u001b[0mAutoTokenizer\u001b[0m\u001b[0;34m,\u001b[0m\u001b[0mAutoModelForSequenceClassification\u001b[0m\u001b[0;34m\u001b[0m\u001b[0;34m\u001b[0m\u001b[0m\n\u001b[0m\u001b[1;32m      2\u001b[0m \u001b[0;32mimport\u001b[0m \u001b[0mtorch\u001b[0m\u001b[0;34m\u001b[0m\u001b[0;34m\u001b[0m\u001b[0m\n",
      "\u001b[0;32m/opt/anaconda3/lib/python3.9/site-packages/transformers/__init__.py\u001b[0m in \u001b[0;36m<module>\u001b[0;34m\u001b[0m\n\u001b[1;32m     28\u001b[0m \u001b[0;34m\u001b[0m\u001b[0m\n\u001b[1;32m     29\u001b[0m \u001b[0;31m# Check the dependencies satisfy the minimal versions required.\u001b[0m\u001b[0;34m\u001b[0m\u001b[0;34m\u001b[0m\u001b[0m\n\u001b[0;32m---> 30\u001b[0;31m \u001b[0;32mfrom\u001b[0m \u001b[0;34m.\u001b[0m \u001b[0;32mimport\u001b[0m \u001b[0mdependency_versions_check\u001b[0m\u001b[0;34m\u001b[0m\u001b[0;34m\u001b[0m\u001b[0m\n\u001b[0m\u001b[1;32m     31\u001b[0m from .utils import (\n\u001b[1;32m     32\u001b[0m     \u001b[0mOptionalDependencyNotAvailable\u001b[0m\u001b[0;34m,\u001b[0m\u001b[0;34m\u001b[0m\u001b[0;34m\u001b[0m\u001b[0m\n",
      "\u001b[0;32m/opt/anaconda3/lib/python3.9/site-packages/transformers/dependency_versions_check.py\u001b[0m in \u001b[0;36m<module>\u001b[0;34m\u001b[0m\n\u001b[1;32m     34\u001b[0m         \u001b[0;32mif\u001b[0m \u001b[0mpkg\u001b[0m \u001b[0;34m==\u001b[0m \u001b[0;34m\"tokenizers\"\u001b[0m\u001b[0;34m:\u001b[0m\u001b[0;34m\u001b[0m\u001b[0;34m\u001b[0m\u001b[0m\n\u001b[1;32m     35\u001b[0m             \u001b[0;31m# must be loaded here, or else tqdm check may fail\u001b[0m\u001b[0;34m\u001b[0m\u001b[0;34m\u001b[0m\u001b[0m\n\u001b[0;32m---> 36\u001b[0;31m             \u001b[0;32mfrom\u001b[0m \u001b[0;34m.\u001b[0m\u001b[0mutils\u001b[0m \u001b[0;32mimport\u001b[0m \u001b[0mis_tokenizers_available\u001b[0m\u001b[0;34m\u001b[0m\u001b[0;34m\u001b[0m\u001b[0m\n\u001b[0m\u001b[1;32m     37\u001b[0m \u001b[0;34m\u001b[0m\u001b[0m\n\u001b[1;32m     38\u001b[0m             \u001b[0;32mif\u001b[0m \u001b[0;32mnot\u001b[0m \u001b[0mis_tokenizers_available\u001b[0m\u001b[0;34m(\u001b[0m\u001b[0;34m)\u001b[0m\u001b[0;34m:\u001b[0m\u001b[0;34m\u001b[0m\u001b[0;34m\u001b[0m\u001b[0m\n",
      "\u001b[0;32m/opt/anaconda3/lib/python3.9/site-packages/transformers/utils/__init__.py\u001b[0m in \u001b[0;36m<module>\u001b[0;34m\u001b[0m\n\u001b[1;32m     32\u001b[0m     \u001b[0mreplace_return_docstrings\u001b[0m\u001b[0;34m,\u001b[0m\u001b[0;34m\u001b[0m\u001b[0;34m\u001b[0m\u001b[0m\n\u001b[1;32m     33\u001b[0m )\n\u001b[0;32m---> 34\u001b[0;31m from .generic import (\n\u001b[0m\u001b[1;32m     35\u001b[0m     \u001b[0mContextManagers\u001b[0m\u001b[0;34m,\u001b[0m\u001b[0;34m\u001b[0m\u001b[0;34m\u001b[0m\u001b[0m\n\u001b[1;32m     36\u001b[0m     \u001b[0mExplicitEnum\u001b[0m\u001b[0;34m,\u001b[0m\u001b[0;34m\u001b[0m\u001b[0;34m\u001b[0m\u001b[0m\n",
      "\u001b[0;32m/opt/anaconda3/lib/python3.9/site-packages/transformers/utils/generic.py\u001b[0m in \u001b[0;36m<module>\u001b[0;34m\u001b[0m\n\u001b[1;32m     34\u001b[0m \u001b[0;34m\u001b[0m\u001b[0m\n\u001b[1;32m     35\u001b[0m \u001b[0;32mif\u001b[0m \u001b[0mis_flax_available\u001b[0m\u001b[0;34m(\u001b[0m\u001b[0;34m)\u001b[0m\u001b[0;34m:\u001b[0m\u001b[0;34m\u001b[0m\u001b[0;34m\u001b[0m\u001b[0m\n\u001b[0;32m---> 36\u001b[0;31m     \u001b[0;32mimport\u001b[0m \u001b[0mjax\u001b[0m\u001b[0;34m.\u001b[0m\u001b[0mnumpy\u001b[0m \u001b[0;32mas\u001b[0m \u001b[0mjnp\u001b[0m\u001b[0;34m\u001b[0m\u001b[0;34m\u001b[0m\u001b[0m\n\u001b[0m\u001b[1;32m     37\u001b[0m \u001b[0;34m\u001b[0m\u001b[0m\n\u001b[1;32m     38\u001b[0m \u001b[0;34m\u001b[0m\u001b[0m\n",
      "\u001b[0;32m/opt/anaconda3/lib/python3.9/site-packages/jax/__init__.py\u001b[0m in \u001b[0;36m<module>\u001b[0;34m\u001b[0m\n\u001b[1;32m     38\u001b[0m \u001b[0;32mfrom\u001b[0m \u001b[0mjax\u001b[0m\u001b[0;34m.\u001b[0m\u001b[0m_src\u001b[0m\u001b[0;34m.\u001b[0m\u001b[0mbasearray\u001b[0m \u001b[0;32mimport\u001b[0m \u001b[0mArray\u001b[0m \u001b[0;32mas\u001b[0m \u001b[0mArray\u001b[0m\u001b[0;34m\u001b[0m\u001b[0;34m\u001b[0m\u001b[0m\n\u001b[1;32m     39\u001b[0m \u001b[0;34m\u001b[0m\u001b[0m\n\u001b[0;32m---> 40\u001b[0;31m from jax._src.config import (\n\u001b[0m\u001b[1;32m     41\u001b[0m   \u001b[0mconfig\u001b[0m \u001b[0;32mas\u001b[0m \u001b[0mconfig\u001b[0m\u001b[0;34m,\u001b[0m\u001b[0;34m\u001b[0m\u001b[0;34m\u001b[0m\u001b[0m\n\u001b[1;32m     42\u001b[0m   \u001b[0menable_checks\u001b[0m \u001b[0;32mas\u001b[0m \u001b[0menable_checks\u001b[0m\u001b[0;34m,\u001b[0m\u001b[0;34m\u001b[0m\u001b[0;34m\u001b[0m\u001b[0m\n",
      "\u001b[0;32m/opt/anaconda3/lib/python3.9/site-packages/jax/_src/config.py\u001b[0m in \u001b[0;36m<module>\u001b[0;34m\u001b[0m\n\u001b[1;32m     25\u001b[0m \u001b[0;32mfrom\u001b[0m \u001b[0mtyping\u001b[0m \u001b[0;32mimport\u001b[0m \u001b[0mAny\u001b[0m\u001b[0;34m,\u001b[0m \u001b[0mList\u001b[0m\u001b[0;34m,\u001b[0m \u001b[0mCallable\u001b[0m\u001b[0;34m,\u001b[0m \u001b[0mHashable\u001b[0m\u001b[0;34m,\u001b[0m \u001b[0mNamedTuple\u001b[0m\u001b[0;34m,\u001b[0m \u001b[0mIterator\u001b[0m\u001b[0;34m,\u001b[0m \u001b[0mOptional\u001b[0m\u001b[0;34m\u001b[0m\u001b[0;34m\u001b[0m\u001b[0m\n\u001b[1;32m     26\u001b[0m \u001b[0;34m\u001b[0m\u001b[0m\n\u001b[0;32m---> 27\u001b[0;31m \u001b[0;32mfrom\u001b[0m \u001b[0mjax\u001b[0m\u001b[0;34m.\u001b[0m\u001b[0m_src\u001b[0m \u001b[0;32mimport\u001b[0m \u001b[0mlib\u001b[0m\u001b[0;34m\u001b[0m\u001b[0;34m\u001b[0m\u001b[0m\n\u001b[0m\u001b[1;32m     28\u001b[0m \u001b[0;32mfrom\u001b[0m \u001b[0mjax\u001b[0m\u001b[0;34m.\u001b[0m\u001b[0m_src\u001b[0m\u001b[0;34m.\u001b[0m\u001b[0mlib\u001b[0m \u001b[0;32mimport\u001b[0m \u001b[0mjax_jit\u001b[0m\u001b[0;34m\u001b[0m\u001b[0;34m\u001b[0m\u001b[0m\n\u001b[1;32m     29\u001b[0m \u001b[0;32mfrom\u001b[0m \u001b[0mjax\u001b[0m\u001b[0;34m.\u001b[0m\u001b[0m_src\u001b[0m\u001b[0;34m.\u001b[0m\u001b[0mlib\u001b[0m \u001b[0;32mimport\u001b[0m \u001b[0mtransfer_guard_lib\u001b[0m\u001b[0;34m\u001b[0m\u001b[0;34m\u001b[0m\u001b[0m\n",
      "\u001b[0;32m/opt/anaconda3/lib/python3.9/site-packages/jax/_src/lib/__init__.py\u001b[0m in \u001b[0;36m<module>\u001b[0;34m\u001b[0m\n\u001b[1;32m     73\u001b[0m \u001b[0mversion_str\u001b[0m \u001b[0;34m=\u001b[0m \u001b[0mjaxlib\u001b[0m\u001b[0;34m.\u001b[0m\u001b[0mversion\u001b[0m\u001b[0;34m.\u001b[0m\u001b[0m__version__\u001b[0m\u001b[0;34m\u001b[0m\u001b[0;34m\u001b[0m\u001b[0m\n\u001b[1;32m     74\u001b[0m version = check_jaxlib_version(\n\u001b[0;32m---> 75\u001b[0;31m   \u001b[0mjax_version\u001b[0m\u001b[0;34m=\u001b[0m\u001b[0mjax\u001b[0m\u001b[0;34m.\u001b[0m\u001b[0mversion\u001b[0m\u001b[0;34m.\u001b[0m\u001b[0m__version__\u001b[0m\u001b[0;34m,\u001b[0m\u001b[0;34m\u001b[0m\u001b[0;34m\u001b[0m\u001b[0m\n\u001b[0m\u001b[1;32m     76\u001b[0m   \u001b[0mjaxlib_version\u001b[0m\u001b[0;34m=\u001b[0m\u001b[0mjaxlib\u001b[0m\u001b[0;34m.\u001b[0m\u001b[0mversion\u001b[0m\u001b[0;34m.\u001b[0m\u001b[0m__version__\u001b[0m\u001b[0;34m,\u001b[0m\u001b[0;34m\u001b[0m\u001b[0;34m\u001b[0m\u001b[0m\n\u001b[1;32m     77\u001b[0m   minimum_jaxlib_version=jax.version._minimum_jaxlib_version)\n",
      "\u001b[0;31mAttributeError\u001b[0m: partially initialized module 'jax' has no attribute 'version' (most likely due to a circular import)"
     ]
    }
   ],
   "source": [
    "from transformers import AutoTokenizer,AutoModelForSequenceClassification\n",
    "import torch"
   ]
  },
  {
   "cell_type": "code",
   "execution_count": 59,
   "metadata": {},
   "outputs": [
    {
     "ename": "NameError",
     "evalue": "name 'AutoTokenizer' is not defined",
     "output_type": "error",
     "traceback": [
      "\u001b[0;31m---------------------------------------------------------------------------\u001b[0m",
      "\u001b[0;31mNameError\u001b[0m                                 Traceback (most recent call last)",
      "\u001b[0;32m/var/folders/k3/z_svrdgd6sb9lc9bqdfzp_k00000gn/T/ipykernel_29907/2433031858.py\u001b[0m in \u001b[0;36m<module>\u001b[0;34m\u001b[0m\n\u001b[1;32m      1\u001b[0m \u001b[0mcheckpoint\u001b[0m \u001b[0;34m=\u001b[0m \u001b[0;34m\"distilbert-base-uncased-finetuned-sst-2-english\"\u001b[0m\u001b[0;34m\u001b[0m\u001b[0;34m\u001b[0m\u001b[0m\n\u001b[0;32m----> 2\u001b[0;31m \u001b[0mtokenizer\u001b[0m \u001b[0;34m=\u001b[0m \u001b[0mAutoTokenizer\u001b[0m\u001b[0;34m.\u001b[0m\u001b[0mfrom_pretrained\u001b[0m\u001b[0;34m(\u001b[0m\u001b[0mcheckpoint\u001b[0m\u001b[0;34m)\u001b[0m\u001b[0;34m\u001b[0m\u001b[0;34m\u001b[0m\u001b[0m\n\u001b[0m",
      "\u001b[0;31mNameError\u001b[0m: name 'AutoTokenizer' is not defined"
     ]
    }
   ],
   "source": [
    "checkpoint = \"distilbert-base-uncased-finetuned-sst-2-english\"\n",
    "tokenizer = AutoTokenizer.from_pretrained(checkpoint)"
   ]
  },
  {
   "cell_type": "code",
   "execution_count": null,
   "metadata": {},
   "outputs": [
    {
     "ename": "",
     "evalue": "",
     "output_type": "error",
     "traceback": [
      "\u001b[1;31mDer Kernel ist beim Ausführen von Code in der aktuellen Zelle oder einer vorherigen Zelle abgestürzt. Bitte überprüfen Sie den Code in der/den Zelle(n), um eine mögliche Fehlerursache zu identifizieren. Klicken Sie <a href='https://aka.ms/vscodeJupyterKernelCrash'>hier</a>, um weitere Informationen zu erhalten. Weitere Details finden Sie in Jupyter <a href='command:jupyter.viewOutput'>log</a>."
     ]
    },
    {
     "ename": "",
     "evalue": "",
     "output_type": "error",
     "traceback": [
      "\u001b[1;31mCanceled future for execute_request message before replies were done"
     ]
    }
   ],
   "source": [
    "\n",
    "model=AutoModelForSequenceClassification.from_pretrained(checkpoint)\n"
   ]
  },
  {
   "cell_type": "code",
   "execution_count": null,
   "metadata": {},
   "outputs": [],
   "source": [
    "\n",
    "raw_inputs = [\n",
    "    \"I've been waiting for a HuggingFace course my whole life.\",\n",
    "    \"I hate this so much!\"\n",
    "]"
   ]
  },
  {
   "cell_type": "code",
   "execution_count": null,
   "metadata": {},
   "outputs": [
    {
     "ename": "NameError",
     "evalue": "name 'model' is not defined",
     "output_type": "error",
     "traceback": [
      "\u001b[0;31m---------------------------------------------------------------------------\u001b[0m",
      "\u001b[0;31mNameError\u001b[0m                                 Traceback (most recent call last)",
      "\u001b[0;32m/var/folders/k3/z_svrdgd6sb9lc9bqdfzp_k00000gn/T/ipykernel_27730/484861965.py\u001b[0m in \u001b[0;36m<module>\u001b[0;34m\u001b[0m\n\u001b[0;32m----> 1\u001b[0;31m \u001b[0mclassifier\u001b[0m\u001b[0;34m=\u001b[0m\u001b[0mpipeline\u001b[0m\u001b[0;34m(\u001b[0m\u001b[0;34m\"sentiment-analysis\"\u001b[0m\u001b[0;34m,\u001b[0m\u001b[0mmodel\u001b[0m\u001b[0;34m=\u001b[0m\u001b[0mmodel\u001b[0m\u001b[0;34m,\u001b[0m\u001b[0mtokenizer\u001b[0m\u001b[0;34m=\u001b[0m\u001b[0mtokenizer\u001b[0m\u001b[0;34m)\u001b[0m\u001b[0;34m\u001b[0m\u001b[0;34m\u001b[0m\u001b[0m\n\u001b[0m\u001b[1;32m      2\u001b[0m \u001b[0mres\u001b[0m \u001b[0;34m=\u001b[0m\u001b[0mclassifier\u001b[0m\u001b[0;34m(\u001b[0m\u001b[0mraw_inputs\u001b[0m\u001b[0;34m)\u001b[0m\u001b[0;34m\u001b[0m\u001b[0;34m\u001b[0m\u001b[0m\n\u001b[1;32m      3\u001b[0m \u001b[0mprint\u001b[0m\u001b[0;34m(\u001b[0m\u001b[0mres\u001b[0m\u001b[0;34m)\u001b[0m\u001b[0;34m\u001b[0m\u001b[0;34m\u001b[0m\u001b[0m\n",
      "\u001b[0;31mNameError\u001b[0m: name 'model' is not defined"
     ]
    }
   ],
   "source": [
    "classifier=pipeline(\"sentiment-analysis\",model=model,tokenizer=tokenizer)\n",
    "res =classifier(raw_inputs)\n",
    "print(res)"
   ]
  },
  {
   "cell_type": "code",
   "execution_count": 18,
   "metadata": {},
   "outputs": [
    {
     "name": "stdout",
     "output_type": "stream",
     "text": [
      "{'input_ids': tensor([[  101,  1045,  1005,  2310,  2042,  3403,  2005,  1037, 17662, 12172,\n",
      "          2607,  2026,  2878,  2166,  1012,   102],\n",
      "        [  101,  1045,  5223,  2023,  2061,  2172,   999,   102,     0,     0,\n",
      "             0,     0,     0,     0,     0,     0]]), 'attention_mask': tensor([[1, 1, 1, 1, 1, 1, 1, 1, 1, 1, 1, 1, 1, 1, 1, 1],\n",
      "        [1, 1, 1, 1, 1, 1, 1, 1, 0, 0, 0, 0, 0, 0, 0, 0]])}\n"
     ]
    }
   ],
   "source": [
    "res=tokenizer(raw_inputs,padding=True,truncation=True,return_tensors=\"pt\")\n",
    "print(res)"
   ]
  },
  {
   "cell_type": "code",
   "execution_count": 11,
   "metadata": {},
   "outputs": [
    {
     "name": "stdout",
     "output_type": "stream",
     "text": [
      "['i', \"'\", 've', 'been', 'waiting', 'for', 'a', 'hugging', '##face', 'course', 'my', 'whole', 'life', '.']\n"
     ]
    }
   ],
   "source": [
    "while torch.no_grad():\n",
    "    tokens=tokenizer.tokenize(**raw_inputs)\n",
    "    print(tokens)\n",
    "    ids=tokenizer.convert_tokens_to_ids(tokens)\n",
    "    print(ids)\n",
    "    decode_str=tokenizer.decode(ids)\n",
    "    print(decode_str)"
   ]
  },
  {
   "cell_type": "code",
   "execution_count": 12,
   "metadata": {},
   "outputs": [
    {
     "name": "stdout",
     "output_type": "stream",
     "text": [
      "[1045, 1005, 2310, 2042, 3403, 2005, 1037, 17662, 12172, 2607, 2026, 2878, 2166, 1012]\n"
     ]
    }
   ],
   "source": [
    "ids=tokenizer.convert_tokens_to_ids(tokens)\n",
    "print(ids)"
   ]
  },
  {
   "cell_type": "code",
   "execution_count": 13,
   "metadata": {},
   "outputs": [
    {
     "name": "stdout",
     "output_type": "stream",
     "text": [
      "i've been waiting for a huggingface course my whole life.\n"
     ]
    }
   ],
   "source": [
    "decode_str=tokenizer.decode(ids)\n",
    "print(decode_str)"
   ]
  }
 ],
 "metadata": {
  "kernelspec": {
   "display_name": "Python 3.9.13",
   "language": "python",
   "name": "python3"
  },
  "language_info": {
   "codemirror_mode": {
    "name": "ipython",
    "version": 3
   },
   "file_extension": ".py",
   "mimetype": "text/x-python",
   "name": "python",
   "nbconvert_exporter": "python",
   "pygments_lexer": "ipython3",
   "version": "3.9.13"
  },
  "orig_nbformat": 4,
  "vscode": {
   "interpreter": {
    "hash": "40d3a090f54c6569ab1632332b64b2c03c39dcf918b08424e98f38b5ae0af88f"
   }
  }
 },
 "nbformat": 4,
 "nbformat_minor": 2
}
